{
  "nbformat": 4,
  "nbformat_minor": 0,
  "metadata": {
    "colab": {
      "provenance": [],
      "authorship_tag": "ABX9TyPESCM3HlqzKn543f066ISJ",
      "include_colab_link": true
    },
    "kernelspec": {
      "name": "python3",
      "display_name": "Python 3"
    },
    "language_info": {
      "name": "python"
    },
    "accelerator": "GPU",
    "gpuClass": "standard"
  },
  "cells": [
    {
      "cell_type": "markdown",
      "metadata": {
        "id": "view-in-github",
        "colab_type": "text"
      },
      "source": [
        "<a href=\"https://colab.research.google.com/github/lingliao/Machine-learning-model/blob/main/cnn%20for%20genomic%20sequence%20classification.ipynb\" target=\"_parent\"><img src=\"https://colab.research.google.com/assets/colab-badge.svg\" alt=\"Open In Colab\"/></a>"
      ]
    },
    {
      "cell_type": "code",
      "execution_count": null,
      "metadata": {
        "id": "cGIQsmkth_AG"
      },
      "outputs": [],
      "source": [
        "!pip install scanpy==1.9.0"
      ]
    },
    {
      "cell_type": "code",
      "source": [
        "# importing the libraries\n",
        "import pandas as pd\n",
        "import numpy as np\n",
        "\n",
        "# for reading and displaying images\n",
        "from skimage.io import imread\n",
        "import matplotlib.pyplot as plt\n",
        "%matplotlib inline\n",
        "\n",
        "# for creating validation set\n",
        "from sklearn.model_selection import train_test_split\n",
        "\n",
        "# for evaluating the model\n",
        "from sklearn.metrics import accuracy_score\n",
        "from tqdm import tqdm\n",
        "\n",
        "# PyTorch libraries and modules\n",
        "import torch\n",
        "from torch.autograd import Variable\n",
        "from torch.nn import Linear, ReLU, CrossEntropyLoss, Sequential, Conv2d, MaxPool2d, Module, Softmax, BatchNorm2d, Dropout\n",
        "from torch.optim import Adam, SGD"
      ],
      "metadata": {
        "id": "GlWd48skiDl6"
      },
      "execution_count": null,
      "outputs": []
    },
    {
      "cell_type": "code",
      "source": [
        "import requests\n",
        "\n",
        "SEQUENCES_URL = 'https://raw.githubusercontent.com/abidlabs/deep-learning-genomics-primer/master/sequences.txt'\n",
        "\n",
        "sequences = requests.get(SEQUENCES_URL).text.split('\\n')\n",
        "sequences = list(filter(None, sequences))  # This removes empty sequences.\n",
        "\n",
        "# the first few sequences.\n",
        "pd.DataFrame(sequences, index=np.arange(1, len(sequences)+1), \n",
        "             columns=['Sequences']).head()"
      ],
      "metadata": {
        "colab": {
          "base_uri": "https://localhost:8080/",
          "height": 206
        },
        "id": "hqJ5R-R9iJdb",
        "outputId": "5575a9f6-5c8e-4d95-b3d7-5f14aaafe3bb"
      },
      "execution_count": null,
      "outputs": [
        {
          "output_type": "execute_result",
          "data": {
            "text/plain": [
              "                                           Sequences\n",
              "1  CCGAGGGCTATGGTTTGGAAGTTAGAACCCTGGGGCTTCTCGCGGA...\n",
              "2  GAGTTTATATGGCGCGAGCCTAGTGGTTTTTGTACTTGTTTGTCGC...\n",
              "3  GATCAGTAGGGAAACAAACAGAGGGCCCAGCCACATCTAGCAGGTA...\n",
              "4  GTCCACGACCGAACTCCCACCTTGACCGCAGAGGTACCACCAGAGC...\n",
              "5  GGCGACCGAACTCCAACTAGAACCTGCATAACTGGCCTGGGAGATA..."
            ],
            "text/html": [
              "\n",
              "  <div id=\"df-f666ea9f-635e-457a-b427-fa95620945c2\">\n",
              "    <div class=\"colab-df-container\">\n",
              "      <div>\n",
              "<style scoped>\n",
              "    .dataframe tbody tr th:only-of-type {\n",
              "        vertical-align: middle;\n",
              "    }\n",
              "\n",
              "    .dataframe tbody tr th {\n",
              "        vertical-align: top;\n",
              "    }\n",
              "\n",
              "    .dataframe thead th {\n",
              "        text-align: right;\n",
              "    }\n",
              "</style>\n",
              "<table border=\"1\" class=\"dataframe\">\n",
              "  <thead>\n",
              "    <tr style=\"text-align: right;\">\n",
              "      <th></th>\n",
              "      <th>Sequences</th>\n",
              "    </tr>\n",
              "  </thead>\n",
              "  <tbody>\n",
              "    <tr>\n",
              "      <th>1</th>\n",
              "      <td>CCGAGGGCTATGGTTTGGAAGTTAGAACCCTGGGGCTTCTCGCGGA...</td>\n",
              "    </tr>\n",
              "    <tr>\n",
              "      <th>2</th>\n",
              "      <td>GAGTTTATATGGCGCGAGCCTAGTGGTTTTTGTACTTGTTTGTCGC...</td>\n",
              "    </tr>\n",
              "    <tr>\n",
              "      <th>3</th>\n",
              "      <td>GATCAGTAGGGAAACAAACAGAGGGCCCAGCCACATCTAGCAGGTA...</td>\n",
              "    </tr>\n",
              "    <tr>\n",
              "      <th>4</th>\n",
              "      <td>GTCCACGACCGAACTCCCACCTTGACCGCAGAGGTACCACCAGAGC...</td>\n",
              "    </tr>\n",
              "    <tr>\n",
              "      <th>5</th>\n",
              "      <td>GGCGACCGAACTCCAACTAGAACCTGCATAACTGGCCTGGGAGATA...</td>\n",
              "    </tr>\n",
              "  </tbody>\n",
              "</table>\n",
              "</div>\n",
              "      <button class=\"colab-df-convert\" onclick=\"convertToInteractive('df-f666ea9f-635e-457a-b427-fa95620945c2')\"\n",
              "              title=\"Convert this dataframe to an interactive table.\"\n",
              "              style=\"display:none;\">\n",
              "        \n",
              "  <svg xmlns=\"http://www.w3.org/2000/svg\" height=\"24px\"viewBox=\"0 0 24 24\"\n",
              "       width=\"24px\">\n",
              "    <path d=\"M0 0h24v24H0V0z\" fill=\"none\"/>\n",
              "    <path d=\"M18.56 5.44l.94 2.06.94-2.06 2.06-.94-2.06-.94-.94-2.06-.94 2.06-2.06.94zm-11 1L8.5 8.5l.94-2.06 2.06-.94-2.06-.94L8.5 2.5l-.94 2.06-2.06.94zm10 10l.94 2.06.94-2.06 2.06-.94-2.06-.94-.94-2.06-.94 2.06-2.06.94z\"/><path d=\"M17.41 7.96l-1.37-1.37c-.4-.4-.92-.59-1.43-.59-.52 0-1.04.2-1.43.59L10.3 9.45l-7.72 7.72c-.78.78-.78 2.05 0 2.83L4 21.41c.39.39.9.59 1.41.59.51 0 1.02-.2 1.41-.59l7.78-7.78 2.81-2.81c.8-.78.8-2.07 0-2.86zM5.41 20L4 18.59l7.72-7.72 1.47 1.35L5.41 20z\"/>\n",
              "  </svg>\n",
              "      </button>\n",
              "      \n",
              "  <style>\n",
              "    .colab-df-container {\n",
              "      display:flex;\n",
              "      flex-wrap:wrap;\n",
              "      gap: 12px;\n",
              "    }\n",
              "\n",
              "    .colab-df-convert {\n",
              "      background-color: #E8F0FE;\n",
              "      border: none;\n",
              "      border-radius: 50%;\n",
              "      cursor: pointer;\n",
              "      display: none;\n",
              "      fill: #1967D2;\n",
              "      height: 32px;\n",
              "      padding: 0 0 0 0;\n",
              "      width: 32px;\n",
              "    }\n",
              "\n",
              "    .colab-df-convert:hover {\n",
              "      background-color: #E2EBFA;\n",
              "      box-shadow: 0px 1px 2px rgba(60, 64, 67, 0.3), 0px 1px 3px 1px rgba(60, 64, 67, 0.15);\n",
              "      fill: #174EA6;\n",
              "    }\n",
              "\n",
              "    [theme=dark] .colab-df-convert {\n",
              "      background-color: #3B4455;\n",
              "      fill: #D2E3FC;\n",
              "    }\n",
              "\n",
              "    [theme=dark] .colab-df-convert:hover {\n",
              "      background-color: #434B5C;\n",
              "      box-shadow: 0px 1px 3px 1px rgba(0, 0, 0, 0.15);\n",
              "      filter: drop-shadow(0px 1px 2px rgba(0, 0, 0, 0.3));\n",
              "      fill: #FFFFFF;\n",
              "    }\n",
              "  </style>\n",
              "\n",
              "      <script>\n",
              "        const buttonEl =\n",
              "          document.querySelector('#df-f666ea9f-635e-457a-b427-fa95620945c2 button.colab-df-convert');\n",
              "        buttonEl.style.display =\n",
              "          google.colab.kernel.accessAllowed ? 'block' : 'none';\n",
              "\n",
              "        async function convertToInteractive(key) {\n",
              "          const element = document.querySelector('#df-f666ea9f-635e-457a-b427-fa95620945c2');\n",
              "          const dataTable =\n",
              "            await google.colab.kernel.invokeFunction('convertToInteractive',\n",
              "                                                     [key], {});\n",
              "          if (!dataTable) return;\n",
              "\n",
              "          const docLinkHtml = 'Like what you see? Visit the ' +\n",
              "            '<a target=\"_blank\" href=https://colab.research.google.com/notebooks/data_table.ipynb>data table notebook</a>'\n",
              "            + ' to learn more about interactive tables.';\n",
              "          element.innerHTML = '';\n",
              "          dataTable['output_type'] = 'display_data';\n",
              "          await google.colab.output.renderOutput(dataTable, element);\n",
              "          const docLink = document.createElement('div');\n",
              "          docLink.innerHTML = docLinkHtml;\n",
              "          element.appendChild(docLink);\n",
              "        }\n",
              "      </script>\n",
              "    </div>\n",
              "  </div>\n",
              "  "
            ]
          },
          "metadata": {},
          "execution_count": 3
        }
      ]
    },
    {
      "cell_type": "code",
      "source": [
        "from sklearn.preprocessing import LabelEncoder, OneHotEncoder\n",
        "\n",
        "# The LabelEncoder encodes a sequence of bases as a sequence of integers.\n",
        "integer_encoder = LabelEncoder()  \n",
        "# The OneHotEncoder converts an array of integers to a sparse matrix where \n",
        "# each row corresponds to one possible value of each feature.\n",
        "one_hot_encoder = OneHotEncoder(categories='auto')   \n",
        "input_features = []\n",
        "\n",
        "for sequence in sequences:\n",
        "  #print(sequence)\n",
        "  integer_encoded = integer_encoder.fit_transform(list(sequence))\n",
        "  #print(integer_encoded)\n",
        "  # Below converts to a 2D array with one column and as many rows as needed.\n",
        "  integer_encoded = np.array(integer_encoded).reshape(-1, 1)\n",
        "  #print(integer_encoded)\n",
        "  one_hot_encoded = one_hot_encoder.fit_transform(integer_encoded)\n",
        "  #print(one_hot_encoded)\n",
        "  input_features.append(one_hot_encoded.toarray())\n",
        "\n",
        "np.set_printoptions(threshold=40)\n",
        "input_features = np.stack(input_features)\n",
        "print(\"Example sequence\\n-----------------------\")\n",
        "print('DNA Sequence #1:\\n',sequences[0][:10],'...',sequences[0][-10:])\n",
        "# The transposed output will have one row for each DNA letter\n",
        "print('One hot encoding of Sequence #1:\\n',input_features[0].T)\n",
        "input_features.shape"
      ],
      "metadata": {
        "colab": {
          "base_uri": "https://localhost:8080/"
        },
        "id": "5xHwdGF6iTCB",
        "outputId": "4b022f3c-f252-4d7d-ae6b-93cfb9bfa357"
      },
      "execution_count": null,
      "outputs": [
        {
          "output_type": "stream",
          "name": "stdout",
          "text": [
            "Example sequence\n",
            "-----------------------\n",
            "DNA Sequence #1:\n",
            " CCGAGGGCTA ... CGCGGACACC\n",
            "One hot encoding of Sequence #1:\n",
            " [[0. 0. 0. ... 1. 0. 0.]\n",
            " [1. 1. 0. ... 0. 1. 1.]\n",
            " [0. 0. 1. ... 0. 0. 0.]\n",
            " [0. 0. 0. ... 0. 0. 0.]]\n"
          ]
        },
        {
          "output_type": "execute_result",
          "data": {
            "text/plain": [
              "(2000, 50, 4)"
            ]
          },
          "metadata": {},
          "execution_count": 4
        }
      ]
    },
    {
      "cell_type": "code",
      "source": [
        "LABELS_URL = 'https://raw.githubusercontent.com/abidlabs/deep-learning-genomics-primer/master/labels.txt'\n",
        "\n",
        "labels = requests.get(LABELS_URL).text.split('\\n')\n",
        "labels = list(filter(None, labels))  # removes empty sequences\n",
        "\n",
        "#one_hot_encoder = OneHotEncoder(categories='auto')\n",
        "input_labels = np.array(labels)\n",
        "#input_labels = one_hot_encoder.fit_transform(labels).toarray()\n",
        "input_labels.shape\n",
        "#print('Labels:\\n',labels.T)\n",
        "#print('One-hot encoded labels:\\n',input_labels.T)"
      ],
      "metadata": {
        "colab": {
          "base_uri": "https://localhost:8080/"
        },
        "id": "LP1ZTaz2iVkT",
        "outputId": "0895528b-9a95-4e0d-9c15-148ac242c2d6"
      },
      "execution_count": null,
      "outputs": [
        {
          "output_type": "execute_result",
          "data": {
            "text/plain": [
              "(2000,)"
            ]
          },
          "metadata": {},
          "execution_count": 5
        }
      ]
    },
    {
      "cell_type": "code",
      "source": [
        "train_x, val_x, train_y, val_y = train_test_split(input_features, input_labels, test_size = 0.25, random_state=42)\n",
        "(train_x.shape, train_y.shape), (val_x.shape, val_y.shape)"
      ],
      "metadata": {
        "colab": {
          "base_uri": "https://localhost:8080/"
        },
        "id": "rpEdaS7Qzs1a",
        "outputId": "dd1cc527-04ec-482f-9d18-23f08b4480c9"
      },
      "execution_count": null,
      "outputs": [
        {
          "output_type": "execute_result",
          "data": {
            "text/plain": [
              "(((1500, 50, 4), (1500,)), ((500, 50, 4), (500,)))"
            ]
          },
          "metadata": {},
          "execution_count": 6
        }
      ]
    },
    {
      "cell_type": "code",
      "source": [
        "train_x = train_x.reshape(1500, 1, 50, 4)\n",
        "train_x  = torch.from_numpy(train_x)\n",
        "#train_x = train_x.to(torch.int64)\n",
        "\n",
        "\n",
        "# converting the target into torch format\n",
        "train_y = train_y.astype(int);\n",
        "train_y = torch.from_numpy(train_y)\n",
        "#train_y = train_y.to(torch.int64)\n",
        "\n",
        "#train_dat = torch.utils.data.TensorDataset(torch.tensor(train_x).to(device), torch.tensor(train_y).to(device))\n",
        "\n",
        "# shape of training data\n",
        "train_x.dtype, train_x.shape, train_y.shape"
      ],
      "metadata": {
        "colab": {
          "base_uri": "https://localhost:8080/"
        },
        "id": "a5F7rqPr0MEC",
        "outputId": "7b1e6c4b-934a-430d-d5a0-6f78429d9083"
      },
      "execution_count": null,
      "outputs": [
        {
          "output_type": "execute_result",
          "data": {
            "text/plain": [
              "(torch.float64, torch.Size([1500, 1, 50, 4]), torch.Size([1500]))"
            ]
          },
          "metadata": {},
          "execution_count": 7
        }
      ]
    },
    {
      "cell_type": "code",
      "source": [
        "train_x = train_x.to(torch.float32)\n",
        "(train_x.dtype, train_y.dtype)\n"
      ],
      "metadata": {
        "colab": {
          "base_uri": "https://localhost:8080/"
        },
        "id": "5h4fkTE3EUEW",
        "outputId": "7b964511-2f13-468b-c6c0-8bc9d0575f4a"
      },
      "execution_count": null,
      "outputs": [
        {
          "output_type": "execute_result",
          "data": {
            "text/plain": [
              "(torch.float32, torch.int64)"
            ]
          },
          "metadata": {},
          "execution_count": 8
        }
      ]
    },
    {
      "cell_type": "code",
      "source": [],
      "metadata": {
        "id": "4T3IW5M-mw72"
      },
      "execution_count": null,
      "outputs": []
    },
    {
      "cell_type": "code",
      "source": [
        "val_x = val_x.reshape(500, 1, 50, 4)\n",
        "val_x  = torch.from_numpy(val_x)\n",
        "val_x = val_x.to(torch.int64)\n",
        "\n",
        "# converting the target into torch format\n",
        "val_y = val_y.astype(int);\n",
        "val_y = torch.from_numpy(val_y)\n",
        "val_y = val_y.to(torch.int64)\n",
        "\n",
        "# shape of validation data\n",
        "val_x.dtype, val_y.dtype, val_x.shape, val_y.shape"
      ],
      "metadata": {
        "colab": {
          "base_uri": "https://localhost:8080/"
        },
        "id": "DZddUaG4oN8J",
        "outputId": "1b040cfb-ff4b-4d35-e8db-b9f5352118b1"
      },
      "execution_count": null,
      "outputs": [
        {
          "output_type": "execute_result",
          "data": {
            "text/plain": [
              "(torch.int64, torch.int64, torch.Size([500, 1, 50, 4]), torch.Size([500]))"
            ]
          },
          "metadata": {},
          "execution_count": 9
        }
      ]
    },
    {
      "cell_type": "code",
      "source": [
        "val_x = val_x.to(torch.float32)\n",
        "val_x.dtype, val_y.dtype, (train_x.dtype, train_y.dtype)"
      ],
      "metadata": {
        "colab": {
          "base_uri": "https://localhost:8080/"
        },
        "id": "Tme6P3TEQg0C",
        "outputId": "0956345e-1d80-4aac-fe54-e66978fce8f0"
      },
      "execution_count": null,
      "outputs": [
        {
          "output_type": "execute_result",
          "data": {
            "text/plain": [
              "(torch.float32, torch.int64, (torch.float32, torch.int64))"
            ]
          },
          "metadata": {},
          "execution_count": 10
        }
      ]
    },
    {
      "cell_type": "code",
      "source": [
        "class Net(Module):   \n",
        "    def __init__(self):\n",
        "        super(Net, self).__init__()\n",
        "\n",
        "        self.cnn_layers = Sequential(\n",
        "            # Defining a 2D convolution layer\n",
        "            Conv2d(1, 4, kernel_size=3, stride=1, padding=1),\n",
        "            BatchNorm2d(4),\n",
        "            MaxPool2d(kernel_size=2, stride=2),\n",
        "            ReLU(inplace=True),\n",
        "            # Defining another 2D convolution layer\n",
        "            #torch.nn.Dropout(p=.2),\n",
        "            Conv2d(4, 4, kernel_size=3, stride=1, padding=1),\n",
        "            BatchNorm2d(4),\n",
        "            #MaxPool2d(kernel_size=2, stride=2),\n",
        "            ReLU(inplace=True),\n",
        "        )\n",
        "\n",
        "        self.linear_layers = Sequential(\n",
        "            Linear(4 * 25 * 2, 10)\n",
        "        )\n",
        "\n",
        "    # Defining the forward pass    \n",
        "    def forward(self, x):\n",
        "        x = self.cnn_layers(x)\n",
        "        x = x.view(x.size(0), -1)\n",
        "        x = self.linear_layers(x)\n",
        "        return x"
      ],
      "metadata": {
        "id": "mkvVzpYH1CGB"
      },
      "execution_count": null,
      "outputs": []
    },
    {
      "cell_type": "code",
      "source": [
        "model = Net()\n",
        "# defining the optimizer\n",
        "optimizer = Adam(model.parameters(), lr=0.035)\n",
        "# defining the loss function\n",
        "criterion = CrossEntropyLoss()\n",
        "# checking if GPU is available\n",
        "if torch.cuda.is_available():\n",
        "    model = model.cuda()\n",
        "    criterion = criterion.cuda()\n",
        "    \n",
        "print(model)"
      ],
      "metadata": {
        "colab": {
          "base_uri": "https://localhost:8080/"
        },
        "id": "3s4sYHl41sTD",
        "outputId": "fded956a-3139-4785-cb64-bdda8bd24507"
      },
      "execution_count": null,
      "outputs": [
        {
          "output_type": "stream",
          "name": "stdout",
          "text": [
            "Net(\n",
            "  (cnn_layers): Sequential(\n",
            "    (0): Conv2d(1, 4, kernel_size=(3, 3), stride=(1, 1), padding=(1, 1))\n",
            "    (1): BatchNorm2d(4, eps=1e-05, momentum=0.1, affine=True, track_running_stats=True)\n",
            "    (2): MaxPool2d(kernel_size=2, stride=2, padding=0, dilation=1, ceil_mode=False)\n",
            "    (3): ReLU(inplace=True)\n",
            "    (4): Conv2d(4, 4, kernel_size=(3, 3), stride=(1, 1), padding=(1, 1))\n",
            "    (5): BatchNorm2d(4, eps=1e-05, momentum=0.1, affine=True, track_running_stats=True)\n",
            "    (6): ReLU(inplace=True)\n",
            "  )\n",
            "  (linear_layers): Sequential(\n",
            "    (0): Linear(in_features=200, out_features=10, bias=True)\n",
            "  )\n",
            ")\n"
          ]
        }
      ]
    },
    {
      "cell_type": "code",
      "source": [
        "def train(epoch):\n",
        "    model.train()\n",
        "    tr_loss = 0\n",
        "    # getting the training set\n",
        "    x_train, y_train = Variable(train_x), Variable(train_y)\n",
        "    # getting the validation set\n",
        "    x_val, y_val = Variable(val_x), Variable(val_y)\n",
        "    # converting the data into GPU format\n",
        "    if torch.cuda.is_available():\n",
        "        x_train = x_train.cuda()\n",
        "        y_train = y_train.cuda()\n",
        "        x_val = x_val.cuda()\n",
        "        y_val = y_val.cuda()\n",
        "\n",
        "    # clearing the Gradients of the model parameters\n",
        "    optimizer.zero_grad()\n",
        "    \n",
        "    # prediction for training and validation set\n",
        "    output_train = model(x_train)\n",
        "    output_val = model(x_val)\n",
        "\n",
        "    # computing the training and validation loss\n",
        "    loss_train = criterion(output_train, y_train)\n",
        "    loss_val = criterion(output_val, y_val)\n",
        "    train_losses.append(loss_train)\n",
        "    val_losses.append(loss_val)\n",
        "\n",
        "    # computing the updated weights of all the model parameters\n",
        "    loss_train.backward()\n",
        "    optimizer.step()\n",
        "    tr_loss = loss_train.item()\n",
        "    if epoch%2 == 0:\n",
        "        # printing the validation loss\n",
        "        print('Epoch : ',epoch+1, '\\t', 'loss :', loss_val )"
      ],
      "metadata": {
        "id": "kZdL0KBB1zAi"
      },
      "execution_count": null,
      "outputs": []
    },
    {
      "cell_type": "code",
      "source": [
        "n_epochs = 50\n",
        "# empty list to store training losses\n",
        "train_losses = []\n",
        "# empty list to store validation losses\n",
        "val_losses = []\n",
        "# training the model\n",
        "for epoch in range(n_epochs):\n",
        "    train(epoch)"
      ],
      "metadata": {
        "id": "eAPpGyRz15PL",
        "outputId": "ab9841ac-f6da-4bd4-db55-fdd4e31af598",
        "colab": {
          "base_uri": "https://localhost:8080/"
        }
      },
      "execution_count": null,
      "outputs": [
        {
          "output_type": "stream",
          "name": "stdout",
          "text": [
            "Epoch :  1 \t loss : tensor(2.3038, device='cuda:0', grad_fn=<NllLossBackward0>)\n",
            "Epoch :  3 \t loss : tensor(1.0820, device='cuda:0', grad_fn=<NllLossBackward0>)\n",
            "Epoch :  5 \t loss : tensor(0.8631, device='cuda:0', grad_fn=<NllLossBackward0>)\n",
            "Epoch :  7 \t loss : tensor(0.6432, device='cuda:0', grad_fn=<NllLossBackward0>)\n",
            "Epoch :  9 \t loss : tensor(0.5972, device='cuda:0', grad_fn=<NllLossBackward0>)\n",
            "Epoch :  11 \t loss : tensor(0.5501, device='cuda:0', grad_fn=<NllLossBackward0>)\n",
            "Epoch :  13 \t loss : tensor(0.4805, device='cuda:0', grad_fn=<NllLossBackward0>)\n",
            "Epoch :  15 \t loss : tensor(0.4222, device='cuda:0', grad_fn=<NllLossBackward0>)\n",
            "Epoch :  17 \t loss : tensor(0.3600, device='cuda:0', grad_fn=<NllLossBackward0>)\n",
            "Epoch :  19 \t loss : tensor(0.3125, device='cuda:0', grad_fn=<NllLossBackward0>)\n",
            "Epoch :  21 \t loss : tensor(0.2353, device='cuda:0', grad_fn=<NllLossBackward0>)\n",
            "Epoch :  23 \t loss : tensor(0.1971, device='cuda:0', grad_fn=<NllLossBackward0>)\n",
            "Epoch :  25 \t loss : tensor(0.1533, device='cuda:0', grad_fn=<NllLossBackward0>)\n",
            "Epoch :  27 \t loss : tensor(0.1277, device='cuda:0', grad_fn=<NllLossBackward0>)\n",
            "Epoch :  29 \t loss : tensor(0.1097, device='cuda:0', grad_fn=<NllLossBackward0>)\n",
            "Epoch :  31 \t loss : tensor(0.0883, device='cuda:0', grad_fn=<NllLossBackward0>)\n",
            "Epoch :  33 \t loss : tensor(0.0720, device='cuda:0', grad_fn=<NllLossBackward0>)\n",
            "Epoch :  35 \t loss : tensor(0.0617, device='cuda:0', grad_fn=<NllLossBackward0>)\n",
            "Epoch :  37 \t loss : tensor(0.0542, device='cuda:0', grad_fn=<NllLossBackward0>)\n",
            "Epoch :  39 \t loss : tensor(0.0442, device='cuda:0', grad_fn=<NllLossBackward0>)\n",
            "Epoch :  41 \t loss : tensor(0.0407, device='cuda:0', grad_fn=<NllLossBackward0>)\n",
            "Epoch :  43 \t loss : tensor(0.0398, device='cuda:0', grad_fn=<NllLossBackward0>)\n",
            "Epoch :  45 \t loss : tensor(0.0357, device='cuda:0', grad_fn=<NllLossBackward0>)\n",
            "Epoch :  47 \t loss : tensor(0.0344, device='cuda:0', grad_fn=<NllLossBackward0>)\n",
            "Epoch :  49 \t loss : tensor(0.0317, device='cuda:0', grad_fn=<NllLossBackward0>)\n"
          ]
        }
      ]
    },
    {
      "cell_type": "code",
      "source": [
        "# prediction for training set\n",
        "with torch.no_grad():\n",
        "    output = model(train_x.cuda())\n",
        "    \n",
        "softmax = torch.exp(output).cpu()\n",
        "prob = list(softmax.numpy())\n",
        "predictions = np.argmax(prob, axis=1)\n",
        "\n",
        "# accuracy on training set\n",
        "accuracy_score(train_y, predictions)\n",
        "\n",
        "from sklearn import metrics\n",
        "\n",
        "\n",
        "confusion_matrix = metrics.confusion_matrix(train_y, predictions,normalize='true')\n",
        "\n",
        "cm_display = metrics.ConfusionMatrixDisplay(confusion_matrix = confusion_matrix, display_labels = [0, 1])\n",
        "\n",
        "cm_display.plot()\n",
        "plt.title('Normalized confusion matrix')\n",
        "plt.show()\n"
      ],
      "metadata": {
        "colab": {
          "base_uri": "https://localhost:8080/",
          "height": 295
        },
        "id": "Z1wjkGLc19QC",
        "outputId": "799299a1-c0cc-4280-f261-b1c67fc2a1b1"
      },
      "execution_count": null,
      "outputs": [
        {
          "output_type": "display_data",
          "data": {
            "text/plain": [
              "<Figure size 432x288 with 2 Axes>"
            ],
            "image/png": "[encoded data removed]"
          },
          "metadata": {
            "needs_background": "light"
          }
        }
      ]
    },
    {
      "cell_type": "code",
      "source": [
        "# prediction for validation set\n",
        "with torch.no_grad():\n",
        "    output = model(val_x.cuda())\n",
        "\n",
        "softmax = torch.exp(output).cpu()\n",
        "prob = list(softmax.numpy())\n",
        "predictions = np.argmax(prob, axis=1)\n",
        "\n",
        "# accuracy on validation set\n",
        "accuracy_score(val_y, predictions)\n",
        "\n",
        "\n",
        "confusion_matrix = metrics.confusion_matrix(val_y, predictions,normalize='true')\n",
        "cm_display = metrics.ConfusionMatrixDisplay(confusion_matrix = confusion_matrix, display_labels = [0, 1])\n",
        "\n",
        "cm_display.plot()\n",
        "plt.title('Normalized confusion matrix')\n",
        "plt.show()"
      ],
      "metadata": {
        "colab": {
          "base_uri": "https://localhost:8080/",
          "height": 295
        },
        "id": "oCxN7RDyQ9VL",
        "outputId": "1f386e80-ecba-4352-c2ff-eb51f265def1"
      },
      "execution_count": null,
      "outputs": [
        {
          "output_type": "display_data",
          "data": {
            "text/plain": [
              "<Figure size 432x288 with 2 Axes>"
            ],
            "image/png": "[encoded data removed]"
          },
          "metadata": {
            "needs_background": "light"
          }
        }
      ]
    },
    {
      "cell_type": "code",
      "source": [
        "test=[]\n",
        "for i in range(len(train_losses)):\n",
        "  test_=train_losses[i].data\n",
        "  test.append(test_)\n",
        "val=[]\n",
        "for i in range(len(val_losses)):\n",
        "  val_=val_losses[i].data\n",
        "  val.append(val_)\n",
        "print(val)\n",
        "\n",
        "data_test=[]\n",
        "for i in range(len(test)):\n",
        "  data_test_=test[i].to(\"cpu\").numpy()\n",
        "  data_test.append(data_test_)\n",
        "\n",
        "data_val=[]\n",
        "for i in range(len(val)):\n",
        "  data_val_=val[i].to(\"cpu\").numpy()\n",
        "  data_val.append(data_val_)\n",
        "print(data_val)"
      ],
      "metadata": {
        "colab": {
          "base_uri": "https://localhost:8080/"
        },
        "id": "BzNn_ZOYYaVv",
        "outputId": "bb13af96-fb52-498a-bc2e-c6c40852ebaf"
      },
      "execution_count": null,
      "outputs": [
        {
          "output_type": "stream",
          "name": "stdout",
          "text": [
            "[tensor(2.3038, device='cuda:0'), tensor(0.7305, device='cuda:0'), tensor(1.0820, device='cuda:0'), tensor(0.6882, device='cuda:0'), tensor(0.8631, device='cuda:0'), tensor(0.6598, device='cuda:0'), tensor(0.6432, device='cuda:0'), tensor(0.6738, device='cuda:0'), tensor(0.5972, device='cuda:0'), tensor(0.5396, device='cuda:0'), tensor(0.5501, device='cuda:0'), tensor(0.5391, device='cuda:0'), tensor(0.4805, device='cuda:0'), tensor(0.4346, device='cuda:0'), tensor(0.4222, device='cuda:0'), tensor(0.4015, device='cuda:0'), tensor(0.3600, device='cuda:0'), tensor(0.3276, device='cuda:0'), tensor(0.3125, device='cuda:0'), tensor(0.2839, device='cuda:0'), tensor(0.2353, device='cuda:0'), tensor(0.2059, device='cuda:0'), tensor(0.1971, device='cuda:0'), tensor(0.1617, device='cuda:0'), tensor(0.1533, device='cuda:0'), tensor(0.1500, device='cuda:0'), tensor(0.1277, device='cuda:0'), tensor(0.1141, device='cuda:0'), tensor(0.1097, device='cuda:0'), tensor(0.0925, device='cuda:0'), tensor(0.0883, device='cuda:0'), tensor(0.0850, device='cuda:0'), tensor(0.0720, device='cuda:0'), tensor(0.0663, device='cuda:0'), tensor(0.0617, device='cuda:0'), tensor(0.0542, device='cuda:0'), tensor(0.0542, device='cuda:0'), tensor(0.0496, device='cuda:0'), tensor(0.0442, device='cuda:0'), tensor(0.0441, device='cuda:0'), tensor(0.0407, device='cuda:0'), tensor(0.0414, device='cuda:0'), tensor(0.0398, device='cuda:0'), tensor(0.0363, device='cuda:0'), tensor(0.0357, device='cuda:0'), tensor(0.0338, device='cuda:0'), tensor(0.0344, device='cuda:0'), tensor(0.0337, device='cuda:0'), tensor(0.0317, device='cuda:0'), tensor(0.0313, device='cuda:0')]\n",
            "[array(2.3037767, dtype=float32), array(0.73045045, dtype=float32), array(1.0820127, dtype=float32), array(0.68817884, dtype=float32), array(0.86312723, dtype=float32), array(0.6598339, dtype=float32), array(0.6432252, dtype=float32), array(0.6738011, dtype=float32), array(0.5972449, dtype=float32), array(0.53958225, dtype=float32), array(0.55007225, dtype=float32), array(0.53908443, dtype=float32), array(0.4805465, dtype=float32), array(0.4345926, dtype=float32), array(0.42220062, dtype=float32), array(0.40153524, dtype=float32), array(0.36001384, dtype=float32), array(0.32757095, dtype=float32), array(0.31251884, dtype=float32), array(0.28394833, dtype=float32), array(0.23534013, dtype=float32), array(0.20585522, dtype=float32), array(0.1971037, dtype=float32), array(0.16173081, dtype=float32), array(0.15328288, dtype=float32), array(0.15004495, dtype=float32), array(0.12773627, dtype=float32), array(0.11413538, dtype=float32), array(0.10968337, dtype=float32), array(0.0925324, dtype=float32), array(0.08834127, dtype=float32), array(0.08498082, dtype=float32), array(0.071964, dtype=float32), array(0.06628118, dtype=float32), array(0.06174974, dtype=float32), array(0.05418663, dtype=float32), array(0.05416488, dtype=float32), array(0.04955328, dtype=float32), array(0.04419691, dtype=float32), array(0.04405446, dtype=float32), array(0.04065167, dtype=float32), array(0.04143025, dtype=float32), array(0.0397823, dtype=float32), array(0.03634581, dtype=float32), array(0.03573224, dtype=float32), array(0.03384564, dtype=float32), array(0.03442163, dtype=float32), array(0.03371585, dtype=float32), array(0.03166085, dtype=float32), array(0.03127449, dtype=float32)]\n"
          ]
        }
      ]
    },
    {
      "cell_type": "code",
      "source": [
        "plt.plot(data_test, label='Training loss')\n",
        "plt.plot(data_val, label='Validation loss')\n",
        "plt.legend()\n",
        "#plt.axis([0, 200, 0, 0.6])\n",
        "plt.show()"
      ],
      "metadata": {
        "colab": {
          "base_uri": "https://localhost:8080/",
          "height": 265
        },
        "id": "MEig0Bg_Y4fi",
        "outputId": "d6585763-df32-4bfe-dd2a-e3f6f77805a5"
      },
      "execution_count": null,
      "outputs": [
        {
          "output_type": "display_data",
          "data": {
            "text/plain": [
              "<Figure size 432x288 with 1 Axes>"
            ],
            "image/png": "[encoded data removed]"
          },
          "metadata": {
            "needs_background": "light"
          }
        }
      ]
    },
    {
      "cell_type": "code",
      "source": [],
      "metadata": {
        "id": "ZG_53xClbNcj"
      },
      "execution_count": null,
      "outputs": []
    }
  ]
}