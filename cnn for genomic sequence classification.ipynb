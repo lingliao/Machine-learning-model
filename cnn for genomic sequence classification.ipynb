{
  "nbformat": 4,
  "nbformat_minor": 0,
  "metadata": {
    "colab": {
      "provenance": [],
      "authorship_tag": "ABX9TyNdZsfFOvOJROBVaZxUEe+R",
      "include_colab_link": true
    },
    "kernelspec": {
      "name": "python3",
      "display_name": "Python 3"
    },
    "language_info": {
      "name": "python"
    },
    "accelerator": "GPU",
    "gpuClass": "standard"
  },
  "cells": [
    {
      "cell_type": "markdown",
      "metadata": {
        "id": "view-in-github",
        "colab_type": "text"
      },
      "source": [
        "<a href=\"https://colab.research.google.com/github/lingliao/Machine-learning-model/blob/main/cnn%20for%20genomic%20sequence%20classification.ipynb\" target=\"_parent\"><img src=\"https://colab.research.google.com/assets/colab-badge.svg\" alt=\"Open In Colab\"/></a>"
      ]
    },
    {
      "cell_type": "code",
      "execution_count": 1,
      "metadata": {
        "id": "cGIQsmkth_AG",
        "outputId": "3171fb94-1168-4a1e-af71-46fef18581d8",
        "colab": {
          "base_uri": "https://localhost:8080/"
        }
      },
      "outputs": [
        {
          "output_type": "stream",
          "name": "stdout",
          "text": [
            "Looking in indexes: https://pypi.org/simple, https://us-python.pkg.dev/colab-wheels/public/simple/\n",
            "Requirement already satisfied: scanpy==1.9.0 in /usr/local/lib/python3.8/dist-packages (1.9.0)\n",
            "Requirement already satisfied: numpy>=1.17.0 in /usr/local/lib/python3.8/dist-packages (from scanpy==1.9.0) (1.21.6)\n",
            "Requirement already satisfied: packaging in /usr/local/lib/python3.8/dist-packages (from scanpy==1.9.0) (21.3)\n",
            "Requirement already satisfied: h5py>=3 in /usr/local/lib/python3.8/dist-packages (from scanpy==1.9.0) (3.1.0)\n",
            "Requirement already satisfied: seaborn in /usr/local/lib/python3.8/dist-packages (from scanpy==1.9.0) (0.11.2)\n",
            "Requirement already satisfied: numba>=0.41.0 in /usr/local/lib/python3.8/dist-packages (from scanpy==1.9.0) (0.56.4)\n",
            "Requirement already satisfied: joblib in /usr/local/lib/python3.8/dist-packages (from scanpy==1.9.0) (1.2.0)\n",
            "Requirement already satisfied: umap-learn>=0.3.10 in /usr/local/lib/python3.8/dist-packages (from scanpy==1.9.0) (0.5.3)\n",
            "Requirement already satisfied: natsort in /usr/local/lib/python3.8/dist-packages (from scanpy==1.9.0) (5.5.0)\n",
            "Requirement already satisfied: tqdm in /usr/local/lib/python3.8/dist-packages (from scanpy==1.9.0) (4.64.1)\n",
            "Requirement already satisfied: scipy>=1.4 in /usr/local/lib/python3.8/dist-packages (from scanpy==1.9.0) (1.7.3)\n",
            "Requirement already satisfied: statsmodels>=0.10.0rc2 in /usr/local/lib/python3.8/dist-packages (from scanpy==1.9.0) (0.12.2)\n",
            "Requirement already satisfied: patsy in /usr/local/lib/python3.8/dist-packages (from scanpy==1.9.0) (0.5.3)\n",
            "Requirement already satisfied: anndata>=0.7.4 in /usr/local/lib/python3.8/dist-packages (from scanpy==1.9.0) (0.8.0)\n",
            "Requirement already satisfied: networkx>=2.3 in /usr/local/lib/python3.8/dist-packages (from scanpy==1.9.0) (3.0)\n",
            "Requirement already satisfied: session-info in /usr/local/lib/python3.8/dist-packages (from scanpy==1.9.0) (1.0.0)\n",
            "Requirement already satisfied: matplotlib>=3.1.2 in /usr/local/lib/python3.8/dist-packages (from scanpy==1.9.0) (3.2.2)\n",
            "Requirement already satisfied: pandas>=0.21 in /usr/local/lib/python3.8/dist-packages (from scanpy==1.9.0) (1.3.5)\n",
            "Requirement already satisfied: scikit-learn>=0.22 in /usr/local/lib/python3.8/dist-packages (from scanpy==1.9.0) (1.0.2)\n",
            "Requirement already satisfied: python-dateutil>=2.1 in /usr/local/lib/python3.8/dist-packages (from matplotlib>=3.1.2->scanpy==1.9.0) (2.8.2)\n",
            "Requirement already satisfied: pyparsing!=2.0.4,!=2.1.2,!=2.1.6,>=2.0.1 in /usr/local/lib/python3.8/dist-packages (from matplotlib>=3.1.2->scanpy==1.9.0) (3.0.9)\n",
            "Requirement already satisfied: kiwisolver>=1.0.1 in /usr/local/lib/python3.8/dist-packages (from matplotlib>=3.1.2->scanpy==1.9.0) (1.4.4)\n",
            "Requirement already satisfied: cycler>=0.10 in /usr/local/lib/python3.8/dist-packages (from matplotlib>=3.1.2->scanpy==1.9.0) (0.11.0)\n",
            "Requirement already satisfied: importlib-metadata in /usr/local/lib/python3.8/dist-packages (from numba>=0.41.0->scanpy==1.9.0) (6.0.0)\n",
            "Requirement already satisfied: llvmlite<0.40,>=0.39.0dev0 in /usr/local/lib/python3.8/dist-packages (from numba>=0.41.0->scanpy==1.9.0) (0.39.1)\n",
            "Requirement already satisfied: setuptools in /usr/local/lib/python3.8/dist-packages (from numba>=0.41.0->scanpy==1.9.0) (57.4.0)\n",
            "Requirement already satisfied: pytz>=2017.3 in /usr/local/lib/python3.8/dist-packages (from pandas>=0.21->scanpy==1.9.0) (2022.7)\n",
            "Requirement already satisfied: threadpoolctl>=2.0.0 in /usr/local/lib/python3.8/dist-packages (from scikit-learn>=0.22->scanpy==1.9.0) (3.1.0)\n",
            "Requirement already satisfied: six in /usr/local/lib/python3.8/dist-packages (from patsy->scanpy==1.9.0) (1.15.0)\n",
            "Requirement already satisfied: pynndescent>=0.5 in /usr/local/lib/python3.8/dist-packages (from umap-learn>=0.3.10->scanpy==1.9.0) (0.5.8)\n",
            "Requirement already satisfied: stdlib-list in /usr/local/lib/python3.8/dist-packages (from session-info->scanpy==1.9.0) (0.8.0)\n",
            "Requirement already satisfied: zipp>=0.5 in /usr/local/lib/python3.8/dist-packages (from importlib-metadata->numba>=0.41.0->scanpy==1.9.0) (3.11.0)\n"
          ]
        }
      ],
      "source": [
        "!pip install scanpy==1.9.0"
      ]
    },
    {
      "cell_type": "code",
      "source": [
        "# importing the libraries\n",
        "import pandas as pd\n",
        "import numpy as np\n",
        "\n",
        "# for reading and displaying images\n",
        "from skimage.io import imread\n",
        "import matplotlib.pyplot as plt\n",
        "%matplotlib inline\n",
        "\n",
        "# for creating validation set\n",
        "from sklearn.model_selection import train_test_split\n",
        "\n",
        "# for evaluating the model\n",
        "from sklearn.metrics import accuracy_score\n",
        "from tqdm import tqdm\n",
        "\n",
        "# PyTorch libraries and modules\n",
        "import torch\n",
        "from torch.autograd import Variable\n",
        "from torch.nn import Linear, ReLU, CrossEntropyLoss, Sequential, Conv2d, MaxPool2d, Module, Softmax, BatchNorm2d, Dropout\n",
        "from torch.optim import Adam, SGD"
      ],
      "metadata": {
        "id": "GlWd48skiDl6"
      },
      "execution_count": 2,
      "outputs": []
    },
    {
      "cell_type": "code",
      "source": [
        "import requests\n",
        "\n",
        "SEQUENCES_URL = 'https://raw.githubusercontent.com/abidlabs/deep-learning-genomics-primer/master/sequences.txt'\n",
        "\n",
        "sequences = requests.get(SEQUENCES_URL).text.split('\\n')\n",
        "sequences = list(filter(None, sequences))  # This removes empty sequences.\n",
        "\n",
        "# Let's print the first few sequences.\n",
        "pd.DataFrame(sequences, index=np.arange(1, len(sequences)+1), \n",
        "             columns=['Sequences']).head()"
      ],
      "metadata": {
        "colab": {
          "base_uri": "https://localhost:8080/",
          "height": 206
        },
        "id": "hqJ5R-R9iJdb",
        "outputId": "fa969189-b95e-43a8-caf3-e92049e4cc63"
      },
      "execution_count": 3,
      "outputs": [
        {
          "output_type": "execute_result",
          "data": {
            "text/plain": [
              "                                           Sequences\n",
              "1  CCGAGGGCTATGGTTTGGAAGTTAGAACCCTGGGGCTTCTCGCGGA...\n",
              "2  GAGTTTATATGGCGCGAGCCTAGTGGTTTTTGTACTTGTTTGTCGC...\n",
              "3  GATCAGTAGGGAAACAAACAGAGGGCCCAGCCACATCTAGCAGGTA...\n",
              "4  GTCCACGACCGAACTCCCACCTTGACCGCAGAGGTACCACCAGAGC...\n",
              "5  GGCGACCGAACTCCAACTAGAACCTGCATAACTGGCCTGGGAGATA..."
            ],
            "text/html": [
              "\n",
              "  <div id=\"df-230bd4f7-c6c0-4c25-8ddf-c20b3a46650b\">\n",
              "    <div class=\"colab-df-container\">\n",
              "      <div>\n",
              "<style scoped>\n",
              "    .dataframe tbody tr th:only-of-type {\n",
              "        vertical-align: middle;\n",
              "    }\n",
              "\n",
              "    .dataframe tbody tr th {\n",
              "        vertical-align: top;\n",
              "    }\n",
              "\n",
              "    .dataframe thead th {\n",
              "        text-align: right;\n",
              "    }\n",
              "</style>\n",
              "<table border=\"1\" class=\"dataframe\">\n",
              "  <thead>\n",
              "    <tr style=\"text-align: right;\">\n",
              "      <th></th>\n",
              "      <th>Sequences</th>\n",
              "    </tr>\n",
              "  </thead>\n",
              "  <tbody>\n",
              "    <tr>\n",
              "      <th>1</th>\n",
              "      <td>CCGAGGGCTATGGTTTGGAAGTTAGAACCCTGGGGCTTCTCGCGGA...</td>\n",
              "    </tr>\n",
              "    <tr>\n",
              "      <th>2</th>\n",
              "      <td>GAGTTTATATGGCGCGAGCCTAGTGGTTTTTGTACTTGTTTGTCGC...</td>\n",
              "    </tr>\n",
              "    <tr>\n",
              "      <th>3</th>\n",
              "      <td>GATCAGTAGGGAAACAAACAGAGGGCCCAGCCACATCTAGCAGGTA...</td>\n",
              "    </tr>\n",
              "    <tr>\n",
              "      <th>4</th>\n",
              "      <td>GTCCACGACCGAACTCCCACCTTGACCGCAGAGGTACCACCAGAGC...</td>\n",
              "    </tr>\n",
              "    <tr>\n",
              "      <th>5</th>\n",
              "      <td>GGCGACCGAACTCCAACTAGAACCTGCATAACTGGCCTGGGAGATA...</td>\n",
              "    </tr>\n",
              "  </tbody>\n",
              "</table>\n",
              "</div>\n",
              "      <button class=\"colab-df-convert\" onclick=\"convertToInteractive('df-230bd4f7-c6c0-4c25-8ddf-c20b3a46650b')\"\n",
              "              title=\"Convert this dataframe to an interactive table.\"\n",
              "              style=\"display:none;\">\n",
              "        \n",
              "  <svg xmlns=\"http://www.w3.org/2000/svg\" height=\"24px\"viewBox=\"0 0 24 24\"\n",
              "       width=\"24px\">\n",
              "    <path d=\"M0 0h24v24H0V0z\" fill=\"none\"/>\n",
              "    <path d=\"M18.56 5.44l.94 2.06.94-2.06 2.06-.94-2.06-.94-.94-2.06-.94 2.06-2.06.94zm-11 1L8.5 8.5l.94-2.06 2.06-.94-2.06-.94L8.5 2.5l-.94 2.06-2.06.94zm10 10l.94 2.06.94-2.06 2.06-.94-2.06-.94-.94-2.06-.94 2.06-2.06.94z\"/><path d=\"M17.41 7.96l-1.37-1.37c-.4-.4-.92-.59-1.43-.59-.52 0-1.04.2-1.43.59L10.3 9.45l-7.72 7.72c-.78.78-.78 2.05 0 2.83L4 21.41c.39.39.9.59 1.41.59.51 0 1.02-.2 1.41-.59l7.78-7.78 2.81-2.81c.8-.78.8-2.07 0-2.86zM5.41 20L4 18.59l7.72-7.72 1.47 1.35L5.41 20z\"/>\n",
              "  </svg>\n",
              "      </button>\n",
              "      \n",
              "  <style>\n",
              "    .colab-df-container {\n",
              "      display:flex;\n",
              "      flex-wrap:wrap;\n",
              "      gap: 12px;\n",
              "    }\n",
              "\n",
              "    .colab-df-convert {\n",
              "      background-color: #E8F0FE;\n",
              "      border: none;\n",
              "      border-radius: 50%;\n",
              "      cursor: pointer;\n",
              "      display: none;\n",
              "      fill: #1967D2;\n",
              "      height: 32px;\n",
              "      padding: 0 0 0 0;\n",
              "      width: 32px;\n",
              "    }\n",
              "\n",
              "    .colab-df-convert:hover {\n",
              "      background-color: #E2EBFA;\n",
              "      box-shadow: 0px 1px 2px rgba(60, 64, 67, 0.3), 0px 1px 3px 1px rgba(60, 64, 67, 0.15);\n",
              "      fill: #174EA6;\n",
              "    }\n",
              "\n",
              "    [theme=dark] .colab-df-convert {\n",
              "      background-color: #3B4455;\n",
              "      fill: #D2E3FC;\n",
              "    }\n",
              "\n",
              "    [theme=dark] .colab-df-convert:hover {\n",
              "      background-color: #434B5C;\n",
              "      box-shadow: 0px 1px 3px 1px rgba(0, 0, 0, 0.15);\n",
              "      filter: drop-shadow(0px 1px 2px rgba(0, 0, 0, 0.3));\n",
              "      fill: #FFFFFF;\n",
              "    }\n",
              "  </style>\n",
              "\n",
              "      <script>\n",
              "        const buttonEl =\n",
              "          document.querySelector('#df-230bd4f7-c6c0-4c25-8ddf-c20b3a46650b button.colab-df-convert');\n",
              "        buttonEl.style.display =\n",
              "          google.colab.kernel.accessAllowed ? 'block' : 'none';\n",
              "\n",
              "        async function convertToInteractive(key) {\n",
              "          const element = document.querySelector('#df-230bd4f7-c6c0-4c25-8ddf-c20b3a46650b');\n",
              "          const dataTable =\n",
              "            await google.colab.kernel.invokeFunction('convertToInteractive',\n",
              "                                                     [key], {});\n",
              "          if (!dataTable) return;\n",
              "\n",
              "          const docLinkHtml = 'Like what you see? Visit the ' +\n",
              "            '<a target=\"_blank\" href=https://colab.research.google.com/notebooks/data_table.ipynb>data table notebook</a>'\n",
              "            + ' to learn more about interactive tables.';\n",
              "          element.innerHTML = '';\n",
              "          dataTable['output_type'] = 'display_data';\n",
              "          await google.colab.output.renderOutput(dataTable, element);\n",
              "          const docLink = document.createElement('div');\n",
              "          docLink.innerHTML = docLinkHtml;\n",
              "          element.appendChild(docLink);\n",
              "        }\n",
              "      </script>\n",
              "    </div>\n",
              "  </div>\n",
              "  "
            ]
          },
          "metadata": {},
          "execution_count": 3
        }
      ]
    },
    {
      "cell_type": "code",
      "source": [
        "from sklearn.preprocessing import LabelEncoder, OneHotEncoder\n",
        "\n",
        "# The LabelEncoder encodes a sequence of bases as a sequence of integers.\n",
        "integer_encoder = LabelEncoder()  \n",
        "# The OneHotEncoder converts an array of integers to a sparse matrix where \n",
        "# each row corresponds to one possible value of each feature.\n",
        "one_hot_encoder = OneHotEncoder(categories='auto')   \n",
        "input_features = []\n",
        "\n",
        "for sequence in sequences:\n",
        "  #print(sequence)\n",
        "  integer_encoded = integer_encoder.fit_transform(list(sequence))\n",
        "  #print(integer_encoded)\n",
        "  # Below converts to a 2D array with one column and as many rows as needed.\n",
        "  integer_encoded = np.array(integer_encoded).reshape(-1, 1)\n",
        "  #print(integer_encoded)\n",
        "  one_hot_encoded = one_hot_encoder.fit_transform(integer_encoded)\n",
        "  #print(one_hot_encoded)\n",
        "  input_features.append(one_hot_encoded.toarray())\n",
        "\n",
        "np.set_printoptions(threshold=40)\n",
        "input_features = np.stack(input_features)\n",
        "print(\"Example sequence\\n-----------------------\")\n",
        "print('DNA Sequence #1:\\n',sequences[0][:10],'...',sequences[0][-10:])\n",
        "# The transposed output will have one row for each DNA letter\n",
        "print('One hot encoding of Sequence #1:\\n',input_features[0].T)\n",
        "input_features.shape"
      ],
      "metadata": {
        "colab": {
          "base_uri": "https://localhost:8080/"
        },
        "id": "5xHwdGF6iTCB",
        "outputId": "6c282751-3f80-43c5-8635-7571fcb26882"
      },
      "execution_count": 4,
      "outputs": [
        {
          "output_type": "stream",
          "name": "stdout",
          "text": [
            "Example sequence\n",
            "-----------------------\n",
            "DNA Sequence #1:\n",
            " CCGAGGGCTA ... CGCGGACACC\n",
            "One hot encoding of Sequence #1:\n",
            " [[0. 0. 0. ... 1. 0. 0.]\n",
            " [1. 1. 0. ... 0. 1. 1.]\n",
            " [0. 0. 1. ... 0. 0. 0.]\n",
            " [0. 0. 0. ... 0. 0. 0.]]\n"
          ]
        },
        {
          "output_type": "execute_result",
          "data": {
            "text/plain": [
              "(2000, 50, 4)"
            ]
          },
          "metadata": {},
          "execution_count": 4
        }
      ]
    },
    {
      "cell_type": "code",
      "source": [
        "LABELS_URL = 'https://raw.githubusercontent.com/abidlabs/deep-learning-genomics-primer/master/labels.txt'\n",
        "\n",
        "labels = requests.get(LABELS_URL).text.split('\\n')\n",
        "labels = list(filter(None, labels))  # removes empty sequences\n",
        "\n",
        "#one_hot_encoder = OneHotEncoder(categories='auto')\n",
        "input_labels = np.array(labels)\n",
        "#input_labels = one_hot_encoder.fit_transform(labels).toarray()\n",
        "input_labels.shape\n",
        "#print('Labels:\\n',labels.T)\n",
        "#print('One-hot encoded labels:\\n',input_labels.T)"
      ],
      "metadata": {
        "colab": {
          "base_uri": "https://localhost:8080/"
        },
        "id": "LP1ZTaz2iVkT",
        "outputId": "b6b95a7a-3fed-4e16-c488-989f8d99ab1b"
      },
      "execution_count": 5,
      "outputs": [
        {
          "output_type": "execute_result",
          "data": {
            "text/plain": [
              "(2000,)"
            ]
          },
          "metadata": {},
          "execution_count": 5
        }
      ]
    },
    {
      "cell_type": "code",
      "source": [
        "train_x, val_x, train_y, val_y = train_test_split(input_features, input_labels, test_size = 0.25, random_state=42)\n",
        "(train_x.shape, train_y.shape), (val_x.shape, val_y.shape)"
      ],
      "metadata": {
        "colab": {
          "base_uri": "https://localhost:8080/"
        },
        "id": "rpEdaS7Qzs1a",
        "outputId": "1829fec8-3944-4d50-b88d-22cf5d427065"
      },
      "execution_count": 6,
      "outputs": [
        {
          "output_type": "execute_result",
          "data": {
            "text/plain": [
              "(((1500, 50, 4), (1500,)), ((500, 50, 4), (500,)))"
            ]
          },
          "metadata": {},
          "execution_count": 6
        }
      ]
    },
    {
      "cell_type": "code",
      "source": [
        "train_x = train_x.reshape(1500, 1, 50, 4)\n",
        "train_x  = torch.from_numpy(train_x)\n",
        "#train_x = train_x.to(torch.int64)\n",
        "\n",
        "\n",
        "# converting the target into torch format\n",
        "train_y = train_y.astype(int);\n",
        "train_y = torch.from_numpy(train_y)\n",
        "#train_y = train_y.to(torch.int64)\n",
        "\n",
        "#train_dat = torch.utils.data.TensorDataset(torch.tensor(train_x).to(device), torch.tensor(train_y).to(device))\n",
        "\n",
        "# shape of training data\n",
        "train_x.dtype, train_x.shape, train_y.shape"
      ],
      "metadata": {
        "colab": {
          "base_uri": "https://localhost:8080/"
        },
        "id": "a5F7rqPr0MEC",
        "outputId": "4d29d8c2-9ba0-4c14-f4d5-14caa567ba18"
      },
      "execution_count": 7,
      "outputs": [
        {
          "output_type": "execute_result",
          "data": {
            "text/plain": [
              "(torch.float64, torch.Size([1500, 1, 50, 4]), torch.Size([1500]))"
            ]
          },
          "metadata": {},
          "execution_count": 7
        }
      ]
    },
    {
      "cell_type": "code",
      "source": [
        "train_x = train_x.to(torch.float32)\n",
        "(train_x.dtype, train_y.dtype)\n"
      ],
      "metadata": {
        "colab": {
          "base_uri": "https://localhost:8080/"
        },
        "id": "5h4fkTE3EUEW",
        "outputId": "1007921f-11ec-4471-a422-39e1ad058eb3"
      },
      "execution_count": 8,
      "outputs": [
        {
          "output_type": "execute_result",
          "data": {
            "text/plain": [
              "(torch.float32, torch.int64)"
            ]
          },
          "metadata": {},
          "execution_count": 8
        }
      ]
    },
    {
      "cell_type": "code",
      "source": [
        "val_x = val_x.reshape(500, 1, 50, 4)\n",
        "val_x  = torch.from_numpy(val_x)\n",
        "val_x = val_x.to(torch.int64)\n",
        "\n",
        "# converting the target into torch format\n",
        "val_y = val_y.astype(int);\n",
        "val_y = torch.from_numpy(val_y)\n",
        "val_y = val_y.to(torch.int64)\n",
        "\n",
        "# shape of validation data\n",
        "val_x.dtype, val_y.dtype, val_x.shape, val_y.shape"
      ],
      "metadata": {
        "colab": {
          "base_uri": "https://localhost:8080/"
        },
        "id": "DZddUaG4oN8J",
        "outputId": "e3824dd9-8b43-4949-cbbe-f155443edf1d"
      },
      "execution_count": 9,
      "outputs": [
        {
          "output_type": "execute_result",
          "data": {
            "text/plain": [
              "(torch.int64, torch.int64, torch.Size([500, 1, 50, 4]), torch.Size([500]))"
            ]
          },
          "metadata": {},
          "execution_count": 9
        }
      ]
    },
    {
      "cell_type": "code",
      "source": [
        "val_x = val_x.to(torch.float32)\n",
        "val_x.dtype, val_y.dtype, (train_x.dtype, train_y.dtype)"
      ],
      "metadata": {
        "colab": {
          "base_uri": "https://localhost:8080/"
        },
        "id": "Tme6P3TEQg0C",
        "outputId": "8f946c9c-2ada-4f23-b93b-98de4b4e7b46"
      },
      "execution_count": 10,
      "outputs": [
        {
          "output_type": "execute_result",
          "data": {
            "text/plain": [
              "(torch.float32, torch.int64, (torch.float32, torch.int64))"
            ]
          },
          "metadata": {},
          "execution_count": 10
        }
      ]
    },
    {
      "cell_type": "code",
      "source": [
        "class Net(Module):   \n",
        "    def __init__(self):\n",
        "        super(Net, self).__init__()\n",
        "\n",
        "        self.cnn_layers = Sequential(\n",
        "            # Defining a 2D convolution layer\n",
        "            Conv2d(1, 4, kernel_size=3, stride=1, padding=1),\n",
        "            BatchNorm2d(4),\n",
        "            MaxPool2d(kernel_size=2, stride=2),\n",
        "            ReLU(inplace=True),\n",
        "            # Defining another 2D convolution layer\n",
        "            #torch.nn.Dropout(p=.2),\n",
        "            Conv2d(4, 4, kernel_size=3, stride=1, padding=1),\n",
        "            BatchNorm2d(4),\n",
        "            #MaxPool2d(kernel_size=2, stride=2),\n",
        "            ReLU(inplace=True),\n",
        "        )\n",
        "\n",
        "        self.linear_layers = Sequential(\n",
        "            Linear(4 * 25 * 2, 10)\n",
        "        )\n",
        "\n",
        "    # Defining the forward pass    \n",
        "    def forward(self, x):\n",
        "        x = self.cnn_layers(x)\n",
        "        x = x.view(x.size(0), -1)\n",
        "        x = self.linear_layers(x)\n",
        "        return x"
      ],
      "metadata": {
        "id": "mkvVzpYH1CGB"
      },
      "execution_count": 11,
      "outputs": []
    },
    {
      "cell_type": "code",
      "source": [
        "model = Net()\n",
        "# defining the optimizer\n",
        "optimizer = Adam(model.parameters(), lr=0.002)\n",
        "# defining the loss function\n",
        "criterion = CrossEntropyLoss()\n",
        "# checking if GPU is available\n",
        "if torch.cuda.is_available():\n",
        "    model = model.cuda()\n",
        "    criterion = criterion.cuda()\n",
        "    \n",
        "print(model)"
      ],
      "metadata": {
        "colab": {
          "base_uri": "https://localhost:8080/"
        },
        "id": "3s4sYHl41sTD",
        "outputId": "b6dc77b5-2c7b-4089-fe54-5cc527923fc9"
      },
      "execution_count": 12,
      "outputs": [
        {
          "output_type": "stream",
          "name": "stdout",
          "text": [
            "Net(\n",
            "  (cnn_layers): Sequential(\n",
            "    (0): Conv2d(1, 4, kernel_size=(3, 3), stride=(1, 1), padding=(1, 1))\n",
            "    (1): BatchNorm2d(4, eps=1e-05, momentum=0.1, affine=True, track_running_stats=True)\n",
            "    (2): MaxPool2d(kernel_size=2, stride=2, padding=0, dilation=1, ceil_mode=False)\n",
            "    (3): ReLU(inplace=True)\n",
            "    (4): Conv2d(4, 4, kernel_size=(3, 3), stride=(1, 1), padding=(1, 1))\n",
            "    (5): BatchNorm2d(4, eps=1e-05, momentum=0.1, affine=True, track_running_stats=True)\n",
            "    (6): ReLU(inplace=True)\n",
            "  )\n",
            "  (linear_layers): Sequential(\n",
            "    (0): Linear(in_features=200, out_features=10, bias=True)\n",
            "  )\n",
            ")\n"
          ]
        }
      ]
    },
    {
      "cell_type": "code",
      "source": [
        "def train(epoch):\n",
        "    model.train()\n",
        "    tr_loss = 0\n",
        "    # getting the training set\n",
        "    x_train, y_train = Variable(train_x), Variable(train_y)\n",
        "    # getting the validation set\n",
        "    x_val, y_val = Variable(val_x), Variable(val_y)\n",
        "    # converting the data into GPU format\n",
        "    if torch.cuda.is_available():\n",
        "        x_train = x_train.cuda()\n",
        "        y_train = y_train.cuda()\n",
        "        x_val = x_val.cuda()\n",
        "        y_val = y_val.cuda()\n",
        "\n",
        "    # clearing the Gradients of the model parameters\n",
        "    optimizer.zero_grad()\n",
        "    \n",
        "    # prediction for training and validation set\n",
        "    output_train = model(x_train)\n",
        "    output_val = model(x_val)\n",
        "\n",
        "    # computing the training and validation loss\n",
        "    loss_train = criterion(output_train, y_train)\n",
        "    loss_val = criterion(output_val, y_val)\n",
        "    train_losses.append(loss_train)\n",
        "    val_losses.append(loss_val)\n",
        "\n",
        "    # computing the updated weights of all the model parameters\n",
        "    loss_train.backward()\n",
        "    optimizer.step()\n",
        "    tr_loss = loss_train.item()\n",
        "    if epoch%2 == 0:\n",
        "        # printing the validation loss\n",
        "        print('Epoch : ',epoch+1, '\\t', 'loss :', loss_val )"
      ],
      "metadata": {
        "id": "kZdL0KBB1zAi"
      },
      "execution_count": 13,
      "outputs": []
    },
    {
      "cell_type": "code",
      "source": [
        "n_epochs = 200\n",
        "# empty list to store training losses\n",
        "train_losses = []\n",
        "# empty list to store validation losses\n",
        "val_losses = []\n",
        "# training the model\n",
        "for epoch in range(n_epochs):\n",
        "    train(epoch)"
      ],
      "metadata": {
        "id": "eAPpGyRz15PL",
        "outputId": "85a5276c-6047-4bda-fddd-2638e21304d3",
        "colab": {
          "base_uri": "https://localhost:8080/"
        }
      },
      "execution_count": 14,
      "outputs": [
        {
          "output_type": "stream",
          "name": "stdout",
          "text": [
            "Epoch :  1 \t loss : tensor(2.6186, device='cuda:0', grad_fn=<NllLossBackward0>)\n",
            "Epoch :  3 \t loss : tensor(2.0229, device='cuda:0', grad_fn=<NllLossBackward0>)\n",
            "Epoch :  5 \t loss : tensor(1.5336, device='cuda:0', grad_fn=<NllLossBackward0>)\n",
            "Epoch :  7 \t loss : tensor(1.1795, device='cuda:0', grad_fn=<NllLossBackward0>)\n",
            "Epoch :  9 \t loss : tensor(0.9627, device='cuda:0', grad_fn=<NllLossBackward0>)\n",
            "Epoch :  11 \t loss : tensor(0.8433, device='cuda:0', grad_fn=<NllLossBackward0>)\n",
            "Epoch :  13 \t loss : tensor(0.7754, device='cuda:0', grad_fn=<NllLossBackward0>)\n",
            "Epoch :  15 \t loss : tensor(0.7355, device='cuda:0', grad_fn=<NllLossBackward0>)\n",
            "Epoch :  17 \t loss : tensor(0.7165, device='cuda:0', grad_fn=<NllLossBackward0>)\n",
            "Epoch :  19 \t loss : tensor(0.7115, device='cuda:0', grad_fn=<NllLossBackward0>)\n",
            "Epoch :  21 \t loss : tensor(0.7090, device='cuda:0', grad_fn=<NllLossBackward0>)\n",
            "Epoch :  23 \t loss : tensor(0.7013, device='cuda:0', grad_fn=<NllLossBackward0>)\n",
            "Epoch :  25 \t loss : tensor(0.6898, device='cuda:0', grad_fn=<NllLossBackward0>)\n",
            "Epoch :  27 \t loss : tensor(0.6802, device='cuda:0', grad_fn=<NllLossBackward0>)\n",
            "Epoch :  29 \t loss : tensor(0.6746, device='cuda:0', grad_fn=<NllLossBackward0>)\n",
            "Epoch :  31 \t loss : tensor(0.6695, device='cuda:0', grad_fn=<NllLossBackward0>)\n",
            "Epoch :  33 \t loss : tensor(0.6629, device='cuda:0', grad_fn=<NllLossBackward0>)\n",
            "Epoch :  35 \t loss : tensor(0.6560, device='cuda:0', grad_fn=<NllLossBackward0>)\n",
            "Epoch :  37 \t loss : tensor(0.6498, device='cuda:0', grad_fn=<NllLossBackward0>)\n",
            "Epoch :  39 \t loss : tensor(0.6427, device='cuda:0', grad_fn=<NllLossBackward0>)\n",
            "Epoch :  41 \t loss : tensor(0.6325, device='cuda:0', grad_fn=<NllLossBackward0>)\n",
            "Epoch :  43 \t loss : tensor(0.6198, device='cuda:0', grad_fn=<NllLossBackward0>)\n",
            "Epoch :  45 \t loss : tensor(0.6060, device='cuda:0', grad_fn=<NllLossBackward0>)\n",
            "Epoch :  47 \t loss : tensor(0.5919, device='cuda:0', grad_fn=<NllLossBackward0>)\n",
            "Epoch :  49 \t loss : tensor(0.5772, device='cuda:0', grad_fn=<NllLossBackward0>)\n",
            "Epoch :  51 \t loss : tensor(0.5623, device='cuda:0', grad_fn=<NllLossBackward0>)\n",
            "Epoch :  53 \t loss : tensor(0.5483, device='cuda:0', grad_fn=<NllLossBackward0>)\n",
            "Epoch :  55 \t loss : tensor(0.5343, device='cuda:0', grad_fn=<NllLossBackward0>)\n",
            "Epoch :  57 \t loss : tensor(0.5199, device='cuda:0', grad_fn=<NllLossBackward0>)\n",
            "Epoch :  59 \t loss : tensor(0.5051, device='cuda:0', grad_fn=<NllLossBackward0>)\n",
            "Epoch :  61 \t loss : tensor(0.4900, device='cuda:0', grad_fn=<NllLossBackward0>)\n",
            "Epoch :  63 \t loss : tensor(0.4751, device='cuda:0', grad_fn=<NllLossBackward0>)\n",
            "Epoch :  65 \t loss : tensor(0.4604, device='cuda:0', grad_fn=<NllLossBackward0>)\n",
            "Epoch :  67 \t loss : tensor(0.4463, device='cuda:0', grad_fn=<NllLossBackward0>)\n",
            "Epoch :  69 \t loss : tensor(0.4330, device='cuda:0', grad_fn=<NllLossBackward0>)\n",
            "Epoch :  71 \t loss : tensor(0.4207, device='cuda:0', grad_fn=<NllLossBackward0>)\n",
            "Epoch :  73 \t loss : tensor(0.4092, device='cuda:0', grad_fn=<NllLossBackward0>)\n",
            "Epoch :  75 \t loss : tensor(0.3978, device='cuda:0', grad_fn=<NllLossBackward0>)\n",
            "Epoch :  77 \t loss : tensor(0.3868, device='cuda:0', grad_fn=<NllLossBackward0>)\n",
            "Epoch :  79 \t loss : tensor(0.3766, device='cuda:0', grad_fn=<NllLossBackward0>)\n",
            "Epoch :  81 \t loss : tensor(0.3672, device='cuda:0', grad_fn=<NllLossBackward0>)\n",
            "Epoch :  83 \t loss : tensor(0.3586, device='cuda:0', grad_fn=<NllLossBackward0>)\n",
            "Epoch :  85 \t loss : tensor(0.3500, device='cuda:0', grad_fn=<NllLossBackward0>)\n",
            "Epoch :  87 \t loss : tensor(0.3413, device='cuda:0', grad_fn=<NllLossBackward0>)\n",
            "Epoch :  89 \t loss : tensor(0.3324, device='cuda:0', grad_fn=<NllLossBackward0>)\n",
            "Epoch :  91 \t loss : tensor(0.3236, device='cuda:0', grad_fn=<NllLossBackward0>)\n",
            "Epoch :  93 \t loss : tensor(0.3145, device='cuda:0', grad_fn=<NllLossBackward0>)\n",
            "Epoch :  95 \t loss : tensor(0.3057, device='cuda:0', grad_fn=<NllLossBackward0>)\n",
            "Epoch :  97 \t loss : tensor(0.2972, device='cuda:0', grad_fn=<NllLossBackward0>)\n",
            "Epoch :  99 \t loss : tensor(0.2883, device='cuda:0', grad_fn=<NllLossBackward0>)\n",
            "Epoch :  101 \t loss : tensor(0.2797, device='cuda:0', grad_fn=<NllLossBackward0>)\n",
            "Epoch :  103 \t loss : tensor(0.2711, device='cuda:0', grad_fn=<NllLossBackward0>)\n",
            "Epoch :  105 \t loss : tensor(0.2622, device='cuda:0', grad_fn=<NllLossBackward0>)\n",
            "Epoch :  107 \t loss : tensor(0.2528, device='cuda:0', grad_fn=<NllLossBackward0>)\n",
            "Epoch :  109 \t loss : tensor(0.2441, device='cuda:0', grad_fn=<NllLossBackward0>)\n",
            "Epoch :  111 \t loss : tensor(0.2363, device='cuda:0', grad_fn=<NllLossBackward0>)\n",
            "Epoch :  113 \t loss : tensor(0.2282, device='cuda:0', grad_fn=<NllLossBackward0>)\n",
            "Epoch :  115 \t loss : tensor(0.2206, device='cuda:0', grad_fn=<NllLossBackward0>)\n",
            "Epoch :  117 \t loss : tensor(0.2134, device='cuda:0', grad_fn=<NllLossBackward0>)\n",
            "Epoch :  119 \t loss : tensor(0.2054, device='cuda:0', grad_fn=<NllLossBackward0>)\n",
            "Epoch :  121 \t loss : tensor(0.1977, device='cuda:0', grad_fn=<NllLossBackward0>)\n",
            "Epoch :  123 \t loss : tensor(0.1913, device='cuda:0', grad_fn=<NllLossBackward0>)\n",
            "Epoch :  125 \t loss : tensor(0.1845, device='cuda:0', grad_fn=<NllLossBackward0>)\n",
            "Epoch :  127 \t loss : tensor(0.1772, device='cuda:0', grad_fn=<NllLossBackward0>)\n",
            "Epoch :  129 \t loss : tensor(0.1704, device='cuda:0', grad_fn=<NllLossBackward0>)\n",
            "Epoch :  131 \t loss : tensor(0.1642, device='cuda:0', grad_fn=<NllLossBackward0>)\n",
            "Epoch :  133 \t loss : tensor(0.1579, device='cuda:0', grad_fn=<NllLossBackward0>)\n",
            "Epoch :  135 \t loss : tensor(0.1515, device='cuda:0', grad_fn=<NllLossBackward0>)\n",
            "Epoch :  137 \t loss : tensor(0.1456, device='cuda:0', grad_fn=<NllLossBackward0>)\n",
            "Epoch :  139 \t loss : tensor(0.1396, device='cuda:0', grad_fn=<NllLossBackward0>)\n",
            "Epoch :  141 \t loss : tensor(0.1335, device='cuda:0', grad_fn=<NllLossBackward0>)\n",
            "Epoch :  143 \t loss : tensor(0.1282, device='cuda:0', grad_fn=<NllLossBackward0>)\n",
            "Epoch :  145 \t loss : tensor(0.1235, device='cuda:0', grad_fn=<NllLossBackward0>)\n",
            "Epoch :  147 \t loss : tensor(0.1191, device='cuda:0', grad_fn=<NllLossBackward0>)\n",
            "Epoch :  149 \t loss : tensor(0.1150, device='cuda:0', grad_fn=<NllLossBackward0>)\n",
            "Epoch :  151 \t loss : tensor(0.1116, device='cuda:0', grad_fn=<NllLossBackward0>)\n",
            "Epoch :  153 \t loss : tensor(0.1078, device='cuda:0', grad_fn=<NllLossBackward0>)\n",
            "Epoch :  155 \t loss : tensor(0.1040, device='cuda:0', grad_fn=<NllLossBackward0>)\n",
            "Epoch :  157 \t loss : tensor(0.1010, device='cuda:0', grad_fn=<NllLossBackward0>)\n",
            "Epoch :  159 \t loss : tensor(0.0986, device='cuda:0', grad_fn=<NllLossBackward0>)\n",
            "Epoch :  161 \t loss : tensor(0.0958, device='cuda:0', grad_fn=<NllLossBackward0>)\n",
            "Epoch :  163 \t loss : tensor(0.0934, device='cuda:0', grad_fn=<NllLossBackward0>)\n",
            "Epoch :  165 \t loss : tensor(0.0913, device='cuda:0', grad_fn=<NllLossBackward0>)\n",
            "Epoch :  167 \t loss : tensor(0.0889, device='cuda:0', grad_fn=<NllLossBackward0>)\n",
            "Epoch :  169 \t loss : tensor(0.0866, device='cuda:0', grad_fn=<NllLossBackward0>)\n",
            "Epoch :  171 \t loss : tensor(0.0847, device='cuda:0', grad_fn=<NllLossBackward0>)\n",
            "Epoch :  173 \t loss : tensor(0.0826, device='cuda:0', grad_fn=<NllLossBackward0>)\n",
            "Epoch :  175 \t loss : tensor(0.0805, device='cuda:0', grad_fn=<NllLossBackward0>)\n",
            "Epoch :  177 \t loss : tensor(0.0788, device='cuda:0', grad_fn=<NllLossBackward0>)\n",
            "Epoch :  179 \t loss : tensor(0.0770, device='cuda:0', grad_fn=<NllLossBackward0>)\n",
            "Epoch :  181 \t loss : tensor(0.0750, device='cuda:0', grad_fn=<NllLossBackward0>)\n",
            "Epoch :  183 \t loss : tensor(0.0738, device='cuda:0', grad_fn=<NllLossBackward0>)\n",
            "Epoch :  185 \t loss : tensor(0.0720, device='cuda:0', grad_fn=<NllLossBackward0>)\n",
            "Epoch :  187 \t loss : tensor(0.0703, device='cuda:0', grad_fn=<NllLossBackward0>)\n",
            "Epoch :  189 \t loss : tensor(0.0690, device='cuda:0', grad_fn=<NllLossBackward0>)\n",
            "Epoch :  191 \t loss : tensor(0.0675, device='cuda:0', grad_fn=<NllLossBackward0>)\n",
            "Epoch :  193 \t loss : tensor(0.0661, device='cuda:0', grad_fn=<NllLossBackward0>)\n",
            "Epoch :  195 \t loss : tensor(0.0651, device='cuda:0', grad_fn=<NllLossBackward0>)\n",
            "Epoch :  197 \t loss : tensor(0.0635, device='cuda:0', grad_fn=<NllLossBackward0>)\n",
            "Epoch :  199 \t loss : tensor(0.0625, device='cuda:0', grad_fn=<NllLossBackward0>)\n"
          ]
        }
      ]
    },
    {
      "cell_type": "code",
      "source": [
        "# prediction for training set\n",
        "with torch.no_grad():\n",
        "    output = model(train_x.cuda())\n",
        "    \n",
        "softmax = torch.exp(output).cpu()\n",
        "prob = list(softmax.numpy())\n",
        "predictions = np.argmax(prob, axis=1)\n",
        "\n",
        "# accuracy on training set\n",
        "accuracy_score(train_y, predictions)\n",
        "\n",
        "from sklearn import metrics\n",
        "\n",
        "\n",
        "confusion_matrix = metrics.confusion_matrix(train_y, predictions,normalize='true')\n",
        "\n",
        "cm_display = metrics.ConfusionMatrixDisplay(confusion_matrix = confusion_matrix, display_labels = [0, 1])\n",
        "\n",
        "cm_display.plot()\n",
        "plt.title('Normalized confusion matrix')\n",
        "plt.show()\n"
      ],
      "metadata": {
        "colab": {
          "base_uri": "https://localhost:8080/",
          "height": 295
        },
        "id": "Z1wjkGLc19QC",
        "outputId": "4a281bf0-907e-4f95-9e5a-0232418def5b"
      },
      "execution_count": 15,
      "outputs": [
        {
          "output_type": "display_data",
          "data": {
            "text/plain": [
              "<Figure size 432x288 with 2 Axes>"
            ],
            "image/png": "[encoded data removed]"
          },
          "metadata": {
            "needs_background": "light"
          }
        }
      ]
    },
    {
      "cell_type": "code",
      "source": [
        "# prediction for validation set\n",
        "with torch.no_grad():\n",
        "    output = model(val_x.cuda())\n",
        "\n",
        "softmax = torch.exp(output).cpu()\n",
        "prob = list(softmax.numpy())\n",
        "predictions = np.argmax(prob, axis=1)\n",
        "\n",
        "# accuracy on validation set\n",
        "accuracy_score(val_y, predictions)\n",
        "\n",
        "\n",
        "confusion_matrix = metrics.confusion_matrix(val_y, predictions,normalize='true')\n",
        "cm_display = metrics.ConfusionMatrixDisplay(confusion_matrix = confusion_matrix, display_labels = [0, 1])\n",
        "\n",
        "cm_display.plot()\n",
        "plt.title('Normalized confusion matrix')\n",
        "plt.show()"
      ],
      "metadata": {
        "colab": {
          "base_uri": "https://localhost:8080/",
          "height": 295
        },
        "id": "oCxN7RDyQ9VL",
        "outputId": "00b02ec2-663b-4597-fd26-04f7f1cab4e4"
      },
      "execution_count": 16,
      "outputs": [
        {
          "output_type": "display_data",
          "data": {
            "text/plain": [
              "<Figure size 432x288 with 2 Axes>"
            ],
            "image/png": "[encoded data removed]"
          },
          "metadata": {
            "needs_background": "light"
          }
        }
      ]
    },
    {
      "cell_type": "code",
      "source": [
        "test=[]\n",
        "for i in range(len(train_losses)):\n",
        "  test_=train_losses[i].data\n",
        "  test.append(test_)\n",
        "val=[]\n",
        "for i in range(len(val_losses)):\n",
        "  val_=val_losses[i].data\n",
        "  val.append(val_)\n",
        "print(val)\n",
        "\n",
        "data_test=[]\n",
        "for i in range(len(test)):\n",
        "  data_test_=test[i].to(\"cpu\").numpy()\n",
        "  data_test.append(data_test_)\n",
        "\n",
        "data_val=[]\n",
        "for i in range(len(val)):\n",
        "  data_val_=val[i].to(\"cpu\").numpy()\n",
        "  data_val.append(data_val_)\n",
        "print(data_val)"
      ],
      "metadata": {
        "colab": {
          "base_uri": "https://localhost:8080/"
        },
        "id": "BzNn_ZOYYaVv",
        "outputId": "7b2a01a6-4b84-4cec-f554-5b74e5231950"
      },
      "execution_count": 17,
      "outputs": [
        {
          "output_type": "stream",
          "name": "stdout",
          "text": [
            "[tensor(2.6186, device='cuda:0'), tensor(2.3099, device='cuda:0'), tensor(2.0229, device='cuda:0'), tensor(1.7626, device='cuda:0'), tensor(1.5336, device='cuda:0'), tensor(1.3386, device='cuda:0'), tensor(1.1795, device='cuda:0'), tensor(1.0557, device='cuda:0'), tensor(0.9627, device='cuda:0'), tensor(0.8940, device='cuda:0'), tensor(0.8433, device='cuda:0'), tensor(0.8050, device='cuda:0'), tensor(0.7754, device='cuda:0'), tensor(0.7527, device='cuda:0'), tensor(0.7355, device='cuda:0'), tensor(0.7236, device='cuda:0'), tensor(0.7165, device='cuda:0'), tensor(0.7129, device='cuda:0'), tensor(0.7115, device='cuda:0'), tensor(0.7106, device='cuda:0'), tensor(0.7090, device='cuda:0'), tensor(0.7059, device='cuda:0'), tensor(0.7013, device='cuda:0'), tensor(0.6956, device='cuda:0'), tensor(0.6898, device='cuda:0'), tensor(0.6845, device='cuda:0'), tensor(0.6802, device='cuda:0'), tensor(0.6771, device='cuda:0'), tensor(0.6746, device='cuda:0'), tensor(0.6722, device='cuda:0'), tensor(0.6695, device='cuda:0'), tensor(0.6664, device='cuda:0'), tensor(0.6629, device='cuda:0'), tensor(0.6594, device='cuda:0'), tensor(0.6560, device='cuda:0'), tensor(0.6528, device='cuda:0'), tensor(0.6498, device='cuda:0'), tensor(0.6465, device='cuda:0'), tensor(0.6427, device='cuda:0'), tensor(0.6380, device='cuda:0'), tensor(0.6325, device='cuda:0'), tensor(0.6264, device='cuda:0'), tensor(0.6198, device='cuda:0'), tensor(0.6130, device='cuda:0'), tensor(0.6060, device='cuda:0'), tensor(0.5990, device='cuda:0'), tensor(0.5919, device='cuda:0'), tensor(0.5846, device='cuda:0'), tensor(0.5772, device='cuda:0'), tensor(0.5697, device='cuda:0'), tensor(0.5623, device='cuda:0'), tensor(0.5552, device='cuda:0'), tensor(0.5483, device='cuda:0'), tensor(0.5413, device='cuda:0'), tensor(0.5343, device='cuda:0'), tensor(0.5272, device='cuda:0'), tensor(0.5199, device='cuda:0'), tensor(0.5126, device='cuda:0'), tensor(0.5051, device='cuda:0'), tensor(0.4976, device='cuda:0'), tensor(0.4900, device='cuda:0'), tensor(0.4825, device='cuda:0'), tensor(0.4751, device='cuda:0'), tensor(0.4677, device='cuda:0'), tensor(0.4604, device='cuda:0'), tensor(0.4533, device='cuda:0'), tensor(0.4463, device='cuda:0'), tensor(0.4395, device='cuda:0'), tensor(0.4330, device='cuda:0'), tensor(0.4268, device='cuda:0'), tensor(0.4207, device='cuda:0'), tensor(0.4147, device='cuda:0'), tensor(0.4092, device='cuda:0'), tensor(0.4035, device='cuda:0'), tensor(0.3978, device='cuda:0'), tensor(0.3922, device='cuda:0'), tensor(0.3868, device='cuda:0'), tensor(0.3816, device='cuda:0'), tensor(0.3766, device='cuda:0'), tensor(0.3719, device='cuda:0'), tensor(0.3672, device='cuda:0'), tensor(0.3628, device='cuda:0'), tensor(0.3586, device='cuda:0'), tensor(0.3543, device='cuda:0'), tensor(0.3500, device='cuda:0'), tensor(0.3457, device='cuda:0'), tensor(0.3413, device='cuda:0'), tensor(0.3369, device='cuda:0'), tensor(0.3324, device='cuda:0'), tensor(0.3280, device='cuda:0'), tensor(0.3236, device='cuda:0'), tensor(0.3191, device='cuda:0'), tensor(0.3145, device='cuda:0'), tensor(0.3099, device='cuda:0'), tensor(0.3057, device='cuda:0'), tensor(0.3016, device='cuda:0'), tensor(0.2972, device='cuda:0'), tensor(0.2927, device='cuda:0'), tensor(0.2883, device='cuda:0'), tensor(0.2839, device='cuda:0'), tensor(0.2797, device='cuda:0'), tensor(0.2755, device='cuda:0'), tensor(0.2711, device='cuda:0'), tensor(0.2667, device='cuda:0'), tensor(0.2622, device='cuda:0'), tensor(0.2575, device='cuda:0'), tensor(0.2528, device='cuda:0'), tensor(0.2484, device='cuda:0'), tensor(0.2441, device='cuda:0'), tensor(0.2400, device='cuda:0'), tensor(0.2363, device='cuda:0'), tensor(0.2323, device='cuda:0'), tensor(0.2282, device='cuda:0'), tensor(0.2243, device='cuda:0'), tensor(0.2206, device='cuda:0'), tensor(0.2170, device='cuda:0'), tensor(0.2134, device='cuda:0'), tensor(0.2095, device='cuda:0'), tensor(0.2054, device='cuda:0'), tensor(0.2013, device='cuda:0'), tensor(0.1977, device='cuda:0'), tensor(0.1944, device='cuda:0'), tensor(0.1913, device='cuda:0'), tensor(0.1880, device='cuda:0'), tensor(0.1845, device='cuda:0'), tensor(0.1809, device='cuda:0'), tensor(0.1772, device='cuda:0'), tensor(0.1737, device='cuda:0'), tensor(0.1704, device='cuda:0'), tensor(0.1673, device='cuda:0'), tensor(0.1642, device='cuda:0'), tensor(0.1612, device='cuda:0'), tensor(0.1579, device='cuda:0'), tensor(0.1546, device='cuda:0'), tensor(0.1515, device='cuda:0'), tensor(0.1484, device='cuda:0'), tensor(0.1456, device='cuda:0'), tensor(0.1426, device='cuda:0'), tensor(0.1396, device='cuda:0'), tensor(0.1365, device='cuda:0'), tensor(0.1335, device='cuda:0'), tensor(0.1307, device='cuda:0'), tensor(0.1282, device='cuda:0'), tensor(0.1257, device='cuda:0'), tensor(0.1235, device='cuda:0'), tensor(0.1212, device='cuda:0'), tensor(0.1191, device='cuda:0'), tensor(0.1170, device='cuda:0'), tensor(0.1150, device='cuda:0'), tensor(0.1132, device='cuda:0'), tensor(0.1116, device='cuda:0'), tensor(0.1098, device='cuda:0'), tensor(0.1078, device='cuda:0'), tensor(0.1059, device='cuda:0'), tensor(0.1040, device='cuda:0'), tensor(0.1024, device='cuda:0'), tensor(0.1010, device='cuda:0'), tensor(0.0998, device='cuda:0'), tensor(0.0986, device='cuda:0'), tensor(0.0972, device='cuda:0'), tensor(0.0958, device='cuda:0'), tensor(0.0945, device='cuda:0'), tensor(0.0934, device='cuda:0'), tensor(0.0924, device='cuda:0'), tensor(0.0913, device='cuda:0'), tensor(0.0901, device='cuda:0'), tensor(0.0889, device='cuda:0'), tensor(0.0877, device='cuda:0'), tensor(0.0866, device='cuda:0'), tensor(0.0856, device='cuda:0'), tensor(0.0847, device='cuda:0'), tensor(0.0837, device='cuda:0'), tensor(0.0826, device='cuda:0'), tensor(0.0815, device='cuda:0'), tensor(0.0805, device='cuda:0'), tensor(0.0796, device='cuda:0'), tensor(0.0788, device='cuda:0'), tensor(0.0780, device='cuda:0'), tensor(0.0770, device='cuda:0'), tensor(0.0759, device='cuda:0'), tensor(0.0750, device='cuda:0'), tensor(0.0744, device='cuda:0'), tensor(0.0738, device='cuda:0'), tensor(0.0730, device='cuda:0'), tensor(0.0720, device='cuda:0'), tensor(0.0711, device='cuda:0'), tensor(0.0703, device='cuda:0'), tensor(0.0697, device='cuda:0'), tensor(0.0690, device='cuda:0'), tensor(0.0682, device='cuda:0'), tensor(0.0675, device='cuda:0'), tensor(0.0667, device='cuda:0'), tensor(0.0661, device='cuda:0'), tensor(0.0656, device='cuda:0'), tensor(0.0651, device='cuda:0'), tensor(0.0643, device='cuda:0'), tensor(0.0635, device='cuda:0'), tensor(0.0628, device='cuda:0'), tensor(0.0625, device='cuda:0'), tensor(0.0622, device='cuda:0')]\n",
            "[array(2.6185582, dtype=float32), array(2.3098607, dtype=float32), array(2.0228946, dtype=float32), array(1.7626239, dtype=float32), array(1.533591, dtype=float32), array(1.3385795, dtype=float32), array(1.1795198, dtype=float32), array(1.0556607, dtype=float32), array(0.9626996, dtype=float32), array(0.8940473, dtype=float32), array(0.8433075, dtype=float32), array(0.8049591, dtype=float32), array(0.7754304, dtype=float32), array(0.75265574, dtype=float32), array(0.73549926, dtype=float32), array(0.7236482, dtype=float32), array(0.7164506, dtype=float32), array(0.71287775, dtype=float32), array(0.7114809, dtype=float32), array(0.71064115, dtype=float32), array(0.70904005, dtype=float32), array(0.70592505, dtype=float32), array(0.70128924, dtype=float32), array(0.69563407, dtype=float32), array(0.6897709, dtype=float32), array(0.68449473, dtype=float32), array(0.680249, dtype=float32), array(0.6770582, dtype=float32), array(0.6745511, dtype=float32), array(0.67217803, dtype=float32), array(0.6695005, dtype=float32), array(0.6663664, dtype=float32), array(0.66290104, dtype=float32), array(0.65937245, dtype=float32), array(0.65600026, dtype=float32), array(0.6528488, dtype=float32), array(0.6497655, dtype=float32), array(0.6464991, dtype=float32), array(0.6426752, dtype=float32), array(0.6380116, dtype=float32), array(0.6325219, dtype=float32), array(0.62635964, dtype=float32), array(0.6197987, dtype=float32), array(0.61296755, dtype=float32), array(0.6059963, dtype=float32), array(0.5990219, dtype=float32), array(0.59191126, dtype=float32), array(0.5846346, dtype=float32), array(0.57720846, dtype=float32), array(0.56969374, dtype=float32), array(0.56231344, dtype=float32), array(0.5552023, dtype=float32), array(0.54826313, dtype=float32), array(0.54130834, dtype=float32), array(0.53425974, dtype=float32), array(0.5271875, dtype=float32), array(0.5199086, dtype=float32), array(0.5125624, dtype=float32), array(0.5051347, dtype=float32), array(0.49758664, dtype=float32), array(0.4899712, dtype=float32), array(0.48247594, dtype=float32), array(0.47509176, dtype=float32), array(0.46765104, dtype=float32), array(0.4603667, dtype=float32), array(0.45329732, dtype=float32), array(0.4463018, dtype=float32), array(0.43951365, dtype=float32), array(0.43303597, dtype=float32), array(0.42682144, dtype=float32), array(0.42072752, dtype=float32), array(0.41474754, dtype=float32), array(0.4091731, dtype=float32), array(0.40350214, dtype=float32), array(0.39783102, dtype=float32), array(0.3922242, dtype=float32), array(0.38680288, dtype=float32), array(0.3816238, dtype=float32), array(0.37661442, dtype=float32), array(0.37189746, dtype=float32), array(0.36718935, dtype=float32), array(0.36276835, dtype=float32), array(0.3585654, dtype=float32), array(0.35434335, dtype=float32), array(0.34999046, dtype=float32), array(0.34570026, dtype=float32), array(0.3413145, dtype=float32), array(0.3368797, dtype=float32), array(0.33241612, dtype=float32), array(0.32800114, dtype=float32), array(0.32356775, dtype=float32), array(0.3191143, dtype=float32), array(0.31448594, dtype=float32), array(0.30988768, dtype=float32), array(0.3057351, dtype=float32), array(0.3016387, dtype=float32), array(0.297167, dtype=float32), array(0.29270032, dtype=float32), array(0.2882515, dtype=float32), array(0.2839343, dtype=float32), array(0.27973378, dtype=float32), array(0.27549842, dtype=float32), array(0.27113017, dtype=float32), array(0.26666936, dtype=float32), array(0.26218766, dtype=float32), array(0.25750768, dtype=float32), array(0.2528336, dtype=float32), array(0.24836573, dtype=float32), array(0.24412067, dtype=float32), array(0.24004391, dtype=float32), array(0.23627299, dtype=float32), array(0.23226124, dtype=float32), array(0.22822303, dtype=float32), array(0.22433323, dtype=float32), array(0.22060518, dtype=float32), array(0.21696432, dtype=float32), array(0.21336082, dtype=float32), array(0.2095061, dtype=float32), array(0.20544085, dtype=float32), array(0.20133708, dtype=float32), array(0.19772469, dtype=float32), array(0.19439499, dtype=float32), array(0.19125713, dtype=float32), array(0.18800457, dtype=float32), array(0.18446232, dtype=float32), array(0.18086664, dtype=float32), array(0.17721942, dtype=float32), array(0.17373995, dtype=float32), array(0.17041206, dtype=float32), array(0.16730478, dtype=float32), array(0.16424184, dtype=float32), array(0.16119532, dtype=float32), array(0.15787897, dtype=float32), array(0.154605, dtype=float32), array(0.15148087, dtype=float32), array(0.148395, dtype=float32), array(0.14555435, dtype=float32), array(0.14260069, dtype=float32), array(0.13960737, dtype=float32), array(0.1365307, dtype=float32), array(0.13353015, dtype=float32), array(0.13065156, dtype=float32), array(0.12816243, dtype=float32), array(0.12573741, dtype=float32), array(0.12348142, dtype=float32), array(0.12120753, dtype=float32), array(0.11906844, dtype=float32), array(0.11700463, dtype=float32), array(0.1150337, dtype=float32), array(0.11319614, dtype=float32), array(0.11159232, dtype=float32), array(0.10979778, dtype=float32), array(0.10780641, dtype=float32), array(0.10585774, dtype=float32), array(0.1040244, dtype=float32), array(0.10238528, dtype=float32), array(0.10102174, dtype=float32), array(0.0998191, dtype=float32), array(0.09862851, dtype=float32), array(0.09718122, dtype=float32), array(0.0957606, dtype=float32), array(0.0944638, dtype=float32), array(0.0933831, dtype=float32), array(0.09240487, dtype=float32), array(0.09132683, dtype=float32), array(0.09006751, dtype=float32), array(0.08886768, dtype=float32), array(0.08768154, dtype=float32), array(0.08664597, dtype=float32), array(0.08563413, dtype=float32), array(0.08468651, dtype=float32), array(0.083746, dtype=float32), array(0.08262026, dtype=float32), array(0.08152066, dtype=float32), array(0.08050436, dtype=float32), array(0.07958061, dtype=float32), array(0.07882647, dtype=float32), array(0.07802887, dtype=float32), array(0.07703026, dtype=float32), array(0.07593723, dtype=float32), array(0.07504985, dtype=float32), array(0.07437467, dtype=float32), array(0.07376469, dtype=float32), array(0.07297475, dtype=float32), array(0.0720077, dtype=float32), array(0.07106203, dtype=float32), array(0.07034765, dtype=float32), array(0.06970094, dtype=float32), array(0.06897948, dtype=float32), array(0.06822183, dtype=float32), array(0.06745379, dtype=float32), array(0.06671494, dtype=float32), array(0.06611081, dtype=float32), array(0.06564554, dtype=float32), array(0.06511178, dtype=float32), array(0.06426869, dtype=float32), array(0.06346668, dtype=float32), array(0.06283069, dtype=float32), array(0.06248185, dtype=float32), array(0.06216976, dtype=float32)]\n"
          ]
        }
      ]
    },
    {
      "cell_type": "code",
      "source": [
        "plt.plot(data_test, label='Training loss')\n",
        "plt.plot(data_val, label='Validation loss')\n",
        "plt.legend()\n",
        "#plt.axis([0, 200, 0, 0.6])\n",
        "plt.show()"
      ],
      "metadata": {
        "colab": {
          "base_uri": "https://localhost:8080/",
          "height": 265
        },
        "id": "MEig0Bg_Y4fi",
        "outputId": "71670492-b47e-42e3-be05-bb80c5e807a4"
      },
      "execution_count": 19,
      "outputs": [
        {
          "output_type": "display_data",
          "data": {
            "text/plain": [
              "<Figure size 432x288 with 1 Axes>"
            ],
            "image/png": "[encoded data removed]"
          },
          "metadata": {
            "needs_background": "light"
          }
        }
      ]
    },
    {
      "cell_type": "code",
      "source": [],
      "metadata": {
        "id": "ZG_53xClbNcj"
      },
      "execution_count": 18,
      "outputs": []
    }
  ]
}