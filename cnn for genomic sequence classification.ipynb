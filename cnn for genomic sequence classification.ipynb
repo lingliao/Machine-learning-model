{
  "nbformat": 4,
  "nbformat_minor": 0,
  "metadata": {
    "colab": {
      "provenance": [],
      "authorship_tag": "ABX9TyONhgLO1GLAmbkUVFNUen2x",
      "include_colab_link": true
    },
    "kernelspec": {
      "name": "python3",
      "display_name": "Python 3"
    },
    "language_info": {
      "name": "python"
    },
    "accelerator": "GPU",
    "gpuClass": "standard"
  },
  "cells": [
    {
      "cell_type": "markdown",
      "metadata": {
        "id": "view-in-github",
        "colab_type": "text"
      },
      "source": [
        "<a href=\"https://colab.research.google.com/github/lingliao/Machine-learning-model/blob/main/cnn%20for%20genomic%20sequence%20classification.ipynb\" target=\"_parent\"><img src=\"https://colab.research.google.com/assets/colab-badge.svg\" alt=\"Open In Colab\"/></a>"
      ]
    },
    {
      "cell_type": "code",
      "execution_count": null,
      "metadata": {
        "id": "cGIQsmkth_AG"
      },
      "outputs": [],
      "source": [
        "!pip install scanpy==1.9.0"
      ]
    },
    {
      "cell_type": "code",
      "source": [
        "# importing the libraries\n",
        "import pandas as pd\n",
        "import numpy as np\n",
        "\n",
        "# for reading and displaying images\n",
        "from skimage.io import imread\n",
        "import matplotlib.pyplot as plt\n",
        "%matplotlib inline\n",
        "\n",
        "# for creating validation set\n",
        "from sklearn.model_selection import train_test_split\n",
        "\n",
        "# for evaluating the model\n",
        "from sklearn.metrics import accuracy_score\n",
        "from tqdm import tqdm\n",
        "\n",
        "# PyTorch libraries and modules\n",
        "import torch\n",
        "from torch.autograd import Variable\n",
        "from torch.nn import Linear, ReLU, CrossEntropyLoss, Sequential, Conv2d, MaxPool2d, Module, Softmax, BatchNorm2d, Dropout\n",
        "from torch.optim import Adam, SGD"
      ],
      "metadata": {
        "id": "GlWd48skiDl6"
      },
      "execution_count": null,
      "outputs": []
    },
    {
      "cell_type": "code",
      "source": [
        "import requests\n",
        "\n",
        "SEQUENCES_URL = 'https://raw.githubusercontent.com/abidlabs/deep-learning-genomics-primer/master/sequences.txt'\n",
        "\n",
        "sequences = requests.get(SEQUENCES_URL).text.split('\\n')\n",
        "sequences = list(filter(None, sequences))  # This removes empty sequences.\n",
        "\n",
        "# Let's print the first few sequences.\n",
        "pd.DataFrame(sequences, index=np.arange(1, len(sequences)+1), \n",
        "             columns=['Sequences']).head()"
      ],
      "metadata": {
        "colab": {
          "base_uri": "https://localhost:8080/",
          "height": 206
        },
        "id": "hqJ5R-R9iJdb",
        "outputId": "15067eb7-6714-44b0-f59f-fe3779c10059"
      },
      "execution_count": null,
      "outputs": [
        {
          "output_type": "execute_result",
          "data": {
            "text/plain": [
              "                                           Sequences\n",
              "1  CCGAGGGCTATGGTTTGGAAGTTAGAACCCTGGGGCTTCTCGCGGA...\n",
              "2  GAGTTTATATGGCGCGAGCCTAGTGGTTTTTGTACTTGTTTGTCGC...\n",
              "3  GATCAGTAGGGAAACAAACAGAGGGCCCAGCCACATCTAGCAGGTA...\n",
              "4  GTCCACGACCGAACTCCCACCTTGACCGCAGAGGTACCACCAGAGC...\n",
              "5  GGCGACCGAACTCCAACTAGAACCTGCATAACTGGCCTGGGAGATA..."
            ],
            "text/html": [
              "\n",
              "  <div id=\"df-5f27af78-0646-422b-bfa6-a35cb148476f\">\n",
              "    <div class=\"colab-df-container\">\n",
              "      <div>\n",
              "<style scoped>\n",
              "    .dataframe tbody tr th:only-of-type {\n",
              "        vertical-align: middle;\n",
              "    }\n",
              "\n",
              "    .dataframe tbody tr th {\n",
              "        vertical-align: top;\n",
              "    }\n",
              "\n",
              "    .dataframe thead th {\n",
              "        text-align: right;\n",
              "    }\n",
              "</style>\n",
              "<table border=\"1\" class=\"dataframe\">\n",
              "  <thead>\n",
              "    <tr style=\"text-align: right;\">\n",
              "      <th></th>\n",
              "      <th>Sequences</th>\n",
              "    </tr>\n",
              "  </thead>\n",
              "  <tbody>\n",
              "    <tr>\n",
              "      <th>1</th>\n",
              "      <td>CCGAGGGCTATGGTTTGGAAGTTAGAACCCTGGGGCTTCTCGCGGA...</td>\n",
              "    </tr>\n",
              "    <tr>\n",
              "      <th>2</th>\n",
              "      <td>GAGTTTATATGGCGCGAGCCTAGTGGTTTTTGTACTTGTTTGTCGC...</td>\n",
              "    </tr>\n",
              "    <tr>\n",
              "      <th>3</th>\n",
              "      <td>GATCAGTAGGGAAACAAACAGAGGGCCCAGCCACATCTAGCAGGTA...</td>\n",
              "    </tr>\n",
              "    <tr>\n",
              "      <th>4</th>\n",
              "      <td>GTCCACGACCGAACTCCCACCTTGACCGCAGAGGTACCACCAGAGC...</td>\n",
              "    </tr>\n",
              "    <tr>\n",
              "      <th>5</th>\n",
              "      <td>GGCGACCGAACTCCAACTAGAACCTGCATAACTGGCCTGGGAGATA...</td>\n",
              "    </tr>\n",
              "  </tbody>\n",
              "</table>\n",
              "</div>\n",
              "      <button class=\"colab-df-convert\" onclick=\"convertToInteractive('df-5f27af78-0646-422b-bfa6-a35cb148476f')\"\n",
              "              title=\"Convert this dataframe to an interactive table.\"\n",
              "              style=\"display:none;\">\n",
              "        \n",
              "  <svg xmlns=\"http://www.w3.org/2000/svg\" height=\"24px\"viewBox=\"0 0 24 24\"\n",
              "       width=\"24px\">\n",
              "    <path d=\"M0 0h24v24H0V0z\" fill=\"none\"/>\n",
              "    <path d=\"M18.56 5.44l.94 2.06.94-2.06 2.06-.94-2.06-.94-.94-2.06-.94 2.06-2.06.94zm-11 1L8.5 8.5l.94-2.06 2.06-.94-2.06-.94L8.5 2.5l-.94 2.06-2.06.94zm10 10l.94 2.06.94-2.06 2.06-.94-2.06-.94-.94-2.06-.94 2.06-2.06.94z\"/><path d=\"M17.41 7.96l-1.37-1.37c-.4-.4-.92-.59-1.43-.59-.52 0-1.04.2-1.43.59L10.3 9.45l-7.72 7.72c-.78.78-.78 2.05 0 2.83L4 21.41c.39.39.9.59 1.41.59.51 0 1.02-.2 1.41-.59l7.78-7.78 2.81-2.81c.8-.78.8-2.07 0-2.86zM5.41 20L4 18.59l7.72-7.72 1.47 1.35L5.41 20z\"/>\n",
              "  </svg>\n",
              "      </button>\n",
              "      \n",
              "  <style>\n",
              "    .colab-df-container {\n",
              "      display:flex;\n",
              "      flex-wrap:wrap;\n",
              "      gap: 12px;\n",
              "    }\n",
              "\n",
              "    .colab-df-convert {\n",
              "      background-color: #E8F0FE;\n",
              "      border: none;\n",
              "      border-radius: 50%;\n",
              "      cursor: pointer;\n",
              "      display: none;\n",
              "      fill: #1967D2;\n",
              "      height: 32px;\n",
              "      padding: 0 0 0 0;\n",
              "      width: 32px;\n",
              "    }\n",
              "\n",
              "    .colab-df-convert:hover {\n",
              "      background-color: #E2EBFA;\n",
              "      box-shadow: 0px 1px 2px rgba(60, 64, 67, 0.3), 0px 1px 3px 1px rgba(60, 64, 67, 0.15);\n",
              "      fill: #174EA6;\n",
              "    }\n",
              "\n",
              "    [theme=dark] .colab-df-convert {\n",
              "      background-color: #3B4455;\n",
              "      fill: #D2E3FC;\n",
              "    }\n",
              "\n",
              "    [theme=dark] .colab-df-convert:hover {\n",
              "      background-color: #434B5C;\n",
              "      box-shadow: 0px 1px 3px 1px rgba(0, 0, 0, 0.15);\n",
              "      filter: drop-shadow(0px 1px 2px rgba(0, 0, 0, 0.3));\n",
              "      fill: #FFFFFF;\n",
              "    }\n",
              "  </style>\n",
              "\n",
              "      <script>\n",
              "        const buttonEl =\n",
              "          document.querySelector('#df-5f27af78-0646-422b-bfa6-a35cb148476f button.colab-df-convert');\n",
              "        buttonEl.style.display =\n",
              "          google.colab.kernel.accessAllowed ? 'block' : 'none';\n",
              "\n",
              "        async function convertToInteractive(key) {\n",
              "          const element = document.querySelector('#df-5f27af78-0646-422b-bfa6-a35cb148476f');\n",
              "          const dataTable =\n",
              "            await google.colab.kernel.invokeFunction('convertToInteractive',\n",
              "                                                     [key], {});\n",
              "          if (!dataTable) return;\n",
              "\n",
              "          const docLinkHtml = 'Like what you see? Visit the ' +\n",
              "            '<a target=\"_blank\" href=https://colab.research.google.com/notebooks/data_table.ipynb>data table notebook</a>'\n",
              "            + ' to learn more about interactive tables.';\n",
              "          element.innerHTML = '';\n",
              "          dataTable['output_type'] = 'display_data';\n",
              "          await google.colab.output.renderOutput(dataTable, element);\n",
              "          const docLink = document.createElement('div');\n",
              "          docLink.innerHTML = docLinkHtml;\n",
              "          element.appendChild(docLink);\n",
              "        }\n",
              "      </script>\n",
              "    </div>\n",
              "  </div>\n",
              "  "
            ]
          },
          "metadata": {},
          "execution_count": 3
        }
      ]
    },
    {
      "cell_type": "code",
      "source": [
        "from sklearn.preprocessing import LabelEncoder, OneHotEncoder\n",
        "\n",
        "# The LabelEncoder encodes a sequence of bases as a sequence of integers.\n",
        "integer_encoder = LabelEncoder()  \n",
        "# The OneHotEncoder converts an array of integers to a sparse matrix where \n",
        "# each row corresponds to one possible value of each feature.\n",
        "one_hot_encoder = OneHotEncoder(categories='auto')   \n",
        "input_features = []\n",
        "\n",
        "for sequence in sequences:\n",
        "  #print(sequence)\n",
        "  integer_encoded = integer_encoder.fit_transform(list(sequence))\n",
        "  #print(integer_encoded)\n",
        "  # Below converts to a 2D array with one column and as many rows as needed.\n",
        "  integer_encoded = np.array(integer_encoded).reshape(-1, 1)\n",
        "  #print(integer_encoded)\n",
        "  one_hot_encoded = one_hot_encoder.fit_transform(integer_encoded)\n",
        "  #print(one_hot_encoded)\n",
        "  input_features.append(one_hot_encoded.toarray())\n",
        "\n",
        "np.set_printoptions(threshold=40)\n",
        "input_features = np.stack(input_features)\n",
        "print(\"Example sequence\\n-----------------------\")\n",
        "print('DNA Sequence #1:\\n',sequences[0][:10],'...',sequences[0][-10:])\n",
        "# The transposed output will have one row for each DNA letter\n",
        "print('One hot encoding of Sequence #1:\\n',input_features[0].T)\n",
        "input_features.shape"
      ],
      "metadata": {
        "colab": {
          "base_uri": "https://localhost:8080/"
        },
        "id": "5xHwdGF6iTCB",
        "outputId": "c8c6b636-043c-4940-f2bb-cacc828a88e3"
      },
      "execution_count": null,
      "outputs": [
        {
          "output_type": "stream",
          "name": "stdout",
          "text": [
            "Example sequence\n",
            "-----------------------\n",
            "DNA Sequence #1:\n",
            " CCGAGGGCTA ... CGCGGACACC\n",
            "One hot encoding of Sequence #1:\n",
            " [[0. 0. 0. ... 1. 0. 0.]\n",
            " [1. 1. 0. ... 0. 1. 1.]\n",
            " [0. 0. 1. ... 0. 0. 0.]\n",
            " [0. 0. 0. ... 0. 0. 0.]]\n"
          ]
        },
        {
          "output_type": "execute_result",
          "data": {
            "text/plain": [
              "(2000, 50, 4)"
            ]
          },
          "metadata": {},
          "execution_count": 4
        }
      ]
    },
    {
      "cell_type": "code",
      "source": [
        "LABELS_URL = 'https://raw.githubusercontent.com/abidlabs/deep-learning-genomics-primer/master/labels.txt'\n",
        "\n",
        "labels = requests.get(LABELS_URL).text.split('\\n')\n",
        "labels = list(filter(None, labels))  # removes empty sequences\n",
        "\n",
        "#one_hot_encoder = OneHotEncoder(categories='auto')\n",
        "input_labels = np.array(labels)\n",
        "#input_labels = one_hot_encoder.fit_transform(labels).toarray()\n",
        "input_labels.shape\n",
        "#print('Labels:\\n',labels.T)\n",
        "#print('One-hot encoded labels:\\n',input_labels.T)"
      ],
      "metadata": {
        "colab": {
          "base_uri": "https://localhost:8080/"
        },
        "id": "LP1ZTaz2iVkT",
        "outputId": "0d5cd3b7-733f-4d6e-d96b-3a9ee7b1054e"
      },
      "execution_count": null,
      "outputs": [
        {
          "output_type": "execute_result",
          "data": {
            "text/plain": [
              "(2000,)"
            ]
          },
          "metadata": {},
          "execution_count": 5
        }
      ]
    },
    {
      "cell_type": "code",
      "source": [
        "train_x, val_x, train_y, val_y = train_test_split(input_features, input_labels, test_size = 0.25, random_state=42)\n",
        "(train_x.shape, train_y.shape), (val_x.shape, val_y.shape)"
      ],
      "metadata": {
        "colab": {
          "base_uri": "https://localhost:8080/"
        },
        "id": "rpEdaS7Qzs1a",
        "outputId": "5337a0a8-81f7-48c9-dcaf-132901040d1c"
      },
      "execution_count": null,
      "outputs": [
        {
          "output_type": "execute_result",
          "data": {
            "text/plain": [
              "(((1500, 50, 4), (1500,)), ((500, 50, 4), (500,)))"
            ]
          },
          "metadata": {},
          "execution_count": 6
        }
      ]
    },
    {
      "cell_type": "code",
      "source": [
        "train_x = train_x.reshape(1500, 1, 50, 4)\n",
        "train_x  = torch.from_numpy(train_x)\n",
        "#train_x = train_x.to(torch.int64)\n",
        "\n",
        "\n",
        "# converting the target into torch format\n",
        "train_y = train_y.astype(int);\n",
        "train_y = torch.from_numpy(train_y)\n",
        "#train_y = train_y.to(torch.int64)\n",
        "\n",
        "#train_dat = torch.utils.data.TensorDataset(torch.tensor(train_x).to(device), torch.tensor(train_y).to(device))\n",
        "\n",
        "# shape of training data\n",
        "train_x.dtype, train_x.shape, train_y.shape"
      ],
      "metadata": {
        "colab": {
          "base_uri": "https://localhost:8080/"
        },
        "id": "a5F7rqPr0MEC",
        "outputId": "583b542e-d26d-49a0-aad9-2b41fbdb9e7d"
      },
      "execution_count": null,
      "outputs": [
        {
          "output_type": "execute_result",
          "data": {
            "text/plain": [
              "(torch.float64, torch.Size([1500, 1, 50, 4]), torch.Size([1500]))"
            ]
          },
          "metadata": {},
          "execution_count": 7
        }
      ]
    },
    {
      "cell_type": "code",
      "source": [
        "train_x = train_x.to(torch.float32)\n",
        "(train_x.dtype, train_y.dtype)\n"
      ],
      "metadata": {
        "colab": {
          "base_uri": "https://localhost:8080/"
        },
        "id": "5h4fkTE3EUEW",
        "outputId": "049396bc-22da-4a79-fb68-cefd53ac162d"
      },
      "execution_count": null,
      "outputs": [
        {
          "output_type": "execute_result",
          "data": {
            "text/plain": [
              "(torch.float32, torch.int64)"
            ]
          },
          "metadata": {},
          "execution_count": 8
        }
      ]
    },
    {
      "cell_type": "code",
      "source": [
        "val_x = val_x.reshape(500, 1, 50, 4)\n",
        "val_x  = torch.from_numpy(val_x)\n",
        "val_x = val_x.to(torch.int64)\n",
        "\n",
        "# converting the target into torch format\n",
        "val_y = val_y.astype(int);\n",
        "val_y = torch.from_numpy(val_y)\n",
        "val_y = val_y.to(torch.int64)\n",
        "\n",
        "# shape of validation data\n",
        "val_x.dtype, val_y.dtype, val_x.shape, val_y.shape"
      ],
      "metadata": {
        "colab": {
          "base_uri": "https://localhost:8080/"
        },
        "id": "DZddUaG4oN8J",
        "outputId": "9c2f03d9-8007-4f0d-e5a5-ccc11b736d44"
      },
      "execution_count": null,
      "outputs": [
        {
          "output_type": "execute_result",
          "data": {
            "text/plain": [
              "(torch.int64, torch.int64, torch.Size([500, 1, 50, 4]), torch.Size([500]))"
            ]
          },
          "metadata": {},
          "execution_count": 9
        }
      ]
    },
    {
      "cell_type": "code",
      "source": [
        "val_x = val_x.to(torch.float32)\n",
        "val_x.dtype, val_y.dtype, (train_x.dtype, train_y.dtype)"
      ],
      "metadata": {
        "colab": {
          "base_uri": "https://localhost:8080/"
        },
        "id": "Tme6P3TEQg0C",
        "outputId": "21c140fe-fc25-41f0-e15d-afdb7e9982a2"
      },
      "execution_count": null,
      "outputs": [
        {
          "output_type": "execute_result",
          "data": {
            "text/plain": [
              "(torch.float32, torch.int64, (torch.float32, torch.int64))"
            ]
          },
          "metadata": {},
          "execution_count": 10
        }
      ]
    },
    {
      "cell_type": "code",
      "source": [
        "class Net(Module):   \n",
        "    def __init__(self):\n",
        "        super(Net, self).__init__()\n",
        "\n",
        "        self.cnn_layers = Sequential(\n",
        "            # Defining a 2D convolution layer\n",
        "            Conv2d(1, 4, kernel_size=3, stride=1, padding=1),\n",
        "            BatchNorm2d(4),\n",
        "            MaxPool2d(kernel_size=2, stride=2),\n",
        "            ReLU(inplace=True),\n",
        "            # Defining another 2D convolution layer\n",
        "            #torch.nn.Dropout(p=.2),\n",
        "            Conv2d(4, 4, kernel_size=3, stride=1, padding=1),\n",
        "            BatchNorm2d(4),\n",
        "            #MaxPool2d(kernel_size=2, stride=2),\n",
        "            ReLU(inplace=True),\n",
        "        )\n",
        "\n",
        "        self.linear_layers = Sequential(\n",
        "            Linear(4 * 25 * 2, 10)\n",
        "        )\n",
        "\n",
        "    # Defining the forward pass    \n",
        "    def forward(self, x):\n",
        "        x = self.cnn_layers(x)\n",
        "        x = x.view(x.size(0), -1)\n",
        "        x = self.linear_layers(x)\n",
        "        return x"
      ],
      "metadata": {
        "id": "mkvVzpYH1CGB"
      },
      "execution_count": null,
      "outputs": []
    },
    {
      "cell_type": "code",
      "source": [
        "model = Net()\n",
        "# defining the optimizer\n",
        "optimizer = Adam(model.parameters(), lr=0.002)\n",
        "# defining the loss function\n",
        "criterion = CrossEntropyLoss()\n",
        "# checking if GPU is available\n",
        "if torch.cuda.is_available():\n",
        "    model = model.cuda()\n",
        "    criterion = criterion.cuda()\n",
        "    \n",
        "print(model)"
      ],
      "metadata": {
        "colab": {
          "base_uri": "https://localhost:8080/"
        },
        "id": "3s4sYHl41sTD",
        "outputId": "4e932812-bce1-46df-a707-1f6f89cdc278"
      },
      "execution_count": null,
      "outputs": [
        {
          "output_type": "stream",
          "name": "stdout",
          "text": [
            "Net(\n",
            "  (cnn_layers): Sequential(\n",
            "    (0): Conv2d(1, 4, kernel_size=(3, 3), stride=(1, 1), padding=(1, 1))\n",
            "    (1): BatchNorm2d(4, eps=1e-05, momentum=0.1, affine=True, track_running_stats=True)\n",
            "    (2): MaxPool2d(kernel_size=2, stride=2, padding=0, dilation=1, ceil_mode=False)\n",
            "    (3): ReLU(inplace=True)\n",
            "    (4): Conv2d(4, 4, kernel_size=(3, 3), stride=(1, 1), padding=(1, 1))\n",
            "    (5): BatchNorm2d(4, eps=1e-05, momentum=0.1, affine=True, track_running_stats=True)\n",
            "    (6): ReLU(inplace=True)\n",
            "  )\n",
            "  (linear_layers): Sequential(\n",
            "    (0): Linear(in_features=200, out_features=10, bias=True)\n",
            "  )\n",
            ")\n"
          ]
        }
      ]
    },
    {
      "cell_type": "code",
      "source": [
        "def train(epoch):\n",
        "    model.train()\n",
        "    tr_loss = 0\n",
        "    # getting the training set\n",
        "    x_train, y_train = Variable(train_x), Variable(train_y)\n",
        "    # getting the validation set\n",
        "    x_val, y_val = Variable(val_x), Variable(val_y)\n",
        "    # converting the data into GPU format\n",
        "    if torch.cuda.is_available():\n",
        "        x_train = x_train.cuda()\n",
        "        y_train = y_train.cuda()\n",
        "        x_val = x_val.cuda()\n",
        "        y_val = y_val.cuda()\n",
        "\n",
        "    # clearing the Gradients of the model parameters\n",
        "    optimizer.zero_grad()\n",
        "    \n",
        "    # prediction for training and validation set\n",
        "    output_train = model(x_train)\n",
        "    output_val = model(x_val)\n",
        "\n",
        "    # computing the training and validation loss\n",
        "    loss_train = criterion(output_train, y_train)\n",
        "    loss_val = criterion(output_val, y_val)\n",
        "    train_losses.append(loss_train)\n",
        "    val_losses.append(loss_val)\n",
        "\n",
        "    # computing the updated weights of all the model parameters\n",
        "    loss_train.backward()\n",
        "    optimizer.step()\n",
        "    tr_loss = loss_train.item()\n",
        "    if epoch%2 == 0:\n",
        "        # printing the validation loss\n",
        "        print('Epoch : ',epoch+1, '\\t', 'loss :', loss_val )"
      ],
      "metadata": {
        "id": "kZdL0KBB1zAi"
      },
      "execution_count": null,
      "outputs": []
    },
    {
      "cell_type": "code",
      "source": [
        "n_epochs = 400\n",
        "# empty list to store training losses\n",
        "train_losses = []\n",
        "# empty list to store validation losses\n",
        "val_losses = []\n",
        "# training the model\n",
        "for epoch in range(n_epochs):\n",
        "    train(epoch)"
      ],
      "metadata": {
        "id": "eAPpGyRz15PL"
      },
      "execution_count": null,
      "outputs": []
    },
    {
      "cell_type": "code",
      "source": [
        "# prediction for training set\n",
        "with torch.no_grad():\n",
        "    output = model(train_x.cuda())\n",
        "    \n",
        "softmax = torch.exp(output).cpu()\n",
        "prob = list(softmax.numpy())\n",
        "predictions = np.argmax(prob, axis=1)\n",
        "\n",
        "# accuracy on training set\n",
        "accuracy_score(train_y, predictions)\n"
      ],
      "metadata": {
        "colab": {
          "base_uri": "https://localhost:8080/"
        },
        "id": "Z1wjkGLc19QC",
        "outputId": "761cf5ca-4fe5-461e-8a30-295f457f4812"
      },
      "execution_count": null,
      "outputs": [
        {
          "output_type": "execute_result",
          "data": {
            "text/plain": [
              "(1500,)"
            ]
          },
          "metadata": {},
          "execution_count": 20
        }
      ]
    },
    {
      "cell_type": "code",
      "source": [
        "# prediction for validation set\n",
        "with torch.no_grad():\n",
        "    output = model(val_x.cuda())\n",
        "\n",
        "softmax = torch.exp(output).cpu()\n",
        "prob = list(softmax.numpy())\n",
        "predictions = np.argmax(prob, axis=1)\n",
        "\n",
        "# accuracy on validation set\n",
        "accuracy_score(val_y, predictions)\n",
        "\n",
        "from sklearn import metrics\n",
        "confusion_matrix = metrics.confusion_matrix(val_y, predictions,normalize='true')\n",
        "\n",
        "cm_display = metrics.ConfusionMatrixDisplay(confusion_matrix = confusion_matrix, display_labels = [0, 1])\n",
        "\n",
        "cm_display.plot()\n",
        "plt.title('Normalized confusion matrix')\n",
        "plt.show()"
      ],
      "metadata": {
        "colab": {
          "base_uri": "https://localhost:8080/",
          "height": 295
        },
        "id": "oCxN7RDyQ9VL",
        "outputId": "0a23af99-6204-4048-ae4b-fad5f069a20e"
      },
      "execution_count": null,
      "outputs": [
        {
          "output_type": "display_data",
          "data": {
            "text/plain": [
              "<Figure size 432x288 with 2 Axes>"
            ],
            "image/png": "[encoded data removed]"
          },
          "metadata": {
            "needs_background": "light"
          }
        }
      ]
    },
    {
      "cell_type": "code",
      "source": [
        "test=[]\n",
        "for i in range(len(train_losses)):\n",
        "  test_=train_losses[i].data\n",
        "  test.append(test_)\n",
        "val=[]\n",
        "for i in range(len(val_losses)):\n",
        "  val_=val_losses[i].data\n",
        "  val.append(val_)\n",
        "print(val)\n",
        "\n",
        "data_test=[]\n",
        "for i in range(len(test)):\n",
        "  data_test_=test[i].to(\"cpu\").numpy()\n",
        "  data_test.append(data_test_)\n",
        "\n",
        "data_val=[]\n",
        "for i in range(len(val)):\n",
        "  data_val_=val[i].to(\"cpu\").numpy()\n",
        "  data_val.append(data_val_)\n",
        "print(data_val)"
      ],
      "metadata": {
        "colab": {
          "base_uri": "https://localhost:8080/"
        },
        "id": "BzNn_ZOYYaVv",
        "outputId": "cf6b483f-d27c-470b-a572-1c38d45b7598"
      },
      "execution_count": null,
      "outputs": [
        {
          "output_type": "stream",
          "name": "stdout",
          "text": [
            "[tensor(2.3120, device='cuda:0'), tensor(2.0426, device='cuda:0'), tensor(1.7962, device='cuda:0'), tensor(1.5749, device='cuda:0'), tensor(1.3829, device='cuda:0'), tensor(1.2219, device='cuda:0'), tensor(1.0919, device='cuda:0'), tensor(0.9909, device='cuda:0'), tensor(0.9150, device='cuda:0'), tensor(0.8591, device='cuda:0'), tensor(0.8185, device='cuda:0'), tensor(0.7893, device='cuda:0'), tensor(0.7683, device='cuda:0'), tensor(0.7530, device='cuda:0'), tensor(0.7419, device='cuda:0'), tensor(0.7337, device='cuda:0'), tensor(0.7276, device='cuda:0'), tensor(0.7229, device='cuda:0'), tensor(0.7193, device='cuda:0'), tensor(0.7163, device='cuda:0'), tensor(0.7137, device='cuda:0'), tensor(0.7116, device='cuda:0'), tensor(0.7097, device='cuda:0'), tensor(0.7081, device='cuda:0'), tensor(0.7067, device='cuda:0'), tensor(0.7055, device='cuda:0'), tensor(0.7045, device='cuda:0'), tensor(0.7036, device='cuda:0'), tensor(0.7029, device='cuda:0'), tensor(0.7023, device='cuda:0'), tensor(0.7019, device='cuda:0'), tensor(0.7015, device='cuda:0'), tensor(0.7012, device='cuda:0'), tensor(0.7009, device='cuda:0'), tensor(0.7007, device='cuda:0'), tensor(0.7006, device='cuda:0'), tensor(0.7004, device='cuda:0'), tensor(0.7003, device='cuda:0'), tensor(0.7001, device='cuda:0'), tensor(0.6999, device='cuda:0'), tensor(0.6997, device='cuda:0'), tensor(0.6994, device='cuda:0'), tensor(0.6992, device='cuda:0'), tensor(0.6989, device='cuda:0'), tensor(0.6987, device='cuda:0'), tensor(0.6985, device='cuda:0'), tensor(0.6983, device='cuda:0'), tensor(0.6981, device='cuda:0'), tensor(0.6980, device='cuda:0'), tensor(0.6978, device='cuda:0'), tensor(0.6977, device='cuda:0'), tensor(0.6975, device='cuda:0'), tensor(0.6974, device='cuda:0'), tensor(0.6973, device='cuda:0'), tensor(0.6971, device='cuda:0'), tensor(0.6969, device='cuda:0'), tensor(0.6967, device='cuda:0'), tensor(0.6964, device='cuda:0'), tensor(0.6961, device='cuda:0'), tensor(0.6958, device='cuda:0'), tensor(0.6954, device='cuda:0'), tensor(0.6951, device='cuda:0'), tensor(0.6947, device='cuda:0'), tensor(0.6943, device='cuda:0'), tensor(0.6940, device='cuda:0'), tensor(0.6936, device='cuda:0'), tensor(0.6932, device='cuda:0'), tensor(0.6929, device='cuda:0'), tensor(0.6925, device='cuda:0'), tensor(0.6920, device='cuda:0'), tensor(0.6916, device='cuda:0'), tensor(0.6911, device='cuda:0'), tensor(0.6905, device='cuda:0'), tensor(0.6898, device='cuda:0'), tensor(0.6891, device='cuda:0'), tensor(0.6884, device='cuda:0'), tensor(0.6875, device='cuda:0'), tensor(0.6867, device='cuda:0'), tensor(0.6857, device='cuda:0'), tensor(0.6847, device='cuda:0'), tensor(0.6836, device='cuda:0'), tensor(0.6825, device='cuda:0'), tensor(0.6814, device='cuda:0'), tensor(0.6802, device='cuda:0'), tensor(0.6789, device='cuda:0'), tensor(0.6776, device='cuda:0'), tensor(0.6761, device='cuda:0'), tensor(0.6746, device='cuda:0'), tensor(0.6731, device='cuda:0'), tensor(0.6715, device='cuda:0'), tensor(0.6698, device='cuda:0'), tensor(0.6680, device='cuda:0'), tensor(0.6660, device='cuda:0'), tensor(0.6641, device='cuda:0'), tensor(0.6621, device='cuda:0'), tensor(0.6601, device='cuda:0'), tensor(0.6580, device='cuda:0'), tensor(0.6559, device='cuda:0'), tensor(0.6540, device='cuda:0'), tensor(0.6520, device='cuda:0'), tensor(0.6498, device='cuda:0'), tensor(0.6475, device='cuda:0'), tensor(0.6451, device='cuda:0'), tensor(0.6427, device='cuda:0'), tensor(0.6401, device='cuda:0'), tensor(0.6375, device='cuda:0'), tensor(0.6349, device='cuda:0'), tensor(0.6323, device='cuda:0'), tensor(0.6296, device='cuda:0'), tensor(0.6268, device='cuda:0'), tensor(0.6239, device='cuda:0'), tensor(0.6209, device='cuda:0'), tensor(0.6177, device='cuda:0'), tensor(0.6145, device='cuda:0'), tensor(0.6112, device='cuda:0'), tensor(0.6079, device='cuda:0'), tensor(0.6047, device='cuda:0'), tensor(0.6014, device='cuda:0'), tensor(0.5980, device='cuda:0'), tensor(0.5945, device='cuda:0'), tensor(0.5909, device='cuda:0'), tensor(0.5872, device='cuda:0'), tensor(0.5836, device='cuda:0'), tensor(0.5796, device='cuda:0'), tensor(0.5753, device='cuda:0'), tensor(0.5706, device='cuda:0'), tensor(0.5660, device='cuda:0'), tensor(0.5613, device='cuda:0'), tensor(0.5567, device='cuda:0'), tensor(0.5519, device='cuda:0'), tensor(0.5467, device='cuda:0'), tensor(0.5412, device='cuda:0'), tensor(0.5356, device='cuda:0'), tensor(0.5300, device='cuda:0'), tensor(0.5244, device='cuda:0'), tensor(0.5189, device='cuda:0'), tensor(0.5133, device='cuda:0'), tensor(0.5075, device='cuda:0'), tensor(0.5013, device='cuda:0'), tensor(0.4950, device='cuda:0'), tensor(0.4885, device='cuda:0'), tensor(0.4822, device='cuda:0'), tensor(0.4761, device='cuda:0'), tensor(0.4697, device='cuda:0'), tensor(0.4633, device='cuda:0'), tensor(0.4566, device='cuda:0'), tensor(0.4499, device='cuda:0'), tensor(0.4432, device='cuda:0'), tensor(0.4364, device='cuda:0'), tensor(0.4297, device='cuda:0'), tensor(0.4231, device='cuda:0'), tensor(0.4164, device='cuda:0'), tensor(0.4100, device='cuda:0'), tensor(0.4034, device='cuda:0'), tensor(0.3971, device='cuda:0'), tensor(0.3905, device='cuda:0'), tensor(0.3838, device='cuda:0'), tensor(0.3776, device='cuda:0'), tensor(0.3710, device='cuda:0'), tensor(0.3643, device='cuda:0'), tensor(0.3573, device='cuda:0'), tensor(0.3499, device='cuda:0'), tensor(0.3424, device='cuda:0'), tensor(0.3351, device='cuda:0'), tensor(0.3278, device='cuda:0'), tensor(0.3203, device='cuda:0'), tensor(0.3133, device='cuda:0'), tensor(0.3063, device='cuda:0'), tensor(0.2991, device='cuda:0'), tensor(0.2918, device='cuda:0'), tensor(0.2843, device='cuda:0'), tensor(0.2767, device='cuda:0'), tensor(0.2695, device='cuda:0'), tensor(0.2627, device='cuda:0'), tensor(0.2556, device='cuda:0'), tensor(0.2488, device='cuda:0'), tensor(0.2427, device='cuda:0'), tensor(0.2367, device='cuda:0'), tensor(0.2309, device='cuda:0'), tensor(0.2251, device='cuda:0'), tensor(0.2193, device='cuda:0'), tensor(0.2142, device='cuda:0'), tensor(0.2092, device='cuda:0'), tensor(0.2045, device='cuda:0'), tensor(0.1996, device='cuda:0'), tensor(0.1953, device='cuda:0'), tensor(0.1914, device='cuda:0'), tensor(0.1876, device='cuda:0'), tensor(0.1839, device='cuda:0'), tensor(0.1802, device='cuda:0'), tensor(0.1768, device='cuda:0'), tensor(0.1735, device='cuda:0'), tensor(0.1704, device='cuda:0'), tensor(0.1672, device='cuda:0'), tensor(0.1641, device='cuda:0'), tensor(0.1613, device='cuda:0'), tensor(0.1588, device='cuda:0'), tensor(0.1563, device='cuda:0'), tensor(0.1536, device='cuda:0'), tensor(0.1512, device='cuda:0'), tensor(0.1490, device='cuda:0'), tensor(0.1469, device='cuda:0'), tensor(0.1444, device='cuda:0'), tensor(0.1421, device='cuda:0'), tensor(0.1402, device='cuda:0'), tensor(0.1383, device='cuda:0'), tensor(0.1365, device='cuda:0'), tensor(0.1347, device='cuda:0'), tensor(0.1328, device='cuda:0'), tensor(0.1309, device='cuda:0'), tensor(0.1291, device='cuda:0'), tensor(0.1274, device='cuda:0'), tensor(0.1257, device='cuda:0'), tensor(0.1240, device='cuda:0'), tensor(0.1224, device='cuda:0'), tensor(0.1208, device='cuda:0'), tensor(0.1192, device='cuda:0'), tensor(0.1175, device='cuda:0'), tensor(0.1160, device='cuda:0'), tensor(0.1147, device='cuda:0'), tensor(0.1132, device='cuda:0'), tensor(0.1119, device='cuda:0'), tensor(0.1106, device='cuda:0'), tensor(0.1090, device='cuda:0'), tensor(0.1077, device='cuda:0'), tensor(0.1066, device='cuda:0'), tensor(0.1053, device='cuda:0'), tensor(0.1038, device='cuda:0'), tensor(0.1024, device='cuda:0'), tensor(0.1012, device='cuda:0'), tensor(0.0998, device='cuda:0'), tensor(0.0984, device='cuda:0'), tensor(0.0972, device='cuda:0'), tensor(0.0960, device='cuda:0'), tensor(0.0949, device='cuda:0'), tensor(0.0936, device='cuda:0'), tensor(0.0926, device='cuda:0'), tensor(0.0914, device='cuda:0'), tensor(0.0903, device='cuda:0'), tensor(0.0892, device='cuda:0'), tensor(0.0880, device='cuda:0'), tensor(0.0867, device='cuda:0'), tensor(0.0857, device='cuda:0'), tensor(0.0848, device='cuda:0'), tensor(0.0837, device='cuda:0'), tensor(0.0824, device='cuda:0'), tensor(0.0813, device='cuda:0'), tensor(0.0803, device='cuda:0'), tensor(0.0793, device='cuda:0'), tensor(0.0784, device='cuda:0'), tensor(0.0775, device='cuda:0'), tensor(0.0764, device='cuda:0'), tensor(0.0754, device='cuda:0'), tensor(0.0748, device='cuda:0'), tensor(0.0741, device='cuda:0'), tensor(0.0732, device='cuda:0'), tensor(0.0725, device='cuda:0'), tensor(0.0717, device='cuda:0'), tensor(0.0711, device='cuda:0'), tensor(0.0702, device='cuda:0'), tensor(0.0697, device='cuda:0'), tensor(0.0692, device='cuda:0'), tensor(0.0681, device='cuda:0'), tensor(0.0674, device='cuda:0'), tensor(0.0666, device='cuda:0'), tensor(0.0661, device='cuda:0'), tensor(0.0654, device='cuda:0'), tensor(0.0646, device='cuda:0'), tensor(0.0643, device='cuda:0'), tensor(0.0635, device='cuda:0'), tensor(0.0626, device='cuda:0'), tensor(0.0625, device='cuda:0'), tensor(0.0612, device='cuda:0'), tensor(0.0606, device='cuda:0'), tensor(0.0605, device='cuda:0'), tensor(0.0596, device='cuda:0'), tensor(0.0591, device='cuda:0'), tensor(0.0590, device='cuda:0'), tensor(0.0582, device='cuda:0'), tensor(0.0577, device='cuda:0'), tensor(0.0577, device='cuda:0'), tensor(0.0567, device='cuda:0'), tensor(0.0565, device='cuda:0'), tensor(0.0560, device='cuda:0'), tensor(0.0554, device='cuda:0'), tensor(0.0551, device='cuda:0'), tensor(0.0546, device='cuda:0'), tensor(0.0541, device='cuda:0'), tensor(0.0541, device='cuda:0'), tensor(0.0533, device='cuda:0'), tensor(0.0530, device='cuda:0'), tensor(0.0526, device='cuda:0'), tensor(0.0520, device='cuda:0'), tensor(0.0518, device='cuda:0'), tensor(0.0513, device='cuda:0'), tensor(0.0510, device='cuda:0'), tensor(0.0507, device='cuda:0'), tensor(0.0503, device='cuda:0'), tensor(0.0498, device='cuda:0'), tensor(0.0493, device='cuda:0'), tensor(0.0490, device='cuda:0'), tensor(0.0487, device='cuda:0'), tensor(0.0484, device='cuda:0'), tensor(0.0480, device='cuda:0'), tensor(0.0479, device='cuda:0'), tensor(0.0475, device='cuda:0'), tensor(0.0471, device='cuda:0'), tensor(0.0469, device='cuda:0'), tensor(0.0464, device='cuda:0'), tensor(0.0463, device='cuda:0'), tensor(0.0458, device='cuda:0'), tensor(0.0456, device='cuda:0'), tensor(0.0454, device='cuda:0'), tensor(0.0450, device='cuda:0'), tensor(0.0448, device='cuda:0'), tensor(0.0446, device='cuda:0'), tensor(0.0442, device='cuda:0'), tensor(0.0443, device='cuda:0'), tensor(0.0438, device='cuda:0'), tensor(0.0435, device='cuda:0'), tensor(0.0436, device='cuda:0'), tensor(0.0431, device='cuda:0'), tensor(0.0428, device='cuda:0'), tensor(0.0430, device='cuda:0'), tensor(0.0425, device='cuda:0'), tensor(0.0423, device='cuda:0'), tensor(0.0426, device='cuda:0'), tensor(0.0419, device='cuda:0'), tensor(0.0416, device='cuda:0'), tensor(0.0418, device='cuda:0'), tensor(0.0413, device='cuda:0'), tensor(0.0410, device='cuda:0'), tensor(0.0414, device='cuda:0'), tensor(0.0408, device='cuda:0'), tensor(0.0405, device='cuda:0'), tensor(0.0406, device='cuda:0'), tensor(0.0405, device='cuda:0'), tensor(0.0400, device='cuda:0'), tensor(0.0402, device='cuda:0'), tensor(0.0399, device='cuda:0'), tensor(0.0395, device='cuda:0'), tensor(0.0397, device='cuda:0'), tensor(0.0394, device='cuda:0'), tensor(0.0390, device='cuda:0'), tensor(0.0392, device='cuda:0'), tensor(0.0389, device='cuda:0'), tensor(0.0385, device='cuda:0'), tensor(0.0385, device='cuda:0'), tensor(0.0385, device='cuda:0'), tensor(0.0381, device='cuda:0'), tensor(0.0381, device='cuda:0'), tensor(0.0381, device='cuda:0'), tensor(0.0377, device='cuda:0'), tensor(0.0377, device='cuda:0'), tensor(0.0376, device='cuda:0'), tensor(0.0373, device='cuda:0'), tensor(0.0372, device='cuda:0'), tensor(0.0372, device='cuda:0'), tensor(0.0369, device='cuda:0'), tensor(0.0369, device='cuda:0'), tensor(0.0368, device='cuda:0'), tensor(0.0366, device='cuda:0'), tensor(0.0366, device='cuda:0'), tensor(0.0365, device='cuda:0'), tensor(0.0363, device='cuda:0'), tensor(0.0362, device='cuda:0'), tensor(0.0361, device='cuda:0'), tensor(0.0359, device='cuda:0'), tensor(0.0363, device='cuda:0'), tensor(0.0357, device='cuda:0'), tensor(0.0356, device='cuda:0'), tensor(0.0357, device='cuda:0'), tensor(0.0356, device='cuda:0'), tensor(0.0353, device='cuda:0'), tensor(0.0355, device='cuda:0'), tensor(0.0353, device='cuda:0'), tensor(0.0351, device='cuda:0'), tensor(0.0353, device='cuda:0'), tensor(0.0354, device='cuda:0'), tensor(0.0349, device='cuda:0'), tensor(0.0348, device='cuda:0'), tensor(0.0349, device='cuda:0'), tensor(0.0345, device='cuda:0'), tensor(0.0345, device='cuda:0'), tensor(0.0345, device='cuda:0'), tensor(0.0342, device='cuda:0'), tensor(0.0342, device='cuda:0'), tensor(0.0344, device='cuda:0'), tensor(0.0341, device='cuda:0'), tensor(0.0339, device='cuda:0'), tensor(0.0343, device='cuda:0'), tensor(0.0339, device='cuda:0'), tensor(0.0336, device='cuda:0'), tensor(0.0338, device='cuda:0'), tensor(0.0338, device='cuda:0'), tensor(0.0333, device='cuda:0'), tensor(0.0333, device='cuda:0'), tensor(0.0335, device='cuda:0'), tensor(0.0331, device='cuda:0'), tensor(0.0331, device='cuda:0')]\n",
            "[array(2.311978, dtype=float32), array(2.0425546, dtype=float32), array(1.7961589, dtype=float32), array(1.5748539, dtype=float32), array(1.3828703, dtype=float32), array(1.2219324, dtype=float32), array(1.0918947, dtype=float32), array(0.9909492, dtype=float32), array(0.91495544, dtype=float32), array(0.85905826, dtype=float32), array(0.81847316, dtype=float32), array(0.7892514, dtype=float32), array(0.7682509, dtype=float32), array(0.7530475, dtype=float32), array(0.74192375, dtype=float32), array(0.7337231, dtype=float32), array(0.727603, dtype=float32), array(0.722942, dtype=float32), array(0.71926147, dtype=float32), array(0.7162575, dtype=float32), array(0.71373427, dtype=float32), array(0.7115795, dtype=float32), array(0.70970947, dtype=float32), array(0.7080918, dtype=float32), array(0.7066969, dtype=float32), array(0.7055042, dtype=float32), array(0.7044923, dtype=float32), array(0.703646, dtype=float32), array(0.7029349, dtype=float32), array(0.70234233, dtype=float32), array(0.7018661, dtype=float32), array(0.7014741, dtype=float32), array(0.7011607, dtype=float32), array(0.7009084, dtype=float32), array(0.70071167, dtype=float32), array(0.70055234, dtype=float32), array(0.70040977, dtype=float32), array(0.7002603, dtype=float32), array(0.7000941, dtype=float32), array(0.69990164, dtype=float32), array(0.6996832, dtype=float32), array(0.69944227, dtype=float32), array(0.69919103, dtype=float32), array(0.6989406, dtype=float32), array(0.69870055, dtype=float32), array(0.6984786, dtype=float32), array(0.6982846, dtype=float32), array(0.69811153, dtype=float32), array(0.6979565, dtype=float32), array(0.69781315, dtype=float32), array(0.6976776, dtype=float32), array(0.69754755, dtype=float32), array(0.69741666, dtype=float32), array(0.69727296, dtype=float32), array(0.6971078, dtype=float32), array(0.6969101, dtype=float32), array(0.69667596, dtype=float32), array(0.696412, dtype=float32), array(0.6961161, dtype=float32), array(0.6957864, dtype=float32), array(0.69544053, dtype=float32), array(0.69506824, dtype=float32), array(0.69467604, dtype=float32), array(0.6943229, dtype=float32), array(0.69397885, dtype=float32), array(0.69362354, dtype=float32), array(0.69324255, dtype=float32), array(0.69286466, dtype=float32), array(0.69246984, dtype=float32), array(0.69204, dtype=float32), array(0.6915595, dtype=float32), array(0.69105184, dtype=float32), array(0.6904789, dtype=float32), array(0.6898344, dtype=float32), array(0.6891341, dtype=float32), array(0.68836987, dtype=float32), array(0.6875415, dtype=float32), array(0.6866546, dtype=float32), array(0.6857009, dtype=float32), array(0.6846877, dtype=float32), array(0.6836305, dtype=float32), array(0.68252355, dtype=float32), array(0.6813649, dtype=float32), array(0.6801624, dtype=float32), array(0.6788983, dtype=float32), array(0.6775562, dtype=float32), array(0.6761288, dtype=float32), array(0.674646, dtype=float32), array(0.6730914, dtype=float32), array(0.6715046, dtype=float32), array(0.66980255, dtype=float32), array(0.6679694, dtype=float32), array(0.6659909, dtype=float32), array(0.6640654, dtype=float32), array(0.66210693, dtype=float32), array(0.66012645, dtype=float32), array(0.6580413, dtype=float32), array(0.6558968, dtype=float32), array(0.6539875, dtype=float32), array(0.65195966, dtype=float32), array(0.64980483, dtype=float32), array(0.64752406, dtype=float32), array(0.64513236, dtype=float32), array(0.6426877, dtype=float32), array(0.6401315, dtype=float32), array(0.63754, dtype=float32), array(0.634891, dtype=float32), array(0.6322574, dtype=float32), array(0.6295724, dtype=float32), array(0.6268227, dtype=float32), array(0.6239151, dtype=float32), array(0.62092555, dtype=float32), array(0.61771685, dtype=float32), array(0.614473, dtype=float32), array(0.6111601, dtype=float32), array(0.60793775, dtype=float32), array(0.6047002, dtype=float32), array(0.6013929, dtype=float32), array(0.5980099, dtype=float32), array(0.59448594, dtype=float32), array(0.5908714, dtype=float32), array(0.587226, dtype=float32), array(0.58356464, dtype=float32), array(0.5796398, dtype=float32), array(0.57532066, dtype=float32), array(0.57063025, dtype=float32), array(0.5659886, dtype=float32), array(0.56129766, dtype=float32), array(0.5566888, dtype=float32), array(0.5519027, dtype=float32), array(0.54673254, dtype=float32), array(0.5412387, dtype=float32), array(0.53555405, dtype=float32), array(0.5299586, dtype=float32), array(0.5244166, dtype=float32), array(0.518936, dtype=float32), array(0.51331085, dtype=float32), array(0.5074894, dtype=float32), array(0.5013036, dtype=float32), array(0.49496484, dtype=float32), array(0.48847863, dtype=float32), array(0.48224497, dtype=float32), array(0.4760654, dtype=float32), array(0.46968713, dtype=float32), array(0.46328703, dtype=float32), array(0.45660472, dtype=float32), array(0.44992322, dtype=float32), array(0.44318464, dtype=float32), array(0.4363605, dtype=float32), array(0.42966706, dtype=float32), array(0.423117, dtype=float32), array(0.41643146, dtype=float32), array(0.409978, dtype=float32), array(0.40339497, dtype=float32), array(0.3970802, dtype=float32), array(0.39046115, dtype=float32), array(0.38375327, dtype=float32), array(0.37757367, dtype=float32), array(0.3709945, dtype=float32), array(0.3642835, dtype=float32), array(0.35730758, dtype=float32), array(0.34991112, dtype=float32), array(0.34238252, dtype=float32), array(0.3350571, dtype=float32), array(0.32778257, dtype=float32), array(0.32031038, dtype=float32), array(0.3133156, dtype=float32), array(0.30629802, dtype=float32), array(0.29914597, dtype=float32), array(0.29175618, dtype=float32), array(0.28426012, dtype=float32), array(0.27665016, dtype=float32), array(0.26953065, dtype=float32), array(0.26265022, dtype=float32), array(0.25560874, dtype=float32), array(0.24876663, dtype=float32), array(0.24273217, dtype=float32), array(0.2367354, dtype=float32), array(0.23090401, dtype=float32), array(0.2251001, dtype=float32), array(0.21930632, dtype=float32), array(0.21418205, dtype=float32), array(0.20924236, dtype=float32), array(0.2044511, dtype=float32), array(0.19963817, dtype=float32), array(0.19533032, dtype=float32), array(0.19138145, dtype=float32), array(0.18764213, dtype=float32), array(0.18394592, dtype=float32), array(0.18024202, dtype=float32), array(0.17675667, dtype=float32), array(0.17350143, dtype=float32), array(0.17044196, dtype=float32), array(0.16723196, dtype=float32), array(0.16410094, dtype=float32), array(0.16125947, dtype=float32), array(0.15877691, dtype=float32), array(0.15634294, dtype=float32), array(0.15358105, dtype=float32), array(0.15115221, dtype=float32), array(0.14898987, dtype=float32), array(0.14691328, dtype=float32), array(0.14442328, dtype=float32), array(0.14213055, dtype=float32), array(0.14017288, dtype=float32), array(0.13829605, dtype=float32), array(0.13649155, dtype=float32), array(0.13471857, dtype=float32), array(0.13284087, dtype=float32), array(0.13090695, dtype=float32), array(0.12909791, dtype=float32), array(0.12738177, dtype=float32), array(0.12568039, dtype=float32), array(0.1239824, dtype=float32), array(0.12236313, dtype=float32), array(0.1207723, dtype=float32), array(0.11918483, dtype=float32), array(0.11753339, dtype=float32), array(0.11601217, dtype=float32), array(0.11468757, dtype=float32), array(0.11317455, dtype=float32), array(0.11186686, dtype=float32), array(0.11062668, dtype=float32), array(0.10903545, dtype=float32), array(0.10770981, dtype=float32), array(0.10663248, dtype=float32), array(0.10529242, dtype=float32), array(0.10376335, dtype=float32), array(0.10243981, dtype=float32), array(0.1012164, dtype=float32), array(0.09979524, dtype=float32), array(0.09842561, dtype=float32), array(0.09719662, dtype=float32), array(0.09603856, dtype=float32), array(0.09486609, dtype=float32), array(0.09363926, dtype=float32), array(0.0925576, dtype=float32), array(0.09141377, dtype=float32), array(0.09026553, dtype=float32), array(0.08922783, dtype=float32), array(0.08798663, dtype=float32), array(0.08674018, dtype=float32), array(0.08568075, dtype=float32), array(0.08476682, dtype=float32), array(0.08371717, dtype=float32), array(0.08236477, dtype=float32), array(0.08132713, dtype=float32), array(0.08032413, dtype=float32), array(0.07932246, dtype=float32), array(0.07842524, dtype=float32), array(0.07752913, dtype=float32), array(0.07641537, dtype=float32), array(0.07541188, dtype=float32), array(0.07480154, dtype=float32), array(0.07405301, dtype=float32), array(0.07315368, dtype=float32), array(0.07249923, dtype=float32), array(0.07169581, dtype=float32), array(0.07105757, dtype=float32), array(0.07023901, dtype=float32), array(0.06965271, dtype=float32), array(0.06915207, dtype=float32), array(0.06805993, dtype=float32), array(0.06739144, dtype=float32), array(0.06664664, dtype=float32), array(0.06608158, dtype=float32), array(0.06538291, dtype=float32), array(0.0645979, dtype=float32), array(0.06434039, dtype=float32), array(0.06345594, dtype=float32), array(0.06259547, dtype=float32), array(0.06249369, dtype=float32), array(0.06116646, dtype=float32), array(0.06056629, dtype=float32), array(0.06051797, dtype=float32), array(0.05961552, dtype=float32), array(0.05912092, dtype=float32), array(0.05899548, dtype=float32), array(0.05823515, dtype=float32), array(0.0576909, dtype=float32), array(0.05769067, dtype=float32), array(0.05673743, dtype=float32), array(0.05645411, dtype=float32), array(0.05603166, dtype=float32), array(0.05538045, dtype=float32), array(0.05507753, dtype=float32), array(0.05457329, dtype=float32), array(0.05414162, dtype=float32), array(0.05405391, dtype=float32), array(0.0533222, dtype=float32), array(0.05302814, dtype=float32), array(0.05264587, dtype=float32), array(0.05204216, dtype=float32), array(0.05176955, dtype=float32), array(0.05134333, dtype=float32), array(0.05102595, dtype=float32), array(0.05065558, dtype=float32), array(0.05031046, dtype=float32), array(0.04982985, dtype=float32), array(0.049287, dtype=float32), array(0.04899751, dtype=float32), array(0.04865228, dtype=float32), array(0.04837094, dtype=float32), array(0.0480073, dtype=float32), array(0.0478939, dtype=float32), array(0.04748175, dtype=float32), array(0.04709688, dtype=float32), array(0.04690563, dtype=float32), array(0.04643922, dtype=float32), array(0.04627502, dtype=float32), array(0.04584021, dtype=float32), array(0.04556859, dtype=float32), array(0.04544365, dtype=float32), array(0.04500045, dtype=float32), array(0.04480885, dtype=float32), array(0.04456424, dtype=float32), array(0.04421566, dtype=float32), array(0.04434427, dtype=float32), array(0.04379707, dtype=float32), array(0.0434625, dtype=float32), array(0.04361133, dtype=float32), array(0.04307065, dtype=float32), array(0.04281263, dtype=float32), array(0.0429862, dtype=float32), array(0.04254434, dtype=float32), array(0.04231087, dtype=float32), array(0.04258259, dtype=float32), array(0.04192049, dtype=float32), array(0.04158355, dtype=float32), array(0.0418499, dtype=float32), array(0.04125332, dtype=float32), array(0.04095867, dtype=float32), array(0.04142711, dtype=float32), array(0.04079958, dtype=float32), array(0.04048837, dtype=float32), array(0.04063986, dtype=float32), array(0.04049062, dtype=float32), array(0.04003186, dtype=float32), array(0.04016321, dtype=float32), array(0.03993297, dtype=float32), array(0.03950646, dtype=float32), array(0.03967121, dtype=float32), array(0.03943833, dtype=float32), array(0.0390188, dtype=float32), array(0.03923039, dtype=float32), array(0.038861, dtype=float32), array(0.03848705, dtype=float32), array(0.03850929, dtype=float32), array(0.03854247, dtype=float32), array(0.03806225, dtype=float32), array(0.03810342, dtype=float32), array(0.03806831, dtype=float32), array(0.03766069, dtype=float32), array(0.03765236, dtype=float32), array(0.03756754, dtype=float32), array(0.03732027, dtype=float32), array(0.03719309, dtype=float32), array(0.03724672, dtype=float32), array(0.03692229, dtype=float32), array(0.0368503, dtype=float32), array(0.03676109, dtype=float32), array(0.036606, dtype=float32), array(0.03660429, dtype=float32), array(0.03645464, dtype=float32), array(0.03627411, dtype=float32), array(0.03624858, dtype=float32), array(0.03611246, dtype=float32), array(0.03589603, dtype=float32), array(0.03625004, dtype=float32), array(0.03574979, dtype=float32), array(0.03557513, dtype=float32), array(0.03568332, dtype=float32), array(0.03560031, dtype=float32), array(0.03527048, dtype=float32), array(0.03554628, dtype=float32), array(0.03533093, dtype=float32), array(0.03509655, dtype=float32), array(0.03532641, dtype=float32), array(0.03536352, dtype=float32), array(0.03487753, dtype=float32), array(0.0347811, dtype=float32), array(0.03490845, dtype=float32), array(0.03449322, dtype=float32), array(0.03445457, dtype=float32), array(0.03454617, dtype=float32), array(0.03424688, dtype=float32), array(0.03416014, dtype=float32), array(0.03436378, dtype=float32), array(0.0340563, dtype=float32), array(0.0338558, dtype=float32), array(0.03428158, dtype=float32), array(0.03388205, dtype=float32), array(0.03358588, dtype=float32), array(0.03381607, dtype=float32), array(0.03381307, dtype=float32), array(0.03331197, dtype=float32), array(0.03330186, dtype=float32), array(0.03348593, dtype=float32), array(0.03314991, dtype=float32), array(0.03308896, dtype=float32)]\n"
          ]
        }
      ]
    },
    {
      "cell_type": "code",
      "source": [
        "plt.plot(data_test, label='Training loss')\n",
        "plt.plot(data_val, label='Validation loss')\n",
        "plt.legend()\n",
        "plt.show()"
      ],
      "metadata": {
        "colab": {
          "base_uri": "https://localhost:8080/",
          "height": 265
        },
        "id": "MEig0Bg_Y4fi",
        "outputId": "e17d00c9-64b2-43a7-80b0-91da8934d61e"
      },
      "execution_count": null,
      "outputs": [
        {
          "output_type": "display_data",
          "data": {
            "text/plain": [
              "<Figure size 432x288 with 1 Axes>"
            ],
            "image/png": "[encoded data removed]"
          },
          "metadata": {
            "needs_background": "light"
          }
        }
      ]
    },
    {
      "cell_type": "code",
      "source": [],
      "metadata": {
        "id": "ZG_53xClbNcj"
      },
      "execution_count": null,
      "outputs": []
    }
  ]
}