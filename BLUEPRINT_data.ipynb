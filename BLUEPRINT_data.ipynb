{
  "cells": [
    {
      "cell_type": "markdown",
      "metadata": {
        "id": "view-in-github",
        "colab_type": "text"
      },
      "source": [
        "<a href=\"https://colab.research.google.com/github/lingliao/Machine-learning-model/blob/main/BLUEPRINT_data.ipynb\" target=\"_parent\"><img src=\"https://colab.research.google.com/assets/colab-badge.svg\" alt=\"Open In Colab\"/></a>"
      ]
    },
    {
      "cell_type": "code",
      "execution_count": 1,
      "metadata": {
        "id": "b0a19022"
      },
      "outputs": [],
      "source": [
        "import itertools\n",
        "from multiprocessing import Pool\n",
        "import numpy as np\n",
        "import os\n",
        "import pandas as pd\n",
        "import subprocess\n"
      ],
      "id": "b0a19022"
    },
    {
      "cell_type": "code",
      "execution_count": 2,
      "metadata": {
        "id": "1fb20215"
      },
      "outputs": [],
      "source": [
        "def runlinuxcmd(cmd, verbose = False, *args, **kwargs):\n",
        "    print(cmd)\n",
        "    process = subprocess.Popen(\n",
        "        cmd,\n",
        "        stdout = subprocess.PIPE,\n",
        "        stderr = subprocess.PIPE,\n",
        "        text = True,\n",
        "        shell = True\n",
        "    )\n",
        "    std_out, std_err = process.communicate()\n",
        "    if verbose:\n",
        "        print(std_out.strip(),std_err)\n",
        "    pass"
      ],
      "id": "1fb20215"
    },
    {
      "cell_type": "code",
      "execution_count": 3,
      "metadata": {
        "colab": {
          "base_uri": "https://localhost:8080/"
        },
        "id": "af3b3234",
        "outputId": "77c591b9-c593-4980-af48-626030aad933"
      },
      "outputs": [
        {
          "output_type": "stream",
          "name": "stdout",
          "text": [
            "Number of Blueprint cell types: 22\n",
            "Number of Blueprint raw files: 101\n"
          ]
        }
      ],
      "source": [
        "# Annotations & bs_cov / bs_call names\n",
        "CELL_TYPE_TO_FILE_ID = {\n",
        "    # CD4\n",
        "    \"T_cells_CD4_naive\": [\"S009W451\", \"S008H151\",\"S007DD51\",\"P580\",\"P582\",\"P584\",\"P586\",\"S007G756\"],\n",
        "    \"T_cells_CD4_CM\": [\"S006YC51\", \"S014QS55\"],\n",
        "    \"T_cells_CD4_EM\": [\"S001U352\", \"S014QS51\"],\n",
        "    \"T_cells_CD4_Tregs\": [\"S00XTP51\",\"S001U353\"],\n",
        "    \n",
        "    # CD8\n",
        "    \"T_cells_CD8_naive\": [\"C0066P51\",\"C003VO55\",\"C00256A1bs\",\"S00C2F51\"],\n",
        "    \"T_cells_CD8_CM\": [\"C003VO56\", \"C005UI52\"],\n",
        "    \"T_cells_CD8_EM\": [\"C00256A3bs\", \"S014WG51\"],\n",
        "    \"T_cells_CD8_EMRA\": [\"S002ND51\", \"S0164R51\"],\n",
        "\n",
        "    # B cells\n",
        "    \"B_cells_naive\": [\"S01ECGA1\",\"NBC_NC11_83\",\"NBC_NC11_41\",\"S001JP51\",\"C003K951\",\"S00DM851\",\"C0068L51\"],\n",
        "    \"B_cells_memory\": [\"S017RE51\",\"C003N351\"], # Excluding W653; few reads.\n",
        "\n",
        "    \"Plasma_cells\": [\"bmPCs-V156\",\"G202\",\"PC_T12_20\",\"PC_T13_1\",\"PC_T14_10\"],\n",
        "    # Archived plasma cells (previously used): [\"S00XCMA1\",\"S00XDKU1\",\"S00XEIU1\",\"G204\",\"G203\"],\n",
        "\n",
        "    # Monocyte/Macrophage\n",
        "    \"Monocytes\": [\"S01BBUA1\",\"C005PS51\",\"S000RD54\",\"C000S5A1bs\",\"C0010KA2bs\",\"C001UYA3bs\", \"C004SQ51\", \"S00V2DN1\",  \"S01E03A1\", \"S01MAPA1\", \"S01B47A1\", \"S01B71A1\", \"S01BEOA1\", \"S01BHIA1\",  \"S01B63A1\", \"S01BDQA1\", \"S01BGKA1\", \"S01BAWA1\", \"S01B55A1\", \"S01BCSA1\", \"S01B9YA1\", \"S01BFMA1\"],\n",
        "    \"Macrophages_M0\": [\"S001S751\",\"S0039051\",\"S0022I51\",\"S00BHQ51\",\"S00DVR51\",\"C005VG51\"],\n",
        "    \"Macrophages_M1\": [\"S0022I53\",\"S001S753\",\"S0018A52\",\"S00H6O51\",\"S007SK51\",\"S001MJ51\"],\n",
        "    \"Macrophages_M2\": [\"S00BS451\",\"S0062252\",\"S00FTN51\",\"S00C1H51\",\"S00E8W51\",\"S006VI53\"],\n",
        "\n",
        "    \"NK_cells\": [\"C0067N51\",\"S01E8O51\",\"C002CTA1bs\",\"C006G551\"],\n",
        "    \"Neutrophils\": [\"S00K5EA1\",\"C00184A3bs\",\"C001UYA1bs\",\"C0010KA1bs\",\"C004GD51\",\"C0011IA3bs\",\"C000S5A2bs\",\"S00FWHA1\",\"S00K7AA1\"],\n",
        "    \"Eosinophils\": [\"S00V6553\",\"S006XE53\"],\n",
        "\n",
        "    \"Dendritic_cells_immature\": [\"S00TU2A1\", \"S00TV0A1\"],\n",
        "    \"Dendritic_cells_mature\": [\"S00TXXA1\", \"S00TYVA1\"],\n",
        "\n",
        "    \"Megakaryocytes\": [\"S004AV51\", \"S004BT51\"],\n",
        "    \"Erythroblasts\": [\"S002S351\",\"S002R551\"]\n",
        "}\n",
        "\n",
        "FILE_ID_TO_CELL_TYPE = {sample:cell_type for cell_type, sample_list in CELL_TYPE_TO_FILE_ID.items() for sample in sample_list}\n",
        "BLUEPRINT_FILEKEYS = list(itertools.chain.from_iterable(CELL_TYPE_TO_FILE_ID.values()))\n",
        "sample_list = [idx for idx in [CELL_TYPE_TO_FILE_ID[key] for key in CELL_TYPE_TO_FILE_ID]]\n",
        "sample_list = [item for sublist in sample_list for item in sublist]\n",
        "\n",
        "print(f\"Number of Blueprint cell types: {len(CELL_TYPE_TO_FILE_ID.keys())}\")\n",
        "print(f\"Number of Blueprint raw files: {len(BLUEPRINT_FILEKEYS)}\")"
      ],
      "id": "af3b3234"
    },
    {
      "cell_type": "code",
      "source": [
        "fin = '/content/blueprint_files.tsv'\n",
        "df = pd.read_csv(fin,sep='\\t')"
      ],
      "metadata": {
        "id": "LmCTkW09meAX"
      },
      "id": "LmCTkW09meAX",
      "execution_count": 4,
      "outputs": []
    },
    {
      "cell_type": "code",
      "execution_count": 5,
      "metadata": {
        "id": "a6e41387"
      },
      "outputs": [],
      "source": [
        "url_list = [url for url in df['URL'] if 'CPG_methylation_calls.bs_call' in url]\n",
        "url_list = [url for url in url_list if any(sample_idx in url for sample_idx in sample_list)]\n",
        "\n",
        "df.index = df['URL']\n",
        "df = df.loc[url_list,:]\n",
        "df.index = [i for i in range(len(df))]\n",
        "df['LTME_SampleID'] = [url.split('/')[-1].split('.')[0] for url in df['URL']]\n",
        "df['LTME_CellType'] = [FILE_ID_TO_CELL_TYPE[sample_idx] for sample_idx in df['LTME_SampleID']]\n",
        "\n",
        "df2 = pd.read_csv(fin,sep='\\t')\n",
        "\n",
        "url_list = [url for url in df2['URL'] if 'CPG_methylation_calls.bs_cov' in url]\n",
        "url_list = [url for url in url_list if any(sample_idx in url for sample_idx in sample_list)]\n",
        "\n",
        "df2.index = df2['URL']\n",
        "df2 = df2.loc[url_list,:]\n",
        "df2.index = [i for i in range(len(df2))]\n",
        "df2['LTME_SampleID'] = [url.split('/')[-1].split('.')[0] for url in df2['URL']]\n",
        "df2['LTME_CellType'] = [FILE_ID_TO_CELL_TYPE[sample_idx] for sample_idx in df2['LTME_SampleID']]\n",
        "\n",
        "df.index = df['LTME_SampleID']\n",
        "df2.index = df2['LTME_SampleID']\n",
        "df2 = df2.loc[df.index,:]\n",
        "\n",
        "df = df.rename(columns={'URL':'URL_main'})\n",
        "df2 = df2.rename(columns={'URL':'URL_coverage'})\n",
        "df['URL_coverage'] = df2['URL_coverage'].copy()"
      ],
      "id": "a6e41387"
    },
    {
      "cell_type": "code",
      "source": [
        "!mkdir /content/input"
      ],
      "metadata": {
        "id": "sPgPggQMcx5q"
      },
      "id": "sPgPggQMcx5q",
      "execution_count": 6,
      "outputs": []
    },
    {
      "cell_type": "code",
      "execution_count": 7,
      "metadata": {
        "id": "f3d1688c"
      },
      "outputs": [],
      "source": [
        "df.to_csv('/content/input/blueprint_data_overview.csv',index=False)"
      ],
      "id": "f3d1688c"
    },
    {
      "cell_type": "code",
      "execution_count": 8,
      "metadata": {
        "id": "abdd4c9b"
      },
      "outputs": [],
      "source": [
        "df2.to_csv('/content/input/blueprint_data_overview_extended.csv',index=False)"
      ],
      "id": "abdd4c9b"
    },
    {
      "cell_type": "markdown",
      "metadata": {
        "id": "7a248f54"
      },
      "source": [
        "# Download methylation signal files"
      ],
      "id": "7a248f54"
    },
    {
      "cell_type": "code",
      "source": [
        "!mkdir /content/MethylationSignal"
      ],
      "metadata": {
        "id": "fQchOP2u1hp3"
      },
      "id": "fQchOP2u1hp3",
      "execution_count": 9,
      "outputs": []
    },
    {
      "cell_type": "code",
      "execution_count": 10,
      "metadata": {
        "id": "f2c58512"
      },
      "outputs": [],
      "source": [
        "dir_out = \"/content/MethylationSignal\"\n",
        "cmd_list = [\"wget -P \"+dir_out+\" \"+fin_dl for fin_dl in list(df['URL_main'])]"
      ],
      "id": "f2c58512"
    },
    {
      "cell_type": "code",
      "execution_count": 11,
      "metadata": {
        "colab": {
          "base_uri": "https://localhost:8080/"
        },
        "id": "2ba30a93",
        "outputId": "9228acec-aa47-40ad-f1e1-da657fd47e4a"
      },
      "outputs": [
        {
          "output_type": "stream",
          "name": "stdout",
          "text": [
            "wget -P /content/MethylationSignal http://ftp.ebi.ac.uk/pub/databases/blueprint/data/homo_sapiens/GRCh38/venous_blood/C000S5/CD14-positive_CD16-negative_classical_monocyte/Bisulfite-Seq/CNAG/C000S5A1bs.CPG_methylation_calls.bs_call.GRCh38.20160531.bwwget -P /content/MethylationSignal http://ftp.ebi.ac.uk/pub/databases/blueprint/data/homo_sapiens/GRCh38/venous_blood/C0010K/CD14-positive_CD16-negative_classical_monocyte/Bisulfite-Seq/CNAG/C0010KA2bs.CPG_methylation_calls.bs_call.GRCh38.20160531.bwwget -P /content/MethylationSignal http://ftp.ebi.ac.uk/pub/databases/blueprint/data/homo_sapiens/GRCh38/cord_blood/S000RD/CD14-positive_CD16-negative_classical_monocyte/Bisulfite-Seq/CNAG/S000RD54.CPG_methylation_calls.bs_call.GRCh38.20160531.bwwget -P /content/MethylationSignal http://ftp.ebi.ac.uk/pub/databases/blueprint/data/homo_sapiens/GRCh38/cord_blood/C005PS/CD14-positive_CD16-negative_classical_monocyte/Bisulfite-Seq/CNAG/C005PS51.CPG_methylation_calls.bs_call.GRCh38.20160531.bwwget -P /content/MethylationSignal http://ftp.ebi.ac.uk/pub/databases/blueprint/data/homo_sapiens/GRCh38/venous_blood/SANQUIN_mono_39/monocyte_-_Attached_T_1hr/Bisulfite-Seq/CNAG/S01B47A1.CPG_methylation_calls.bs_call.GRCh38.20160531.bw\n",
            "wget -P /content/MethylationSignal http://ftp.ebi.ac.uk/pub/databases/blueprint/data/homo_sapiens/GRCh38/venous_blood/Primary_monocytes_Donor_D/monocyte_-_None/Bisulfite-Seq/CNAG/S01E03A1.CPG_methylation_calls.bs_call.GRCh38.20160531.bw\n",
            "\n",
            "\n",
            "\n",
            "wget -P /content/MethylationSignal http://ftp.ebi.ac.uk/pub/databases/blueprint/data/homo_sapiens/GRCh38/venous_blood/C001UY/CD14-positive_CD16-negative_classical_monocyte/Bisulfite-Seq/CNAG/C001UYA3bs.CPG_methylation_calls.bs_call.GRCh38.20160531.bwwget -P /content/MethylationSignal http://ftp.ebi.ac.uk/pub/databases/blueprint/data/homo_sapiens/GRCh38/venous_blood/C004SQ/CD14-positive_CD16-negative_classical_monocyte/Bisulfite-Seq/CNAG/C004SQ51.CPG_methylation_calls.bs_call.GRCh38.20160531.bw\n",
            "\n",
            "\n",
            "wget -P /content/MethylationSignal http://ftp.ebi.ac.uk/pub/databases/blueprint/data/homo_sapiens/GRCh38/venous_blood/Primary_monocytes_Donor_G/monocyte_-_None/Bisulfite-Seq/CNAG/S01MAPA1.CPG_methylation_calls.bs_call.GRCh38.20160531.bw\n",
            "wget -P /content/MethylationSignal http://ftp.ebi.ac.uk/pub/databases/blueprint/data/homo_sapiens/GRCh38/venous_blood/SANQUIN_mono_39/monocyte_-_RPMI_BG_T_1hr/Bisulfite-Seq/CNAG/S01B71A1.CPG_methylation_calls.bs_call.GRCh38.20160531.bw\n",
            "wget -P /content/MethylationSignal http://ftp.ebi.ac.uk/pub/databases/blueprint/data/homo_sapiens/GRCh38/venous_blood/SANQUIN_mono_39/monocyte_-_RPMI_BG_T_24hrs/Bisulfite-Seq/CNAG/S01BEOA1.CPG_methylation_calls.bs_call.GRCh38.20160531.bw\n",
            "wget -P /content/MethylationSignal http://ftp.ebi.ac.uk/pub/databases/blueprint/data/homo_sapiens/GRCh38/venous_blood/SANQUIN_mono_39/monocyte_-_RPMI_BG_T_24hrs_RPMI_T_5days/Bisulfite-Seq/CNAG/S01BHIA1.CPG_methylation_calls.bs_call.GRCh38.20160531.bw\n",
            "wget -P /content/MethylationSignal http://ftp.ebi.ac.uk/pub/databases/blueprint/data/homo_sapiens/GRCh38/venous_blood/SANQUIN_mono_39/monocyte_-_RPMI_BG_T_4hrs/Bisulfite-Seq/CNAG/S01BBUA1.CPG_methylation_calls.bs_call.GRCh38.20160531.bw\n",
            "wget -P /content/MethylationSignal http://ftp.ebi.ac.uk/pub/databases/blueprint/data/homo_sapiens/GRCh38/venous_blood/SANQUIN_mono_39/monocyte_-_RPMI_LPS_T_1hr/Bisulfite-Seq/CNAG/S01B63A1.CPG_methylation_calls.bs_call.GRCh38.20160531.bw\n",
            "wget -P /content/MethylationSignal http://ftp.ebi.ac.uk/pub/databases/blueprint/data/homo_sapiens/GRCh38/venous_blood/SANQUIN_mono_39/monocyte_-_RPMI_LPS_T_24hrs/Bisulfite-Seq/CNAG/S01BDQA1.CPG_methylation_calls.bs_call.GRCh38.20160531.bw\n",
            "wget -P /content/MethylationSignal http://ftp.ebi.ac.uk/pub/databases/blueprint/data/homo_sapiens/GRCh38/venous_blood/SANQUIN_mono_39/monocyte_-_RPMI_LPS_T_24hrs_RPMI_T_5days/Bisulfite-Seq/CNAG/S01BGKA1.CPG_methylation_calls.bs_call.GRCh38.20160531.bw\n",
            "wget -P /content/MethylationSignal http://ftp.ebi.ac.uk/pub/databases/blueprint/data/homo_sapiens/GRCh38/venous_blood/SANQUIN_mono_39/monocyte_-_RPMI_LPS_T_4hrs/Bisulfite-Seq/CNAG/S01BAWA1.CPG_methylation_calls.bs_call.GRCh38.20160531.bw\n",
            "wget -P /content/MethylationSignal http://ftp.ebi.ac.uk/pub/databases/blueprint/data/homo_sapiens/GRCh38/venous_blood/SANQUIN_mono_39/monocyte_-_RPMI_T_1hr/Bisulfite-Seq/CNAG/S01B55A1.CPG_methylation_calls.bs_call.GRCh38.20160531.bw\n",
            "wget -P /content/MethylationSignal http://ftp.ebi.ac.uk/pub/databases/blueprint/data/homo_sapiens/GRCh38/venous_blood/SANQUIN_mono_39/monocyte_-_RPMI_T_24hrs/Bisulfite-Seq/CNAG/S01BCSA1.CPG_methylation_calls.bs_call.GRCh38.20160531.bw\n",
            "wget -P /content/MethylationSignal http://ftp.ebi.ac.uk/pub/databases/blueprint/data/homo_sapiens/GRCh38/venous_blood/SANQUIN_mono_39/monocyte_-_RPMI_T_4hrs/Bisulfite-Seq/CNAG/S01B9YA1.CPG_methylation_calls.bs_call.GRCh38.20160531.bw\n",
            "wget -P /content/MethylationSignal http://ftp.ebi.ac.uk/pub/databases/blueprint/data/homo_sapiens/GRCh38/venous_blood/SANQUIN_mono_39/monocyte_-_RPMI_T_6days/Bisulfite-Seq/CNAG/S01BFMA1.CPG_methylation_calls.bs_call.GRCh38.20160531.bw\n",
            "wget -P /content/MethylationSignal http://ftp.ebi.ac.uk/pub/databases/blueprint/data/homo_sapiens/GRCh38/venous_blood/N000314138902/monocyte_-_T_0days/Bisulfite-Seq/CNAG/S00V2DN1.CPG_methylation_calls.bs_call.GRCh38.20160531.bw\n"
          ]
        }
      ],
      "source": [
        "process_cap = 8\n",
        "with Pool(process_cap) as p:\n",
        "    p.map(runlinuxcmd,cmd_list)\n",
        "    p.close()\n",
        "    p.join()"
      ],
      "id": "2ba30a93"
    },
    {
      "cell_type": "code",
      "source": [
        "#Another three from Grail\n",
        "!wget -P /content/MethylationSignal https://ftp.ncbi.nlm.nih.gov/geo/samples/GSM5652nnn/GSM5652302/suppl/GSM5652302_Blood-Monocytes-Z000000TP.hg38.bigwig\n",
        "!wget -P /content/MethylationSignal https://ftp.ncbi.nlm.nih.gov/geo/samples/GSM5652nnn/GSM5652303/suppl/GSM5652303_Blood-Monocytes-Z000000U3.hg38.bigwig\n",
        "!wget -P /content/MethylationSignal https://ftp.ncbi.nlm.nih.gov/geo/samples/GSM5652nnn/GSM5652304/suppl/GSM5652304_Blood-Monocytes-Z000000UH.hg38.bigwig"
      ],
      "metadata": {
        "colab": {
          "base_uri": "https://localhost:8080/"
        },
        "id": "V8nnr180MfON",
        "outputId": "c4a42df2-104e-4b0d-fdb5-c6cc14a3ae35"
      },
      "id": "V8nnr180MfON",
      "execution_count": 12,
      "outputs": [
        {
          "output_type": "stream",
          "name": "stdout",
          "text": [
            "--2023-05-03 15:27:42--  https://ftp.ncbi.nlm.nih.gov/geo/samples/GSM5652nnn/GSM5652302/suppl/GSM5652302_Blood-Monocytes-Z000000TP.hg38.bigwig\n",
            "Resolving ftp.ncbi.nlm.nih.gov (ftp.ncbi.nlm.nih.gov)... 165.112.9.228, 165.112.9.229, 2607:f220:41e:250::7, ...\n",
            "Connecting to ftp.ncbi.nlm.nih.gov (ftp.ncbi.nlm.nih.gov)|165.112.9.228|:443... connected.\n",
            "HTTP request sent, awaiting response... 200 OK\n",
            "Length: 256492981 (245M)\n",
            "Saving to: ‘/content/MethylationSignal/GSM5652302_Blood-Monocytes-Z000000TP.hg38.bigwig’\n",
            "\n",
            "GSM5652302_Blood-Mo 100%[===================>] 244.61M  76.0MB/s    in 3.2s    \n",
            "\n",
            "2023-05-03 15:27:46 (76.0 MB/s) - ‘/content/MethylationSignal/GSM5652302_Blood-Monocytes-Z000000TP.hg38.bigwig’ saved [256492981/256492981]\n",
            "\n",
            "--2023-05-03 15:27:46--  https://ftp.ncbi.nlm.nih.gov/geo/samples/GSM5652nnn/GSM5652303/suppl/GSM5652303_Blood-Monocytes-Z000000U3.hg38.bigwig\n",
            "Resolving ftp.ncbi.nlm.nih.gov (ftp.ncbi.nlm.nih.gov)... 165.112.9.228, 165.112.9.229, 2607:f220:41e:250::7, ...\n",
            "Connecting to ftp.ncbi.nlm.nih.gov (ftp.ncbi.nlm.nih.gov)|165.112.9.228|:443... connected.\n",
            "HTTP request sent, awaiting response... 200 OK\n",
            "Length: 261305284 (249M)\n",
            "Saving to: ‘/content/MethylationSignal/GSM5652303_Blood-Monocytes-Z000000U3.hg38.bigwig’\n",
            "\n",
            "GSM5652303_Blood-Mo 100%[===================>] 249.20M  99.3MB/s    in 2.5s    \n",
            "\n",
            "2023-05-03 15:27:48 (99.3 MB/s) - ‘/content/MethylationSignal/GSM5652303_Blood-Monocytes-Z000000U3.hg38.bigwig’ saved [261305284/261305284]\n",
            "\n",
            "--2023-05-03 15:27:48--  https://ftp.ncbi.nlm.nih.gov/geo/samples/GSM5652nnn/GSM5652304/suppl/GSM5652304_Blood-Monocytes-Z000000UH.hg38.bigwig\n",
            "Resolving ftp.ncbi.nlm.nih.gov (ftp.ncbi.nlm.nih.gov)... 165.112.9.228, 165.112.9.229, 2607:f220:41e:250::7, ...\n",
            "Connecting to ftp.ncbi.nlm.nih.gov (ftp.ncbi.nlm.nih.gov)|165.112.9.228|:443... connected.\n",
            "HTTP request sent, awaiting response... 200 OK\n",
            "Length: 267926433 (256M)\n",
            "Saving to: ‘/content/MethylationSignal/GSM5652304_Blood-Monocytes-Z000000UH.hg38.bigwig’\n",
            "\n",
            "GSM5652304_Blood-Mo 100%[===================>] 255.51M   123MB/s    in 2.1s    \n",
            "\n",
            "2023-05-03 15:27:51 (123 MB/s) - ‘/content/MethylationSignal/GSM5652304_Blood-Monocytes-Z000000UH.hg38.bigwig’ saved [267926433/267926433]\n",
            "\n"
          ]
        }
      ]
    },
    {
      "cell_type": "code",
      "source": [
        "#convert .bw to .bed\n",
        "!pip install pyBigWig\n",
        "!mkdir /content/MethylationSignal/BedGraph\n",
        "\n",
        "import os\n",
        "import pyBigWig\n",
        "\n",
        "# Set the input and output folder paths\n",
        "input_folder = '/content/MethylationSignal'\n",
        "output_folder = '/content/MethylationSignal/BedGraph'\n",
        "\n",
        "import os\n",
        "import pyBigWig\n",
        "\n",
        "def convert_bw_files_to_bed(input_folder, output_folder):\n",
        "    for filename in os.listdir(input_folder):\n",
        "        if filename.endswith(\".bw\"):\n",
        "            input_path = os.path.join(input_folder, filename)\n",
        "            output_path = os.path.join(output_folder, filename.replace(\".bw\", \".bed\"))\n",
        "            convert_bw_to_bed(input_path, output_path)\n",
        "\n",
        "def convert_bigwig_files_to_bed(input_folder, output_folder):\n",
        "    for filename in os.listdir(input_folder):\n",
        "        if filename.endswith(\".bigwig\"):\n",
        "            input_path = os.path.join(input_folder, filename)\n",
        "            output_path = os.path.join(output_folder, filename.replace(\".bigwig\", \".bed\"))\n",
        "            convert_bw_to_bed(input_path, output_path)\n",
        "\n",
        "def convert_bw_to_bed(input_file, output_file):\n",
        "    bw = pyBigWig.open(input_file)\n",
        "    with open(output_file, 'w') as f:\n",
        "        for chrom, length in bw.chroms().items():\n",
        "            for start, end, value in bw.intervals(chrom):\n",
        "                f.write(f\"{chrom}\\t{start}\\t{end}\\t{value}\\n\")\n",
        "    bw.close()\n",
        "\n",
        "convert_bw_files_to_bed(input_folder, output_folder)\n",
        "convert_bigwig_files_to_bed(input_folder, output_folder)\n"
      ],
      "metadata": {
        "colab": {
          "base_uri": "https://localhost:8080/"
        },
        "id": "NMweYU-31pD0",
        "outputId": "e1723ba6-5e6f-4395-d987-d2d8b91aed24"
      },
      "id": "NMweYU-31pD0",
      "execution_count": 13,
      "outputs": [
        {
          "output_type": "stream",
          "name": "stdout",
          "text": [
            "Looking in indexes: https://pypi.org/simple, https://us-python.pkg.dev/colab-wheels/public/simple/\n",
            "Collecting pyBigWig\n",
            "  Downloading pyBigWig-0.3.22-cp310-cp310-manylinux_2_17_x86_64.manylinux2014_x86_64.whl (209 kB)\n",
            "\u001b[2K     \u001b[90m━━━━━━━━━━━━━━━━━━━━━━━━━━━━━━━━━━━━━━━\u001b[0m \u001b[32m209.7/209.7 kB\u001b[0m \u001b[31m5.4 MB/s\u001b[0m eta \u001b[36m0:00:00\u001b[0m\n",
            "\u001b[?25hInstalling collected packages: pyBigWig\n",
            "Successfully installed pyBigWig-0.3.22\n"
          ]
        }
      ]
    },
    {
      "cell_type": "markdown",
      "source": [
        "## make all the files"
      ],
      "metadata": {
        "id": "rasmCvZ0dOZq"
      },
      "id": "rasmCvZ0dOZq"
    },
    {
      "cell_type": "code",
      "source": [
        "!mkdir = \"/content/MethylationSignal/sorted\"\n",
        "!mkdir = \"/content/MethylationSignal/sorted/intersect_k100\"\n",
        "!mkdir = \"/content/MethylationSignal/sorted/intersect_weighted\""
      ],
      "metadata": {
        "id": "uefQIXPndRJt",
        "colab": {
          "base_uri": "https://localhost:8080/"
        },
        "outputId": "dcd64707-6e70-4520-fa2f-cb342310170b"
      },
      "id": "uefQIXPndRJt",
      "execution_count": 14,
      "outputs": [
        {
          "output_type": "stream",
          "name": "stdout",
          "text": [
            "mkdir: cannot create directory ‘=’: File exists\n",
            "mkdir: cannot create directory ‘=’: File exists\n"
          ]
        }
      ]
    },
    {
      "cell_type": "markdown",
      "source": [
        "## sort"
      ],
      "metadata": {
        "id": "nBHupk5UYHe5"
      },
      "id": "nBHupk5UYHe5"
    },
    {
      "cell_type": "code",
      "source": [
        "#install bedtools\n",
        "!apt-get install bedtools\n",
        "!bedtools --version"
      ],
      "metadata": {
        "id": "IUCFJbfiNd6N",
        "colab": {
          "base_uri": "https://localhost:8080/"
        },
        "outputId": "ed7717a3-d9d9-4332-bcd1-8d8ff9e1d60d"
      },
      "id": "IUCFJbfiNd6N",
      "execution_count": 15,
      "outputs": [
        {
          "output_type": "stream",
          "name": "stdout",
          "text": [
            "Reading package lists... Done\n",
            "Building dependency tree       \n",
            "Reading state information... Done\n",
            "The following NEW packages will be installed:\n",
            "  bedtools\n",
            "0 upgraded, 1 newly installed, 0 to remove and 24 not upgraded.\n",
            "Need to get 580 kB of archives.\n",
            "After this operation, 2,055 kB of additional disk space will be used.\n",
            "Get:1 http://archive.ubuntu.com/ubuntu focal/universe amd64 bedtools amd64 2.27.1+dfsg-4ubuntu1 [580 kB]\n",
            "Fetched 580 kB in 0s (1,744 kB/s)\n",
            "Selecting previously unselected package bedtools.\n",
            "(Reading database ... 122518 files and directories currently installed.)\n",
            "Preparing to unpack .../bedtools_2.27.1+dfsg-4ubuntu1_amd64.deb ...\n",
            "Unpacking bedtools (2.27.1+dfsg-4ubuntu1) ...\n",
            "Setting up bedtools (2.27.1+dfsg-4ubuntu1) ...\n",
            "bedtools v2.27.1\n"
          ]
        }
      ]
    },
    {
      "cell_type": "code",
      "source": [
        "import os\n",
        "from multiprocessing import Pool\n",
        "\n",
        "input = \"/content/MethylationSignal/BedGraph\"\n",
        "output_sort = \"/content/MethylationSignal/sorted\"\n",
        "\n",
        "def run_linux_command(input_path):\n",
        "    filename = os.path.basename(input_path)\n",
        "    output_path = os.path.join(output_sort, filename)\n",
        "    cmd = f\"bedtools sort -i {input_path} > {output_path}\"\n",
        "    print(cmd) \n",
        "    os.system(cmd)\n",
        "\n",
        "# Get a list of input file paths\n",
        "input_paths = []\n",
        "for filename in os.listdir(input):\n",
        "    if filename.endswith(\".bed\"):\n",
        "        input_path = os.path.join(input, filename)\n",
        "        input_paths.append(input_path)\n",
        "\n",
        "# maximum number of processes to run in parallel\n",
        "process_cap = 1 \n",
        "# Run the Linux command on each input file in parallel\n",
        "with Pool(process_cap) as pool:\n",
        "    pool.map(run_linux_command, input_paths)\n",
        "    pool.close()\n",
        "    pool.join()"
      ],
      "metadata": {
        "id": "XkSH974GJDgH",
        "colab": {
          "base_uri": "https://localhost:8080/"
        },
        "outputId": "6c995d4f-ce3e-4347-aae3-ee9a2df96769"
      },
      "id": "XkSH974GJDgH",
      "execution_count": 16,
      "outputs": [
        {
          "output_type": "stream",
          "name": "stdout",
          "text": [
            "bedtools sort -i /content/MethylationSignal/BedGraph/C004SQ51.CPG_methylation_calls.bs_call.GRCh38.20160531.bed > /content/MethylationSignal/sorted/C004SQ51.CPG_methylation_calls.bs_call.GRCh38.20160531.bed\n",
            "bedtools sort -i /content/MethylationSignal/BedGraph/C001UYA3bs.CPG_methylation_calls.bs_call.GRCh38.20160531.bed > /content/MethylationSignal/sorted/C001UYA3bs.CPG_methylation_calls.bs_call.GRCh38.20160531.bed\n",
            "bedtools sort -i /content/MethylationSignal/BedGraph/S00V2DN1.CPG_methylation_calls.bs_call.GRCh38.20160531.bed > /content/MethylationSignal/sorted/S00V2DN1.CPG_methylation_calls.bs_call.GRCh38.20160531.bed\n",
            "bedtools sort -i /content/MethylationSignal/BedGraph/S01B71A1.CPG_methylation_calls.bs_call.GRCh38.20160531.bed > /content/MethylationSignal/sorted/S01B71A1.CPG_methylation_calls.bs_call.GRCh38.20160531.bed\n",
            "bedtools sort -i /content/MethylationSignal/BedGraph/S01E03A1.CPG_methylation_calls.bs_call.GRCh38.20160531.bed > /content/MethylationSignal/sorted/S01E03A1.CPG_methylation_calls.bs_call.GRCh38.20160531.bed\n",
            "bedtools sort -i /content/MethylationSignal/BedGraph/S01BBUA1.CPG_methylation_calls.bs_call.GRCh38.20160531.bed > /content/MethylationSignal/sorted/S01BBUA1.CPG_methylation_calls.bs_call.GRCh38.20160531.bed\n",
            "bedtools sort -i /content/MethylationSignal/BedGraph/S01B63A1.CPG_methylation_calls.bs_call.GRCh38.20160531.bed > /content/MethylationSignal/sorted/S01B63A1.CPG_methylation_calls.bs_call.GRCh38.20160531.bed\n",
            "bedtools sort -i /content/MethylationSignal/BedGraph/S01B47A1.CPG_methylation_calls.bs_call.GRCh38.20160531.bed > /content/MethylationSignal/sorted/S01B47A1.CPG_methylation_calls.bs_call.GRCh38.20160531.bed\n",
            "bedtools sort -i /content/MethylationSignal/BedGraph/C005PS51.CPG_methylation_calls.bs_call.GRCh38.20160531.bed > /content/MethylationSignal/sorted/C005PS51.CPG_methylation_calls.bs_call.GRCh38.20160531.bed\n",
            "bedtools sort -i /content/MethylationSignal/BedGraph/GSM5652302_Blood-Monocytes-Z000000TP.hg38.bed > /content/MethylationSignal/sorted/GSM5652302_Blood-Monocytes-Z000000TP.hg38.bed\n",
            "bedtools sort -i /content/MethylationSignal/BedGraph/S01BFMA1.CPG_methylation_calls.bs_call.GRCh38.20160531.bed > /content/MethylationSignal/sorted/S01BFMA1.CPG_methylation_calls.bs_call.GRCh38.20160531.bed\n",
            "bedtools sort -i /content/MethylationSignal/BedGraph/S000RD54.CPG_methylation_calls.bs_call.GRCh38.20160531.bed > /content/MethylationSignal/sorted/S000RD54.CPG_methylation_calls.bs_call.GRCh38.20160531.bed\n",
            "bedtools sort -i /content/MethylationSignal/BedGraph/S01BHIA1.CPG_methylation_calls.bs_call.GRCh38.20160531.bed > /content/MethylationSignal/sorted/S01BHIA1.CPG_methylation_calls.bs_call.GRCh38.20160531.bed\n",
            "bedtools sort -i /content/MethylationSignal/BedGraph/S01BEOA1.CPG_methylation_calls.bs_call.GRCh38.20160531.bed > /content/MethylationSignal/sorted/S01BEOA1.CPG_methylation_calls.bs_call.GRCh38.20160531.bed\n",
            "bedtools sort -i /content/MethylationSignal/BedGraph/S01B55A1.CPG_methylation_calls.bs_call.GRCh38.20160531.bed > /content/MethylationSignal/sorted/S01B55A1.CPG_methylation_calls.bs_call.GRCh38.20160531.bed\n",
            "bedtools sort -i /content/MethylationSignal/BedGraph/S01BGKA1.CPG_methylation_calls.bs_call.GRCh38.20160531.bed > /content/MethylationSignal/sorted/S01BGKA1.CPG_methylation_calls.bs_call.GRCh38.20160531.bed\n",
            "bedtools sort -i /content/MethylationSignal/BedGraph/S01BAWA1.CPG_methylation_calls.bs_call.GRCh38.20160531.bed > /content/MethylationSignal/sorted/S01BAWA1.CPG_methylation_calls.bs_call.GRCh38.20160531.bed\n",
            "bedtools sort -i /content/MethylationSignal/BedGraph/C0010KA2bs.CPG_methylation_calls.bs_call.GRCh38.20160531.bed > /content/MethylationSignal/sorted/C0010KA2bs.CPG_methylation_calls.bs_call.GRCh38.20160531.bed\n",
            "bedtools sort -i /content/MethylationSignal/BedGraph/S01BDQA1.CPG_methylation_calls.bs_call.GRCh38.20160531.bed > /content/MethylationSignal/sorted/S01BDQA1.CPG_methylation_calls.bs_call.GRCh38.20160531.bed\n",
            "bedtools sort -i /content/MethylationSignal/BedGraph/GSM5652303_Blood-Monocytes-Z000000U3.hg38.bed > /content/MethylationSignal/sorted/GSM5652303_Blood-Monocytes-Z000000U3.hg38.bed\n",
            "bedtools sort -i /content/MethylationSignal/BedGraph/S01MAPA1.CPG_methylation_calls.bs_call.GRCh38.20160531.bed > /content/MethylationSignal/sorted/S01MAPA1.CPG_methylation_calls.bs_call.GRCh38.20160531.bed\n",
            "bedtools sort -i /content/MethylationSignal/BedGraph/GSM5652304_Blood-Monocytes-Z000000UH.hg38.bed > /content/MethylationSignal/sorted/GSM5652304_Blood-Monocytes-Z000000UH.hg38.bed\n",
            "bedtools sort -i /content/MethylationSignal/BedGraph/C000S5A1bs.CPG_methylation_calls.bs_call.GRCh38.20160531.bed > /content/MethylationSignal/sorted/C000S5A1bs.CPG_methylation_calls.bs_call.GRCh38.20160531.bed\n",
            "bedtools sort -i /content/MethylationSignal/BedGraph/S01B9YA1.CPG_methylation_calls.bs_call.GRCh38.20160531.bed > /content/MethylationSignal/sorted/S01B9YA1.CPG_methylation_calls.bs_call.GRCh38.20160531.bed\n",
            "bedtools sort -i /content/MethylationSignal/BedGraph/S01BCSA1.CPG_methylation_calls.bs_call.GRCh38.20160531.bed > /content/MethylationSignal/sorted/S01BCSA1.CPG_methylation_calls.bs_call.GRCh38.20160531.bed\n"
          ]
        }
      ]
    },
    {
      "cell_type": "markdown",
      "source": [
        "## Perform intersection"
      ],
      "metadata": {
        "id": "JDbUPZtl2uQd"
      },
      "id": "JDbUPZtl2uQd"
    },
    {
      "cell_type": "code",
      "source": [
        "#for monocyte only\n",
        "from functools import partial\n",
        "\n",
        "input_folder = \"/content/MethylationSignal/sorted\"\n",
        "output_folder = \"/content/MethylationSignal/sorted/intersect_weighted\"\n",
        "#only monocyte position\n",
        "map_path = \"/content/Monocytes.bed\" \n",
        "\n",
        "def bed_intersect(input_path, map_path, output_path):\n",
        "    filename = os.path.basename(input_path)\n",
        "    output_path = os.path.join(output_path, filename)\n",
        "    cmd = f\"bedtools intersect -f 1 -F 1 -a {input_path} -b {map_path} > {output_path}\"\n",
        "    print(cmd) \n",
        "    os.system(cmd)\n",
        "\n",
        "# Get a list of input file paths\n",
        "input_paths = []\n",
        "for filename in os.listdir(input_folder):\n",
        "    if filename.endswith(\".bed\"):\n",
        "        input_path = os.path.join(input_folder, filename)\n",
        "        input_paths.append(input_path)\n",
        "\n",
        "\n",
        "\n",
        "# maximum number of processes to run in parallel\n",
        "process_cap = 1\n",
        "# Run the Linux command on each input file in parallel\n",
        "with Pool(process_cap) as pool:\n",
        "    func = partial(bed_intersect, map_path = map_path, output_path = output_folder)\n",
        "    pool.map(func, input_paths)\n",
        "    pool.close()\n",
        "    pool.join()"
      ],
      "metadata": {
        "id": "3pO9AkDQPhSh",
        "colab": {
          "base_uri": "https://localhost:8080/"
        },
        "outputId": "18ec32cd-0562-4e84-8202-f45dec013974"
      },
      "id": "3pO9AkDQPhSh",
      "execution_count": 17,
      "outputs": [
        {
          "output_type": "stream",
          "name": "stdout",
          "text": [
            "bedtools intersect -f 1 -F 1 -a /content/MethylationSignal/sorted/C004SQ51.CPG_methylation_calls.bs_call.GRCh38.20160531.bed -b /content/Monocytes.bed > /content/MethylationSignal/sorted/intersect_weighted/C004SQ51.CPG_methylation_calls.bs_call.GRCh38.20160531.bed\n",
            "bedtools intersect -f 1 -F 1 -a /content/MethylationSignal/sorted/C001UYA3bs.CPG_methylation_calls.bs_call.GRCh38.20160531.bed -b /content/Monocytes.bed > /content/MethylationSignal/sorted/intersect_weighted/C001UYA3bs.CPG_methylation_calls.bs_call.GRCh38.20160531.bed\n",
            "bedtools intersect -f 1 -F 1 -a /content/MethylationSignal/sorted/S00V2DN1.CPG_methylation_calls.bs_call.GRCh38.20160531.bed -b /content/Monocytes.bed > /content/MethylationSignal/sorted/intersect_weighted/S00V2DN1.CPG_methylation_calls.bs_call.GRCh38.20160531.bed\n",
            "bedtools intersect -f 1 -F 1 -a /content/MethylationSignal/sorted/S01B71A1.CPG_methylation_calls.bs_call.GRCh38.20160531.bed -b /content/Monocytes.bed > /content/MethylationSignal/sorted/intersect_weighted/S01B71A1.CPG_methylation_calls.bs_call.GRCh38.20160531.bed\n",
            "bedtools intersect -f 1 -F 1 -a /content/MethylationSignal/sorted/S01E03A1.CPG_methylation_calls.bs_call.GRCh38.20160531.bed -b /content/Monocytes.bed > /content/MethylationSignal/sorted/intersect_weighted/S01E03A1.CPG_methylation_calls.bs_call.GRCh38.20160531.bed\n",
            "bedtools intersect -f 1 -F 1 -a /content/MethylationSignal/sorted/S01BBUA1.CPG_methylation_calls.bs_call.GRCh38.20160531.bed -b /content/Monocytes.bed > /content/MethylationSignal/sorted/intersect_weighted/S01BBUA1.CPG_methylation_calls.bs_call.GRCh38.20160531.bed\n",
            "bedtools intersect -f 1 -F 1 -a /content/MethylationSignal/sorted/S01B63A1.CPG_methylation_calls.bs_call.GRCh38.20160531.bed -b /content/Monocytes.bed > /content/MethylationSignal/sorted/intersect_weighted/S01B63A1.CPG_methylation_calls.bs_call.GRCh38.20160531.bed\n",
            "bedtools intersect -f 1 -F 1 -a /content/MethylationSignal/sorted/S01B47A1.CPG_methylation_calls.bs_call.GRCh38.20160531.bed -b /content/Monocytes.bed > /content/MethylationSignal/sorted/intersect_weighted/S01B47A1.CPG_methylation_calls.bs_call.GRCh38.20160531.bed\n",
            "bedtools intersect -f 1 -F 1 -a /content/MethylationSignal/sorted/C005PS51.CPG_methylation_calls.bs_call.GRCh38.20160531.bed -b /content/Monocytes.bed > /content/MethylationSignal/sorted/intersect_weighted/C005PS51.CPG_methylation_calls.bs_call.GRCh38.20160531.bed\n",
            "bedtools intersect -f 1 -F 1 -a /content/MethylationSignal/sorted/GSM5652302_Blood-Monocytes-Z000000TP.hg38.bed -b /content/Monocytes.bed > /content/MethylationSignal/sorted/intersect_weighted/GSM5652302_Blood-Monocytes-Z000000TP.hg38.bed\n",
            "bedtools intersect -f 1 -F 1 -a /content/MethylationSignal/sorted/S01BFMA1.CPG_methylation_calls.bs_call.GRCh38.20160531.bed -b /content/Monocytes.bed > /content/MethylationSignal/sorted/intersect_weighted/S01BFMA1.CPG_methylation_calls.bs_call.GRCh38.20160531.bed\n",
            "bedtools intersect -f 1 -F 1 -a /content/MethylationSignal/sorted/S000RD54.CPG_methylation_calls.bs_call.GRCh38.20160531.bed -b /content/Monocytes.bed > /content/MethylationSignal/sorted/intersect_weighted/S000RD54.CPG_methylation_calls.bs_call.GRCh38.20160531.bed\n",
            "bedtools intersect -f 1 -F 1 -a /content/MethylationSignal/sorted/S01BHIA1.CPG_methylation_calls.bs_call.GRCh38.20160531.bed -b /content/Monocytes.bed > /content/MethylationSignal/sorted/intersect_weighted/S01BHIA1.CPG_methylation_calls.bs_call.GRCh38.20160531.bed\n",
            "bedtools intersect -f 1 -F 1 -a /content/MethylationSignal/sorted/S01BEOA1.CPG_methylation_calls.bs_call.GRCh38.20160531.bed -b /content/Monocytes.bed > /content/MethylationSignal/sorted/intersect_weighted/S01BEOA1.CPG_methylation_calls.bs_call.GRCh38.20160531.bed\n",
            "bedtools intersect -f 1 -F 1 -a /content/MethylationSignal/sorted/S01B55A1.CPG_methylation_calls.bs_call.GRCh38.20160531.bed -b /content/Monocytes.bed > /content/MethylationSignal/sorted/intersect_weighted/S01B55A1.CPG_methylation_calls.bs_call.GRCh38.20160531.bed\n",
            "bedtools intersect -f 1 -F 1 -a /content/MethylationSignal/sorted/S01BGKA1.CPG_methylation_calls.bs_call.GRCh38.20160531.bed -b /content/Monocytes.bed > /content/MethylationSignal/sorted/intersect_weighted/S01BGKA1.CPG_methylation_calls.bs_call.GRCh38.20160531.bed\n",
            "bedtools intersect -f 1 -F 1 -a /content/MethylationSignal/sorted/S01BAWA1.CPG_methylation_calls.bs_call.GRCh38.20160531.bed -b /content/Monocytes.bed > /content/MethylationSignal/sorted/intersect_weighted/S01BAWA1.CPG_methylation_calls.bs_call.GRCh38.20160531.bed\n",
            "bedtools intersect -f 1 -F 1 -a /content/MethylationSignal/sorted/C0010KA2bs.CPG_methylation_calls.bs_call.GRCh38.20160531.bed -b /content/Monocytes.bed > /content/MethylationSignal/sorted/intersect_weighted/C0010KA2bs.CPG_methylation_calls.bs_call.GRCh38.20160531.bed\n",
            "bedtools intersect -f 1 -F 1 -a /content/MethylationSignal/sorted/S01BDQA1.CPG_methylation_calls.bs_call.GRCh38.20160531.bed -b /content/Monocytes.bed > /content/MethylationSignal/sorted/intersect_weighted/S01BDQA1.CPG_methylation_calls.bs_call.GRCh38.20160531.bed\n",
            "bedtools intersect -f 1 -F 1 -a /content/MethylationSignal/sorted/GSM5652303_Blood-Monocytes-Z000000U3.hg38.bed -b /content/Monocytes.bed > /content/MethylationSignal/sorted/intersect_weighted/GSM5652303_Blood-Monocytes-Z000000U3.hg38.bed\n",
            "bedtools intersect -f 1 -F 1 -a /content/MethylationSignal/sorted/S01MAPA1.CPG_methylation_calls.bs_call.GRCh38.20160531.bed -b /content/Monocytes.bed > /content/MethylationSignal/sorted/intersect_weighted/S01MAPA1.CPG_methylation_calls.bs_call.GRCh38.20160531.bed\n",
            "bedtools intersect -f 1 -F 1 -a /content/MethylationSignal/sorted/GSM5652304_Blood-Monocytes-Z000000UH.hg38.bed -b /content/Monocytes.bed > /content/MethylationSignal/sorted/intersect_weighted/GSM5652304_Blood-Monocytes-Z000000UH.hg38.bed\n",
            "bedtools intersect -f 1 -F 1 -a /content/MethylationSignal/sorted/C000S5A1bs.CPG_methylation_calls.bs_call.GRCh38.20160531.bed -b /content/Monocytes.bed > /content/MethylationSignal/sorted/intersect_weighted/C000S5A1bs.CPG_methylation_calls.bs_call.GRCh38.20160531.bed\n",
            "bedtools intersect -f 1 -F 1 -a /content/MethylationSignal/sorted/S01B9YA1.CPG_methylation_calls.bs_call.GRCh38.20160531.bed -b /content/Monocytes.bed > /content/MethylationSignal/sorted/intersect_weighted/S01B9YA1.CPG_methylation_calls.bs_call.GRCh38.20160531.bed\n",
            "bedtools intersect -f 1 -F 1 -a /content/MethylationSignal/sorted/S01BCSA1.CPG_methylation_calls.bs_call.GRCh38.20160531.bed -b /content/Monocytes.bed > /content/MethylationSignal/sorted/intersect_weighted/S01BCSA1.CPG_methylation_calls.bs_call.GRCh38.20160531.bed\n"
          ]
        }
      ]
    },
    {
      "cell_type": "code",
      "source": [
        "#for all cell type positions\n",
        "!mkdir = \"/content/MethylationSignal/sorted/intersect_all\"\n",
        "output_folder = \"/content/MethylationSignal/sorted/intersect_all\"\n",
        "#all position\n",
        "map_path = \"/content/weighted_all.bed\" \n",
        "\n",
        "# maximum number of processes to run in parallel\n",
        "process_cap = 1\n",
        "# Run the Linux command on each input file in parallel\n",
        "with Pool(process_cap) as pool:\n",
        "    func = partial(bed_intersect, map_path = map_path, output_path = output_folder)\n",
        "    pool.map(func, input_paths)\n",
        "    pool.close()\n",
        "    pool.join()"
      ],
      "metadata": {
        "colab": {
          "base_uri": "https://localhost:8080/"
        },
        "id": "UuHMgYe7TwwL",
        "outputId": "9b941d72-6694-4138-ea5f-ded8d8a78a8d"
      },
      "id": "UuHMgYe7TwwL",
      "execution_count": 18,
      "outputs": [
        {
          "output_type": "stream",
          "name": "stdout",
          "text": [
            "mkdir: cannot create directory ‘=’: File exists\n",
            "bedtools intersect -f 1 -F 1 -a /content/MethylationSignal/sorted/C004SQ51.CPG_methylation_calls.bs_call.GRCh38.20160531.bed -b /content/weighted_all.bed > /content/MethylationSignal/sorted/intersect_all/C004SQ51.CPG_methylation_calls.bs_call.GRCh38.20160531.bed\n",
            "bedtools intersect -f 1 -F 1 -a /content/MethylationSignal/sorted/C001UYA3bs.CPG_methylation_calls.bs_call.GRCh38.20160531.bed -b /content/weighted_all.bed > /content/MethylationSignal/sorted/intersect_all/C001UYA3bs.CPG_methylation_calls.bs_call.GRCh38.20160531.bed\n",
            "bedtools intersect -f 1 -F 1 -a /content/MethylationSignal/sorted/S00V2DN1.CPG_methylation_calls.bs_call.GRCh38.20160531.bed -b /content/weighted_all.bed > /content/MethylationSignal/sorted/intersect_all/S00V2DN1.CPG_methylation_calls.bs_call.GRCh38.20160531.bed\n",
            "bedtools intersect -f 1 -F 1 -a /content/MethylationSignal/sorted/S01B71A1.CPG_methylation_calls.bs_call.GRCh38.20160531.bed -b /content/weighted_all.bed > /content/MethylationSignal/sorted/intersect_all/S01B71A1.CPG_methylation_calls.bs_call.GRCh38.20160531.bed\n",
            "bedtools intersect -f 1 -F 1 -a /content/MethylationSignal/sorted/S01E03A1.CPG_methylation_calls.bs_call.GRCh38.20160531.bed -b /content/weighted_all.bed > /content/MethylationSignal/sorted/intersect_all/S01E03A1.CPG_methylation_calls.bs_call.GRCh38.20160531.bed\n",
            "bedtools intersect -f 1 -F 1 -a /content/MethylationSignal/sorted/S01BBUA1.CPG_methylation_calls.bs_call.GRCh38.20160531.bed -b /content/weighted_all.bed > /content/MethylationSignal/sorted/intersect_all/S01BBUA1.CPG_methylation_calls.bs_call.GRCh38.20160531.bed\n",
            "bedtools intersect -f 1 -F 1 -a /content/MethylationSignal/sorted/S01B63A1.CPG_methylation_calls.bs_call.GRCh38.20160531.bed -b /content/weighted_all.bed > /content/MethylationSignal/sorted/intersect_all/S01B63A1.CPG_methylation_calls.bs_call.GRCh38.20160531.bed\n",
            "bedtools intersect -f 1 -F 1 -a /content/MethylationSignal/sorted/S01B47A1.CPG_methylation_calls.bs_call.GRCh38.20160531.bed -b /content/weighted_all.bed > /content/MethylationSignal/sorted/intersect_all/S01B47A1.CPG_methylation_calls.bs_call.GRCh38.20160531.bed\n",
            "bedtools intersect -f 1 -F 1 -a /content/MethylationSignal/sorted/C005PS51.CPG_methylation_calls.bs_call.GRCh38.20160531.bed -b /content/weighted_all.bed > /content/MethylationSignal/sorted/intersect_all/C005PS51.CPG_methylation_calls.bs_call.GRCh38.20160531.bed\n",
            "bedtools intersect -f 1 -F 1 -a /content/MethylationSignal/sorted/GSM5652302_Blood-Monocytes-Z000000TP.hg38.bed -b /content/weighted_all.bed > /content/MethylationSignal/sorted/intersect_all/GSM5652302_Blood-Monocytes-Z000000TP.hg38.bed\n",
            "bedtools intersect -f 1 -F 1 -a /content/MethylationSignal/sorted/S01BFMA1.CPG_methylation_calls.bs_call.GRCh38.20160531.bed -b /content/weighted_all.bed > /content/MethylationSignal/sorted/intersect_all/S01BFMA1.CPG_methylation_calls.bs_call.GRCh38.20160531.bed\n",
            "bedtools intersect -f 1 -F 1 -a /content/MethylationSignal/sorted/S000RD54.CPG_methylation_calls.bs_call.GRCh38.20160531.bed -b /content/weighted_all.bed > /content/MethylationSignal/sorted/intersect_all/S000RD54.CPG_methylation_calls.bs_call.GRCh38.20160531.bed\n",
            "bedtools intersect -f 1 -F 1 -a /content/MethylationSignal/sorted/S01BHIA1.CPG_methylation_calls.bs_call.GRCh38.20160531.bed -b /content/weighted_all.bed > /content/MethylationSignal/sorted/intersect_all/S01BHIA1.CPG_methylation_calls.bs_call.GRCh38.20160531.bed\n",
            "bedtools intersect -f 1 -F 1 -a /content/MethylationSignal/sorted/S01BEOA1.CPG_methylation_calls.bs_call.GRCh38.20160531.bed -b /content/weighted_all.bed > /content/MethylationSignal/sorted/intersect_all/S01BEOA1.CPG_methylation_calls.bs_call.GRCh38.20160531.bed\n",
            "bedtools intersect -f 1 -F 1 -a /content/MethylationSignal/sorted/S01B55A1.CPG_methylation_calls.bs_call.GRCh38.20160531.bed -b /content/weighted_all.bed > /content/MethylationSignal/sorted/intersect_all/S01B55A1.CPG_methylation_calls.bs_call.GRCh38.20160531.bed\n",
            "bedtools intersect -f 1 -F 1 -a /content/MethylationSignal/sorted/S01BGKA1.CPG_methylation_calls.bs_call.GRCh38.20160531.bed -b /content/weighted_all.bed > /content/MethylationSignal/sorted/intersect_all/S01BGKA1.CPG_methylation_calls.bs_call.GRCh38.20160531.bed\n",
            "bedtools intersect -f 1 -F 1 -a /content/MethylationSignal/sorted/S01BAWA1.CPG_methylation_calls.bs_call.GRCh38.20160531.bed -b /content/weighted_all.bed > /content/MethylationSignal/sorted/intersect_all/S01BAWA1.CPG_methylation_calls.bs_call.GRCh38.20160531.bed\n",
            "bedtools intersect -f 1 -F 1 -a /content/MethylationSignal/sorted/C0010KA2bs.CPG_methylation_calls.bs_call.GRCh38.20160531.bed -b /content/weighted_all.bed > /content/MethylationSignal/sorted/intersect_all/C0010KA2bs.CPG_methylation_calls.bs_call.GRCh38.20160531.bed\n",
            "bedtools intersect -f 1 -F 1 -a /content/MethylationSignal/sorted/S01BDQA1.CPG_methylation_calls.bs_call.GRCh38.20160531.bed -b /content/weighted_all.bed > /content/MethylationSignal/sorted/intersect_all/S01BDQA1.CPG_methylation_calls.bs_call.GRCh38.20160531.bed\n",
            "bedtools intersect -f 1 -F 1 -a /content/MethylationSignal/sorted/GSM5652303_Blood-Monocytes-Z000000U3.hg38.bed -b /content/weighted_all.bed > /content/MethylationSignal/sorted/intersect_all/GSM5652303_Blood-Monocytes-Z000000U3.hg38.bed\n",
            "bedtools intersect -f 1 -F 1 -a /content/MethylationSignal/sorted/S01MAPA1.CPG_methylation_calls.bs_call.GRCh38.20160531.bed -b /content/weighted_all.bed > /content/MethylationSignal/sorted/intersect_all/S01MAPA1.CPG_methylation_calls.bs_call.GRCh38.20160531.bed\n",
            "bedtools intersect -f 1 -F 1 -a /content/MethylationSignal/sorted/GSM5652304_Blood-Monocytes-Z000000UH.hg38.bed -b /content/weighted_all.bed > /content/MethylationSignal/sorted/intersect_all/GSM5652304_Blood-Monocytes-Z000000UH.hg38.bed\n",
            "bedtools intersect -f 1 -F 1 -a /content/MethylationSignal/sorted/C000S5A1bs.CPG_methylation_calls.bs_call.GRCh38.20160531.bed -b /content/weighted_all.bed > /content/MethylationSignal/sorted/intersect_all/C000S5A1bs.CPG_methylation_calls.bs_call.GRCh38.20160531.bed\n",
            "bedtools intersect -f 1 -F 1 -a /content/MethylationSignal/sorted/S01B9YA1.CPG_methylation_calls.bs_call.GRCh38.20160531.bed -b /content/weighted_all.bed > /content/MethylationSignal/sorted/intersect_all/S01B9YA1.CPG_methylation_calls.bs_call.GRCh38.20160531.bed\n",
            "bedtools intersect -f 1 -F 1 -a /content/MethylationSignal/sorted/S01BCSA1.CPG_methylation_calls.bs_call.GRCh38.20160531.bed -b /content/weighted_all.bed > /content/MethylationSignal/sorted/intersect_all/S01BCSA1.CPG_methylation_calls.bs_call.GRCh38.20160531.bed\n"
          ]
        }
      ]
    },
    {
      "cell_type": "markdown",
      "source": [
        "## Perform average methylation level analysis"
      ],
      "metadata": {
        "id": "ymdr3n5qPDie"
      },
      "id": "ymdr3n5qPDie"
    },
    {
      "cell_type": "code",
      "source": [
        "!mkdir = \"/content/MethylationSignal/sorted/average_methylation_level\"\n",
        "\n",
        "from functools import partial\n",
        "\n",
        "output_folder = \"/content/MethylationSignal/sorted/average_methylation_level\"\n",
        "map_path = \"/content/hr38_upstream1000_withgenename_cleaned.sorted.rmNA.bed\"\n",
        "\n",
        "def bed_map(input_path, map_path, output_path):\n",
        "    filename = os.path.basename(input_path)\n",
        "    output_path = os.path.join(output_path, filename)\n",
        "    cmd = f\"bedtools map -b {input_path} -a {map_path} -c 4 -o mean > {output_path}\"\n",
        "    print(cmd) \n",
        "    os.system(cmd)\n",
        "\n",
        "# maximum number of processes to run in parallel\n",
        "process_cap = 1\n",
        "# Run the Linux command on each input file in parallel\n",
        "with Pool(process_cap) as pool:\n",
        "    func = partial(bed_map, map_path = map_path, output_path = output_folder)\n",
        "    pool.map(func, input_paths)\n",
        "    pool.close()\n",
        "    pool.join()"
      ],
      "metadata": {
        "colab": {
          "base_uri": "https://localhost:8080/"
        },
        "id": "KhOYg8-bPJFr",
        "outputId": "8970c3ac-575f-485f-faf6-4a642a101530"
      },
      "id": "KhOYg8-bPJFr",
      "execution_count": 19,
      "outputs": [
        {
          "output_type": "stream",
          "name": "stdout",
          "text": [
            "mkdir: cannot create directory ‘=’: File exists\n",
            "bedtools map -b /content/MethylationSignal/sorted/C004SQ51.CPG_methylation_calls.bs_call.GRCh38.20160531.bed -a /content/hr38_upstream1000_withgenename_cleaned.sorted.rmNA.bed -c 4 -o mean > /content/MethylationSignal/sorted/average_methylation_level/C004SQ51.CPG_methylation_calls.bs_call.GRCh38.20160531.bed\n",
            "bedtools map -b /content/MethylationSignal/sorted/C001UYA3bs.CPG_methylation_calls.bs_call.GRCh38.20160531.bed -a /content/hr38_upstream1000_withgenename_cleaned.sorted.rmNA.bed -c 4 -o mean > /content/MethylationSignal/sorted/average_methylation_level/C001UYA3bs.CPG_methylation_calls.bs_call.GRCh38.20160531.bed\n",
            "bedtools map -b /content/MethylationSignal/sorted/S00V2DN1.CPG_methylation_calls.bs_call.GRCh38.20160531.bed -a /content/hr38_upstream1000_withgenename_cleaned.sorted.rmNA.bed -c 4 -o mean > /content/MethylationSignal/sorted/average_methylation_level/S00V2DN1.CPG_methylation_calls.bs_call.GRCh38.20160531.bed\n",
            "bedtools map -b /content/MethylationSignal/sorted/S01B71A1.CPG_methylation_calls.bs_call.GRCh38.20160531.bed -a /content/hr38_upstream1000_withgenename_cleaned.sorted.rmNA.bed -c 4 -o mean > /content/MethylationSignal/sorted/average_methylation_level/S01B71A1.CPG_methylation_calls.bs_call.GRCh38.20160531.bed\n",
            "bedtools map -b /content/MethylationSignal/sorted/S01E03A1.CPG_methylation_calls.bs_call.GRCh38.20160531.bed -a /content/hr38_upstream1000_withgenename_cleaned.sorted.rmNA.bed -c 4 -o mean > /content/MethylationSignal/sorted/average_methylation_level/S01E03A1.CPG_methylation_calls.bs_call.GRCh38.20160531.bed\n",
            "bedtools map -b /content/MethylationSignal/sorted/S01BBUA1.CPG_methylation_calls.bs_call.GRCh38.20160531.bed -a /content/hr38_upstream1000_withgenename_cleaned.sorted.rmNA.bed -c 4 -o mean > /content/MethylationSignal/sorted/average_methylation_level/S01BBUA1.CPG_methylation_calls.bs_call.GRCh38.20160531.bed\n",
            "bedtools map -b /content/MethylationSignal/sorted/S01B63A1.CPG_methylation_calls.bs_call.GRCh38.20160531.bed -a /content/hr38_upstream1000_withgenename_cleaned.sorted.rmNA.bed -c 4 -o mean > /content/MethylationSignal/sorted/average_methylation_level/S01B63A1.CPG_methylation_calls.bs_call.GRCh38.20160531.bed\n",
            "bedtools map -b /content/MethylationSignal/sorted/S01B47A1.CPG_methylation_calls.bs_call.GRCh38.20160531.bed -a /content/hr38_upstream1000_withgenename_cleaned.sorted.rmNA.bed -c 4 -o mean > /content/MethylationSignal/sorted/average_methylation_level/S01B47A1.CPG_methylation_calls.bs_call.GRCh38.20160531.bed\n",
            "bedtools map -b /content/MethylationSignal/sorted/C005PS51.CPG_methylation_calls.bs_call.GRCh38.20160531.bed -a /content/hr38_upstream1000_withgenename_cleaned.sorted.rmNA.bed -c 4 -o mean > /content/MethylationSignal/sorted/average_methylation_level/C005PS51.CPG_methylation_calls.bs_call.GRCh38.20160531.bed\n",
            "bedtools map -b /content/MethylationSignal/sorted/GSM5652302_Blood-Monocytes-Z000000TP.hg38.bed -a /content/hr38_upstream1000_withgenename_cleaned.sorted.rmNA.bed -c 4 -o mean > /content/MethylationSignal/sorted/average_methylation_level/GSM5652302_Blood-Monocytes-Z000000TP.hg38.bed\n",
            "bedtools map -b /content/MethylationSignal/sorted/S01BFMA1.CPG_methylation_calls.bs_call.GRCh38.20160531.bed -a /content/hr38_upstream1000_withgenename_cleaned.sorted.rmNA.bed -c 4 -o mean > /content/MethylationSignal/sorted/average_methylation_level/S01BFMA1.CPG_methylation_calls.bs_call.GRCh38.20160531.bed\n",
            "bedtools map -b /content/MethylationSignal/sorted/S000RD54.CPG_methylation_calls.bs_call.GRCh38.20160531.bed -a /content/hr38_upstream1000_withgenename_cleaned.sorted.rmNA.bed -c 4 -o mean > /content/MethylationSignal/sorted/average_methylation_level/S000RD54.CPG_methylation_calls.bs_call.GRCh38.20160531.bed\n",
            "bedtools map -b /content/MethylationSignal/sorted/S01BHIA1.CPG_methylation_calls.bs_call.GRCh38.20160531.bed -a /content/hr38_upstream1000_withgenename_cleaned.sorted.rmNA.bed -c 4 -o mean > /content/MethylationSignal/sorted/average_methylation_level/S01BHIA1.CPG_methylation_calls.bs_call.GRCh38.20160531.bed\n",
            "bedtools map -b /content/MethylationSignal/sorted/S01BEOA1.CPG_methylation_calls.bs_call.GRCh38.20160531.bed -a /content/hr38_upstream1000_withgenename_cleaned.sorted.rmNA.bed -c 4 -o mean > /content/MethylationSignal/sorted/average_methylation_level/S01BEOA1.CPG_methylation_calls.bs_call.GRCh38.20160531.bed\n",
            "bedtools map -b /content/MethylationSignal/sorted/S01B55A1.CPG_methylation_calls.bs_call.GRCh38.20160531.bed -a /content/hr38_upstream1000_withgenename_cleaned.sorted.rmNA.bed -c 4 -o mean > /content/MethylationSignal/sorted/average_methylation_level/S01B55A1.CPG_methylation_calls.bs_call.GRCh38.20160531.bed\n",
            "bedtools map -b /content/MethylationSignal/sorted/S01BGKA1.CPG_methylation_calls.bs_call.GRCh38.20160531.bed -a /content/hr38_upstream1000_withgenename_cleaned.sorted.rmNA.bed -c 4 -o mean > /content/MethylationSignal/sorted/average_methylation_level/S01BGKA1.CPG_methylation_calls.bs_call.GRCh38.20160531.bed\n",
            "bedtools map -b /content/MethylationSignal/sorted/S01BAWA1.CPG_methylation_calls.bs_call.GRCh38.20160531.bed -a /content/hr38_upstream1000_withgenename_cleaned.sorted.rmNA.bed -c 4 -o mean > /content/MethylationSignal/sorted/average_methylation_level/S01BAWA1.CPG_methylation_calls.bs_call.GRCh38.20160531.bed\n",
            "bedtools map -b /content/MethylationSignal/sorted/C0010KA2bs.CPG_methylation_calls.bs_call.GRCh38.20160531.bed -a /content/hr38_upstream1000_withgenename_cleaned.sorted.rmNA.bed -c 4 -o mean > /content/MethylationSignal/sorted/average_methylation_level/C0010KA2bs.CPG_methylation_calls.bs_call.GRCh38.20160531.bed\n",
            "bedtools map -b /content/MethylationSignal/sorted/S01BDQA1.CPG_methylation_calls.bs_call.GRCh38.20160531.bed -a /content/hr38_upstream1000_withgenename_cleaned.sorted.rmNA.bed -c 4 -o mean > /content/MethylationSignal/sorted/average_methylation_level/S01BDQA1.CPG_methylation_calls.bs_call.GRCh38.20160531.bed\n",
            "bedtools map -b /content/MethylationSignal/sorted/GSM5652303_Blood-Monocytes-Z000000U3.hg38.bed -a /content/hr38_upstream1000_withgenename_cleaned.sorted.rmNA.bed -c 4 -o mean > /content/MethylationSignal/sorted/average_methylation_level/GSM5652303_Blood-Monocytes-Z000000U3.hg38.bed\n",
            "bedtools map -b /content/MethylationSignal/sorted/S01MAPA1.CPG_methylation_calls.bs_call.GRCh38.20160531.bed -a /content/hr38_upstream1000_withgenename_cleaned.sorted.rmNA.bed -c 4 -o mean > /content/MethylationSignal/sorted/average_methylation_level/S01MAPA1.CPG_methylation_calls.bs_call.GRCh38.20160531.bed\n",
            "bedtools map -b /content/MethylationSignal/sorted/GSM5652304_Blood-Monocytes-Z000000UH.hg38.bed -a /content/hr38_upstream1000_withgenename_cleaned.sorted.rmNA.bed -c 4 -o mean > /content/MethylationSignal/sorted/average_methylation_level/GSM5652304_Blood-Monocytes-Z000000UH.hg38.bed\n",
            "bedtools map -b /content/MethylationSignal/sorted/C000S5A1bs.CPG_methylation_calls.bs_call.GRCh38.20160531.bed -a /content/hr38_upstream1000_withgenename_cleaned.sorted.rmNA.bed -c 4 -o mean > /content/MethylationSignal/sorted/average_methylation_level/C000S5A1bs.CPG_methylation_calls.bs_call.GRCh38.20160531.bed\n",
            "bedtools map -b /content/MethylationSignal/sorted/S01B9YA1.CPG_methylation_calls.bs_call.GRCh38.20160531.bed -a /content/hr38_upstream1000_withgenename_cleaned.sorted.rmNA.bed -c 4 -o mean > /content/MethylationSignal/sorted/average_methylation_level/S01B9YA1.CPG_methylation_calls.bs_call.GRCh38.20160531.bed\n",
            "bedtools map -b /content/MethylationSignal/sorted/S01BCSA1.CPG_methylation_calls.bs_call.GRCh38.20160531.bed -a /content/hr38_upstream1000_withgenename_cleaned.sorted.rmNA.bed -c 4 -o mean > /content/MethylationSignal/sorted/average_methylation_level/S01BCSA1.CPG_methylation_calls.bs_call.GRCh38.20160531.bed\n"
          ]
        }
      ]
    },
    {
      "cell_type": "markdown",
      "source": [
        "## Case study"
      ],
      "metadata": {
        "id": "A9Mh9KHUS6DY"
      },
      "id": "A9Mh9KHUS6DY"
    },
    {
      "cell_type": "code",
      "source": [
        "#convert .bw to .bed\n",
        "!pip install pyBigWig\n",
        "!mkdir /content/MethylationSignal/BedGraph\n",
        "\n",
        "import os\n",
        "import pyBigWig\n",
        "\n",
        "# Set the input and output folder paths\n",
        "input_folder = '/content/MethylationSignal'\n",
        "output_folder = '/content/MethylationSignal/BedGraph'\n",
        "\n",
        "import os\n",
        "import pyBigWig\n",
        "\n",
        "def convert_bw_files_to_bed(input_folder, output_folder):\n",
        "    for filename in os.listdir(input_folder):\n",
        "        if filename.endswith(\".bw\"):\n",
        "            input_path = os.path.join(input_folder, filename)\n",
        "            output_path = os.path.join(output_folder, filename.replace(\".bw\", \".bed\"))\n",
        "            convert_bw_to_bed(input_path, output_path)\n",
        "\n",
        "def convert_bw_to_bed(input_file, output_file):\n",
        "    bw = pyBigWig.open(input_file)\n",
        "    with open(output_file, 'w') as f:\n",
        "        for chrom, length in bw.chroms().items():\n",
        "            for start, end, value in bw.intervals(chrom):\n",
        "                f.write(f\"{chrom}\\t{start}\\t{end}\\t{value}\\n\")\n",
        "    bw.close()\n",
        "convert_bw_files_to_bed(input_folder, output_folder)"
      ],
      "metadata": {
        "colab": {
          "base_uri": "https://localhost:8080/"
        },
        "id": "GAFTfqXT8i2M",
        "outputId": "38350eec-8c29-4fd0-f7cc-7756cc5daaf5"
      },
      "id": "GAFTfqXT8i2M",
      "execution_count": 18,
      "outputs": [
        {
          "output_type": "stream",
          "name": "stdout",
          "text": [
            "Looking in indexes: https://pypi.org/simple, https://us-python.pkg.dev/colab-wheels/public/simple/\n",
            "Collecting pyBigWig\n",
            "  Downloading pyBigWig-0.3.22-cp310-cp310-manylinux_2_17_x86_64.manylinux2014_x86_64.whl (209 kB)\n",
            "\u001b[2K     \u001b[90m━━━━━━━━━━━━━━━━━━━━━━━━━━━━━━━━━━━━━━━\u001b[0m \u001b[32m209.7/209.7 kB\u001b[0m \u001b[31m5.5 MB/s\u001b[0m eta \u001b[36m0:00:00\u001b[0m\n",
            "\u001b[?25hInstalling collected packages: pyBigWig\n",
            "Successfully installed pyBigWig-0.3.22\n"
          ]
        }
      ]
    },
    {
      "cell_type": "code",
      "source": [
        "\n",
        "\n",
        "def convert_bw_files_to_bed(input_folder, output_folder):\n",
        "    for filename in os.listdir(input_folder):\n",
        "        if filename.endswith(\".bigwig\"):\n",
        "            input_path = os.path.join(input_folder, filename)\n",
        "            output_path = os.path.join(output_folder, filename.replace(\".bigwig\", \".bed\"))\n",
        "            convert_bw_to_bed(input_path, output_path)\n",
        "\n",
        "def convert_bw_to_bed(input_file, output_file):\n",
        "    bw = pyBigWig.open(input_file)\n",
        "    with open(output_file, 'w') as f:\n",
        "        for chrom, length in bw.chroms().items():\n",
        "            for start, end, value in bw.intervals(chrom):\n",
        "                f.write(f\"{chrom}\\t{start}\\t{end}\\t{value}\\n\")\n",
        "    bw.close()\n",
        "convert_bw_files_to_bed(input_folder, output_folder)"
      ],
      "metadata": {
        "id": "RdUW6z288ryV"
      },
      "id": "RdUW6z288ryV",
      "execution_count": 22,
      "outputs": []
    },
    {
      "cell_type": "code",
      "source": [
        "#install bedtools\n",
        "!apt-get install bedtools\n",
        "!bedtools --version"
      ],
      "metadata": {
        "id": "OABEZAIM9JYP"
      },
      "id": "OABEZAIM9JYP",
      "execution_count": null,
      "outputs": []
    },
    {
      "cell_type": "code",
      "source": [
        "import os\n",
        "from multiprocessing import Pool\n",
        "\n",
        "input = \"/content/MethylationSignal/BedGraph\"\n",
        "output_sort = \"/content/MethylationSignal/sorted\"\n",
        "\n",
        "def run_linux_command(input_path):\n",
        "    filename = os.path.basename(input_path)\n",
        "    output_path = os.path.join(output_sort, filename)\n",
        "    cmd = f\"bedtools sort -i {input_path} > {output_path}\"\n",
        "    print(cmd) \n",
        "    os.system(cmd)\n",
        "\n",
        "# Get a list of input file paths\n",
        "input_paths = []\n",
        "for filename in os.listdir(input):\n",
        "    if filename.endswith(\".bed\"):\n",
        "        input_path = os.path.join(input, filename)\n",
        "        input_paths.append(input_path)\n",
        "\n",
        "# maximum number of processes to run in parallel\n",
        "process_cap = 1 \n",
        "# Run the Linux command on each input file in parallel\n",
        "with Pool(process_cap) as pool:\n",
        "    pool.map(run_linux_command, input_paths)\n",
        "    pool.close()\n",
        "    pool.join()"
      ],
      "metadata": {
        "colab": {
          "base_uri": "https://localhost:8080/"
        },
        "id": "vOpaVEyB9N__",
        "outputId": "68408bc8-95a8-4205-d1a8-1307cfcb7edb"
      },
      "id": "vOpaVEyB9N__",
      "execution_count": 34,
      "outputs": [
        {
          "output_type": "stream",
          "name": "stdout",
          "text": [
            "bedtools sort -i /content/MethylationSignal/BedGraph/GSM5652302_Blood-Monocytes-Z000000TP.bed > /content/MethylationSignal/sorted/GSM5652302_Blood-Monocytes-Z000000TP.bed\n",
            "bedtools sort -i /content/MethylationSignal/BedGraph/C000S5A1bs.CPG_methylation_calls.bs_cov.GRCh38.20160531.bed > /content/MethylationSignal/sorted/C000S5A1bs.CPG_methylation_calls.bs_cov.GRCh38.20160531.bed\n",
            "bedtools sort -i /content/MethylationSignal/BedGraph/GSM5652302_Blood-Monocytes-Z000000TP.hg38.bed > /content/MethylationSignal/sorted/GSM5652302_Blood-Monocytes-Z000000TP.hg38.bed\n"
          ]
        }
      ]
    },
    {
      "cell_type": "code",
      "source": [
        "ll = \"/content/MethylationSignal/BedGraph/GSM5652302_Blood-Monocytes-Z000000TP.hg38.bed\"\n",
        "bed_data = pd.read_csv(ll, sep=\"\\t\",header = None, names=['Chr', 'Start', 'End','Level'])"
      ],
      "metadata": {
        "id": "N7lqcn64Aznw"
      },
      "id": "N7lqcn64Aznw",
      "execution_count": 28,
      "outputs": []
    },
    {
      "cell_type": "code",
      "source": [
        "#case study\n",
        "!bedtools intersect -f 1 -F 1 -a /content/MethylationSignal/sorted/C000S5A1bs.CPG_methylation_calls.bs_cov.GRCh38.20160531.bed -b /content/MethylationSignal/sorted/GSM5652302_Blood-Monocytes-Z000000TP.bed > test_intersect.bed"
      ],
      "metadata": {
        "id": "RboNlZHxQnR-"
      },
      "id": "RboNlZHxQnR-",
      "execution_count": 36,
      "outputs": []
    },
    {
      "cell_type": "code",
      "source": [
        "#case study\n",
        "!bedtools intersect -f 1 -F 1 -a /content/MethylationSignal/sorted/C000S5A1bs.CPG_methylation_calls.bs_cov.GRCh38.20160531.bed -b /content/MethylationSignal/sorted/GSM5652302_Blood-Monocytes-Z000000TP.hg38.bed > hg38_test_intersect.bed"
      ],
      "metadata": {
        "id": "JcOxpoCbBP1A"
      },
      "id": "JcOxpoCbBP1A",
      "execution_count": 37,
      "outputs": []
    },
    {
      "cell_type": "code",
      "source": [
        "ll = \"/content/test_intersect.bed\"\n",
        "\n",
        "bed_data = pd.read_csv(ll, sep=\"\\t\",header = None, names=['Chr', 'Start', 'End','Level'])\n",
        "\n",
        "blue = \"/content/MethylationSignal/sorted/C000S5A1bs.CPG_methylation_calls.bs_cov.GRCh38.20160531.bed\"\n",
        "blue_data = pd.read_csv(blue, sep=\"\\t\",header = None,names=['Chr', 'Start', 'End','Level'])\n",
        "\n",
        "\n",
        "grail = \"/content/MethylationSignal/sorted/GSM5652302_Blood-Monocytes-Z000000TP.bed\"\n",
        "grail_data = pd.read_csv(grail, sep=\"\\t\",header = None,names=['Chr', 'Start', 'End','Level'])\n"
      ],
      "metadata": {
        "id": "npZ68hflZ0UP"
      },
      "id": "npZ68hflZ0UP",
      "execution_count": 42,
      "outputs": []
    },
    {
      "cell_type": "code",
      "source": [
        "bed_data.head()"
      ],
      "metadata": {
        "colab": {
          "base_uri": "https://localhost:8080/",
          "height": 206
        },
        "id": "mdYVlxdxq0od",
        "outputId": "842f5b9e-3a3b-4569-eb8c-d974a2c5f576"
      },
      "id": "mdYVlxdxq0od",
      "execution_count": 43,
      "outputs": [
        {
          "output_type": "execute_result",
          "data": {
            "text/plain": [
              "    Chr  Start    End  Level\n",
              "0  chr1  10468  10470    8.0\n",
              "1  chr1  10470  10472    8.0\n",
              "2  chr1  10483  10485    8.0\n",
              "3  chr1  10488  10490    8.0\n",
              "4  chr1  10492  10494    8.0"
            ],
            "text/html": [
              "\n",
              "  <div id=\"df-354e86ca-3776-4678-94fe-e30f272a5b0c\">\n",
              "    <div class=\"colab-df-container\">\n",
              "      <div>\n",
              "<style scoped>\n",
              "    .dataframe tbody tr th:only-of-type {\n",
              "        vertical-align: middle;\n",
              "    }\n",
              "\n",
              "    .dataframe tbody tr th {\n",
              "        vertical-align: top;\n",
              "    }\n",
              "\n",
              "    .dataframe thead th {\n",
              "        text-align: right;\n",
              "    }\n",
              "</style>\n",
              "<table border=\"1\" class=\"dataframe\">\n",
              "  <thead>\n",
              "    <tr style=\"text-align: right;\">\n",
              "      <th></th>\n",
              "      <th>Chr</th>\n",
              "      <th>Start</th>\n",
              "      <th>End</th>\n",
              "      <th>Level</th>\n",
              "    </tr>\n",
              "  </thead>\n",
              "  <tbody>\n",
              "    <tr>\n",
              "      <th>0</th>\n",
              "      <td>chr1</td>\n",
              "      <td>10468</td>\n",
              "      <td>10470</td>\n",
              "      <td>8.0</td>\n",
              "    </tr>\n",
              "    <tr>\n",
              "      <th>1</th>\n",
              "      <td>chr1</td>\n",
              "      <td>10470</td>\n",
              "      <td>10472</td>\n",
              "      <td>8.0</td>\n",
              "    </tr>\n",
              "    <tr>\n",
              "      <th>2</th>\n",
              "      <td>chr1</td>\n",
              "      <td>10483</td>\n",
              "      <td>10485</td>\n",
              "      <td>8.0</td>\n",
              "    </tr>\n",
              "    <tr>\n",
              "      <th>3</th>\n",
              "      <td>chr1</td>\n",
              "      <td>10488</td>\n",
              "      <td>10490</td>\n",
              "      <td>8.0</td>\n",
              "    </tr>\n",
              "    <tr>\n",
              "      <th>4</th>\n",
              "      <td>chr1</td>\n",
              "      <td>10492</td>\n",
              "      <td>10494</td>\n",
              "      <td>8.0</td>\n",
              "    </tr>\n",
              "  </tbody>\n",
              "</table>\n",
              "</div>\n",
              "      <button class=\"colab-df-convert\" onclick=\"convertToInteractive('df-354e86ca-3776-4678-94fe-e30f272a5b0c')\"\n",
              "              title=\"Convert this dataframe to an interactive table.\"\n",
              "              style=\"display:none;\">\n",
              "        \n",
              "  <svg xmlns=\"http://www.w3.org/2000/svg\" height=\"24px\"viewBox=\"0 0 24 24\"\n",
              "       width=\"24px\">\n",
              "    <path d=\"M0 0h24v24H0V0z\" fill=\"none\"/>\n",
              "    <path d=\"M18.56 5.44l.94 2.06.94-2.06 2.06-.94-2.06-.94-.94-2.06-.94 2.06-2.06.94zm-11 1L8.5 8.5l.94-2.06 2.06-.94-2.06-.94L8.5 2.5l-.94 2.06-2.06.94zm10 10l.94 2.06.94-2.06 2.06-.94-2.06-.94-.94-2.06-.94 2.06-2.06.94z\"/><path d=\"M17.41 7.96l-1.37-1.37c-.4-.4-.92-.59-1.43-.59-.52 0-1.04.2-1.43.59L10.3 9.45l-7.72 7.72c-.78.78-.78 2.05 0 2.83L4 21.41c.39.39.9.59 1.41.59.51 0 1.02-.2 1.41-.59l7.78-7.78 2.81-2.81c.8-.78.8-2.07 0-2.86zM5.41 20L4 18.59l7.72-7.72 1.47 1.35L5.41 20z\"/>\n",
              "  </svg>\n",
              "      </button>\n",
              "      \n",
              "  <style>\n",
              "    .colab-df-container {\n",
              "      display:flex;\n",
              "      flex-wrap:wrap;\n",
              "      gap: 12px;\n",
              "    }\n",
              "\n",
              "    .colab-df-convert {\n",
              "      background-color: #E8F0FE;\n",
              "      border: none;\n",
              "      border-radius: 50%;\n",
              "      cursor: pointer;\n",
              "      display: none;\n",
              "      fill: #1967D2;\n",
              "      height: 32px;\n",
              "      padding: 0 0 0 0;\n",
              "      width: 32px;\n",
              "    }\n",
              "\n",
              "    .colab-df-convert:hover {\n",
              "      background-color: #E2EBFA;\n",
              "      box-shadow: 0px 1px 2px rgba(60, 64, 67, 0.3), 0px 1px 3px 1px rgba(60, 64, 67, 0.15);\n",
              "      fill: #174EA6;\n",
              "    }\n",
              "\n",
              "    [theme=dark] .colab-df-convert {\n",
              "      background-color: #3B4455;\n",
              "      fill: #D2E3FC;\n",
              "    }\n",
              "\n",
              "    [theme=dark] .colab-df-convert:hover {\n",
              "      background-color: #434B5C;\n",
              "      box-shadow: 0px 1px 3px 1px rgba(0, 0, 0, 0.15);\n",
              "      filter: drop-shadow(0px 1px 2px rgba(0, 0, 0, 0.3));\n",
              "      fill: #FFFFFF;\n",
              "    }\n",
              "  </style>\n",
              "\n",
              "      <script>\n",
              "        const buttonEl =\n",
              "          document.querySelector('#df-354e86ca-3776-4678-94fe-e30f272a5b0c button.colab-df-convert');\n",
              "        buttonEl.style.display =\n",
              "          google.colab.kernel.accessAllowed ? 'block' : 'none';\n",
              "\n",
              "        async function convertToInteractive(key) {\n",
              "          const element = document.querySelector('#df-354e86ca-3776-4678-94fe-e30f272a5b0c');\n",
              "          const dataTable =\n",
              "            await google.colab.kernel.invokeFunction('convertToInteractive',\n",
              "                                                     [key], {});\n",
              "          if (!dataTable) return;\n",
              "\n",
              "          const docLinkHtml = 'Like what you see? Visit the ' +\n",
              "            '<a target=\"_blank\" href=https://colab.research.google.com/notebooks/data_table.ipynb>data table notebook</a>'\n",
              "            + ' to learn more about interactive tables.';\n",
              "          element.innerHTML = '';\n",
              "          dataTable['output_type'] = 'display_data';\n",
              "          await google.colab.output.renderOutput(dataTable, element);\n",
              "          const docLink = document.createElement('div');\n",
              "          docLink.innerHTML = docLinkHtml;\n",
              "          element.appendChild(docLink);\n",
              "        }\n",
              "      </script>\n",
              "    </div>\n",
              "  </div>\n",
              "  "
            ]
          },
          "metadata": {},
          "execution_count": 43
        }
      ]
    },
    {
      "cell_type": "code",
      "source": [
        "import pandas as pd\n",
        "import seaborn as sns\n",
        "import matplotlib.pyplot as plt\n",
        "# create the histogram\n",
        "fig, ax = plt.subplots(figsize=(8, 6))\n",
        "\n",
        "\n",
        "\n",
        "ax.hist(grail_data.iloc[:, 1], alpha=0.5, label='GRAIL input')\n",
        "ax.hist(blue_data.iloc[:, 1], alpha=0.5, label='Blueprint input')\n",
        "ax.hist(bed_data.iloc[:, 1], alpha=0.5, label='Intersected_version2 output')\n",
        "\n",
        "\n",
        "ax.set_xlabel('Chromosome Position')\n",
        "ax.set_ylabel('Amount')\n",
        "ax.set_title('Comparet positions in three bed files')\n",
        "ax.legend(loc='upper right')\n",
        "\n",
        "#plt.savefig('case stydy - 1.jpg', dpi=700,bbox_inches='tight', pad_inches=0.1)\n",
        "plt.show()"
      ],
      "metadata": {
        "colab": {
          "base_uri": "https://localhost:8080/",
          "height": 564
        },
        "id": "jxOCSGmWFdzU",
        "outputId": "ea33d010-08a2-4d21-d9a4-24c15e06015e"
      },
      "id": "jxOCSGmWFdzU",
      "execution_count": 45,
      "outputs": [
        {
          "output_type": "display_data",
          "data": {
            "text/plain": [
              "<Figure size 800x600 with 1 Axes>"
            ],
            "image/png": "[encoded data removed]"
          },
          "metadata": {}
        }
      ]
    },
    {
      "cell_type": "code",
      "source": [
        "import pandas as pd\n",
        "import seaborn as sns\n",
        "import matplotlib.pyplot as plt\n",
        "# create the histogram\n",
        "fig, ax = plt.subplots(figsize=(8, 6))\n",
        "\n",
        "\n",
        "\n",
        "ax.hist(grail_data.iloc[:, 1], alpha=0.5, label='GRAIL_hg39 input')\n",
        "ax.hist(blue_data.iloc[:, 1], alpha=0.5, label='Blueprint input')\n",
        "ax.hist(bed_data.iloc[:, 1], alpha=0.5, label='Intersected_version1 output')\n",
        "\n",
        "\n",
        "ax.set_xlabel('Chromosome Position')\n",
        "ax.set_ylabel('Amount')\n",
        "ax.set_title('Comparet positions in three bed files')\n",
        "ax.legend(loc='upper right')\n",
        "\n",
        "#plt.savefig('case stydy - 1.jpg', dpi=700,bbox_inches='tight', pad_inches=0.1)\n",
        "plt.show()"
      ],
      "metadata": {
        "colab": {
          "base_uri": "https://localhost:8080/",
          "height": 564
        },
        "id": "J8iD__SXWyi6",
        "outputId": "4f0e51d9-2bfa-4b5d-e9ac-99c6ce698ea3"
      },
      "id": "J8iD__SXWyi6",
      "execution_count": 41,
      "outputs": [
        {
          "output_type": "display_data",
          "data": {
            "text/plain": [
              "<Figure size 800x600 with 1 Axes>"
            ],
            "image/png": "[encoded data removed]"
          },
          "metadata": {}
        }
      ]
    },
    {
      "cell_type": "code",
      "source": [
        "merged_df_ = pd.merge(merged_df, grail_data, on='Start')"
      ],
      "metadata": {
        "id": "V088wkfyrJ-8"
      },
      "id": "V088wkfyrJ-8",
      "execution_count": 257,
      "outputs": []
    },
    {
      "cell_type": "code",
      "source": [
        "len(blue_data)"
      ],
      "metadata": {
        "colab": {
          "base_uri": "https://localhost:8080/"
        },
        "id": "MbEplxYyyJBX",
        "outputId": "f6ccc255-1fe7-4acd-ddee-d852bae17cec"
      },
      "id": "MbEplxYyyJBX",
      "execution_count": 260,
      "outputs": [
        {
          "output_type": "execute_result",
          "data": {
            "text/plain": [
              "26627326"
            ]
          },
          "metadata": {},
          "execution_count": 260
        }
      ]
    },
    {
      "cell_type": "code",
      "source": [
        "# create scatter plot with three y-values\n",
        "plt.scatter(grail_data.iloc[:, 1], grail_data.iloc[:, 2])\n",
        "plt.scatter(blue_data.iloc[:, 1], blue_data.iloc[:, 2])\n",
        "plt.scatter(bed_data.iloc[:, 1], bed_data.iloc[:, 2])\n",
        "\n",
        "# add x-axis label and legend\n",
        "plt.xlabel('Chromosome position start Position')\n",
        "plt.legend(['GRAIL End Position', 'Blueprint end Position', 'Intersected End Position'])\n",
        "\n",
        "# show the plot\n",
        "plt.show()"
      ],
      "metadata": {
        "colab": {
          "base_uri": "https://localhost:8080/",
          "height": 465
        },
        "id": "_7m46UG6emdf",
        "outputId": "ddeb478c-b103-4cfe-d30f-f9410ef67037"
      },
      "id": "_7m46UG6emdf",
      "execution_count": 220,
      "outputs": [
        {
          "output_type": "display_data",
          "data": {
            "text/plain": [
              "<Figure size 640x480 with 1 Axes>"
            ],
            "image/png": "[encoded data removed]"
          },
          "metadata": {}
        }
      ]
    },
    {
      "cell_type": "code",
      "source": [
        "blue = \"/content/MethylationSignal/sorted/intersect_weighted_monocytes/C000S5A1bs.CPG_methylation_calls.bs_call.GRCh38.20160531.bed\"\n",
        "blue_data = pd.read_csv(blue, sep=\"\\t\",header = None, names=['Chr', 'Start', 'End','Level'])\n",
        "\n",
        "ll = \"/content/Monocytes.bed\"\n",
        "bed_data = pd.read_csv(ll, sep=\"\\t\",header = None, names=['Chr', 'Start', 'End','Level'])\n",
        "\n",
        "grail = \"/content/MethylationSignal/sorted/intersect_weighted_monocytes/GSM5652302.Blood-Monocytes-Z000000TP.bed\"\n",
        "grail_data = pd.read_csv(grail, sep=\"\\t\",header = None, names=['Chr', 'Start', 'End','Level'])\n"
      ],
      "metadata": {
        "id": "TNaLWT9BY2Kb"
      },
      "id": "TNaLWT9BY2Kb",
      "execution_count": 242,
      "outputs": []
    },
    {
      "cell_type": "code",
      "source": [
        "# create the histogram\n",
        "fig, ax = plt.subplots(figsize=(8, 6))\n",
        "\n",
        "ax.hist(bed_data.iloc[:, 1], alpha=0.5, label='Intersect input')\n",
        "ax.hist(blue_data.iloc[:, 1], alpha=0.5, label='Blueprint output')\n",
        "ax.hist(grail_data.iloc[:, 1], alpha=0.5, label='GRAIL output')\n",
        "\n",
        "ax.set_xlabel('Chromosome Position')\n",
        "ax.set_ylabel('Amount')\n",
        "ax.set_title('Comparet positions in three bed files')\n",
        "ax.legend(loc='upper right')\n",
        "\n",
        "plt.savefig('case stydy - with monocytes_.jpg', dpi=700,bbox_inches='tight', pad_inches=0.1)\n",
        "plt.show()"
      ],
      "metadata": {
        "colab": {
          "base_uri": "https://localhost:8080/",
          "height": 564
        },
        "id": "nJ-_hYSsZR1_",
        "outputId": "72b52927-459a-46cd-d3d7-80b4ff1cbf4b"
      },
      "id": "nJ-_hYSsZR1_",
      "execution_count": 217,
      "outputs": [
        {
          "output_type": "display_data",
          "data": {
            "text/plain": [
              "<Figure size 800x600 with 1 Axes>"
            ],
            "image/png": "[encoded data removed]"
          },
          "metadata": {}
        }
      ]
    },
    {
      "cell_type": "code",
      "source": [
        "folder_path = \"/content/MethylationSignal/sorted\"\n",
        "\n",
        "# iterate over all files in the folder\n",
        "for filename in os.listdir(folder_path):\n",
        "    # check if the file is a bed file\n",
        "    if filename.endswith(\".bed\"):\n",
        "        file_path = os.path.join(folder_path, filename)\n",
        "        # read the file\n",
        "        with open(file_path, \"r\") as file:\n",
        "            # initialize variables\n",
        "            total = 0\n",
        "            count = 0\n",
        "            # iterate over each line in the file\n",
        "            for line in file:\n",
        "                # split the line by tab and extract the fourth column\n",
        "                fields = line.strip().split(\"\\t\")\n",
        "                value = float(fields[3])\n",
        "                # add the value to the total and increment the count\n",
        "                total += value\n",
        "                count += 1\n",
        "            # calculate and print the average\n",
        "\n",
        "            average = total / count\n",
        "            print(f\"{filename}: {average}\")"
      ],
      "metadata": {
        "colab": {
          "base_uri": "https://localhost:8080/"
        },
        "id": "ouPvSwpUjagF",
        "outputId": "95d58340-8712-4bb1-9c5d-2e2cfd8dca9d"
      },
      "id": "ouPvSwpUjagF",
      "execution_count": 235,
      "outputs": [
        {
          "output_type": "stream",
          "name": "stdout",
          "text": [
            "S01B55A1.CPG_methylation_calls.bs_call.GRCh38.20160531.bed: 0.8166998225416942\n",
            "S01BEOA1.CPG_methylation_calls.bs_call.GRCh38.20160531.bed: 0.8205527659158619\n",
            "S00V2DN1.CPG_methylation_calls.bs_call.GRCh38.20160531.bed: 0.82467712816831\n",
            "S01BFMA1.CPG_methylation_calls.bs_call.GRCh38.20160531.bed: 0.821757333755525\n",
            "GSM5652304_Blood-Monocytes-Z000000UH.bed: 0.8030364362106598\n",
            "S01BAWA1.CPG_methylation_calls.bs_call.GRCh38.20160531.bed: 0.812014696604835\n",
            "C0010KA2bs.CPG_methylation_calls.bs_call.GRCh38.20160531.bed: 0.8055859679892758\n",
            "S01E03A1.CPG_methylation_calls.bs_call.GRCh38.20160531.bed: 0.8155986774969046\n",
            "C000S5A1bs.CPG_methylation_calls.bs_call.GRCh38.20160531.bed: 0.8145706481156868\n",
            "S01BBUA1.CPG_methylation_calls.bs_call.GRCh38.20160531.bed: 0.8171847293553572\n",
            "S01B9YA1.CPG_methylation_calls.bs_call.GRCh38.20160531.bed: 0.8167724122343456\n",
            "C004SQ51.CPG_methylation_calls.bs_call.GRCh38.20160531.bed: 0.8195304436838617\n",
            "S01B71A1.CPG_methylation_calls.bs_call.GRCh38.20160531.bed: 0.8158132503897556\n",
            "S01BDQA1.CPG_methylation_calls.bs_call.GRCh38.20160531.bed: 0.8185514095196049\n",
            "C001UYA3bs.CPG_methylation_calls.bs_call.GRCh38.20160531.bed: 0.8173815055413984\n",
            "S01MAPA1.CPG_methylation_calls.bs_call.GRCh38.20160531.bed: 0.8183012228278924\n",
            "S01B47A1.CPG_methylation_calls.bs_call.GRCh38.20160531.bed: 0.8199810640512958\n",
            "GSM5652303_Blood-Monocytes-Z000000U3.bed: 0.8049027868866515\n",
            "S000RD54.CPG_methylation_calls.bs_call.GRCh38.20160531.bed: 0.8146931170115475\n",
            "C005PS51.CPG_methylation_calls.bs_call.GRCh38.20160531.bed: 0.8143150277658676\n",
            "GSM5652302_Blood-Monocytes-Z000000TP.bed: 0.7955271340967927\n",
            "S01B63A1.CPG_methylation_calls.bs_call.GRCh38.20160531.bed: 0.8156857884994829\n",
            "S01BGKA1.CPG_methylation_calls.bs_call.GRCh38.20160531.bed: 0.8149655391558003\n",
            "S01BHIA1.CPG_methylation_calls.bs_call.GRCh38.20160531.bed: 0.8219056933930232\n",
            "S01BCSA1.CPG_methylation_calls.bs_call.GRCh38.20160531.bed: 0.8166721269028324\n"
          ]
        }
      ]
    },
    {
      "cell_type": "code",
      "source": [
        "folder_path = \"/content/MethylationSignal/sorted/intersect_weighted_monocytes\"\n",
        "\n",
        "# iterate over all files in the folder\n",
        "for filename in os.listdir(folder_path):\n",
        "    # check if the file is a bed file\n",
        "    if filename.endswith(\".bed\"):\n",
        "        file_path = os.path.join(folder_path, filename)\n",
        "        # read the file\n",
        "        with open(file_path, \"r\") as file:\n",
        "            # initialize variables\n",
        "            total = 0\n",
        "            count = 0\n",
        "            # iterate over each line in the file\n",
        "            for line in file:\n",
        "                # split the line by tab and extract the fourth column\n",
        "                fields = line.strip().split(\"\\t\")\n",
        "                value = float(fields[3])\n",
        "                # add the value to the total and increment the count\n",
        "                total += value\n",
        "                count += 1\n",
        "            # calculate and print the average\n",
        "\n",
        "            average = total / count\n",
        "            print(f\"{filename}: {average}\")"
      ],
      "metadata": {
        "colab": {
          "base_uri": "https://localhost:8080/"
        },
        "id": "7xTzOdF6j8Jg",
        "outputId": "29a29076-7e54-40a2-9a11-a46572f913c7"
      },
      "id": "7xTzOdF6j8Jg",
      "execution_count": 233,
      "outputs": [
        {
          "output_type": "stream",
          "name": "stdout",
          "text": [
            "S01B55A1.CPG_methylation_calls.bs_call.GRCh38.20160531.bed: 0.5996623117907263\n",
            "S01BEOA1.CPG_methylation_calls.bs_call.GRCh38.20160531.bed: 0.6236170855261872\n",
            "S00V2DN1.CPG_methylation_calls.bs_call.GRCh38.20160531.bed: 0.6816577044967659\n",
            "S01BFMA1.CPG_methylation_calls.bs_call.GRCh38.20160531.bed: 0.7114128900611209\n",
            "S01BAWA1.CPG_methylation_calls.bs_call.GRCh38.20160531.bed: 0.6032104736938697\n",
            "C0010KA2bs.CPG_methylation_calls.bs_call.GRCh38.20160531.bed: 0.8057691533786936\n",
            "S01E03A1.CPG_methylation_calls.bs_call.GRCh38.20160531.bed: 0.2296320001576096\n",
            "GSM5652302.Blood-Monocytes-Z000000TP.bed: 0.8300095252870094\n",
            "C000S5A1bs.CPG_methylation_calls.bs_call.GRCh38.20160531.bed: 0.8062258060531495\n",
            "S01BBUA1.CPG_methylation_calls.bs_call.GRCh38.20160531.bed: 0.6332479921248124\n",
            "S01B9YA1.CPG_methylation_calls.bs_call.GRCh38.20160531.bed: 0.6055221321525978\n",
            "GSM5652304.Blood-Monocytes-Z000000UH.bed: 0.8295428594574332\n",
            "C004SQ51.CPG_methylation_calls.bs_call.GRCh38.20160531.bed: 0.7977373853064958\n",
            "GSM5652303.Blood-Monocytes-Z000000U3.bed: 0.8426341458064753\n",
            "S01B71A1.CPG_methylation_calls.bs_call.GRCh38.20160531.bed: 0.6377630515573883\n",
            "S01BDQA1.CPG_methylation_calls.bs_call.GRCh38.20160531.bed: 0.7140723623765922\n",
            "C001UYA3bs.CPG_methylation_calls.bs_call.GRCh38.20160531.bed: 0.8108595953294725\n",
            "S01MAPA1.CPG_methylation_calls.bs_call.GRCh38.20160531.bed: 0.2812226682382009\n",
            "S01B47A1.CPG_methylation_calls.bs_call.GRCh38.20160531.bed: 0.6416032213777724\n",
            "S000RD54.CPG_methylation_calls.bs_call.GRCh38.20160531.bed: 0.7855854392940643\n",
            "C005PS51.CPG_methylation_calls.bs_call.GRCh38.20160531.bed: 0.7940768448991892\n",
            "S01B63A1.CPG_methylation_calls.bs_call.GRCh38.20160531.bed: 0.6601887548933307\n",
            "S01BGKA1.CPG_methylation_calls.bs_call.GRCh38.20160531.bed: 0.7508190952990222\n",
            "S01BHIA1.CPG_methylation_calls.bs_call.GRCh38.20160531.bed: 0.5759416505304621\n",
            "S01BCSA1.CPG_methylation_calls.bs_call.GRCh38.20160531.bed: 0.6285482899246502\n"
          ]
        }
      ]
    },
    {
      "cell_type": "code",
      "source": [
        "folder_path = \"/content/MethylationSignal/sorted/intersect_weighted\"\n",
        "\n",
        "# iterate over all files in the folder\n",
        "for filename in os.listdir(folder_path):\n",
        "    # check if the file is a bed file\n",
        "    if filename.endswith(\".bed\"):\n",
        "        file_path = os.path.join(folder_path, filename)\n",
        "        # read the file\n",
        "        with open(file_path, \"r\") as file:\n",
        "            # initialize variables\n",
        "            total = 0\n",
        "            count = 0\n",
        "            # iterate over each line in the file\n",
        "            for line in file:\n",
        "                # split the line by tab and extract the fourth column\n",
        "                fields = line.strip().split(\"\\t\")\n",
        "                value = float(fields[3])\n",
        "                # add the value to the total and increment the count\n",
        "                total += value\n",
        "                count += 1\n",
        "            # calculate and print the average\n",
        "\n",
        "            average = total / count\n",
        "            print(f\"{filename}: {average}\")"
      ],
      "metadata": {
        "colab": {
          "base_uri": "https://localhost:8080/"
        },
        "id": "-UrD-nBxkDiY",
        "outputId": "33882a95-2af9-4b87-e18e-08bace2bd646"
      },
      "id": "-UrD-nBxkDiY",
      "execution_count": 230,
      "outputs": [
        {
          "output_type": "stream",
          "name": "stdout",
          "text": [
            "S01B55A1.CPG_methylation_calls.bs_call.GRCh38.20160531.bed: 0.9027825555258285\n",
            "S01BEOA1.CPG_methylation_calls.bs_call.GRCh38.20160531.bed: 0.8972984162747499\n",
            "S00V2DN1.CPG_methylation_calls.bs_call.GRCh38.20160531.bed: 0.8924627934699971\n",
            "S01BFMA1.CPG_methylation_calls.bs_call.GRCh38.20160531.bed: 0.9014087764573944\n",
            "S01BAWA1.CPG_methylation_calls.bs_call.GRCh38.20160531.bed: 0.8961775664992373\n",
            "C0010KA2bs.CPG_methylation_calls.bs_call.GRCh38.20160531.bed: 0.8945951308526018\n",
            "S01E03A1.CPG_methylation_calls.bs_call.GRCh38.20160531.bed: 0.8791924973901224\n",
            "GSM5652302.Blood-Monocytes-Z000000TP.bed: 0.8297555126264456\n",
            "C000S5A1bs.CPG_methylation_calls.bs_call.GRCh38.20160531.bed: 0.9007304836688461\n",
            "S01BBUA1.CPG_methylation_calls.bs_call.GRCh38.20160531.bed: 0.9042969343197027\n",
            "S01B9YA1.CPG_methylation_calls.bs_call.GRCh38.20160531.bed: 0.901614978589011\n",
            "GSM5652304.Blood-Monocytes-Z000000UH.bed: 0.8355793536525481\n",
            "C004SQ51.CPG_methylation_calls.bs_call.GRCh38.20160531.bed: 0.8969857278433894\n",
            "GSM5652303.Blood-Monocytes-Z000000U3.bed: 0.8346899532936985\n",
            "S01B71A1.CPG_methylation_calls.bs_call.GRCh38.20160531.bed: 0.9020746952874796\n",
            "S01BDQA1.CPG_methylation_calls.bs_call.GRCh38.20160531.bed: 0.9014836363730947\n",
            "C001UYA3bs.CPG_methylation_calls.bs_call.GRCh38.20160531.bed: 0.8995441530372889\n",
            "S01MAPA1.CPG_methylation_calls.bs_call.GRCh38.20160531.bed: 0.8833701058335943\n",
            "S01B47A1.CPG_methylation_calls.bs_call.GRCh38.20160531.bed: 0.9025805221589571\n",
            "S000RD54.CPG_methylation_calls.bs_call.GRCh38.20160531.bed: 0.8979198282863864\n",
            "C005PS51.CPG_methylation_calls.bs_call.GRCh38.20160531.bed: 0.8962930738548578\n",
            "S01B63A1.CPG_methylation_calls.bs_call.GRCh38.20160531.bed: 0.9031976598709572\n",
            "S01BGKA1.CPG_methylation_calls.bs_call.GRCh38.20160531.bed: 0.903048853004059\n",
            "S01BHIA1.CPG_methylation_calls.bs_call.GRCh38.20160531.bed: 0.8943445045004333\n",
            "S01BCSA1.CPG_methylation_calls.bs_call.GRCh38.20160531.bed: 0.8985091125937485\n"
          ]
        }
      ]
    },
    {
      "cell_type": "markdown",
      "source": [
        "## CD8 another source"
      ],
      "metadata": {
        "id": "vaMcEvJs_fkd"
      },
      "id": "vaMcEvJs_fkd"
    },
    {
      "cell_type": "code",
      "source": [
        "#CD8 TCM\n",
        "!wget -P /content/another_source https://ftp.ncbi.nlm.nih.gov/geo/samples/GSM4293nnn/GSM4293893/suppl/GSM4293893_383227_methylation_value.bed.gz\n",
        "!wget -P /content/another_source https://ftp.ncbi.nlm.nih.gov/geo/samples/GSM4293nnn/GSM4293894/suppl/GSM4293894_647761_methylation_value.bed.gz\n",
        "!wget -P /content/another_source https://ftp.ncbi.nlm.nih.gov/geo/samples/GSM4293nnn/GSM4293895/suppl/GSM4293895_2-736134_methylation_value.bed.gz\n",
        "\n",
        "#CD8 TEM\n",
        "!wget -P /content/another_source https://ftp.ncbi.nlm.nih.gov/geo/samples/GSM4293nnn/GSM4293896/suppl/GSM4293896_383226_methylation_value.bed.gz\n",
        "!wget -P /content/another_source https://ftp.ncbi.nlm.nih.gov/geo/samples/GSM4293nnn/GSM4293897/suppl/GSM4293897_647760_methylation_value.bed.gz\n",
        "!wget -P /content/another_source https://ftp.ncbi.nlm.nih.gov/geo/samples/GSM4293nnn/GSM4293898/suppl/GSM4293898_2-736133_methylation_value.bed.gz\n"
      ],
      "metadata": {
        "id": "WrHOTNDT_ioj"
      },
      "id": "WrHOTNDT_ioj",
      "execution_count": null,
      "outputs": []
    },
    {
      "cell_type": "code",
      "source": [
        "!gunzip /content/another_source/*.gz"
      ],
      "metadata": {
        "id": "cdudCBkwCrEc"
      },
      "id": "cdudCBkwCrEc",
      "execution_count": null,
      "outputs": []
    },
    {
      "cell_type": "code",
      "source": [
        "!bedtools sort -i /content/another_source/GSM4293893_383227_methylation_value.bed > /content/another_source/GSM4293893_383227_methylation_value_.bed\n",
        "!bedtools sort -i /content/another_source/GSM4293894_647761_methylation_value.bed  > /content/another_source/GSM4293894_647761_methylation_value_.bed\n",
        "!bedtools sort -i /content/another_source/GSM4293895_2-736134_methylation_value.bed > /content/another_source/GSM4293895_2-736134_methylation_value_.bed\n",
        "\n",
        "!bedtools sort -i /content/another_source/GSM4293896_383226_methylation_value.bed > /content/another_source/GSM4293896_383226_methylation_value_.bed\n",
        "!bedtools sort -i /content/another_source/GSM4293897_647760_methylation_value.bed > /content/another_source/GSM4293897_647760_methylation_value_.bed\n",
        "!bedtools sort -i /content/another_source/GSM4293898_2-736133_methylation_value.bed > /content/another_source/GSM4293898_2-736133_methylation_value_.bed"
      ],
      "metadata": {
        "id": "ehb4WVYlDD91"
      },
      "id": "ehb4WVYlDD91",
      "execution_count": null,
      "outputs": []
    },
    {
      "cell_type": "markdown",
      "source": [
        "## data visualization k00"
      ],
      "metadata": {
        "id": "1NH0oa0oacc6"
      },
      "id": "1NH0oa0oacc6"
    },
    {
      "cell_type": "code",
      "source": [
        "import itertools\n",
        "from multiprocessing import Pool\n",
        "import numpy as np\n",
        "import os\n",
        "import pandas as pd\n",
        "import subprocess"
      ],
      "metadata": {
        "id": "j_M6ja-M1Y7n"
      },
      "id": "j_M6ja-M1Y7n",
      "execution_count": 48,
      "outputs": []
    },
    {
      "cell_type": "code",
      "source": [
        "ll = \"/content/MethylationSignal/sorted/average_methylation_level/C000S5A1bs.CPG_methylation_calls.bs_call.GRCh38.20160531.bed\"\n",
        "\n",
        "bed_data = pd.read_csv(ll, sep=\"\\t\",header = None, names=['Chr', 'Start', 'End','Level'])"
      ],
      "metadata": {
        "id": "ANDVtXYMgoF8"
      },
      "id": "ANDVtXYMgoF8",
      "execution_count": 95,
      "outputs": []
    },
    {
      "cell_type": "code",
      "source": [
        "bed_data.head()"
      ],
      "metadata": {
        "colab": {
          "base_uri": "https://localhost:8080/",
          "height": 206
        },
        "id": "vQnB3OaHgrkL",
        "outputId": "c3dba2c6-cf31-4874-c87f-5be5ba1b0ae5"
      },
      "id": "vQnB3OaHgrkL",
      "execution_count": 96,
      "outputs": [
        {
          "output_type": "execute_result",
          "data": {
            "text/plain": [
              "                          Chr  Start End           Level\n",
              "chr1 10868 11868      DDX11L1      0   +    0.6648947408\n",
              "     17436 18436    MIR6859-1      0   -    0.9561111099\n",
              "     28553 29553  MIR1302-2HG      0   +  0.001257575738\n",
              "     29365 30365    MIR1302-2      0   +    0.1538461538\n",
              "     29570 30570       WASH7P      0   -             0.6"
            ],
            "text/html": [
              "\n",
              "  <div id=\"df-240b9260-5835-4c61-82ca-6e93c61e4582\">\n",
              "    <div class=\"colab-df-container\">\n",
              "      <div>\n",
              "<style scoped>\n",
              "    .dataframe tbody tr th:only-of-type {\n",
              "        vertical-align: middle;\n",
              "    }\n",
              "\n",
              "    .dataframe tbody tr th {\n",
              "        vertical-align: top;\n",
              "    }\n",
              "\n",
              "    .dataframe thead th {\n",
              "        text-align: right;\n",
              "    }\n",
              "</style>\n",
              "<table border=\"1\" class=\"dataframe\">\n",
              "  <thead>\n",
              "    <tr style=\"text-align: right;\">\n",
              "      <th></th>\n",
              "      <th></th>\n",
              "      <th></th>\n",
              "      <th>Chr</th>\n",
              "      <th>Start</th>\n",
              "      <th>End</th>\n",
              "      <th>Level</th>\n",
              "    </tr>\n",
              "  </thead>\n",
              "  <tbody>\n",
              "    <tr>\n",
              "      <th rowspan=\"5\" valign=\"top\">chr1</th>\n",
              "      <th>10868</th>\n",
              "      <th>11868</th>\n",
              "      <td>DDX11L1</td>\n",
              "      <td>0</td>\n",
              "      <td>+</td>\n",
              "      <td>0.6648947408</td>\n",
              "    </tr>\n",
              "    <tr>\n",
              "      <th>17436</th>\n",
              "      <th>18436</th>\n",
              "      <td>MIR6859-1</td>\n",
              "      <td>0</td>\n",
              "      <td>-</td>\n",
              "      <td>0.9561111099</td>\n",
              "    </tr>\n",
              "    <tr>\n",
              "      <th>28553</th>\n",
              "      <th>29553</th>\n",
              "      <td>MIR1302-2HG</td>\n",
              "      <td>0</td>\n",
              "      <td>+</td>\n",
              "      <td>0.001257575738</td>\n",
              "    </tr>\n",
              "    <tr>\n",
              "      <th>29365</th>\n",
              "      <th>30365</th>\n",
              "      <td>MIR1302-2</td>\n",
              "      <td>0</td>\n",
              "      <td>+</td>\n",
              "      <td>0.1538461538</td>\n",
              "    </tr>\n",
              "    <tr>\n",
              "      <th>29570</th>\n",
              "      <th>30570</th>\n",
              "      <td>WASH7P</td>\n",
              "      <td>0</td>\n",
              "      <td>-</td>\n",
              "      <td>0.6</td>\n",
              "    </tr>\n",
              "  </tbody>\n",
              "</table>\n",
              "</div>\n",
              "      <button class=\"colab-df-convert\" onclick=\"convertToInteractive('df-240b9260-5835-4c61-82ca-6e93c61e4582')\"\n",
              "              title=\"Convert this dataframe to an interactive table.\"\n",
              "              style=\"display:none;\">\n",
              "        \n",
              "  <svg xmlns=\"http://www.w3.org/2000/svg\" height=\"24px\"viewBox=\"0 0 24 24\"\n",
              "       width=\"24px\">\n",
              "    <path d=\"M0 0h24v24H0V0z\" fill=\"none\"/>\n",
              "    <path d=\"M18.56 5.44l.94 2.06.94-2.06 2.06-.94-2.06-.94-.94-2.06-.94 2.06-2.06.94zm-11 1L8.5 8.5l.94-2.06 2.06-.94-2.06-.94L8.5 2.5l-.94 2.06-2.06.94zm10 10l.94 2.06.94-2.06 2.06-.94-2.06-.94-.94-2.06-.94 2.06-2.06.94z\"/><path d=\"M17.41 7.96l-1.37-1.37c-.4-.4-.92-.59-1.43-.59-.52 0-1.04.2-1.43.59L10.3 9.45l-7.72 7.72c-.78.78-.78 2.05 0 2.83L4 21.41c.39.39.9.59 1.41.59.51 0 1.02-.2 1.41-.59l7.78-7.78 2.81-2.81c.8-.78.8-2.07 0-2.86zM5.41 20L4 18.59l7.72-7.72 1.47 1.35L5.41 20z\"/>\n",
              "  </svg>\n",
              "      </button>\n",
              "      \n",
              "  <style>\n",
              "    .colab-df-container {\n",
              "      display:flex;\n",
              "      flex-wrap:wrap;\n",
              "      gap: 12px;\n",
              "    }\n",
              "\n",
              "    .colab-df-convert {\n",
              "      background-color: #E8F0FE;\n",
              "      border: none;\n",
              "      border-radius: 50%;\n",
              "      cursor: pointer;\n",
              "      display: none;\n",
              "      fill: #1967D2;\n",
              "      height: 32px;\n",
              "      padding: 0 0 0 0;\n",
              "      width: 32px;\n",
              "    }\n",
              "\n",
              "    .colab-df-convert:hover {\n",
              "      background-color: #E2EBFA;\n",
              "      box-shadow: 0px 1px 2px rgba(60, 64, 67, 0.3), 0px 1px 3px 1px rgba(60, 64, 67, 0.15);\n",
              "      fill: #174EA6;\n",
              "    }\n",
              "\n",
              "    [theme=dark] .colab-df-convert {\n",
              "      background-color: #3B4455;\n",
              "      fill: #D2E3FC;\n",
              "    }\n",
              "\n",
              "    [theme=dark] .colab-df-convert:hover {\n",
              "      background-color: #434B5C;\n",
              "      box-shadow: 0px 1px 3px 1px rgba(0, 0, 0, 0.15);\n",
              "      filter: drop-shadow(0px 1px 2px rgba(0, 0, 0, 0.3));\n",
              "      fill: #FFFFFF;\n",
              "    }\n",
              "  </style>\n",
              "\n",
              "      <script>\n",
              "        const buttonEl =\n",
              "          document.querySelector('#df-240b9260-5835-4c61-82ca-6e93c61e4582 button.colab-df-convert');\n",
              "        buttonEl.style.display =\n",
              "          google.colab.kernel.accessAllowed ? 'block' : 'none';\n",
              "\n",
              "        async function convertToInteractive(key) {\n",
              "          const element = document.querySelector('#df-240b9260-5835-4c61-82ca-6e93c61e4582');\n",
              "          const dataTable =\n",
              "            await google.colab.kernel.invokeFunction('convertToInteractive',\n",
              "                                                     [key], {});\n",
              "          if (!dataTable) return;\n",
              "\n",
              "          const docLinkHtml = 'Like what you see? Visit the ' +\n",
              "            '<a target=\"_blank\" href=https://colab.research.google.com/notebooks/data_table.ipynb>data table notebook</a>'\n",
              "            + ' to learn more about interactive tables.';\n",
              "          element.innerHTML = '';\n",
              "          dataTable['output_type'] = 'display_data';\n",
              "          await google.colab.output.renderOutput(dataTable, element);\n",
              "          const docLink = document.createElement('div');\n",
              "          docLink.innerHTML = docLinkHtml;\n",
              "          element.appendChild(docLink);\n",
              "        }\n",
              "      </script>\n",
              "    </div>\n",
              "  </div>\n",
              "  "
            ]
          },
          "metadata": {},
          "execution_count": 96
        }
      ]
    },
    {
      "cell_type": "code",
      "source": [
        "# Set the path to the directory containing the BED files\n",
        "#only for monocytes\n",
        "bed_dir = '/content/MethylationSignal/sorted/average_methylation_level'\n",
        "\n",
        "# Initialize an empty dictionary to store the fourth columns\n",
        "col_dict = {}\n",
        "\n",
        "# Loop through each file in the directory\n",
        "for file in os.listdir(bed_dir):\n",
        "    if file.endswith('.bed'):\n",
        "        # Extract the fourth column of the BED file\n",
        "        df = pd.read_csv(os.path.join(bed_dir, file), sep='\\t', header=None, usecols=[6])#for intersect, choose[3]\n",
        "        # Use the file name (without extension) as the key for the dictionary\n",
        "        key = file.split('.')[0]\n",
        "        # Add the fourth column to the dictionary\n",
        "        col_dict[key] = df\n",
        "# Combine all fourth columns into a single dataframe\n",
        "combined_df = pd.concat(col_dict.values(), axis=1)\n",
        "\n",
        "# Rename the columns using the keys from the dictionary\n",
        "combined_df.columns = col_dict.keys()"
      ],
      "metadata": {
        "id": "mCoYEXVs3F7f"
      },
      "id": "mCoYEXVs3F7f",
      "execution_count": 99,
      "outputs": []
    },
    {
      "cell_type": "code",
      "source": [
        "combined_df.head()"
      ],
      "metadata": {
        "id": "Waw9PL3IlGqG",
        "colab": {
          "base_uri": "https://localhost:8080/",
          "height": 299
        },
        "outputId": "f11bd090-a4ea-462f-8d52-b8eada4a48d1"
      },
      "id": "Waw9PL3IlGqG",
      "execution_count": 100,
      "outputs": [
        {
          "output_type": "execute_result",
          "data": {
            "text/plain": [
              "        C004SQ51    C001UYA3bs      S00V2DN1      S01B71A1       S01E03A1  \\\n",
              "0     0.78378125  0.5581428561  0.7893333346   0.725000006              .   \n",
              "1   0.9583043534  0.9519090896  0.9560454596  0.9689166745   0.9639166643   \n",
              "2  0.02220000029             0             0             0  0.01666666667   \n",
              "3   0.5556666652  0.1212727265  0.2448571409             0  0.03846153846   \n",
              "4   0.8889999986  0.4446666638  0.8569999933             .              .   \n",
              "\n",
              "       S01BBUA1      S01B63A1        S01B47A1       C005PS51      GSM5652302  \\\n",
              "0  0.3888888889             .    0.2320714306   0.6697727254              -1   \n",
              "1  0.9828333308  0.9740000019    0.9794166734   0.9570952342  -0.09869230481   \n",
              "2             0             0  0.001844444374  0.00495000002         -0.5625   \n",
              "3             0             0  0.002862068857  0.09627586205   -0.4568965517   \n",
              "4             .             .               .         0.9375   -0.9666666667   \n",
              "\n",
              "   ...        S01BGKA1         S01BAWA1     GSM5652303      C0010KA2bs  \\\n",
              "0  ...         0.24175                1  -0.6355932203    0.5951428562   \n",
              "1  ...    0.9868181781     0.9849090955  -0.1113076875    0.9348999977   \n",
              "2  ...  0.002181818235  0.0004199999943  -0.4026499999  0.005535714328   \n",
              "3  ...  0.003366666784  0.0006176470505  -0.4109137932    0.2083333333   \n",
              "4  ...               .                0  -0.8666666667          0.4375   \n",
              "\n",
              "         S01BDQA1      S01MAPA1      C000S5A1bs     GSM5652304  \\\n",
              "0               .  0.9254210529    0.6648947408  -0.8248644067   \n",
              "1    0.9707500041  0.9798333297    0.9561111099   0.2960769236   \n",
              "2  0.002770833361             0  0.001257575738  -0.5414999999   \n",
              "3  0.004156250041             0    0.1538461538  -0.4586206896   \n",
              "4               0             .             0.6  -0.6333333333   \n",
              "\n",
              "          S01B9YA1      S01BCSA1  \n",
              "0                0             .  \n",
              "1     0.9810833285  0.9784166664  \n",
              "2  0.0006136363796             0  \n",
              "3  0.0007941176677             0  \n",
              "4                0             .  \n",
              "\n",
              "[5 rows x 25 columns]"
            ],
            "text/html": [
              "\n",
              "  <div id=\"df-a7ec3275-d083-4681-b661-320ed13f4d11\">\n",
              "    <div class=\"colab-df-container\">\n",
              "      <div>\n",
              "<style scoped>\n",
              "    .dataframe tbody tr th:only-of-type {\n",
              "        vertical-align: middle;\n",
              "    }\n",
              "\n",
              "    .dataframe tbody tr th {\n",
              "        vertical-align: top;\n",
              "    }\n",
              "\n",
              "    .dataframe thead th {\n",
              "        text-align: right;\n",
              "    }\n",
              "</style>\n",
              "<table border=\"1\" class=\"dataframe\">\n",
              "  <thead>\n",
              "    <tr style=\"text-align: right;\">\n",
              "      <th></th>\n",
              "      <th>C004SQ51</th>\n",
              "      <th>C001UYA3bs</th>\n",
              "      <th>S00V2DN1</th>\n",
              "      <th>S01B71A1</th>\n",
              "      <th>S01E03A1</th>\n",
              "      <th>S01BBUA1</th>\n",
              "      <th>S01B63A1</th>\n",
              "      <th>S01B47A1</th>\n",
              "      <th>C005PS51</th>\n",
              "      <th>GSM5652302</th>\n",
              "      <th>...</th>\n",
              "      <th>S01BGKA1</th>\n",
              "      <th>S01BAWA1</th>\n",
              "      <th>GSM5652303</th>\n",
              "      <th>C0010KA2bs</th>\n",
              "      <th>S01BDQA1</th>\n",
              "      <th>S01MAPA1</th>\n",
              "      <th>C000S5A1bs</th>\n",
              "      <th>GSM5652304</th>\n",
              "      <th>S01B9YA1</th>\n",
              "      <th>S01BCSA1</th>\n",
              "    </tr>\n",
              "  </thead>\n",
              "  <tbody>\n",
              "    <tr>\n",
              "      <th>0</th>\n",
              "      <td>0.78378125</td>\n",
              "      <td>0.5581428561</td>\n",
              "      <td>0.7893333346</td>\n",
              "      <td>0.725000006</td>\n",
              "      <td>.</td>\n",
              "      <td>0.3888888889</td>\n",
              "      <td>.</td>\n",
              "      <td>0.2320714306</td>\n",
              "      <td>0.6697727254</td>\n",
              "      <td>-1</td>\n",
              "      <td>...</td>\n",
              "      <td>0.24175</td>\n",
              "      <td>1</td>\n",
              "      <td>-0.6355932203</td>\n",
              "      <td>0.5951428562</td>\n",
              "      <td>.</td>\n",
              "      <td>0.9254210529</td>\n",
              "      <td>0.6648947408</td>\n",
              "      <td>-0.8248644067</td>\n",
              "      <td>0</td>\n",
              "      <td>.</td>\n",
              "    </tr>\n",
              "    <tr>\n",
              "      <th>1</th>\n",
              "      <td>0.9583043534</td>\n",
              "      <td>0.9519090896</td>\n",
              "      <td>0.9560454596</td>\n",
              "      <td>0.9689166745</td>\n",
              "      <td>0.9639166643</td>\n",
              "      <td>0.9828333308</td>\n",
              "      <td>0.9740000019</td>\n",
              "      <td>0.9794166734</td>\n",
              "      <td>0.9570952342</td>\n",
              "      <td>-0.09869230481</td>\n",
              "      <td>...</td>\n",
              "      <td>0.9868181781</td>\n",
              "      <td>0.9849090955</td>\n",
              "      <td>-0.1113076875</td>\n",
              "      <td>0.9348999977</td>\n",
              "      <td>0.9707500041</td>\n",
              "      <td>0.9798333297</td>\n",
              "      <td>0.9561111099</td>\n",
              "      <td>0.2960769236</td>\n",
              "      <td>0.9810833285</td>\n",
              "      <td>0.9784166664</td>\n",
              "    </tr>\n",
              "    <tr>\n",
              "      <th>2</th>\n",
              "      <td>0.02220000029</td>\n",
              "      <td>0</td>\n",
              "      <td>0</td>\n",
              "      <td>0</td>\n",
              "      <td>0.01666666667</td>\n",
              "      <td>0</td>\n",
              "      <td>0</td>\n",
              "      <td>0.001844444374</td>\n",
              "      <td>0.00495000002</td>\n",
              "      <td>-0.5625</td>\n",
              "      <td>...</td>\n",
              "      <td>0.002181818235</td>\n",
              "      <td>0.0004199999943</td>\n",
              "      <td>-0.4026499999</td>\n",
              "      <td>0.005535714328</td>\n",
              "      <td>0.002770833361</td>\n",
              "      <td>0</td>\n",
              "      <td>0.001257575738</td>\n",
              "      <td>-0.5414999999</td>\n",
              "      <td>0.0006136363796</td>\n",
              "      <td>0</td>\n",
              "    </tr>\n",
              "    <tr>\n",
              "      <th>3</th>\n",
              "      <td>0.5556666652</td>\n",
              "      <td>0.1212727265</td>\n",
              "      <td>0.2448571409</td>\n",
              "      <td>0</td>\n",
              "      <td>0.03846153846</td>\n",
              "      <td>0</td>\n",
              "      <td>0</td>\n",
              "      <td>0.002862068857</td>\n",
              "      <td>0.09627586205</td>\n",
              "      <td>-0.4568965517</td>\n",
              "      <td>...</td>\n",
              "      <td>0.003366666784</td>\n",
              "      <td>0.0006176470505</td>\n",
              "      <td>-0.4109137932</td>\n",
              "      <td>0.2083333333</td>\n",
              "      <td>0.004156250041</td>\n",
              "      <td>0</td>\n",
              "      <td>0.1538461538</td>\n",
              "      <td>-0.4586206896</td>\n",
              "      <td>0.0007941176677</td>\n",
              "      <td>0</td>\n",
              "    </tr>\n",
              "    <tr>\n",
              "      <th>4</th>\n",
              "      <td>0.8889999986</td>\n",
              "      <td>0.4446666638</td>\n",
              "      <td>0.8569999933</td>\n",
              "      <td>.</td>\n",
              "      <td>.</td>\n",
              "      <td>.</td>\n",
              "      <td>.</td>\n",
              "      <td>.</td>\n",
              "      <td>0.9375</td>\n",
              "      <td>-0.9666666667</td>\n",
              "      <td>...</td>\n",
              "      <td>.</td>\n",
              "      <td>0</td>\n",
              "      <td>-0.8666666667</td>\n",
              "      <td>0.4375</td>\n",
              "      <td>0</td>\n",
              "      <td>.</td>\n",
              "      <td>0.6</td>\n",
              "      <td>-0.6333333333</td>\n",
              "      <td>0</td>\n",
              "      <td>.</td>\n",
              "    </tr>\n",
              "  </tbody>\n",
              "</table>\n",
              "<p>5 rows × 25 columns</p>\n",
              "</div>\n",
              "      <button class=\"colab-df-convert\" onclick=\"convertToInteractive('df-a7ec3275-d083-4681-b661-320ed13f4d11')\"\n",
              "              title=\"Convert this dataframe to an interactive table.\"\n",
              "              style=\"display:none;\">\n",
              "        \n",
              "  <svg xmlns=\"http://www.w3.org/2000/svg\" height=\"24px\"viewBox=\"0 0 24 24\"\n",
              "       width=\"24px\">\n",
              "    <path d=\"M0 0h24v24H0V0z\" fill=\"none\"/>\n",
              "    <path d=\"M18.56 5.44l.94 2.06.94-2.06 2.06-.94-2.06-.94-.94-2.06-.94 2.06-2.06.94zm-11 1L8.5 8.5l.94-2.06 2.06-.94-2.06-.94L8.5 2.5l-.94 2.06-2.06.94zm10 10l.94 2.06.94-2.06 2.06-.94-2.06-.94-.94-2.06-.94 2.06-2.06.94z\"/><path d=\"M17.41 7.96l-1.37-1.37c-.4-.4-.92-.59-1.43-.59-.52 0-1.04.2-1.43.59L10.3 9.45l-7.72 7.72c-.78.78-.78 2.05 0 2.83L4 21.41c.39.39.9.59 1.41.59.51 0 1.02-.2 1.41-.59l7.78-7.78 2.81-2.81c.8-.78.8-2.07 0-2.86zM5.41 20L4 18.59l7.72-7.72 1.47 1.35L5.41 20z\"/>\n",
              "  </svg>\n",
              "      </button>\n",
              "      \n",
              "  <style>\n",
              "    .colab-df-container {\n",
              "      display:flex;\n",
              "      flex-wrap:wrap;\n",
              "      gap: 12px;\n",
              "    }\n",
              "\n",
              "    .colab-df-convert {\n",
              "      background-color: #E8F0FE;\n",
              "      border: none;\n",
              "      border-radius: 50%;\n",
              "      cursor: pointer;\n",
              "      display: none;\n",
              "      fill: #1967D2;\n",
              "      height: 32px;\n",
              "      padding: 0 0 0 0;\n",
              "      width: 32px;\n",
              "    }\n",
              "\n",
              "    .colab-df-convert:hover {\n",
              "      background-color: #E2EBFA;\n",
              "      box-shadow: 0px 1px 2px rgba(60, 64, 67, 0.3), 0px 1px 3px 1px rgba(60, 64, 67, 0.15);\n",
              "      fill: #174EA6;\n",
              "    }\n",
              "\n",
              "    [theme=dark] .colab-df-convert {\n",
              "      background-color: #3B4455;\n",
              "      fill: #D2E3FC;\n",
              "    }\n",
              "\n",
              "    [theme=dark] .colab-df-convert:hover {\n",
              "      background-color: #434B5C;\n",
              "      box-shadow: 0px 1px 3px 1px rgba(0, 0, 0, 0.15);\n",
              "      filter: drop-shadow(0px 1px 2px rgba(0, 0, 0, 0.3));\n",
              "      fill: #FFFFFF;\n",
              "    }\n",
              "  </style>\n",
              "\n",
              "      <script>\n",
              "        const buttonEl =\n",
              "          document.querySelector('#df-a7ec3275-d083-4681-b661-320ed13f4d11 button.colab-df-convert');\n",
              "        buttonEl.style.display =\n",
              "          google.colab.kernel.accessAllowed ? 'block' : 'none';\n",
              "\n",
              "        async function convertToInteractive(key) {\n",
              "          const element = document.querySelector('#df-a7ec3275-d083-4681-b661-320ed13f4d11');\n",
              "          const dataTable =\n",
              "            await google.colab.kernel.invokeFunction('convertToInteractive',\n",
              "                                                     [key], {});\n",
              "          if (!dataTable) return;\n",
              "\n",
              "          const docLinkHtml = 'Like what you see? Visit the ' +\n",
              "            '<a target=\"_blank\" href=https://colab.research.google.com/notebooks/data_table.ipynb>data table notebook</a>'\n",
              "            + ' to learn more about interactive tables.';\n",
              "          element.innerHTML = '';\n",
              "          dataTable['output_type'] = 'display_data';\n",
              "          await google.colab.output.renderOutput(dataTable, element);\n",
              "          const docLink = document.createElement('div');\n",
              "          docLink.innerHTML = docLinkHtml;\n",
              "          element.appendChild(docLink);\n",
              "        }\n",
              "      </script>\n",
              "    </div>\n",
              "  </div>\n",
              "  "
            ]
          },
          "metadata": {},
          "execution_count": 100
        }
      ]
    },
    {
      "cell_type": "code",
      "source": [
        "#prepare this one for correlation\n",
        "final_ = combined_df.T"
      ],
      "metadata": {
        "id": "v9z6pB2LHato"
      },
      "id": "v9z6pB2LHato",
      "execution_count": 101,
      "outputs": []
    },
    {
      "cell_type": "code",
      "execution_count": 102,
      "metadata": {
        "id": "Sq5aGdIZiWvn"
      },
      "outputs": [],
      "source": [
        "final = combined_df.T"
      ],
      "id": "Sq5aGdIZiWvn"
    },
    {
      "cell_type": "code",
      "source": [
        "final.head()"
      ],
      "metadata": {
        "colab": {
          "base_uri": "https://localhost:8080/",
          "height": 299
        },
        "id": "y4OVgTQpLjx8",
        "outputId": "347bbb4e-25f1-4d63-c668-a6ea4209f6dd"
      },
      "id": "y4OVgTQpLjx8",
      "execution_count": 103,
      "outputs": [
        {
          "output_type": "execute_result",
          "data": {
            "text/plain": [
              "                   0             1              2              3      \\\n",
              "C004SQ51      0.78378125  0.9583043534  0.02220000029   0.5556666652   \n",
              "C001UYA3bs  0.5581428561  0.9519090896              0   0.1212727265   \n",
              "S00V2DN1    0.7893333346  0.9560454596              0   0.2448571409   \n",
              "S01B71A1     0.725000006  0.9689166745              0              0   \n",
              "S01E03A1               .  0.9639166643  0.01666666667  0.03846153846   \n",
              "\n",
              "                   4             5             6     7             8      \\\n",
              "C004SQ51    0.8889999986  0.5555000007          0.75     .             .   \n",
              "C001UYA3bs  0.4446666638  0.6430000067  0.6910000064     .             .   \n",
              "S00V2DN1    0.8569999933             .  0.9333999991     .             .   \n",
              "S01B71A1               .             .  0.9608500019     1  0.8000000119   \n",
              "S01E03A1               .             .  0.9176470602     .  0.5809999853   \n",
              "\n",
              "                   9      ...         38963         38964         38965  \\\n",
              "C004SQ51    0.9333000064  ...             .             .             .   \n",
              "C001UYA3bs  0.8889999886  ...  0.7633538466  0.8426666657  0.6958750039   \n",
              "S00V2DN1    0.8807500005  ...          0.75             .             .   \n",
              "S01B71A1               1  ...             .             .             .   \n",
              "S01E03A1               .  ...  0.7621666654  0.5047499985  0.7356666658   \n",
              "\n",
              "                   38966         38967         38968 38969 38970 38971 38972  \n",
              "C004SQ51               .          0.75  0.6669999957     .     .     .     .  \n",
              "C001UYA3bs  0.4833333393  0.7616774168  0.6328000009     .     .     .     .  \n",
              "S00V2DN1               .             .             .     .     .     .     .  \n",
              "S01B71A1               .             .             .     .     .     .     .  \n",
              "S01E03A1    0.3019999973  0.7305806433  0.6380000065     .     .     .     .  \n",
              "\n",
              "[5 rows x 38973 columns]"
            ],
            "text/html": [
              "\n",
              "  <div id=\"df-ef757a74-1b99-49c8-ab3a-c89b92e08e3d\">\n",
              "    <div class=\"colab-df-container\">\n",
              "      <div>\n",
              "<style scoped>\n",
              "    .dataframe tbody tr th:only-of-type {\n",
              "        vertical-align: middle;\n",
              "    }\n",
              "\n",
              "    .dataframe tbody tr th {\n",
              "        vertical-align: top;\n",
              "    }\n",
              "\n",
              "    .dataframe thead th {\n",
              "        text-align: right;\n",
              "    }\n",
              "</style>\n",
              "<table border=\"1\" class=\"dataframe\">\n",
              "  <thead>\n",
              "    <tr style=\"text-align: right;\">\n",
              "      <th></th>\n",
              "      <th>0</th>\n",
              "      <th>1</th>\n",
              "      <th>2</th>\n",
              "      <th>3</th>\n",
              "      <th>4</th>\n",
              "      <th>5</th>\n",
              "      <th>6</th>\n",
              "      <th>7</th>\n",
              "      <th>8</th>\n",
              "      <th>9</th>\n",
              "      <th>...</th>\n",
              "      <th>38963</th>\n",
              "      <th>38964</th>\n",
              "      <th>38965</th>\n",
              "      <th>38966</th>\n",
              "      <th>38967</th>\n",
              "      <th>38968</th>\n",
              "      <th>38969</th>\n",
              "      <th>38970</th>\n",
              "      <th>38971</th>\n",
              "      <th>38972</th>\n",
              "    </tr>\n",
              "  </thead>\n",
              "  <tbody>\n",
              "    <tr>\n",
              "      <th>C004SQ51</th>\n",
              "      <td>0.78378125</td>\n",
              "      <td>0.9583043534</td>\n",
              "      <td>0.02220000029</td>\n",
              "      <td>0.5556666652</td>\n",
              "      <td>0.8889999986</td>\n",
              "      <td>0.5555000007</td>\n",
              "      <td>0.75</td>\n",
              "      <td>.</td>\n",
              "      <td>.</td>\n",
              "      <td>0.9333000064</td>\n",
              "      <td>...</td>\n",
              "      <td>.</td>\n",
              "      <td>.</td>\n",
              "      <td>.</td>\n",
              "      <td>.</td>\n",
              "      <td>0.75</td>\n",
              "      <td>0.6669999957</td>\n",
              "      <td>.</td>\n",
              "      <td>.</td>\n",
              "      <td>.</td>\n",
              "      <td>.</td>\n",
              "    </tr>\n",
              "    <tr>\n",
              "      <th>C001UYA3bs</th>\n",
              "      <td>0.5581428561</td>\n",
              "      <td>0.9519090896</td>\n",
              "      <td>0</td>\n",
              "      <td>0.1212727265</td>\n",
              "      <td>0.4446666638</td>\n",
              "      <td>0.6430000067</td>\n",
              "      <td>0.6910000064</td>\n",
              "      <td>.</td>\n",
              "      <td>.</td>\n",
              "      <td>0.8889999886</td>\n",
              "      <td>...</td>\n",
              "      <td>0.7633538466</td>\n",
              "      <td>0.8426666657</td>\n",
              "      <td>0.6958750039</td>\n",
              "      <td>0.4833333393</td>\n",
              "      <td>0.7616774168</td>\n",
              "      <td>0.6328000009</td>\n",
              "      <td>.</td>\n",
              "      <td>.</td>\n",
              "      <td>.</td>\n",
              "      <td>.</td>\n",
              "    </tr>\n",
              "    <tr>\n",
              "      <th>S00V2DN1</th>\n",
              "      <td>0.7893333346</td>\n",
              "      <td>0.9560454596</td>\n",
              "      <td>0</td>\n",
              "      <td>0.2448571409</td>\n",
              "      <td>0.8569999933</td>\n",
              "      <td>.</td>\n",
              "      <td>0.9333999991</td>\n",
              "      <td>.</td>\n",
              "      <td>.</td>\n",
              "      <td>0.8807500005</td>\n",
              "      <td>...</td>\n",
              "      <td>0.75</td>\n",
              "      <td>.</td>\n",
              "      <td>.</td>\n",
              "      <td>.</td>\n",
              "      <td>.</td>\n",
              "      <td>.</td>\n",
              "      <td>.</td>\n",
              "      <td>.</td>\n",
              "      <td>.</td>\n",
              "      <td>.</td>\n",
              "    </tr>\n",
              "    <tr>\n",
              "      <th>S01B71A1</th>\n",
              "      <td>0.725000006</td>\n",
              "      <td>0.9689166745</td>\n",
              "      <td>0</td>\n",
              "      <td>0</td>\n",
              "      <td>.</td>\n",
              "      <td>.</td>\n",
              "      <td>0.9608500019</td>\n",
              "      <td>1</td>\n",
              "      <td>0.8000000119</td>\n",
              "      <td>1</td>\n",
              "      <td>...</td>\n",
              "      <td>.</td>\n",
              "      <td>.</td>\n",
              "      <td>.</td>\n",
              "      <td>.</td>\n",
              "      <td>.</td>\n",
              "      <td>.</td>\n",
              "      <td>.</td>\n",
              "      <td>.</td>\n",
              "      <td>.</td>\n",
              "      <td>.</td>\n",
              "    </tr>\n",
              "    <tr>\n",
              "      <th>S01E03A1</th>\n",
              "      <td>.</td>\n",
              "      <td>0.9639166643</td>\n",
              "      <td>0.01666666667</td>\n",
              "      <td>0.03846153846</td>\n",
              "      <td>.</td>\n",
              "      <td>.</td>\n",
              "      <td>0.9176470602</td>\n",
              "      <td>.</td>\n",
              "      <td>0.5809999853</td>\n",
              "      <td>.</td>\n",
              "      <td>...</td>\n",
              "      <td>0.7621666654</td>\n",
              "      <td>0.5047499985</td>\n",
              "      <td>0.7356666658</td>\n",
              "      <td>0.3019999973</td>\n",
              "      <td>0.7305806433</td>\n",
              "      <td>0.6380000065</td>\n",
              "      <td>.</td>\n",
              "      <td>.</td>\n",
              "      <td>.</td>\n",
              "      <td>.</td>\n",
              "    </tr>\n",
              "  </tbody>\n",
              "</table>\n",
              "<p>5 rows × 38973 columns</p>\n",
              "</div>\n",
              "      <button class=\"colab-df-convert\" onclick=\"convertToInteractive('df-ef757a74-1b99-49c8-ab3a-c89b92e08e3d')\"\n",
              "              title=\"Convert this dataframe to an interactive table.\"\n",
              "              style=\"display:none;\">\n",
              "        \n",
              "  <svg xmlns=\"http://www.w3.org/2000/svg\" height=\"24px\"viewBox=\"0 0 24 24\"\n",
              "       width=\"24px\">\n",
              "    <path d=\"M0 0h24v24H0V0z\" fill=\"none\"/>\n",
              "    <path d=\"M18.56 5.44l.94 2.06.94-2.06 2.06-.94-2.06-.94-.94-2.06-.94 2.06-2.06.94zm-11 1L8.5 8.5l.94-2.06 2.06-.94-2.06-.94L8.5 2.5l-.94 2.06-2.06.94zm10 10l.94 2.06.94-2.06 2.06-.94-2.06-.94-.94-2.06-.94 2.06-2.06.94z\"/><path d=\"M17.41 7.96l-1.37-1.37c-.4-.4-.92-.59-1.43-.59-.52 0-1.04.2-1.43.59L10.3 9.45l-7.72 7.72c-.78.78-.78 2.05 0 2.83L4 21.41c.39.39.9.59 1.41.59.51 0 1.02-.2 1.41-.59l7.78-7.78 2.81-2.81c.8-.78.8-2.07 0-2.86zM5.41 20L4 18.59l7.72-7.72 1.47 1.35L5.41 20z\"/>\n",
              "  </svg>\n",
              "      </button>\n",
              "      \n",
              "  <style>\n",
              "    .colab-df-container {\n",
              "      display:flex;\n",
              "      flex-wrap:wrap;\n",
              "      gap: 12px;\n",
              "    }\n",
              "\n",
              "    .colab-df-convert {\n",
              "      background-color: #E8F0FE;\n",
              "      border: none;\n",
              "      border-radius: 50%;\n",
              "      cursor: pointer;\n",
              "      display: none;\n",
              "      fill: #1967D2;\n",
              "      height: 32px;\n",
              "      padding: 0 0 0 0;\n",
              "      width: 32px;\n",
              "    }\n",
              "\n",
              "    .colab-df-convert:hover {\n",
              "      background-color: #E2EBFA;\n",
              "      box-shadow: 0px 1px 2px rgba(60, 64, 67, 0.3), 0px 1px 3px 1px rgba(60, 64, 67, 0.15);\n",
              "      fill: #174EA6;\n",
              "    }\n",
              "\n",
              "    [theme=dark] .colab-df-convert {\n",
              "      background-color: #3B4455;\n",
              "      fill: #D2E3FC;\n",
              "    }\n",
              "\n",
              "    [theme=dark] .colab-df-convert:hover {\n",
              "      background-color: #434B5C;\n",
              "      box-shadow: 0px 1px 3px 1px rgba(0, 0, 0, 0.15);\n",
              "      filter: drop-shadow(0px 1px 2px rgba(0, 0, 0, 0.3));\n",
              "      fill: #FFFFFF;\n",
              "    }\n",
              "  </style>\n",
              "\n",
              "      <script>\n",
              "        const buttonEl =\n",
              "          document.querySelector('#df-ef757a74-1b99-49c8-ab3a-c89b92e08e3d button.colab-df-convert');\n",
              "        buttonEl.style.display =\n",
              "          google.colab.kernel.accessAllowed ? 'block' : 'none';\n",
              "\n",
              "        async function convertToInteractive(key) {\n",
              "          const element = document.querySelector('#df-ef757a74-1b99-49c8-ab3a-c89b92e08e3d');\n",
              "          const dataTable =\n",
              "            await google.colab.kernel.invokeFunction('convertToInteractive',\n",
              "                                                     [key], {});\n",
              "          if (!dataTable) return;\n",
              "\n",
              "          const docLinkHtml = 'Like what you see? Visit the ' +\n",
              "            '<a target=\"_blank\" href=https://colab.research.google.com/notebooks/data_table.ipynb>data table notebook</a>'\n",
              "            + ' to learn more about interactive tables.';\n",
              "          element.innerHTML = '';\n",
              "          dataTable['output_type'] = 'display_data';\n",
              "          await google.colab.output.renderOutput(dataTable, element);\n",
              "          const docLink = document.createElement('div');\n",
              "          docLink.innerHTML = docLinkHtml;\n",
              "          element.appendChild(docLink);\n",
              "        }\n",
              "      </script>\n",
              "    </div>\n",
              "  </div>\n",
              "  "
            ]
          },
          "metadata": {},
          "execution_count": 103
        }
      ]
    },
    {
      "cell_type": "markdown",
      "source": [
        "## Not needed"
      ],
      "metadata": {
        "id": "RnkPaiiJ0iIz"
      },
      "id": "RnkPaiiJ0iIz"
    },
    {
      "cell_type": "code",
      "source": [
        "final.T.to_csv('final_cd8.csv', index=True)"
      ],
      "metadata": {
        "id": "QvY7_R8lp0qa"
      },
      "id": "QvY7_R8lp0qa",
      "execution_count": null,
      "outputs": []
    },
    {
      "cell_type": "code",
      "execution_count": null,
      "metadata": {
        "id": "J97wuUUxK2fI"
      },
      "outputs": [],
      "source": [
        "final.to_csv('merged_df_cd8_cm_em.csv', index=True)"
      ],
      "id": "J97wuUUxK2fI"
    },
    {
      "cell_type": "code",
      "source": [
        "merged_df[4].iloc[1].to_csv('name.csv', index = False)"
      ],
      "metadata": {
        "id": "-4o4REkOyEz7"
      },
      "id": "-4o4REkOyEz7",
      "execution_count": null,
      "outputs": []
    },
    {
      "cell_type": "code",
      "execution_count": null,
      "metadata": {
        "id": "XIuaeGiyjx3Y"
      },
      "outputs": [],
      "source": [
        "final__.T.to_csv('final.T.csv', index=True)"
      ],
      "id": "XIuaeGiyjx3Y"
    },
    {
      "cell_type": "code",
      "source": [
        "import numpy as np\n",
        "import pandas as pd"
      ],
      "metadata": {
        "id": "BnpPXGawVBf_"
      },
      "id": "BnpPXGawVBf_",
      "execution_count": null,
      "outputs": []
    },
    {
      "cell_type": "code",
      "source": [
        "fin = '/content/mydata (1).csv'\n",
        "final = pd.read_csv(fin)"
      ],
      "metadata": {
        "id": "rzpRGtrr35Zy"
      },
      "id": "rzpRGtrr35Zy",
      "execution_count": null,
      "outputs": []
    },
    {
      "cell_type": "code",
      "execution_count": null,
      "metadata": {
        "id": "8x9gR8EQlLqD"
      },
      "outputs": [],
      "source": [
        "final.head()"
      ],
      "id": "8x9gR8EQlLqD"
    },
    {
      "cell_type": "code",
      "source": [
        "final.set_index('Unnamed: 0', inplace=True)"
      ],
      "metadata": {
        "id": "IvL7OU56Fp3z"
      },
      "id": "IvL7OU56Fp3z",
      "execution_count": null,
      "outputs": []
    },
    {
      "cell_type": "code",
      "source": [
        "final"
      ],
      "metadata": {
        "id": "aWJetofHIgkD"
      },
      "id": "aWJetofHIgkD",
      "execution_count": null,
      "outputs": []
    },
    {
      "cell_type": "code",
      "source": [
        "final_ = final.replace('.', np.nan)"
      ],
      "metadata": {
        "id": "7YGme1U_3k8k"
      },
      "id": "7YGme1U_3k8k",
      "execution_count": null,
      "outputs": []
    },
    {
      "cell_type": "code",
      "source": [
        "final__ = final_.apply(pd.to_numeric, errors='coerce')"
      ],
      "metadata": {
        "id": "DnUtUgpp3l93"
      },
      "id": "DnUtUgpp3l93",
      "execution_count": null,
      "outputs": []
    },
    {
      "cell_type": "code",
      "source": [
        "final__"
      ],
      "metadata": {
        "id": "wQ71JXvegz09"
      },
      "id": "wQ71JXvegz09",
      "execution_count": null,
      "outputs": []
    },
    {
      "cell_type": "code",
      "source": [
        "final__.to_csv('final.csv', index=True)"
      ],
      "metadata": {
        "id": "3kQt_mBcIF7s"
      },
      "id": "3kQt_mBcIF7s",
      "execution_count": null,
      "outputs": []
    },
    {
      "cell_type": "code",
      "source": [
        "final__.loc['GSM5652304', 1]"
      ],
      "metadata": {
        "id": "bIIF1S0XgyEj"
      },
      "id": "bIIF1S0XgyEj",
      "execution_count": null,
      "outputs": []
    },
    {
      "cell_type": "code",
      "source": [
        "final__.loc['GSM5652304']"
      ],
      "metadata": {
        "id": "K9e3IvaXhUwI"
      },
      "id": "K9e3IvaXhUwI",
      "execution_count": null,
      "outputs": []
    },
    {
      "cell_type": "code",
      "source": [
        "final__.iloc[0][0]"
      ],
      "metadata": {
        "id": "nUFi4klahsnl"
      },
      "id": "nUFi4klahsnl",
      "execution_count": null,
      "outputs": []
    },
    {
      "cell_type": "code",
      "source": [
        "# Set color for missing values\n",
        "for row in range(len(final__)):\n",
        "    for col in range(len(final__.iloc[0])):\n",
        "        if np.isnan(final__.iloc[row][col]):\n",
        "            heatmap.axes.add_patch(Rectangle((col,row),1,1,fill=missing_color))"
      ],
      "metadata": {
        "id": "f0dr1sxsvki0"
      },
      "id": "f0dr1sxsvki0",
      "execution_count": null,
      "outputs": []
    },
    {
      "cell_type": "code",
      "source": [
        "import numpy as np\n",
        "import matplotlib.pyplot as plt\n",
        "from matplotlib.patches import Rectangle\n",
        "\n",
        "# Set color map and color for missing values\n",
        "cmap = plt.cm.Blues\n",
        "missing_color = \"red\"\n",
        "\n",
        "# Create heatmap with missing values highlighted\n",
        "fig, ax = plt.subplots()\n",
        "#heatmap = ax.pcolor(final__, cmap=cmap, vmin=0, vmax=1)\n",
        "heatmap = ax.pcolor(final__, cmap=cmap)\n",
        "\n",
        "# Set color for missing values\n",
        "for row in range(len(final__)):\n",
        "    for col in range(len(final__.iloc[0])):\n",
        "        if np.isnan(final__.iloc[row][col]):\n",
        "            heatmap.axes.add_patch(Rectangle((col,row),1,1,fill=missing_color))\n",
        "\n",
        "# Add color bar and axis labels\n",
        "cbar = plt.colorbar(heatmap, ax=ax, orientation='horizontal',location = \"top\", pad=0.1)\n",
        "cbar.ax.set_title('Average Methylation')\n",
        "#ax.set_xticks(np.arange(len(final__))+0.5, minor=False)\n",
        "#ax.set_yticks(np.arange(len(final__))+0.5, minor=False)\n",
        "ax.set_yticks(np.arange(0.5, len(final__.index), 1), final__.index)\n",
        "\n",
        "# Create secondary y-axis\n",
        "#ax2 = ax.secondary_yaxis('right')\n",
        "#ax2.set_yticks(np.arange(len(final__))+0.5)\n",
        "#ax2.set_yticklabels(['C0010K','SANQUIN_mono_39','SANQUIN_mono_39','SANQUIN_mono_39','C004SQ','GSM5652303_Z000000U3','Primary_monocytes_Donor_D','GSM5652304_Z000000UH','C000S5','C005PS','SANQUIN_mono_39','N000314138902','SANQUIN_mono_39','S000RD','SANQUIN_mono_39','SANQUIN_mono_39','SANQUIN_mono_39','Primary_monocytes_Donor_G','SANQUIN_mono_39','GSM5652302_Z000000TP','SANQUIN_mono_39','C001UY','SANQUIN_mono_39','SANQUIN_mono_39'])\n",
        "#ax2.set_yticklabels(['S01BFMA1', 'S01E03A1', 'S01BHIA1', 'S01BAWA1', 'S01MAPA1','C005PS51', 'C001UYA3bs', 'S00V2DN1', 'S000RD54', 'S01B9YA1','C0010KA2bs', 'GSM5652303', 'GSM5652302', 'S01B47A1', 'C000S5A1bs','S01BDQA1', 'S01B63A1', 'S01BGKA1', 'C004SQ51', 'S01BEOA1','GSM5652304', 'S01B71A1', 'S01B55A1', 'S01BCSA1'])\n",
        "ax.invert_yaxis()\n",
        "#ax.xaxis.tick_top()\n",
        "#ax.set_xticklabels(['A', 'B', 'C', 'D', 'E', 'F', 'G', 'H', 'I', 'J'])\n",
        "#ax.set_yticklabels(['1', '2', '3', '4', '5', '6', '7', '8', '9', '10'])\n",
        "#cbar.ax.set_ylabel('',rotation = 180)\n",
        "\n",
        "plt.savefig('Average_methylation_cd8.jpg', dpi=700,bbox_inches='tight', pad_inches=0.1)\n",
        "# Display plot\n",
        "plt.show()"
      ],
      "metadata": {
        "id": "tpTXp9l34kFw"
      },
      "id": "tpTXp9l34kFw",
      "execution_count": null,
      "outputs": []
    },
    {
      "cell_type": "code",
      "source": [
        "blueprint = final__[~final__.index.str.contains('GSM')]"
      ],
      "metadata": {
        "id": "Y22gNchtHDiz"
      },
      "id": "Y22gNchtHDiz",
      "execution_count": null,
      "outputs": []
    },
    {
      "cell_type": "markdown",
      "source": [
        "## pairwise all data deleted"
      ],
      "metadata": {
        "id": "ML3M8YOeYovi"
      },
      "id": "ML3M8YOeYovi"
    },
    {
      "cell_type": "code",
      "source": [
        "# Create an empty dictionary to store correlation matrices\n",
        "corr_matrices = {}\n",
        "\n",
        "# Iterate over all possible combinations of rows\n",
        "for i in range(len(final__)):\n",
        "    for j in range(i+1, len(final__)):\n",
        "        # Select the two rows to calculate correlation between\n",
        "        row1 = final__.iloc[i]\n",
        "        row2 = final__.iloc[j]\n",
        "        \n",
        "        # Calculate pairwise correlation between the two rows\n",
        "        corr_matrix = pd.DataFrame([row1, row2]).T.corr()\n",
        "        \n",
        "        # Add correlation matrix to dictionary with row index labels as key\n",
        "        corr_matrices[f\"{row1.name}_{row2.name}\"] = corr_matrix"
      ],
      "metadata": {
        "id": "7Df_ban_V9XU"
      },
      "id": "7Df_ban_V9XU",
      "execution_count": null,
      "outputs": []
    },
    {
      "cell_type": "code",
      "source": [
        "len(final__)"
      ],
      "metadata": {
        "id": "g0m4gXFtxyBW"
      },
      "id": "g0m4gXFtxyBW",
      "execution_count": null,
      "outputs": []
    },
    {
      "cell_type": "code",
      "source": [
        "corr_matrices_list = list(corr_matrices.values())"
      ],
      "metadata": {
        "id": "vuZnLcCMYuGh"
      },
      "id": "vuZnLcCMYuGh",
      "execution_count": null,
      "outputs": []
    },
    {
      "cell_type": "code",
      "source": [
        "len(corr_matrices_list)"
      ],
      "metadata": {
        "id": "p1UzbBWEyeWb"
      },
      "id": "p1UzbBWEyeWb",
      "execution_count": null,
      "outputs": []
    },
    {
      "cell_type": "code",
      "source": [
        "column_names = ['sample1', 'sample2', 'value']\n",
        "# Create an empty data frame with the column names\n",
        "total = pd.DataFrame(columns=column_names)\n",
        "\n",
        "for i in range(len(corr_matrices_list)):\n",
        "  df = corr_matrices_list[i]\n",
        "  cols = list(df.columns[df.ne(1).any()])\n",
        "  data = df.values[df.ne(1)]\n",
        "  distinct_data = np.unique(data)\n",
        "  df = pd.DataFrame([cols], columns=['sample1', 'sample2'])\n",
        "  df['value'] = distinct_data\n",
        "  total = pd.merge(total, df, on=['sample1', 'sample2', 'value'], how='outer')\n"
      ],
      "metadata": {
        "id": "2QZDdb4ZYxId"
      },
      "id": "2QZDdb4ZYxId",
      "execution_count": null,
      "outputs": []
    },
    {
      "cell_type": "code",
      "source": [
        "# save the DataFrame to a CSV file\n",
        "total.to_csv('total_pairwise.csv', index=False)"
      ],
      "metadata": {
        "id": "plmYnyR3ZSDg"
      },
      "id": "plmYnyR3ZSDg",
      "execution_count": null,
      "outputs": []
    },
    {
      "cell_type": "code",
      "source": [
        "fin = '//content/cm_em.csv\n",
        "total = pd.read_csv(fin,sep=',')"
      ],
      "metadata": {
        "id": "iBgE5MzEs0U3"
      },
      "id": "iBgE5MzEs0U3",
      "execution_count": null,
      "outputs": []
    },
    {
      "cell_type": "code",
      "source": [
        "# Create an empty dictionary to store correlation matrices\n",
        "corr_matrices = {}\n",
        "\n",
        "# Iterate over all possible combinations of rows\n",
        "for i in range(len(blueprint)):\n",
        "    for j in range(i+1, len(blueprint)):\n",
        "        # Select the two rows to calculate correlation between\n",
        "        row1 = blueprint.iloc[i]\n",
        "        row2 = blueprint.iloc[j]\n",
        "        \n",
        "        # Calculate pairwise correlation between the two rows\n",
        "        corr_matrix = pd.DataFrame([row1, row2]).T.corr()\n",
        "        \n",
        "        # Add correlation matrix to dictionary with row index labels as key\n",
        "        corr_matrices[f\"{row1.name}_{row2.name}\"] = corr_matrix"
      ],
      "metadata": {
        "id": "7SSeG1faJLTD"
      },
      "id": "7SSeG1faJLTD",
      "execution_count": null,
      "outputs": []
    },
    {
      "cell_type": "code",
      "source": [
        "corr_matrices_list = list(corr_matrices.values())"
      ],
      "metadata": {
        "id": "B_Q3IeGtRp-G"
      },
      "id": "B_Q3IeGtRp-G",
      "execution_count": null,
      "outputs": []
    },
    {
      "cell_type": "code",
      "source": [
        "column_names = ['sample1', 'sample2', 'value']\n",
        "# Create an empty data frame with the column names\n",
        "total = pd.DataFrame(columns=column_names)\n",
        "\n",
        "for i in range(len(corr_matrices_list)):\n",
        "  df = corr_matrices_list[i]\n",
        "  cols = list(df.columns[df.ne(1).any()])\n",
        "  data = df.values[df.ne(1)]\n",
        "  distinct_data = np.unique(data)\n",
        "  df = pd.DataFrame([cols], columns=['sample1', 'sample2'])\n",
        "  df['value'] = distinct_data\n",
        "  total = pd.merge(total, df, on=['sample1', 'sample2', 'value'], how='outer')\n",
        "\n",
        "# Create a scatter plot\n",
        "plt.scatter(total['sample1'], total['sample2'], c=total['value'], cmap='coolwarm')\n",
        "plt.colorbar()\n",
        "\n",
        "#add title\n",
        "plt.title('Pairwised Correlation for Samples from Blueprint')\n",
        "plt.xticks(rotation=90)\n",
        "#save the plot\n",
        "plt.savefig('blueprint_pairwised.jpg', dpi=700,bbox_inches='tight', pad_inches=0.1)\n",
        "# Show the plot\n",
        "plt.show()"
      ],
      "metadata": {
        "id": "WjHuv_y3Zv1M"
      },
      "id": "WjHuv_y3Zv1M",
      "execution_count": null,
      "outputs": []
    },
    {
      "cell_type": "code",
      "source": [],
      "metadata": {
        "id": "i6IHaS2BPa1g"
      },
      "id": "i6IHaS2BPa1g",
      "execution_count": null,
      "outputs": []
    },
    {
      "cell_type": "code",
      "source": [
        "grail = final__.loc[final__.index.str.contains('GSM')]"
      ],
      "metadata": {
        "id": "nBn-970LRaBo"
      },
      "id": "nBn-970LRaBo",
      "execution_count": null,
      "outputs": []
    },
    {
      "cell_type": "code",
      "source": [
        "# Create an empty dictionary to store correlation matrices\n",
        "corr_matrices_grail = {}\n",
        "\n",
        "# Iterate over all possible combinations of rows\n",
        "for i in range(len(grail)):\n",
        "    for j in range(i+1, len(grail)):\n",
        "        # Select the two rows to calculate correlation between\n",
        "        row1 = grail.iloc[i]\n",
        "        row2 = grail.iloc[j]\n",
        "        \n",
        "        # Calculate pairwise correlation between the two rows\n",
        "        corr_matrix = pd.DataFrame([row1, row2]).T.corr()\n",
        "        \n",
        "        # Add correlation matrix to dictionary with row index labels as key\n",
        "        corr_matrices_grail[f\"{row1.name}_{row2.name}\"] = corr_matrix"
      ],
      "metadata": {
        "id": "Hia28RjHRatE"
      },
      "id": "Hia28RjHRatE",
      "execution_count": null,
      "outputs": []
    },
    {
      "cell_type": "code",
      "source": [
        "corr_matrices_list_grail = list(corr_matrices_grail.values())\n",
        "# Concatenate all correlation matrices into one large matrix\n",
        "corr_matrix_all_grail = pd.concat(corr_matrices_list_grail, axis=1)"
      ],
      "metadata": {
        "id": "7Vc_at1qiXLg"
      },
      "id": "7Vc_at1qiXLg",
      "execution_count": null,
      "outputs": []
    },
    {
      "cell_type": "code",
      "source": [
        "column_names = ['sample1', 'sample2', 'value']\n",
        "# Create an empty data frame with the column names\n",
        "total = pd.DataFrame(columns=column_names)\n",
        "\n",
        "for i in range(len(corr_matrices_list_grail)):\n",
        "  df = corr_matrices_list_grail[i]\n",
        "  cols = list(df.columns[df.ne(1).any()])\n",
        "  data = df.values[df.ne(1)]\n",
        "  distinct_data = np.unique(data)\n",
        "  df = pd.DataFrame([cols], columns=['sample1', 'sample2'])\n",
        "  df['value'] = distinct_data\n",
        "  total = pd.merge(total, df, on=['sample1', 'sample2', 'value'], how='outer')\n",
        "\n",
        "# Create a scatter plot\n",
        "plt.scatter(total['sample1'], total['sample2'], c=total['value'], cmap='coolwarm')\n",
        "plt.colorbar()\n",
        "\n",
        "#add title\n",
        "plt.title('Pairwised Correlation for Samples from grail')\n",
        "plt.xticks(rotation=90)\n",
        "#save the plot\n",
        "plt.savefig('grail_pairwised.jpg', dpi=700,bbox_inches='tight', pad_inches=0.1)\n",
        "# Show the plot\n",
        "plt.show()"
      ],
      "metadata": {
        "id": "60LWs8IEh9EP"
      },
      "id": "60LWs8IEh9EP",
      "execution_count": null,
      "outputs": []
    },
    {
      "cell_type": "code",
      "source": [
        "# Create a list of all correlation matrices\n",
        "corr_matrices_list_grail = list(corr_matrices_grail.values())\n",
        "# Concatenate all correlation matrices into one large matrix\n",
        "corr_matrix_all_grail = pd.concat(corr_matrices_list_grail, axis=1)\n",
        "# Create a heatmap of the correlations\n",
        "sns.heatmap(corr_matrix_all_grail, cmap='viridis', annot=False, vmin=-1, vmax=1)\n",
        "\n",
        "#save the plot\n",
        "plt.savefig('grail.jpg', dpi=700,bbox_inches='tight', pad_inches=0.1)\n",
        "# Show the plot\n",
        "plt.show()"
      ],
      "metadata": {
        "id": "54csnEVvRpBN"
      },
      "id": "54csnEVvRpBN",
      "execution_count": null,
      "outputs": []
    },
    {
      "cell_type": "code",
      "execution_count": null,
      "metadata": {
        "id": "TiK5Iflzopgc"
      },
      "outputs": [],
      "source": [
        "df = pd.read_csv('/content/MethylationSignal/bedtools_map/k100.bismap_no_header_no_extra_columns_sorted_merged_chr1_to_chr22.bed', sep='\\t', header=None)\n",
        "\n",
        "# Print the number of rows\n",
        "print(\"Number of rows:\", len(df))"
      ],
      "id": "TiK5Iflzopgc"
    },
    {
      "cell_type": "markdown",
      "source": [
        "## PCA"
      ],
      "metadata": {
        "id": "4LqZiQmzX-3f"
      },
      "id": "4LqZiQmzX-3f"
    },
    {
      "cell_type": "code",
      "source": [
        "name = '/content/name_name.csv'\n",
        "test = pd.read_csv(name,sep=',')\n",
        "test.set_index('Name_2', inplace=True)\n",
        "test = test.reindex(final.index)"
      ],
      "metadata": {
        "id": "DahxR_Uk_nb3"
      },
      "id": "DahxR_Uk_nb3",
      "execution_count": 104,
      "outputs": []
    },
    {
      "cell_type": "code",
      "source": [
        "blueprint = final[~final.index.str.contains('GSM')]\n",
        "blueprint_source = test[~test.index.str.contains('GSM')]"
      ],
      "metadata": {
        "id": "9itP_F6JAHYa"
      },
      "id": "9itP_F6JAHYa",
      "execution_count": 105,
      "outputs": []
    },
    {
      "cell_type": "code",
      "source": [
        "from sklearn.decomposition import PCA\n",
        "import pandas as pd\n",
        "import seaborn as sns"
      ],
      "metadata": {
        "id": "bQzKDIefphSd"
      },
      "id": "bQzKDIefphSd",
      "execution_count": 31,
      "outputs": []
    },
    {
      "cell_type": "code",
      "source": [
        "#only need for map output data\n",
        "blueprint = blueprint.replace('.', np.nan).astype(float)"
      ],
      "metadata": {
        "id": "FS7Ku1bhfC8j"
      },
      "id": "FS7Ku1bhfC8j",
      "execution_count": 116,
      "outputs": []
    },
    {
      "cell_type": "code",
      "source": [
        "blueprint.dropna(axis=1, inplace=True)"
      ],
      "metadata": {
        "id": "XDQM5UBBla-W"
      },
      "id": "XDQM5UBBla-W",
      "execution_count": 117,
      "outputs": []
    },
    {
      "cell_type": "code",
      "source": [
        "blueprint"
      ],
      "metadata": {
        "id": "9mYKLw1ildhP"
      },
      "id": "9mYKLw1ildhP",
      "execution_count": null,
      "outputs": []
    },
    {
      "cell_type": "code",
      "source": [
        "X = blueprint.iloc[:, 0:34893].values"
      ],
      "metadata": {
        "id": "ON_RrgIDjCJo"
      },
      "id": "ON_RrgIDjCJo",
      "execution_count": 128,
      "outputs": []
    },
    {
      "cell_type": "code",
      "source": [
        "import pandas as pd\n",
        "import seaborn as sns\n",
        "import matplotlib.pyplot as plt\n",
        "\n",
        "# Perform PCA\n",
        "pca = PCA(n_components=2)\n",
        "X_pca = pca.fit_transform(X)\n",
        "\n",
        "col_names = ['pca1', 'pca2']\n",
        "X_pca_df = pd.DataFrame(X_pca,columns=col_names)\n",
        "X_pca_df['name'] = blueprint.index\n",
        "X_pca_df.set_index(blueprint_source.index, inplace=True)\n",
        "X_pca_df['source'] = blueprint_source['Name']\n",
        "# plot the data points with colors based on the categories\n",
        "sns.scatterplot(data=X_pca_df, x='pca1', y='pca2', style = 'source', hue='name' )\n",
        "#plt.legend(bbox_to_anchor=(1.05, 1.2), loc='upper left')\n",
        "# Set the legend to two rows\n",
        "plt.legend(bbox_to_anchor=(1.05, 1.5), loc=2, borderaxespad=0., ncol=1)\n",
        "\n",
        "#save the plot\n",
        "plt.savefig('blueprint_pca_all_monocytes_average mathylation level.jpg', dpi=700,bbox_inches='tight', pad_inches=0.1)\n",
        "\n",
        "plt.show()"
      ],
      "metadata": {
        "colab": {
          "base_uri": "https://localhost:8080/",
          "height": 753
        },
        "id": "ckJQNQBUH1DE",
        "outputId": "bb744946-3012-45e6-acc0-9fbff3cb5021"
      },
      "id": "ckJQNQBUH1DE",
      "execution_count": 129,
      "outputs": [
        {
          "output_type": "display_data",
          "data": {
            "text/plain": [
              "<Figure size 640x480 with 1 Axes>"
            ],
            "image/png": "[encoded data removed]"
          },
          "metadata": {}
        }
      ]
    },
    {
      "cell_type": "markdown",
      "source": [
        "## Final and Grail"
      ],
      "metadata": {
        "id": "gl5y_wkSI550"
      },
      "id": "gl5y_wkSI550"
    },
    {
      "cell_type": "code",
      "source": [
        "#grail = final.loc[final.index.str.contains('GSM')]\n",
        "#grail.dropna(axis=1, inplace=True)"
      ],
      "metadata": {
        "id": "cBFod_GKI8nb"
      },
      "id": "cBFod_GKI8nb",
      "execution_count": null,
      "outputs": []
    },
    {
      "cell_type": "code",
      "source": [
        "#only need for map output data\n",
        "final = final.replace('.', np.nan).astype(float)\n",
        "final.dropna(axis=1, inplace=True)"
      ],
      "metadata": {
        "id": "qANALUFkGQz5"
      },
      "id": "qANALUFkGQz5",
      "execution_count": 122,
      "outputs": []
    },
    {
      "cell_type": "code",
      "source": [
        "final"
      ],
      "metadata": {
        "id": "TEQ-eUjbGVYe"
      },
      "id": "TEQ-eUjbGVYe",
      "execution_count": null,
      "outputs": []
    },
    {
      "cell_type": "code",
      "source": [
        "X = final.iloc[:, 0:34891].values"
      ],
      "metadata": {
        "id": "0OnzgRWpGYbv"
      },
      "id": "0OnzgRWpGYbv",
      "execution_count": 131,
      "outputs": []
    },
    {
      "cell_type": "code",
      "source": [
        "# Perform PCA\n",
        "pca = PCA(n_components=2)\n",
        "X_pca = pca.fit_transform(X)\n",
        "col_names = ['pca1', 'pca2']\n",
        "X_pca_df = pd.DataFrame(X_pca,columns=col_names)\n",
        "X_pca_df['name'] = final.index\n",
        "X_pca_df.set_index(test.index, inplace=True)\n",
        "X_pca_df['source'] = test['Name']\n",
        "# plot the data points with colors based on the categories\n",
        "sns.scatterplot(data=X_pca_df, x='pca1', y='pca2', style = 'source', hue='name' )\n",
        "#plt.legend(bbox_to_anchor=(1.05, 1.2), loc='upper left')\n",
        "# Set the legend to two rows\n",
        "plt.legend(bbox_to_anchor=(1.05, 1.5), loc=2, borderaxespad=0., ncol=1)\n",
        "\n",
        "#save the plot\n",
        "plt.savefig('all_pca_all_monocytes_average methylation level.jpg', dpi=700,bbox_inches='tight', pad_inches=0.1)\n",
        "\n",
        "plt.show()"
      ],
      "metadata": {
        "colab": {
          "base_uri": "https://localhost:8080/",
          "height": 837
        },
        "id": "pczC6w-1G3Fb",
        "outputId": "4d49397e-dd19-4175-ac0b-b0cfd39593a1"
      },
      "id": "pczC6w-1G3Fb",
      "execution_count": 132,
      "outputs": [
        {
          "output_type": "display_data",
          "data": {
            "text/plain": [
              "<Figure size 640x480 with 1 Axes>"
            ],
            "image/png": "[encoded data removed]"
          },
          "metadata": {}
        }
      ]
    },
    {
      "cell_type": "markdown",
      "metadata": {
        "id": "0Z78HaPSzSD5"
      },
      "source": [
        "## pairwise correlation"
      ],
      "id": "0Z78HaPSzSD5"
    },
    {
      "cell_type": "code",
      "source": [
        "#only need for map data\n",
        "final_ = final_.replace('.', np.nan).astype(float)"
      ],
      "metadata": {
        "id": "k2fZU6Shfl6n"
      },
      "id": "k2fZU6Shfl6n",
      "execution_count": 142,
      "outputs": []
    },
    {
      "cell_type": "code",
      "source": [
        "final_"
      ],
      "metadata": {
        "id": "a-UrjsVKnRJN"
      },
      "id": "a-UrjsVKnRJN",
      "execution_count": null,
      "outputs": []
    },
    {
      "cell_type": "code",
      "source": [
        "corr_matrix=final_.T.corr()"
      ],
      "metadata": {
        "id": "VeQthvfnnOBq"
      },
      "id": "VeQthvfnnOBq",
      "execution_count": 144,
      "outputs": []
    },
    {
      "cell_type": "code",
      "source": [
        "corr_matrix"
      ],
      "metadata": {
        "id": "qncpbZqBnOpR"
      },
      "id": "qncpbZqBnOpR",
      "execution_count": null,
      "outputs": []
    },
    {
      "cell_type": "code",
      "source": [
        "corr_matrix=final_.T.corr()\n",
        "corr_matrix_=final.T.corr()"
      ],
      "metadata": {
        "id": "cdAz7S_h79VG",
        "colab": {
          "base_uri": "https://localhost:8080/"
        },
        "outputId": "316f5423-de83-4716-a735-e521d7a9b30c"
      },
      "id": "cdAz7S_h79VG",
      "execution_count": 133,
      "outputs": [
        {
          "output_type": "stream",
          "name": "stderr",
          "text": [
            "<ipython-input-133-e86e4de11d2d>:1: FutureWarning: The default value of numeric_only in DataFrame.corr is deprecated. In a future version, it will default to False. Select only valid columns or specify the value of numeric_only to silence this warning.\n",
            "  corr_matrix=final_.T.corr()\n"
          ]
        }
      ]
    },
    {
      "cell_type": "code",
      "source": [
        "#unfiltered\n",
        "corr_matrix\n",
        "#filtered\n",
        "corr_matrix_"
      ],
      "metadata": {
        "id": "YgFZoxhYmFhD"
      },
      "id": "YgFZoxhYmFhD",
      "execution_count": null,
      "outputs": []
    },
    {
      "cell_type": "code",
      "source": [
        "corr_matrix['source'] = test['Name']\n",
        "corr_matrix_['source'] = test['Name']"
      ],
      "metadata": {
        "id": "D5g_Hkd4w2jf"
      },
      "id": "D5g_Hkd4w2jf",
      "execution_count": 147,
      "outputs": []
    },
    {
      "cell_type": "code",
      "source": [
        "corr_matrix.to_csv('unfiltered_all_monocyte_average__pairwise_correlation_weighted.csv', index=True)\n",
        "corr_matrix_.to_csv('filtered_all_monocyte_average__pairwise_correlation_weighted.csv', index=True)"
      ],
      "metadata": {
        "id": "f4FSM7Uc3NfG"
      },
      "id": "f4FSM7Uc3NfG",
      "execution_count": 148,
      "outputs": []
    },
    {
      "cell_type": "code",
      "source": [],
      "metadata": {
        "id": "h9q_gZ_zecLg"
      },
      "id": "h9q_gZ_zecLg",
      "execution_count": null,
      "outputs": []
    }
  ],
  "metadata": {
    "accelerator": "GPU",
    "colab": {
      "machine_shape": "hm",
      "provenance": [],
      "collapsed_sections": [
        "A9Mh9KHUS6DY",
        "vaMcEvJs_fkd",
        "RnkPaiiJ0iIz",
        "ML3M8YOeYovi"
      ],
      "include_colab_link": true
    },
    "gpuClass": "standard",
    "kernelspec": {
      "display_name": "Python [conda env:pymain] *",
      "language": "python",
      "name": "conda-env-pymain-py"
    },
    "language_info": {
      "codemirror_mode": {
        "name": "ipython",
        "version": 3
      },
      "file_extension": ".py",
      "mimetype": "text/x-python",
      "name": "python",
      "nbconvert_exporter": "python",
      "pygments_lexer": "ipython3",
      "version": "3.9.15"
    }
  },
  "nbformat": 4,
  "nbformat_minor": 5
}