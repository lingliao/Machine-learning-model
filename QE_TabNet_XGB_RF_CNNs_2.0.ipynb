{
  "cells": [
    {
      "cell_type": "markdown",
      "metadata": {
        "id": "view-in-github",
        "colab_type": "text"
      },
      "source": [
        "<a href=\"https://colab.research.google.com/github/lingliao/Machine-learning-model/blob/main/QE_TabNet_XGB_RF_CNNs_2.0.ipynb\" target=\"_parent\"><img src=\"https://colab.research.google.com/assets/colab-badge.svg\" alt=\"Open In Colab\"/></a>"
      ]
    },
    {
      "cell_type": "markdown",
      "source": [
        "# Tabnet"
      ],
      "metadata": {
        "id": "74awm8RZRbvs"
      }
    },
    {
      "cell_type": "code",
      "source": [
        "!pip install pytorch_tabnet\n",
        "!pip install wget"
      ],
      "metadata": {
        "id": "2xhLHaijcIDY",
        "colab": {
          "base_uri": "https://localhost:8080/"
        },
        "outputId": "2d78cd49-9520-474d-eb08-b821ae0d4871"
      },
      "execution_count": null,
      "outputs": [
        {
          "output_type": "stream",
          "name": "stdout",
          "text": [
            "Collecting pytorch_tabnet\n",
            "  Downloading pytorch_tabnet-4.1.0-py3-none-any.whl (44 kB)\n",
            "\u001b[2K     \u001b[90m━━━━━━━━━━━━━━━━━━━━━━━━━━━━━━━━━━━━━━━━\u001b[0m \u001b[32m44.5/44.5 kB\u001b[0m \u001b[31m1.8 MB/s\u001b[0m eta \u001b[36m0:00:00\u001b[0m\n",
            "\u001b[?25hRequirement already satisfied: numpy>=1.17 in /usr/local/lib/python3.10/dist-packages (from pytorch_tabnet) (1.23.5)\n",
            "Requirement already satisfied: scikit_learn>0.21 in /usr/local/lib/python3.10/dist-packages (from pytorch_tabnet) (1.2.2)\n",
            "Requirement already satisfied: scipy>1.4 in /usr/local/lib/python3.10/dist-packages (from pytorch_tabnet) (1.11.3)\n",
            "Requirement already satisfied: torch>=1.3 in /usr/local/lib/python3.10/dist-packages (from pytorch_tabnet) (2.0.1+cu118)\n",
            "Requirement already satisfied: tqdm>=4.36 in /usr/local/lib/python3.10/dist-packages (from pytorch_tabnet) (4.66.1)\n",
            "Requirement already satisfied: joblib>=1.1.1 in /usr/local/lib/python3.10/dist-packages (from scikit_learn>0.21->pytorch_tabnet) (1.3.2)\n",
            "Requirement already satisfied: threadpoolctl>=2.0.0 in /usr/local/lib/python3.10/dist-packages (from scikit_learn>0.21->pytorch_tabnet) (3.2.0)\n",
            "Requirement already satisfied: filelock in /usr/local/lib/python3.10/dist-packages (from torch>=1.3->pytorch_tabnet) (3.12.4)\n",
            "Requirement already satisfied: typing-extensions in /usr/local/lib/python3.10/dist-packages (from torch>=1.3->pytorch_tabnet) (4.5.0)\n",
            "Requirement already satisfied: sympy in /usr/local/lib/python3.10/dist-packages (from torch>=1.3->pytorch_tabnet) (1.12)\n",
            "Requirement already satisfied: networkx in /usr/local/lib/python3.10/dist-packages (from torch>=1.3->pytorch_tabnet) (3.1)\n",
            "Requirement already satisfied: jinja2 in /usr/local/lib/python3.10/dist-packages (from torch>=1.3->pytorch_tabnet) (3.1.2)\n",
            "Requirement already satisfied: triton==2.0.0 in /usr/local/lib/python3.10/dist-packages (from torch>=1.3->pytorch_tabnet) (2.0.0)\n",
            "Requirement already satisfied: cmake in /usr/local/lib/python3.10/dist-packages (from triton==2.0.0->torch>=1.3->pytorch_tabnet) (3.27.5)\n",
            "Requirement already satisfied: lit in /usr/local/lib/python3.10/dist-packages (from triton==2.0.0->torch>=1.3->pytorch_tabnet) (17.0.1)\n",
            "Requirement already satisfied: MarkupSafe>=2.0 in /usr/local/lib/python3.10/dist-packages (from jinja2->torch>=1.3->pytorch_tabnet) (2.1.3)\n",
            "Requirement already satisfied: mpmath>=0.19 in /usr/local/lib/python3.10/dist-packages (from sympy->torch>=1.3->pytorch_tabnet) (1.3.0)\n",
            "Installing collected packages: pytorch_tabnet\n",
            "Successfully installed pytorch_tabnet-4.1.0\n",
            "Collecting wget\n",
            "  Downloading wget-3.2.zip (10 kB)\n",
            "  Preparing metadata (setup.py) ... \u001b[?25l\u001b[?25hdone\n",
            "Building wheels for collected packages: wget\n",
            "  Building wheel for wget (setup.py) ... \u001b[?25l\u001b[?25hdone\n",
            "  Created wheel for wget: filename=wget-3.2-py3-none-any.whl size=9655 sha256=fe93585c549a05b9c4587bc241decf4b75af366045d7548ab0c46c7462e37431\n",
            "  Stored in directory: /root/.cache/pip/wheels/8b/f1/7f/5c94f0a7a505ca1c81cd1d9208ae2064675d97582078e6c769\n",
            "Successfully built wget\n",
            "Installing collected packages: wget\n",
            "Successfully installed wget-3.2\n"
          ]
        }
      ]
    },
    {
      "cell_type": "code",
      "execution_count": null,
      "metadata": {
        "id": "4Q2J-YY_cFbd"
      },
      "outputs": [],
      "source": [
        "from pytorch_tabnet.tab_model import TabNetClassifier\n",
        "\n",
        "import torch\n",
        "from sklearn.preprocessing import LabelEncoder\n",
        "from sklearn.metrics import roc_auc_score\n",
        "\n",
        "import pandas as pd\n",
        "import numpy as np\n",
        "np.random.seed(0)\n",
        "import scipy\n",
        "import os\n",
        "import wget\n",
        "from pathlib import Path\n",
        "from matplotlib import pyplot as plt\n",
        "%matplotlib inline"
      ]
    },
    {
      "cell_type": "code",
      "execution_count": null,
      "metadata": {
        "id": "z_VE6qQ4cFbe"
      },
      "outputs": [],
      "source": [
        "import os\n",
        "os.environ['CUDA_VISIBLE_DEVICES'] = f\"1\""
      ]
    },
    {
      "cell_type": "code",
      "execution_count": null,
      "metadata": {
        "id": "nODD6i-ucFbe",
        "outputId": "c7c1e6fe-5697-4898-dec3-4afa3a32c5f6",
        "colab": {
          "base_uri": "https://localhost:8080/",
          "height": 35
        }
      },
      "outputs": [
        {
          "output_type": "execute_result",
          "data": {
            "text/plain": [
              "'2.0.1+cu118'"
            ],
            "application/vnd.google.colaboratory.intrinsic+json": {
              "type": "string"
            }
          },
          "metadata": {},
          "execution_count": 5
        }
      ],
      "source": [
        "import torch\n",
        "torch.__version__"
      ]
    },
    {
      "cell_type": "markdown",
      "metadata": {
        "id": "ViTpu7eYcFbe"
      },
      "source": [
        "# Download census-income dataset"
      ]
    },
    {
      "cell_type": "code",
      "execution_count": 392,
      "metadata": {
        "id": "EwpW8AzXcFbf"
      },
      "outputs": [],
      "source": [
        "url = \"https://archive.ics.uci.edu/ml/machine-learning-databases/adult/adult.data\"\n",
        "dataset_name = 'census-income'\n",
        "out = Path(os.getcwd()+'/data/'+dataset_name+'.csv')"
      ]
    },
    {
      "cell_type": "code",
      "execution_count": 393,
      "metadata": {
        "id": "GHKW3w47cFbf",
        "outputId": "4b49b0a3-8361-4ffa-d27a-9560ff2c0963",
        "colab": {
          "base_uri": "https://localhost:8080/"
        }
      },
      "outputs": [
        {
          "output_type": "stream",
          "name": "stdout",
          "text": [
            "File already exists.\n"
          ]
        }
      ],
      "source": [
        "\n",
        "out.parent.mkdir(parents=True, exist_ok=True)\n",
        "if out.exists():\n",
        "    print(\"File already exists.\")\n",
        "else:\n",
        "    print(\"Downloading file...\")\n",
        "    wget.download(url, out.as_posix())"
      ]
    },
    {
      "cell_type": "markdown",
      "source": [
        "**load the data and split**"
      ],
      "metadata": {
        "id": "hJ7cF1H3SETU"
      }
    },
    {
      "cell_type": "code",
      "source": [
        "train = pd.read_csv(out, header = None)\n",
        "# Set the first row as the header\n",
        "train.columns = train.iloc[0]\n",
        "\n",
        "# Drop the first row, which is now the header\n",
        "# train = train.iloc[1:]"
      ],
      "metadata": {
        "id": "xHsFLG3iaxR8"
      },
      "execution_count": 394,
      "outputs": []
    },
    {
      "cell_type": "code",
      "source": [
        "# Select all rows where the last column contains \">\"\n",
        "selected_rows = train[train.iloc[:, -1].str.contains(\"<\")]\n",
        "selected_rows = selected_rows[selected_rows.iloc[:, -2].str.contains(\"United-States\")]\n",
        "random_sample = selected_rows.sample(n=7171, random_state=42)\n",
        "more_rows = train[train.iloc[:, -1].str.contains(\">\")]\n",
        "more_rows = more_rows[more_rows.iloc[:, -2].str.contains(\"United-States\")]\n",
        "combined_df = pd.concat([random_sample, more_rows], axis=0)\n",
        "combined_df.to_csv('combined_data.txt', sep=',', index=False)"
      ],
      "metadata": {
        "id": "jGxV90QDer1X"
      },
      "execution_count": 395,
      "outputs": []
    },
    {
      "cell_type": "code",
      "source": [
        "train = combined_df"
      ],
      "metadata": {
        "id": "kE5ua_QHhWeP"
      },
      "execution_count": 396,
      "outputs": []
    },
    {
      "cell_type": "code",
      "source": [
        "# Get the last column (final column) and its name\n",
        "last_column = train.iloc[:, -1]\n",
        "last_column_name = train.columns[-1]\n",
        "\n",
        "# Get unique values and their counts in the last column\n",
        "unique_values = last_column.value_counts()\n",
        "\n",
        "# Print unique values and their counts\n",
        "for value, count in unique_values.items():\n",
        "    print(f'{last_column_name}: {value}, Count: {count}')"
      ],
      "metadata": {
        "colab": {
          "base_uri": "https://localhost:8080/"
        },
        "id": "g3KKky0Max-s",
        "outputId": "a0d67843-0a5c-4a73-acf2-aef18667a877"
      },
      "execution_count": 397,
      "outputs": [
        {
          "output_type": "stream",
          "name": "stdout",
          "text": [
            " <=50K:  <=50K, Count: 7171\n",
            " <=50K:  >50K, Count: 7171\n"
          ]
        }
      ]
    },
    {
      "cell_type": "code",
      "source": [
        "train = train.reset_index(drop=True)"
      ],
      "metadata": {
        "id": "L9mGo1P5isCU"
      },
      "execution_count": 398,
      "outputs": []
    },
    {
      "cell_type": "code",
      "source": [
        "train.head()"
      ],
      "metadata": {
        "colab": {
          "base_uri": "https://localhost:8080/",
          "height": 382
        },
        "id": "BREOdmQli4f7",
        "outputId": "fbfc5011-6e6b-4b73-da42-9e5742d1bb4f"
      },
      "execution_count": 399,
      "outputs": [
        {
          "output_type": "execute_result",
          "data": {
            "text/plain": [
              "0  39  State-gov   77516      Bachelors  13        Never-married  \\\n",
              "0  35    Private  144937        HS-grad   9   Married-civ-spouse   \n",
              "1  20    Private  131230        HS-grad   9        Never-married   \n",
              "2  20    Private  282604   Some-college  10        Never-married   \n",
              "3  40    Private  143046      Bachelors  13        Never-married   \n",
              "4  48    Private  207120   Some-college  10   Married-civ-spouse   \n",
              "\n",
              "0        Adm-clerical    Not-in-family   White     Male  2174     0  40  \\\n",
              "0        Craft-repair          Husband   White     Male     0     0  42   \n",
              "1   Machine-op-inspct        Own-child   White     Male     0  1590  40   \n",
              "2   Handlers-cleaners   Other-relative   White     Male     0     0  20   \n",
              "3      Prof-specialty    Not-in-family   White   Female     0     0  45   \n",
              "4      Prof-specialty          Husband   White     Male     0     0  40   \n",
              "\n",
              "0   United-States   <=50K  \n",
              "0   United-States   <=50K  \n",
              "1   United-States   <=50K  \n",
              "2   United-States   <=50K  \n",
              "3   United-States   <=50K  \n",
              "4   United-States   <=50K  "
            ],
            "text/html": [
              "\n",
              "  <div id=\"df-989a3426-a4e1-40c0-ad4f-65748e2363dc\" class=\"colab-df-container\">\n",
              "    <div>\n",
              "<style scoped>\n",
              "    .dataframe tbody tr th:only-of-type {\n",
              "        vertical-align: middle;\n",
              "    }\n",
              "\n",
              "    .dataframe tbody tr th {\n",
              "        vertical-align: top;\n",
              "    }\n",
              "\n",
              "    .dataframe thead th {\n",
              "        text-align: right;\n",
              "    }\n",
              "</style>\n",
              "<table border=\"1\" class=\"dataframe\">\n",
              "  <thead>\n",
              "    <tr style=\"text-align: right;\">\n",
              "      <th></th>\n",
              "      <th>39</th>\n",
              "      <th>State-gov</th>\n",
              "      <th>77516</th>\n",
              "      <th>Bachelors</th>\n",
              "      <th>13</th>\n",
              "      <th>Never-married</th>\n",
              "      <th>Adm-clerical</th>\n",
              "      <th>Not-in-family</th>\n",
              "      <th>White</th>\n",
              "      <th>Male</th>\n",
              "      <th>2174</th>\n",
              "      <th>0</th>\n",
              "      <th>40</th>\n",
              "      <th>United-States</th>\n",
              "      <th>&lt;=50K</th>\n",
              "    </tr>\n",
              "  </thead>\n",
              "  <tbody>\n",
              "    <tr>\n",
              "      <th>0</th>\n",
              "      <td>35</td>\n",
              "      <td>Private</td>\n",
              "      <td>144937</td>\n",
              "      <td>HS-grad</td>\n",
              "      <td>9</td>\n",
              "      <td>Married-civ-spouse</td>\n",
              "      <td>Craft-repair</td>\n",
              "      <td>Husband</td>\n",
              "      <td>White</td>\n",
              "      <td>Male</td>\n",
              "      <td>0</td>\n",
              "      <td>0</td>\n",
              "      <td>42</td>\n",
              "      <td>United-States</td>\n",
              "      <td>&lt;=50K</td>\n",
              "    </tr>\n",
              "    <tr>\n",
              "      <th>1</th>\n",
              "      <td>20</td>\n",
              "      <td>Private</td>\n",
              "      <td>131230</td>\n",
              "      <td>HS-grad</td>\n",
              "      <td>9</td>\n",
              "      <td>Never-married</td>\n",
              "      <td>Machine-op-inspct</td>\n",
              "      <td>Own-child</td>\n",
              "      <td>White</td>\n",
              "      <td>Male</td>\n",
              "      <td>0</td>\n",
              "      <td>1590</td>\n",
              "      <td>40</td>\n",
              "      <td>United-States</td>\n",
              "      <td>&lt;=50K</td>\n",
              "    </tr>\n",
              "    <tr>\n",
              "      <th>2</th>\n",
              "      <td>20</td>\n",
              "      <td>Private</td>\n",
              "      <td>282604</td>\n",
              "      <td>Some-college</td>\n",
              "      <td>10</td>\n",
              "      <td>Never-married</td>\n",
              "      <td>Handlers-cleaners</td>\n",
              "      <td>Other-relative</td>\n",
              "      <td>White</td>\n",
              "      <td>Male</td>\n",
              "      <td>0</td>\n",
              "      <td>0</td>\n",
              "      <td>20</td>\n",
              "      <td>United-States</td>\n",
              "      <td>&lt;=50K</td>\n",
              "    </tr>\n",
              "    <tr>\n",
              "      <th>3</th>\n",
              "      <td>40</td>\n",
              "      <td>Private</td>\n",
              "      <td>143046</td>\n",
              "      <td>Bachelors</td>\n",
              "      <td>13</td>\n",
              "      <td>Never-married</td>\n",
              "      <td>Prof-specialty</td>\n",
              "      <td>Not-in-family</td>\n",
              "      <td>White</td>\n",
              "      <td>Female</td>\n",
              "      <td>0</td>\n",
              "      <td>0</td>\n",
              "      <td>45</td>\n",
              "      <td>United-States</td>\n",
              "      <td>&lt;=50K</td>\n",
              "    </tr>\n",
              "    <tr>\n",
              "      <th>4</th>\n",
              "      <td>48</td>\n",
              "      <td>Private</td>\n",
              "      <td>207120</td>\n",
              "      <td>Some-college</td>\n",
              "      <td>10</td>\n",
              "      <td>Married-civ-spouse</td>\n",
              "      <td>Prof-specialty</td>\n",
              "      <td>Husband</td>\n",
              "      <td>White</td>\n",
              "      <td>Male</td>\n",
              "      <td>0</td>\n",
              "      <td>0</td>\n",
              "      <td>40</td>\n",
              "      <td>United-States</td>\n",
              "      <td>&lt;=50K</td>\n",
              "    </tr>\n",
              "  </tbody>\n",
              "</table>\n",
              "</div>\n",
              "    <div class=\"colab-df-buttons\">\n",
              "\n",
              "  <div class=\"colab-df-container\">\n",
              "    <button class=\"colab-df-convert\" onclick=\"convertToInteractive('df-989a3426-a4e1-40c0-ad4f-65748e2363dc')\"\n",
              "            title=\"Convert this dataframe to an interactive table.\"\n",
              "            style=\"display:none;\">\n",
              "\n",
              "  <svg xmlns=\"http://www.w3.org/2000/svg\" height=\"24px\" viewBox=\"0 -960 960 960\">\n",
              "    <path d=\"M120-120v-720h720v720H120Zm60-500h600v-160H180v160Zm220 220h160v-160H400v160Zm0 220h160v-160H400v160ZM180-400h160v-160H180v160Zm440 0h160v-160H620v160ZM180-180h160v-160H180v160Zm440 0h160v-160H620v160Z\"/>\n",
              "  </svg>\n",
              "    </button>\n",
              "\n",
              "  <style>\n",
              "    .colab-df-container {\n",
              "      display:flex;\n",
              "      gap: 12px;\n",
              "    }\n",
              "\n",
              "    .colab-df-convert {\n",
              "      background-color: #E8F0FE;\n",
              "      border: none;\n",
              "      border-radius: 50%;\n",
              "      cursor: pointer;\n",
              "      display: none;\n",
              "      fill: #1967D2;\n",
              "      height: 32px;\n",
              "      padding: 0 0 0 0;\n",
              "      width: 32px;\n",
              "    }\n",
              "\n",
              "    .colab-df-convert:hover {\n",
              "      background-color: #E2EBFA;\n",
              "      box-shadow: 0px 1px 2px rgba(60, 64, 67, 0.3), 0px 1px 3px 1px rgba(60, 64, 67, 0.15);\n",
              "      fill: #174EA6;\n",
              "    }\n",
              "\n",
              "    .colab-df-buttons div {\n",
              "      margin-bottom: 4px;\n",
              "    }\n",
              "\n",
              "    [theme=dark] .colab-df-convert {\n",
              "      background-color: #3B4455;\n",
              "      fill: #D2E3FC;\n",
              "    }\n",
              "\n",
              "    [theme=dark] .colab-df-convert:hover {\n",
              "      background-color: #434B5C;\n",
              "      box-shadow: 0px 1px 3px 1px rgba(0, 0, 0, 0.15);\n",
              "      filter: drop-shadow(0px 1px 2px rgba(0, 0, 0, 0.3));\n",
              "      fill: #FFFFFF;\n",
              "    }\n",
              "  </style>\n",
              "\n",
              "    <script>\n",
              "      const buttonEl =\n",
              "        document.querySelector('#df-989a3426-a4e1-40c0-ad4f-65748e2363dc button.colab-df-convert');\n",
              "      buttonEl.style.display =\n",
              "        google.colab.kernel.accessAllowed ? 'block' : 'none';\n",
              "\n",
              "      async function convertToInteractive(key) {\n",
              "        const element = document.querySelector('#df-989a3426-a4e1-40c0-ad4f-65748e2363dc');\n",
              "        const dataTable =\n",
              "          await google.colab.kernel.invokeFunction('convertToInteractive',\n",
              "                                                    [key], {});\n",
              "        if (!dataTable) return;\n",
              "\n",
              "        const docLinkHtml = 'Like what you see? Visit the ' +\n",
              "          '<a target=\"_blank\" href=https://colab.research.google.com/notebooks/data_table.ipynb>data table notebook</a>'\n",
              "          + ' to learn more about interactive tables.';\n",
              "        element.innerHTML = '';\n",
              "        dataTable['output_type'] = 'display_data';\n",
              "        await google.colab.output.renderOutput(dataTable, element);\n",
              "        const docLink = document.createElement('div');\n",
              "        docLink.innerHTML = docLinkHtml;\n",
              "        element.appendChild(docLink);\n",
              "      }\n",
              "    </script>\n",
              "  </div>\n",
              "\n",
              "\n",
              "<div id=\"df-3d444b35-34df-4aba-9f95-8a7fd13b0e92\">\n",
              "  <button class=\"colab-df-quickchart\" onclick=\"quickchart('df-3d444b35-34df-4aba-9f95-8a7fd13b0e92')\"\n",
              "            title=\"Suggest charts\"\n",
              "            style=\"display:none;\">\n",
              "\n",
              "<svg xmlns=\"http://www.w3.org/2000/svg\" height=\"24px\"viewBox=\"0 0 24 24\"\n",
              "     width=\"24px\">\n",
              "    <g>\n",
              "        <path d=\"M19 3H5c-1.1 0-2 .9-2 2v14c0 1.1.9 2 2 2h14c1.1 0 2-.9 2-2V5c0-1.1-.9-2-2-2zM9 17H7v-7h2v7zm4 0h-2V7h2v10zm4 0h-2v-4h2v4z\"/>\n",
              "    </g>\n",
              "</svg>\n",
              "  </button>\n",
              "\n",
              "<style>\n",
              "  .colab-df-quickchart {\n",
              "      --bg-color: #E8F0FE;\n",
              "      --fill-color: #1967D2;\n",
              "      --hover-bg-color: #E2EBFA;\n",
              "      --hover-fill-color: #174EA6;\n",
              "      --disabled-fill-color: #AAA;\n",
              "      --disabled-bg-color: #DDD;\n",
              "  }\n",
              "\n",
              "  [theme=dark] .colab-df-quickchart {\n",
              "      --bg-color: #3B4455;\n",
              "      --fill-color: #D2E3FC;\n",
              "      --hover-bg-color: #434B5C;\n",
              "      --hover-fill-color: #FFFFFF;\n",
              "      --disabled-bg-color: #3B4455;\n",
              "      --disabled-fill-color: #666;\n",
              "  }\n",
              "\n",
              "  .colab-df-quickchart {\n",
              "    background-color: var(--bg-color);\n",
              "    border: none;\n",
              "    border-radius: 50%;\n",
              "    cursor: pointer;\n",
              "    display: none;\n",
              "    fill: var(--fill-color);\n",
              "    height: 32px;\n",
              "    padding: 0;\n",
              "    width: 32px;\n",
              "  }\n",
              "\n",
              "  .colab-df-quickchart:hover {\n",
              "    background-color: var(--hover-bg-color);\n",
              "    box-shadow: 0 1px 2px rgba(60, 64, 67, 0.3), 0 1px 3px 1px rgba(60, 64, 67, 0.15);\n",
              "    fill: var(--button-hover-fill-color);\n",
              "  }\n",
              "\n",
              "  .colab-df-quickchart-complete:disabled,\n",
              "  .colab-df-quickchart-complete:disabled:hover {\n",
              "    background-color: var(--disabled-bg-color);\n",
              "    fill: var(--disabled-fill-color);\n",
              "    box-shadow: none;\n",
              "  }\n",
              "\n",
              "  .colab-df-spinner {\n",
              "    border: 2px solid var(--fill-color);\n",
              "    border-color: transparent;\n",
              "    border-bottom-color: var(--fill-color);\n",
              "    animation:\n",
              "      spin 1s steps(1) infinite;\n",
              "  }\n",
              "\n",
              "  @keyframes spin {\n",
              "    0% {\n",
              "      border-color: transparent;\n",
              "      border-bottom-color: var(--fill-color);\n",
              "      border-left-color: var(--fill-color);\n",
              "    }\n",
              "    20% {\n",
              "      border-color: transparent;\n",
              "      border-left-color: var(--fill-color);\n",
              "      border-top-color: var(--fill-color);\n",
              "    }\n",
              "    30% {\n",
              "      border-color: transparent;\n",
              "      border-left-color: var(--fill-color);\n",
              "      border-top-color: var(--fill-color);\n",
              "      border-right-color: var(--fill-color);\n",
              "    }\n",
              "    40% {\n",
              "      border-color: transparent;\n",
              "      border-right-color: var(--fill-color);\n",
              "      border-top-color: var(--fill-color);\n",
              "    }\n",
              "    60% {\n",
              "      border-color: transparent;\n",
              "      border-right-color: var(--fill-color);\n",
              "    }\n",
              "    80% {\n",
              "      border-color: transparent;\n",
              "      border-right-color: var(--fill-color);\n",
              "      border-bottom-color: var(--fill-color);\n",
              "    }\n",
              "    90% {\n",
              "      border-color: transparent;\n",
              "      border-bottom-color: var(--fill-color);\n",
              "    }\n",
              "  }\n",
              "</style>\n",
              "\n",
              "  <script>\n",
              "    async function quickchart(key) {\n",
              "      const quickchartButtonEl =\n",
              "        document.querySelector('#' + key + ' button');\n",
              "      quickchartButtonEl.disabled = true;  // To prevent multiple clicks.\n",
              "      quickchartButtonEl.classList.add('colab-df-spinner');\n",
              "      try {\n",
              "        const charts = await google.colab.kernel.invokeFunction(\n",
              "            'suggestCharts', [key], {});\n",
              "      } catch (error) {\n",
              "        console.error('Error during call to suggestCharts:', error);\n",
              "      }\n",
              "      quickchartButtonEl.classList.remove('colab-df-spinner');\n",
              "      quickchartButtonEl.classList.add('colab-df-quickchart-complete');\n",
              "    }\n",
              "    (() => {\n",
              "      let quickchartButtonEl =\n",
              "        document.querySelector('#df-3d444b35-34df-4aba-9f95-8a7fd13b0e92 button');\n",
              "      quickchartButtonEl.style.display =\n",
              "        google.colab.kernel.accessAllowed ? 'block' : 'none';\n",
              "    })();\n",
              "  </script>\n",
              "</div>\n",
              "\n",
              "    </div>\n",
              "  </div>\n"
            ]
          },
          "metadata": {},
          "execution_count": 399
        }
      ]
    },
    {
      "cell_type": "code",
      "execution_count": 400,
      "metadata": {
        "id": "iqMnHU3kcFbf"
      },
      "outputs": [],
      "source": [
        "# train = pd.read_csv(out)\n",
        "target = ' <=50K'\n",
        "if \"Set\" not in train.columns:\n",
        "    train[\"Set\"] = np.random.choice([\"train\", \"valid\", \"test\"], p =[.8, .1, .1], size=(train.shape[0],))\n",
        "\n",
        "train_indices = train[train.Set==\"train\"].index\n",
        "valid_indices = train[train.Set==\"valid\"].index\n",
        "test_indices = train[train.Set==\"test\"].index"
      ]
    },
    {
      "cell_type": "markdown",
      "metadata": {
        "id": "Yk3-C9K2cFbg"
      },
      "source": [
        "**Simple preprocessing**\n",
        "\n",
        "Label encode categorical features and fill empty cells."
      ]
    },
    {
      "cell_type": "code",
      "execution_count": 401,
      "metadata": {
        "id": "ph0sHBklcFbg",
        "outputId": "59d0b6d8-d6a0-4f9b-eb7a-246e1ffbb2dd",
        "colab": {
          "base_uri": "https://localhost:8080/"
        }
      },
      "outputs": [
        {
          "output_type": "stream",
          "name": "stdout",
          "text": [
            "39 71\n",
            " State-gov 9\n",
            " Bachelors 16\n",
            "13 16\n",
            " Never-married 7\n",
            " Adm-clerical 15\n",
            " Not-in-family 6\n",
            " White 5\n",
            " Male 2\n",
            "2174 107\n",
            "0 76\n",
            "40 90\n",
            " United-States 1\n",
            " <=50K 2\n",
            "Set 3\n"
          ]
        }
      ],
      "source": [
        "nunique = train.nunique()\n",
        "types = train.dtypes\n",
        "\n",
        "categorical_columns = []\n",
        "categorical_dims =  {}\n",
        "for col in train.columns:\n",
        "    if types[col] == 'object' or nunique[col] < 200:\n",
        "        print(col, train[col].nunique())\n",
        "        l_enc = LabelEncoder()\n",
        "        train[col] = train[col].fillna(\"VV_likely\")\n",
        "        train[col] = l_enc.fit_transform(train[col].values)\n",
        "        categorical_columns.append(col)\n",
        "        categorical_dims[col] = len(l_enc.classes_)\n",
        "    else:\n",
        "        train.fillna(train.loc[train_indices, col].mean(), inplace=True)"
      ]
    },
    {
      "cell_type": "code",
      "source": [
        "train.head()"
      ],
      "metadata": {
        "colab": {
          "base_uri": "https://localhost:8080/",
          "height": 261
        },
        "id": "0qvwzwG-kCOI",
        "outputId": "3b2d8b3f-5559-48d7-e159-c2701003d263"
      },
      "execution_count": 402,
      "outputs": [
        {
          "output_type": "execute_result",
          "data": {
            "text/plain": [
              "0  39   State-gov   77516   Bachelors  13   Never-married   Adm-clerical  \\\n",
              "0  18           4  144937          11   8               2              3   \n",
              "1   3           4  131230          11   8               4              7   \n",
              "2   3           4  282604          15   9               4              6   \n",
              "3  23           4  143046           9  12               4             10   \n",
              "4  31           4  207120          15   9               2             10   \n",
              "\n",
              "0   Not-in-family   White   Male  2174   0  40   United-States   <=50K  Set  \n",
              "0               0       4      1     0   0  41               0       0    1  \n",
              "1               3       4      1     0  16  39               0       0    1  \n",
              "2               2       4      1     0   0  19               0       0    1  \n",
              "3               1       4      0     0   0  44               0       0    1  \n",
              "4               0       4      1     0   0  39               0       0    1  "
            ],
            "text/html": [
              "\n",
              "  <div id=\"df-8624f983-22db-460d-92bb-fc08aae3c1c2\" class=\"colab-df-container\">\n",
              "    <div>\n",
              "<style scoped>\n",
              "    .dataframe tbody tr th:only-of-type {\n",
              "        vertical-align: middle;\n",
              "    }\n",
              "\n",
              "    .dataframe tbody tr th {\n",
              "        vertical-align: top;\n",
              "    }\n",
              "\n",
              "    .dataframe thead th {\n",
              "        text-align: right;\n",
              "    }\n",
              "</style>\n",
              "<table border=\"1\" class=\"dataframe\">\n",
              "  <thead>\n",
              "    <tr style=\"text-align: right;\">\n",
              "      <th></th>\n",
              "      <th>39</th>\n",
              "      <th>State-gov</th>\n",
              "      <th>77516</th>\n",
              "      <th>Bachelors</th>\n",
              "      <th>13</th>\n",
              "      <th>Never-married</th>\n",
              "      <th>Adm-clerical</th>\n",
              "      <th>Not-in-family</th>\n",
              "      <th>White</th>\n",
              "      <th>Male</th>\n",
              "      <th>2174</th>\n",
              "      <th>0</th>\n",
              "      <th>40</th>\n",
              "      <th>United-States</th>\n",
              "      <th>&lt;=50K</th>\n",
              "      <th>Set</th>\n",
              "    </tr>\n",
              "  </thead>\n",
              "  <tbody>\n",
              "    <tr>\n",
              "      <th>0</th>\n",
              "      <td>18</td>\n",
              "      <td>4</td>\n",
              "      <td>144937</td>\n",
              "      <td>11</td>\n",
              "      <td>8</td>\n",
              "      <td>2</td>\n",
              "      <td>3</td>\n",
              "      <td>0</td>\n",
              "      <td>4</td>\n",
              "      <td>1</td>\n",
              "      <td>0</td>\n",
              "      <td>0</td>\n",
              "      <td>41</td>\n",
              "      <td>0</td>\n",
              "      <td>0</td>\n",
              "      <td>1</td>\n",
              "    </tr>\n",
              "    <tr>\n",
              "      <th>1</th>\n",
              "      <td>3</td>\n",
              "      <td>4</td>\n",
              "      <td>131230</td>\n",
              "      <td>11</td>\n",
              "      <td>8</td>\n",
              "      <td>4</td>\n",
              "      <td>7</td>\n",
              "      <td>3</td>\n",
              "      <td>4</td>\n",
              "      <td>1</td>\n",
              "      <td>0</td>\n",
              "      <td>16</td>\n",
              "      <td>39</td>\n",
              "      <td>0</td>\n",
              "      <td>0</td>\n",
              "      <td>1</td>\n",
              "    </tr>\n",
              "    <tr>\n",
              "      <th>2</th>\n",
              "      <td>3</td>\n",
              "      <td>4</td>\n",
              "      <td>282604</td>\n",
              "      <td>15</td>\n",
              "      <td>9</td>\n",
              "      <td>4</td>\n",
              "      <td>6</td>\n",
              "      <td>2</td>\n",
              "      <td>4</td>\n",
              "      <td>1</td>\n",
              "      <td>0</td>\n",
              "      <td>0</td>\n",
              "      <td>19</td>\n",
              "      <td>0</td>\n",
              "      <td>0</td>\n",
              "      <td>1</td>\n",
              "    </tr>\n",
              "    <tr>\n",
              "      <th>3</th>\n",
              "      <td>23</td>\n",
              "      <td>4</td>\n",
              "      <td>143046</td>\n",
              "      <td>9</td>\n",
              "      <td>12</td>\n",
              "      <td>4</td>\n",
              "      <td>10</td>\n",
              "      <td>1</td>\n",
              "      <td>4</td>\n",
              "      <td>0</td>\n",
              "      <td>0</td>\n",
              "      <td>0</td>\n",
              "      <td>44</td>\n",
              "      <td>0</td>\n",
              "      <td>0</td>\n",
              "      <td>1</td>\n",
              "    </tr>\n",
              "    <tr>\n",
              "      <th>4</th>\n",
              "      <td>31</td>\n",
              "      <td>4</td>\n",
              "      <td>207120</td>\n",
              "      <td>15</td>\n",
              "      <td>9</td>\n",
              "      <td>2</td>\n",
              "      <td>10</td>\n",
              "      <td>0</td>\n",
              "      <td>4</td>\n",
              "      <td>1</td>\n",
              "      <td>0</td>\n",
              "      <td>0</td>\n",
              "      <td>39</td>\n",
              "      <td>0</td>\n",
              "      <td>0</td>\n",
              "      <td>1</td>\n",
              "    </tr>\n",
              "  </tbody>\n",
              "</table>\n",
              "</div>\n",
              "    <div class=\"colab-df-buttons\">\n",
              "\n",
              "  <div class=\"colab-df-container\">\n",
              "    <button class=\"colab-df-convert\" onclick=\"convertToInteractive('df-8624f983-22db-460d-92bb-fc08aae3c1c2')\"\n",
              "            title=\"Convert this dataframe to an interactive table.\"\n",
              "            style=\"display:none;\">\n",
              "\n",
              "  <svg xmlns=\"http://www.w3.org/2000/svg\" height=\"24px\" viewBox=\"0 -960 960 960\">\n",
              "    <path d=\"M120-120v-720h720v720H120Zm60-500h600v-160H180v160Zm220 220h160v-160H400v160Zm0 220h160v-160H400v160ZM180-400h160v-160H180v160Zm440 0h160v-160H620v160ZM180-180h160v-160H180v160Zm440 0h160v-160H620v160Z\"/>\n",
              "  </svg>\n",
              "    </button>\n",
              "\n",
              "  <style>\n",
              "    .colab-df-container {\n",
              "      display:flex;\n",
              "      gap: 12px;\n",
              "    }\n",
              "\n",
              "    .colab-df-convert {\n",
              "      background-color: #E8F0FE;\n",
              "      border: none;\n",
              "      border-radius: 50%;\n",
              "      cursor: pointer;\n",
              "      display: none;\n",
              "      fill: #1967D2;\n",
              "      height: 32px;\n",
              "      padding: 0 0 0 0;\n",
              "      width: 32px;\n",
              "    }\n",
              "\n",
              "    .colab-df-convert:hover {\n",
              "      background-color: #E2EBFA;\n",
              "      box-shadow: 0px 1px 2px rgba(60, 64, 67, 0.3), 0px 1px 3px 1px rgba(60, 64, 67, 0.15);\n",
              "      fill: #174EA6;\n",
              "    }\n",
              "\n",
              "    .colab-df-buttons div {\n",
              "      margin-bottom: 4px;\n",
              "    }\n",
              "\n",
              "    [theme=dark] .colab-df-convert {\n",
              "      background-color: #3B4455;\n",
              "      fill: #D2E3FC;\n",
              "    }\n",
              "\n",
              "    [theme=dark] .colab-df-convert:hover {\n",
              "      background-color: #434B5C;\n",
              "      box-shadow: 0px 1px 3px 1px rgba(0, 0, 0, 0.15);\n",
              "      filter: drop-shadow(0px 1px 2px rgba(0, 0, 0, 0.3));\n",
              "      fill: #FFFFFF;\n",
              "    }\n",
              "  </style>\n",
              "\n",
              "    <script>\n",
              "      const buttonEl =\n",
              "        document.querySelector('#df-8624f983-22db-460d-92bb-fc08aae3c1c2 button.colab-df-convert');\n",
              "      buttonEl.style.display =\n",
              "        google.colab.kernel.accessAllowed ? 'block' : 'none';\n",
              "\n",
              "      async function convertToInteractive(key) {\n",
              "        const element = document.querySelector('#df-8624f983-22db-460d-92bb-fc08aae3c1c2');\n",
              "        const dataTable =\n",
              "          await google.colab.kernel.invokeFunction('convertToInteractive',\n",
              "                                                    [key], {});\n",
              "        if (!dataTable) return;\n",
              "\n",
              "        const docLinkHtml = 'Like what you see? Visit the ' +\n",
              "          '<a target=\"_blank\" href=https://colab.research.google.com/notebooks/data_table.ipynb>data table notebook</a>'\n",
              "          + ' to learn more about interactive tables.';\n",
              "        element.innerHTML = '';\n",
              "        dataTable['output_type'] = 'display_data';\n",
              "        await google.colab.output.renderOutput(dataTable, element);\n",
              "        const docLink = document.createElement('div');\n",
              "        docLink.innerHTML = docLinkHtml;\n",
              "        element.appendChild(docLink);\n",
              "      }\n",
              "    </script>\n",
              "  </div>\n",
              "\n",
              "\n",
              "<div id=\"df-403dd7f9-7358-416a-bc9f-56d47ae9a27a\">\n",
              "  <button class=\"colab-df-quickchart\" onclick=\"quickchart('df-403dd7f9-7358-416a-bc9f-56d47ae9a27a')\"\n",
              "            title=\"Suggest charts\"\n",
              "            style=\"display:none;\">\n",
              "\n",
              "<svg xmlns=\"http://www.w3.org/2000/svg\" height=\"24px\"viewBox=\"0 0 24 24\"\n",
              "     width=\"24px\">\n",
              "    <g>\n",
              "        <path d=\"M19 3H5c-1.1 0-2 .9-2 2v14c0 1.1.9 2 2 2h14c1.1 0 2-.9 2-2V5c0-1.1-.9-2-2-2zM9 17H7v-7h2v7zm4 0h-2V7h2v10zm4 0h-2v-4h2v4z\"/>\n",
              "    </g>\n",
              "</svg>\n",
              "  </button>\n",
              "\n",
              "<style>\n",
              "  .colab-df-quickchart {\n",
              "      --bg-color: #E8F0FE;\n",
              "      --fill-color: #1967D2;\n",
              "      --hover-bg-color: #E2EBFA;\n",
              "      --hover-fill-color: #174EA6;\n",
              "      --disabled-fill-color: #AAA;\n",
              "      --disabled-bg-color: #DDD;\n",
              "  }\n",
              "\n",
              "  [theme=dark] .colab-df-quickchart {\n",
              "      --bg-color: #3B4455;\n",
              "      --fill-color: #D2E3FC;\n",
              "      --hover-bg-color: #434B5C;\n",
              "      --hover-fill-color: #FFFFFF;\n",
              "      --disabled-bg-color: #3B4455;\n",
              "      --disabled-fill-color: #666;\n",
              "  }\n",
              "\n",
              "  .colab-df-quickchart {\n",
              "    background-color: var(--bg-color);\n",
              "    border: none;\n",
              "    border-radius: 50%;\n",
              "    cursor: pointer;\n",
              "    display: none;\n",
              "    fill: var(--fill-color);\n",
              "    height: 32px;\n",
              "    padding: 0;\n",
              "    width: 32px;\n",
              "  }\n",
              "\n",
              "  .colab-df-quickchart:hover {\n",
              "    background-color: var(--hover-bg-color);\n",
              "    box-shadow: 0 1px 2px rgba(60, 64, 67, 0.3), 0 1px 3px 1px rgba(60, 64, 67, 0.15);\n",
              "    fill: var(--button-hover-fill-color);\n",
              "  }\n",
              "\n",
              "  .colab-df-quickchart-complete:disabled,\n",
              "  .colab-df-quickchart-complete:disabled:hover {\n",
              "    background-color: var(--disabled-bg-color);\n",
              "    fill: var(--disabled-fill-color);\n",
              "    box-shadow: none;\n",
              "  }\n",
              "\n",
              "  .colab-df-spinner {\n",
              "    border: 2px solid var(--fill-color);\n",
              "    border-color: transparent;\n",
              "    border-bottom-color: var(--fill-color);\n",
              "    animation:\n",
              "      spin 1s steps(1) infinite;\n",
              "  }\n",
              "\n",
              "  @keyframes spin {\n",
              "    0% {\n",
              "      border-color: transparent;\n",
              "      border-bottom-color: var(--fill-color);\n",
              "      border-left-color: var(--fill-color);\n",
              "    }\n",
              "    20% {\n",
              "      border-color: transparent;\n",
              "      border-left-color: var(--fill-color);\n",
              "      border-top-color: var(--fill-color);\n",
              "    }\n",
              "    30% {\n",
              "      border-color: transparent;\n",
              "      border-left-color: var(--fill-color);\n",
              "      border-top-color: var(--fill-color);\n",
              "      border-right-color: var(--fill-color);\n",
              "    }\n",
              "    40% {\n",
              "      border-color: transparent;\n",
              "      border-right-color: var(--fill-color);\n",
              "      border-top-color: var(--fill-color);\n",
              "    }\n",
              "    60% {\n",
              "      border-color: transparent;\n",
              "      border-right-color: var(--fill-color);\n",
              "    }\n",
              "    80% {\n",
              "      border-color: transparent;\n",
              "      border-right-color: var(--fill-color);\n",
              "      border-bottom-color: var(--fill-color);\n",
              "    }\n",
              "    90% {\n",
              "      border-color: transparent;\n",
              "      border-bottom-color: var(--fill-color);\n",
              "    }\n",
              "  }\n",
              "</style>\n",
              "\n",
              "  <script>\n",
              "    async function quickchart(key) {\n",
              "      const quickchartButtonEl =\n",
              "        document.querySelector('#' + key + ' button');\n",
              "      quickchartButtonEl.disabled = true;  // To prevent multiple clicks.\n",
              "      quickchartButtonEl.classList.add('colab-df-spinner');\n",
              "      try {\n",
              "        const charts = await google.colab.kernel.invokeFunction(\n",
              "            'suggestCharts', [key], {});\n",
              "      } catch (error) {\n",
              "        console.error('Error during call to suggestCharts:', error);\n",
              "      }\n",
              "      quickchartButtonEl.classList.remove('colab-df-spinner');\n",
              "      quickchartButtonEl.classList.add('colab-df-quickchart-complete');\n",
              "    }\n",
              "    (() => {\n",
              "      let quickchartButtonEl =\n",
              "        document.querySelector('#df-403dd7f9-7358-416a-bc9f-56d47ae9a27a button');\n",
              "      quickchartButtonEl.style.display =\n",
              "        google.colab.kernel.accessAllowed ? 'block' : 'none';\n",
              "    })();\n",
              "  </script>\n",
              "</div>\n",
              "\n",
              "    </div>\n",
              "  </div>\n"
            ]
          },
          "metadata": {},
          "execution_count": 402
        }
      ]
    },
    {
      "cell_type": "code",
      "execution_count": null,
      "metadata": {
        "id": "9h4RUs9icFbg"
      },
      "outputs": [],
      "source": [
        "# check that pipeline accepts strings\n",
        "train.loc[train[target]==0, target] = \"wealthy\"\n",
        "train.loc[train[target]==1, target] = \"not_wealthy\""
      ]
    },
    {
      "cell_type": "markdown",
      "metadata": {
        "id": "ssnBEpylcFbg"
      },
      "source": [
        "**Define categorical features for categorical embeddings**"
      ]
    },
    {
      "cell_type": "code",
      "execution_count": 403,
      "metadata": {
        "id": "NTs67RF_cFbg"
      },
      "outputs": [],
      "source": [
        "unused_feat = ['Set']\n",
        "\n",
        "features = [ col for col in train.columns if col not in unused_feat+[target]]\n",
        "\n",
        "cat_idxs = [ i for i, f in enumerate(features) if f in categorical_columns]\n",
        "\n",
        "cat_dims = [ categorical_dims[f] for i, f in enumerate(features) if f in categorical_columns]\n"
      ]
    },
    {
      "cell_type": "markdown",
      "metadata": {
        "id": "e1upLkGhcFbg"
      },
      "source": [
        "**Grouped features**\n",
        "\n",
        "You can now specify groups of feature which will share a common attention.\n",
        "\n",
        "This may be very usefull for features comming from a same preprocessing technique like PCA for example.\n",
        "This may also be useless if we do it randomly"
      ]
    },
    {
      "cell_type": "code",
      "execution_count": 404,
      "metadata": {
        "id": "BClj_47mcFbg",
        "outputId": "a2ae1dec-24c1-410d-9112-d3aa49acdd61",
        "colab": {
          "base_uri": "https://localhost:8080/"
        }
      },
      "outputs": [
        {
          "output_type": "execute_result",
          "data": {
            "text/plain": [
              "14"
            ]
          },
          "metadata": {},
          "execution_count": 404
        }
      ],
      "source": [
        "len(features)"
      ]
    },
    {
      "cell_type": "code",
      "execution_count": 405,
      "metadata": {
        "id": "4b7bc2TzcFbg"
      },
      "outputs": [],
      "source": [
        "grouped_features = [[0, 1, 2], [8, 9, 10]]"
      ]
    },
    {
      "cell_type": "markdown",
      "metadata": {
        "id": "DpiSWDLycFbh"
      },
      "source": [
        "**Network parameters**"
      ]
    },
    {
      "cell_type": "code",
      "execution_count": 406,
      "metadata": {
        "id": "XWDyu5BBcFbh",
        "outputId": "3a5bf84f-f3a3-48ea-c139-20c7c4365bed",
        "colab": {
          "base_uri": "https://localhost:8080/"
        }
      },
      "outputs": [
        {
          "output_type": "stream",
          "name": "stderr",
          "text": [
            "/usr/local/lib/python3.10/dist-packages/pytorch_tabnet/abstract_model.py:82: UserWarning: Device used : cpu\n",
            "  warnings.warn(f\"Device used : {self.device}\")\n"
          ]
        }
      ],
      "source": [
        "tabnet_params = {\"cat_idxs\":cat_idxs,\n",
        "                 \"cat_dims\":cat_dims,\n",
        "                 \"cat_emb_dim\":2,\n",
        "                 \"optimizer_fn\":torch.optim.Adam,\n",
        "                 \"optimizer_params\":dict(lr=2e-2),\n",
        "                 \"scheduler_params\":{\"step_size\":50, # how to use learning rate scheduler\n",
        "                                 \"gamma\":0.9},\n",
        "                 \"scheduler_fn\":torch.optim.lr_scheduler.StepLR,\n",
        "                 \"mask_type\":'entmax', # \"sparsemax\"\n",
        "                 \"grouped_features\" : grouped_features\n",
        "                }\n",
        "\n",
        "clf = TabNetClassifier(**tabnet_params\n",
        "                      )"
      ]
    },
    {
      "cell_type": "markdown",
      "metadata": {
        "id": "7bbM4mTJcFbh"
      },
      "source": [
        "**Training**"
      ]
    },
    {
      "cell_type": "code",
      "execution_count": 407,
      "metadata": {
        "id": "2mwaonfZcFbh"
      },
      "outputs": [],
      "source": [
        "X_train = train[features].values[train_indices]\n",
        "y_train = train[target].values[train_indices]\n",
        "\n",
        "X_valid = train[features].values[valid_indices]\n",
        "y_valid = train[target].values[valid_indices]\n",
        "\n",
        "X_test = train[features].values[test_indices]\n",
        "y_test = train[target].values[test_indices]"
      ]
    },
    {
      "cell_type": "code",
      "execution_count": 408,
      "metadata": {
        "id": "UpJUEME-cFbh"
      },
      "outputs": [],
      "source": [
        "max_epochs = 50 if not os.getenv(\"CI\", False) else 2"
      ]
    },
    {
      "cell_type": "code",
      "source": [
        "# # Find unique labels and their counts\n",
        "# unique_labels, counts = np.unique(y_test, return_counts=True)\n",
        "\n",
        "# # Create a DataFrame to display the results\n",
        "# label_counts_df = pd.DataFrame({'Label': unique_labels, 'Count': counts})\n",
        "\n",
        "# # Print the DataFrame\n",
        "# print(label_counts_df)"
      ],
      "metadata": {
        "id": "M9QygodRkvIL"
      },
      "execution_count": 409,
      "outputs": []
    },
    {
      "cell_type": "code",
      "execution_count": 410,
      "metadata": {
        "id": "bKe6KEuocFbh"
      },
      "outputs": [],
      "source": [
        "from pytorch_tabnet.augmentations import ClassificationSMOTE\n",
        "aug = ClassificationSMOTE(p=0.2)"
      ]
    },
    {
      "cell_type": "code",
      "execution_count": 411,
      "metadata": {
        "id": "lCGL2lwEcFbh",
        "colab": {
          "base_uri": "https://localhost:8080/"
        },
        "outputId": "8a92421c-4ef1-440e-e72d-56639e9376af"
      },
      "outputs": [
        {
          "output_type": "stream",
          "name": "stdout",
          "text": [
            "epoch 0  | loss: 0.67249 | train_auc: 0.76631 | valid_auc: 0.77001 |  0:00:02s\n",
            "epoch 1  | loss: 0.53053 | train_auc: 0.80172 | valid_auc: 0.79223 |  0:00:06s\n",
            "epoch 2  | loss: 0.49628 | train_auc: 0.83011 | valid_auc: 0.81507 |  0:00:15s\n",
            "epoch 3  | loss: 0.47997 | train_auc: 0.84359 | valid_auc: 0.83525 |  0:00:20s\n",
            "epoch 4  | loss: 0.47192 | train_auc: 0.85659 | valid_auc: 0.84704 |  0:00:23s\n",
            "epoch 5  | loss: 0.46464 | train_auc: 0.86443 | valid_auc: 0.85187 |  0:00:28s\n",
            "epoch 6  | loss: 0.45684 | train_auc: 0.87229 | valid_auc: 0.8521  |  0:00:35s\n",
            "epoch 7  | loss: 0.44497 | train_auc: 0.87875 | valid_auc: 0.85887 |  0:00:43s\n",
            "epoch 8  | loss: 0.44215 | train_auc: 0.87812 | valid_auc: 0.86028 |  0:00:46s\n",
            "epoch 9  | loss: 0.43109 | train_auc: 0.88872 | valid_auc: 0.87032 |  0:00:49s\n",
            "epoch 10 | loss: 0.43965 | train_auc: 0.89032 | valid_auc: 0.87192 |  0:00:51s\n",
            "epoch 11 | loss: 0.42825 | train_auc: 0.89616 | valid_auc: 0.87467 |  0:00:55s\n",
            "epoch 12 | loss: 0.42205 | train_auc: 0.9009  | valid_auc: 0.87955 |  0:00:58s\n",
            "epoch 13 | loss: 0.41258 | train_auc: 0.90292 | valid_auc: 0.8832  |  0:01:01s\n",
            "epoch 14 | loss: 0.41616 | train_auc: 0.90738 | valid_auc: 0.88783 |  0:01:03s\n",
            "epoch 15 | loss: 0.406   | train_auc: 0.90803 | valid_auc: 0.88881 |  0:01:06s\n",
            "epoch 16 | loss: 0.40841 | train_auc: 0.91263 | valid_auc: 0.89602 |  0:01:10s\n",
            "epoch 17 | loss: 0.39553 | train_auc: 0.91417 | valid_auc: 0.89492 |  0:01:14s\n",
            "epoch 18 | loss: 0.40318 | train_auc: 0.91658 | valid_auc: 0.89979 |  0:01:16s\n",
            "epoch 19 | loss: 0.39294 | train_auc: 0.91729 | valid_auc: 0.89839 |  0:01:19s\n",
            "epoch 20 | loss: 0.39385 | train_auc: 0.91955 | valid_auc: 0.89727 |  0:01:23s\n",
            "epoch 21 | loss: 0.38014 | train_auc: 0.92051 | valid_auc: 0.89982 |  0:01:27s\n",
            "epoch 22 | loss: 0.37439 | train_auc: 0.92238 | valid_auc: 0.89847 |  0:01:31s\n",
            "epoch 23 | loss: 0.38033 | train_auc: 0.92349 | valid_auc: 0.89957 |  0:01:34s\n",
            "epoch 24 | loss: 0.38288 | train_auc: 0.92409 | valid_auc: 0.89932 |  0:01:37s\n",
            "epoch 25 | loss: 0.38513 | train_auc: 0.92499 | valid_auc: 0.90253 |  0:01:40s\n",
            "epoch 26 | loss: 0.37466 | train_auc: 0.92665 | valid_auc: 0.90401 |  0:01:44s\n",
            "epoch 27 | loss: 0.37414 | train_auc: 0.92597 | valid_auc: 0.90842 |  0:01:47s\n",
            "epoch 28 | loss: 0.37581 | train_auc: 0.9153  | valid_auc: 0.89426 |  0:01:50s\n",
            "epoch 29 | loss: 0.37448 | train_auc: 0.92338 | valid_auc: 0.90363 |  0:01:53s\n",
            "epoch 30 | loss: 0.37439 | train_auc: 0.92332 | valid_auc: 0.90349 |  0:01:56s\n",
            "epoch 31 | loss: 0.37139 | train_auc: 0.92683 | valid_auc: 0.9088  |  0:01:59s\n",
            "epoch 32 | loss: 0.36423 | train_auc: 0.93073 | valid_auc: 0.90955 |  0:02:02s\n",
            "epoch 33 | loss: 0.36273 | train_auc: 0.92886 | valid_auc: 0.90944 |  0:02:05s\n",
            "epoch 34 | loss: 0.36915 | train_auc: 0.93057 | valid_auc: 0.9116  |  0:02:09s\n",
            "epoch 35 | loss: 0.36782 | train_auc: 0.93199 | valid_auc: 0.90849 |  0:02:11s\n",
            "epoch 36 | loss: 0.36118 | train_auc: 0.9308  | valid_auc: 0.90982 |  0:02:14s\n",
            "epoch 37 | loss: 0.36747 | train_auc: 0.92885 | valid_auc: 0.90938 |  0:02:18s\n",
            "epoch 38 | loss: 0.36207 | train_auc: 0.92316 | valid_auc: 0.90558 |  0:02:22s\n",
            "epoch 39 | loss: 0.35811 | train_auc: 0.92715 | valid_auc: 0.91061 |  0:02:25s\n",
            "epoch 40 | loss: 0.36035 | train_auc: 0.93298 | valid_auc: 0.90991 |  0:02:27s\n",
            "epoch 41 | loss: 0.36085 | train_auc: 0.93357 | valid_auc: 0.91107 |  0:02:32s\n",
            "epoch 42 | loss: 0.35635 | train_auc: 0.9358  | valid_auc: 0.91505 |  0:02:36s\n",
            "epoch 43 | loss: 0.35375 | train_auc: 0.93586 | valid_auc: 0.9125  |  0:02:38s\n",
            "epoch 44 | loss: 0.35258 | train_auc: 0.93479 | valid_auc: 0.91187 |  0:02:41s\n",
            "epoch 45 | loss: 0.35342 | train_auc: 0.93516 | valid_auc: 0.91221 |  0:02:44s\n",
            "epoch 46 | loss: 0.35748 | train_auc: 0.93246 | valid_auc: 0.91178 |  0:02:48s\n",
            "epoch 47 | loss: 0.35147 | train_auc: 0.9373  | valid_auc: 0.91136 |  0:02:52s\n",
            "epoch 48 | loss: 0.34969 | train_auc: 0.93658 | valid_auc: 0.91255 |  0:02:55s\n",
            "epoch 49 | loss: 0.34487 | train_auc: 0.93293 | valid_auc: 0.91091 |  0:02:57s\n",
            "Stop training because you reached max_epochs = 50 with best_epoch = 42 and best_valid_auc = 0.91505\n"
          ]
        },
        {
          "output_type": "stream",
          "name": "stderr",
          "text": [
            "/usr/local/lib/python3.10/dist-packages/pytorch_tabnet/callbacks.py:172: UserWarning: Best weights from best epoch are automatically used!\n",
            "  warnings.warn(wrn_msg)\n"
          ]
        }
      ],
      "source": [
        "# This illustrates the behaviour of the model's fit method using Compressed Sparse Row matrices\n",
        "sparse_X_train = scipy.sparse.csr_matrix(X_train)  # Create a CSR matrix from X_train\n",
        "sparse_X_valid = scipy.sparse.csr_matrix(X_valid)  # Create a CSR matrix from X_valid\n",
        "\n",
        "# Fitting the model\n",
        "clf.fit(\n",
        "    X_train=sparse_X_train, y_train=y_train,\n",
        "    eval_set=[(sparse_X_train, y_train), (sparse_X_valid, y_valid)],\n",
        "    eval_name=['train', 'valid'],\n",
        "    eval_metric=['auc'],\n",
        "    max_epochs=max_epochs , patience=20,\n",
        "    batch_size=1024, virtual_batch_size=128,\n",
        "    num_workers=0,\n",
        "    weights=1,\n",
        "    drop_last=False,\n",
        "    augmentations=aug, #aug, None\n",
        ")"
      ]
    },
    {
      "cell_type": "code",
      "execution_count": 412,
      "metadata": {
        "scrolled": true,
        "id": "4V67pYjScFbh",
        "outputId": "19dd50e5-71d2-4fbd-e0b9-f2477cd6f9e9",
        "colab": {
          "base_uri": "https://localhost:8080/"
        }
      },
      "outputs": [
        {
          "output_type": "stream",
          "name": "stdout",
          "text": [
            "epoch 0  | loss: 0.67249 | train_auc: 0.76631 | valid_auc: 0.77001 |  0:00:00s\n",
            "epoch 1  | loss: 0.53053 | train_auc: 0.80172 | valid_auc: 0.79223 |  0:00:01s\n",
            "epoch 2  | loss: 0.49628 | train_auc: 0.83011 | valid_auc: 0.81507 |  0:00:02s\n",
            "epoch 3  | loss: 0.47997 | train_auc: 0.84359 | valid_auc: 0.83525 |  0:00:03s\n",
            "epoch 4  | loss: 0.47192 | train_auc: 0.85659 | valid_auc: 0.84704 |  0:00:04s\n",
            "epoch 5  | loss: 0.46464 | train_auc: 0.86443 | valid_auc: 0.85187 |  0:00:05s\n",
            "epoch 6  | loss: 0.45684 | train_auc: 0.87229 | valid_auc: 0.8521  |  0:00:05s\n",
            "epoch 7  | loss: 0.44497 | train_auc: 0.87875 | valid_auc: 0.85887 |  0:00:06s\n",
            "epoch 8  | loss: 0.44215 | train_auc: 0.87812 | valid_auc: 0.86028 |  0:00:07s\n",
            "epoch 9  | loss: 0.43109 | train_auc: 0.88872 | valid_auc: 0.87032 |  0:00:07s\n",
            "epoch 10 | loss: 0.43965 | train_auc: 0.89032 | valid_auc: 0.87192 |  0:00:08s\n",
            "epoch 11 | loss: 0.42825 | train_auc: 0.89616 | valid_auc: 0.87467 |  0:00:09s\n",
            "epoch 12 | loss: 0.42205 | train_auc: 0.9009  | valid_auc: 0.87955 |  0:00:09s\n",
            "epoch 13 | loss: 0.41258 | train_auc: 0.90292 | valid_auc: 0.8832  |  0:00:10s\n",
            "epoch 14 | loss: 0.41616 | train_auc: 0.90738 | valid_auc: 0.88783 |  0:00:10s\n",
            "epoch 15 | loss: 0.406   | train_auc: 0.90803 | valid_auc: 0.88881 |  0:00:11s\n",
            "epoch 16 | loss: 0.40841 | train_auc: 0.91263 | valid_auc: 0.89602 |  0:00:12s\n",
            "epoch 17 | loss: 0.39553 | train_auc: 0.91417 | valid_auc: 0.89492 |  0:00:12s\n",
            "epoch 18 | loss: 0.40318 | train_auc: 0.91658 | valid_auc: 0.89979 |  0:00:13s\n",
            "epoch 19 | loss: 0.39294 | train_auc: 0.91729 | valid_auc: 0.89839 |  0:00:14s\n",
            "epoch 20 | loss: 0.39385 | train_auc: 0.91955 | valid_auc: 0.89727 |  0:00:15s\n",
            "epoch 21 | loss: 0.38014 | train_auc: 0.92051 | valid_auc: 0.89982 |  0:00:16s\n",
            "epoch 22 | loss: 0.37439 | train_auc: 0.92238 | valid_auc: 0.89847 |  0:00:17s\n",
            "epoch 23 | loss: 0.38033 | train_auc: 0.92349 | valid_auc: 0.89957 |  0:00:18s\n",
            "epoch 24 | loss: 0.38288 | train_auc: 0.92409 | valid_auc: 0.89932 |  0:00:19s\n",
            "epoch 25 | loss: 0.38513 | train_auc: 0.92499 | valid_auc: 0.90253 |  0:00:20s\n",
            "epoch 26 | loss: 0.37466 | train_auc: 0.92665 | valid_auc: 0.90401 |  0:00:21s\n",
            "epoch 27 | loss: 0.37414 | train_auc: 0.92597 | valid_auc: 0.90842 |  0:00:21s\n",
            "epoch 28 | loss: 0.37581 | train_auc: 0.9153  | valid_auc: 0.89426 |  0:00:22s\n",
            "epoch 29 | loss: 0.37448 | train_auc: 0.92338 | valid_auc: 0.90363 |  0:00:23s\n",
            "epoch 30 | loss: 0.37439 | train_auc: 0.92332 | valid_auc: 0.90349 |  0:00:23s\n",
            "epoch 31 | loss: 0.37139 | train_auc: 0.92683 | valid_auc: 0.9088  |  0:00:24s\n",
            "epoch 32 | loss: 0.36423 | train_auc: 0.93073 | valid_auc: 0.90955 |  0:00:25s\n",
            "epoch 33 | loss: 0.36273 | train_auc: 0.92886 | valid_auc: 0.90944 |  0:00:25s\n",
            "epoch 34 | loss: 0.36915 | train_auc: 0.93057 | valid_auc: 0.9116  |  0:00:26s\n",
            "epoch 35 | loss: 0.36782 | train_auc: 0.93199 | valid_auc: 0.90849 |  0:00:26s\n",
            "epoch 36 | loss: 0.36118 | train_auc: 0.9308  | valid_auc: 0.90982 |  0:00:27s\n",
            "epoch 37 | loss: 0.36747 | train_auc: 0.92885 | valid_auc: 0.90938 |  0:00:28s\n",
            "epoch 38 | loss: 0.36207 | train_auc: 0.92316 | valid_auc: 0.90558 |  0:00:28s\n",
            "epoch 39 | loss: 0.35811 | train_auc: 0.92715 | valid_auc: 0.91061 |  0:00:29s\n",
            "epoch 40 | loss: 0.36035 | train_auc: 0.93298 | valid_auc: 0.90991 |  0:00:30s\n",
            "epoch 41 | loss: 0.36085 | train_auc: 0.93357 | valid_auc: 0.91107 |  0:00:31s\n",
            "epoch 42 | loss: 0.35635 | train_auc: 0.9358  | valid_auc: 0.91505 |  0:00:32s\n",
            "epoch 43 | loss: 0.35375 | train_auc: 0.93586 | valid_auc: 0.9125  |  0:00:33s\n",
            "epoch 44 | loss: 0.35258 | train_auc: 0.93479 | valid_auc: 0.91187 |  0:00:34s\n",
            "epoch 45 | loss: 0.35342 | train_auc: 0.93516 | valid_auc: 0.91221 |  0:00:34s\n",
            "epoch 46 | loss: 0.35748 | train_auc: 0.93246 | valid_auc: 0.91178 |  0:00:35s\n",
            "epoch 47 | loss: 0.35147 | train_auc: 0.9373  | valid_auc: 0.91136 |  0:00:36s\n",
            "epoch 48 | loss: 0.34969 | train_auc: 0.93658 | valid_auc: 0.91255 |  0:00:36s\n",
            "epoch 49 | loss: 0.34487 | train_auc: 0.93293 | valid_auc: 0.91091 |  0:00:37s\n",
            "Stop training because you reached max_epochs = 50 with best_epoch = 42 and best_valid_auc = 0.91505\n"
          ]
        },
        {
          "output_type": "stream",
          "name": "stderr",
          "text": [
            "/usr/local/lib/python3.10/dist-packages/pytorch_tabnet/callbacks.py:172: UserWarning: Best weights from best epoch are automatically used!\n",
            "  warnings.warn(wrn_msg)\n"
          ]
        },
        {
          "output_type": "stream",
          "name": "stdout",
          "text": [
            "epoch 0  | loss: 0.67249 | train_auc: 0.76631 | valid_auc: 0.77001 |  0:00:00s\n",
            "epoch 1  | loss: 0.53053 | train_auc: 0.80172 | valid_auc: 0.79223 |  0:00:01s\n",
            "epoch 2  | loss: 0.49628 | train_auc: 0.83011 | valid_auc: 0.81507 |  0:00:02s\n",
            "epoch 3  | loss: 0.47997 | train_auc: 0.84359 | valid_auc: 0.83525 |  0:00:02s\n",
            "epoch 4  | loss: 0.47192 | train_auc: 0.85659 | valid_auc: 0.84704 |  0:00:03s\n",
            "epoch 5  | loss: 0.46464 | train_auc: 0.86443 | valid_auc: 0.85187 |  0:00:04s\n",
            "epoch 6  | loss: 0.45684 | train_auc: 0.87229 | valid_auc: 0.8521  |  0:00:04s\n",
            "epoch 7  | loss: 0.44497 | train_auc: 0.87875 | valid_auc: 0.85887 |  0:00:05s\n",
            "epoch 8  | loss: 0.44215 | train_auc: 0.87812 | valid_auc: 0.86028 |  0:00:05s\n",
            "epoch 9  | loss: 0.43109 | train_auc: 0.88872 | valid_auc: 0.87032 |  0:00:07s\n",
            "epoch 10 | loss: 0.43965 | train_auc: 0.89032 | valid_auc: 0.87192 |  0:00:08s\n",
            "epoch 11 | loss: 0.42825 | train_auc: 0.89616 | valid_auc: 0.87467 |  0:00:09s\n",
            "epoch 12 | loss: 0.42205 | train_auc: 0.9009  | valid_auc: 0.87955 |  0:00:09s\n",
            "epoch 13 | loss: 0.41258 | train_auc: 0.90292 | valid_auc: 0.8832  |  0:00:10s\n",
            "epoch 14 | loss: 0.41616 | train_auc: 0.90738 | valid_auc: 0.88783 |  0:00:11s\n",
            "epoch 15 | loss: 0.406   | train_auc: 0.90803 | valid_auc: 0.88881 |  0:00:12s\n",
            "epoch 16 | loss: 0.40841 | train_auc: 0.91263 | valid_auc: 0.89602 |  0:00:13s\n",
            "epoch 17 | loss: 0.39553 | train_auc: 0.91417 | valid_auc: 0.89492 |  0:00:14s\n",
            "epoch 18 | loss: 0.40318 | train_auc: 0.91658 | valid_auc: 0.89979 |  0:00:14s\n",
            "epoch 19 | loss: 0.39294 | train_auc: 0.91729 | valid_auc: 0.89839 |  0:00:15s\n",
            "epoch 20 | loss: 0.39385 | train_auc: 0.91955 | valid_auc: 0.89727 |  0:00:16s\n",
            "epoch 21 | loss: 0.38014 | train_auc: 0.92051 | valid_auc: 0.89982 |  0:00:16s\n",
            "epoch 22 | loss: 0.37439 | train_auc: 0.92238 | valid_auc: 0.89847 |  0:00:17s\n",
            "epoch 23 | loss: 0.38033 | train_auc: 0.92349 | valid_auc: 0.89957 |  0:00:17s\n",
            "epoch 24 | loss: 0.38288 | train_auc: 0.92409 | valid_auc: 0.89932 |  0:00:18s\n",
            "epoch 25 | loss: 0.38513 | train_auc: 0.92499 | valid_auc: 0.90253 |  0:00:19s\n",
            "epoch 26 | loss: 0.37466 | train_auc: 0.92665 | valid_auc: 0.90401 |  0:00:19s\n",
            "epoch 27 | loss: 0.37414 | train_auc: 0.92597 | valid_auc: 0.90842 |  0:00:20s\n",
            "epoch 28 | loss: 0.37581 | train_auc: 0.9153  | valid_auc: 0.89426 |  0:00:21s\n",
            "epoch 29 | loss: 0.37448 | train_auc: 0.92338 | valid_auc: 0.90363 |  0:00:22s\n",
            "epoch 30 | loss: 0.37439 | train_auc: 0.92332 | valid_auc: 0.90349 |  0:00:23s\n",
            "epoch 31 | loss: 0.37139 | train_auc: 0.92683 | valid_auc: 0.9088  |  0:00:24s\n",
            "epoch 32 | loss: 0.36423 | train_auc: 0.93073 | valid_auc: 0.90955 |  0:00:25s\n",
            "epoch 33 | loss: 0.36273 | train_auc: 0.92886 | valid_auc: 0.90944 |  0:00:25s\n",
            "epoch 34 | loss: 0.36915 | train_auc: 0.93057 | valid_auc: 0.9116  |  0:00:26s\n",
            "epoch 35 | loss: 0.36782 | train_auc: 0.93199 | valid_auc: 0.90849 |  0:00:27s\n",
            "epoch 36 | loss: 0.36118 | train_auc: 0.9308  | valid_auc: 0.90982 |  0:00:27s\n",
            "epoch 37 | loss: 0.36747 | train_auc: 0.92885 | valid_auc: 0.90938 |  0:00:28s\n",
            "epoch 38 | loss: 0.36207 | train_auc: 0.92316 | valid_auc: 0.90558 |  0:00:29s\n",
            "epoch 39 | loss: 0.35811 | train_auc: 0.92715 | valid_auc: 0.91061 |  0:00:29s\n",
            "epoch 40 | loss: 0.36035 | train_auc: 0.93298 | valid_auc: 0.90991 |  0:00:30s\n",
            "epoch 41 | loss: 0.36085 | train_auc: 0.93357 | valid_auc: 0.91107 |  0:00:30s\n",
            "epoch 42 | loss: 0.35635 | train_auc: 0.9358  | valid_auc: 0.91505 |  0:00:31s\n",
            "epoch 43 | loss: 0.35375 | train_auc: 0.93586 | valid_auc: 0.9125  |  0:00:32s\n",
            "epoch 44 | loss: 0.35258 | train_auc: 0.93479 | valid_auc: 0.91187 |  0:00:32s\n",
            "epoch 45 | loss: 0.35342 | train_auc: 0.93516 | valid_auc: 0.91221 |  0:00:33s\n",
            "epoch 46 | loss: 0.35748 | train_auc: 0.93246 | valid_auc: 0.91178 |  0:00:34s\n",
            "epoch 47 | loss: 0.35147 | train_auc: 0.9373  | valid_auc: 0.91136 |  0:00:35s\n",
            "epoch 48 | loss: 0.34969 | train_auc: 0.93658 | valid_auc: 0.91255 |  0:00:36s\n",
            "epoch 49 | loss: 0.34487 | train_auc: 0.93293 | valid_auc: 0.91091 |  0:00:37s\n",
            "Stop training because you reached max_epochs = 50 with best_epoch = 42 and best_valid_auc = 0.91505\n"
          ]
        },
        {
          "output_type": "stream",
          "name": "stderr",
          "text": [
            "/usr/local/lib/python3.10/dist-packages/pytorch_tabnet/callbacks.py:172: UserWarning: Best weights from best epoch are automatically used!\n",
            "  warnings.warn(wrn_msg)\n"
          ]
        },
        {
          "output_type": "stream",
          "name": "stdout",
          "text": [
            "epoch 0  | loss: 0.67249 | train_auc: 0.76631 | valid_auc: 0.77001 |  0:00:00s\n",
            "epoch 1  | loss: 0.53053 | train_auc: 0.80172 | valid_auc: 0.79223 |  0:00:01s\n",
            "epoch 2  | loss: 0.49628 | train_auc: 0.83011 | valid_auc: 0.81507 |  0:00:02s\n",
            "epoch 3  | loss: 0.47997 | train_auc: 0.84359 | valid_auc: 0.83525 |  0:00:02s\n",
            "epoch 4  | loss: 0.47192 | train_auc: 0.85659 | valid_auc: 0.84704 |  0:00:03s\n",
            "epoch 5  | loss: 0.46464 | train_auc: 0.86443 | valid_auc: 0.85187 |  0:00:04s\n",
            "epoch 6  | loss: 0.45684 | train_auc: 0.87229 | valid_auc: 0.8521  |  0:00:05s\n",
            "epoch 7  | loss: 0.44497 | train_auc: 0.87875 | valid_auc: 0.85887 |  0:00:06s\n",
            "epoch 8  | loss: 0.44215 | train_auc: 0.87812 | valid_auc: 0.86028 |  0:00:06s\n",
            "epoch 9  | loss: 0.43109 | train_auc: 0.88872 | valid_auc: 0.87032 |  0:00:07s\n",
            "epoch 10 | loss: 0.43965 | train_auc: 0.89032 | valid_auc: 0.87192 |  0:00:08s\n",
            "epoch 11 | loss: 0.42825 | train_auc: 0.89616 | valid_auc: 0.87467 |  0:00:08s\n",
            "epoch 12 | loss: 0.42205 | train_auc: 0.9009  | valid_auc: 0.87955 |  0:00:09s\n",
            "epoch 13 | loss: 0.41258 | train_auc: 0.90292 | valid_auc: 0.8832  |  0:00:10s\n",
            "epoch 14 | loss: 0.41616 | train_auc: 0.90738 | valid_auc: 0.88783 |  0:00:11s\n",
            "epoch 15 | loss: 0.406   | train_auc: 0.90803 | valid_auc: 0.88881 |  0:00:12s\n",
            "epoch 16 | loss: 0.40841 | train_auc: 0.91263 | valid_auc: 0.89602 |  0:00:13s\n",
            "epoch 17 | loss: 0.39553 | train_auc: 0.91417 | valid_auc: 0.89492 |  0:00:14s\n",
            "epoch 18 | loss: 0.40318 | train_auc: 0.91658 | valid_auc: 0.89979 |  0:00:14s\n",
            "epoch 19 | loss: 0.39294 | train_auc: 0.91729 | valid_auc: 0.89839 |  0:00:15s\n",
            "epoch 20 | loss: 0.39385 | train_auc: 0.91955 | valid_auc: 0.89727 |  0:00:15s\n",
            "epoch 21 | loss: 0.38014 | train_auc: 0.92051 | valid_auc: 0.89982 |  0:00:16s\n",
            "epoch 22 | loss: 0.37439 | train_auc: 0.92238 | valid_auc: 0.89847 |  0:00:17s\n",
            "epoch 23 | loss: 0.38033 | train_auc: 0.92349 | valid_auc: 0.89957 |  0:00:17s\n",
            "epoch 24 | loss: 0.38288 | train_auc: 0.92409 | valid_auc: 0.89932 |  0:00:18s\n",
            "epoch 25 | loss: 0.38513 | train_auc: 0.92499 | valid_auc: 0.90253 |  0:00:19s\n",
            "epoch 26 | loss: 0.37466 | train_auc: 0.92665 | valid_auc: 0.90401 |  0:00:19s\n",
            "epoch 27 | loss: 0.37414 | train_auc: 0.92597 | valid_auc: 0.90842 |  0:00:20s\n",
            "epoch 28 | loss: 0.37581 | train_auc: 0.9153  | valid_auc: 0.89426 |  0:00:21s\n",
            "epoch 29 | loss: 0.37448 | train_auc: 0.92338 | valid_auc: 0.90363 |  0:00:21s\n",
            "epoch 30 | loss: 0.37439 | train_auc: 0.92332 | valid_auc: 0.90349 |  0:00:22s\n",
            "epoch 31 | loss: 0.37139 | train_auc: 0.92683 | valid_auc: 0.9088  |  0:00:23s\n",
            "epoch 32 | loss: 0.36423 | train_auc: 0.93073 | valid_auc: 0.90955 |  0:00:23s\n",
            "epoch 33 | loss: 0.36273 | train_auc: 0.92886 | valid_auc: 0.90944 |  0:00:24s\n",
            "epoch 34 | loss: 0.36915 | train_auc: 0.93057 | valid_auc: 0.9116  |  0:00:25s\n",
            "epoch 35 | loss: 0.36782 | train_auc: 0.93199 | valid_auc: 0.90849 |  0:00:26s\n",
            "epoch 36 | loss: 0.36118 | train_auc: 0.9308  | valid_auc: 0.90982 |  0:00:27s\n",
            "epoch 37 | loss: 0.36747 | train_auc: 0.92885 | valid_auc: 0.90938 |  0:00:28s\n",
            "epoch 38 | loss: 0.36207 | train_auc: 0.92316 | valid_auc: 0.90558 |  0:00:28s\n",
            "epoch 39 | loss: 0.35811 | train_auc: 0.92715 | valid_auc: 0.91061 |  0:00:29s\n",
            "epoch 40 | loss: 0.36035 | train_auc: 0.93298 | valid_auc: 0.90991 |  0:00:30s\n",
            "epoch 41 | loss: 0.36085 | train_auc: 0.93357 | valid_auc: 0.91107 |  0:00:30s\n",
            "epoch 42 | loss: 0.35635 | train_auc: 0.9358  | valid_auc: 0.91505 |  0:00:31s\n",
            "epoch 43 | loss: 0.35375 | train_auc: 0.93586 | valid_auc: 0.9125  |  0:00:32s\n",
            "epoch 44 | loss: 0.35258 | train_auc: 0.93479 | valid_auc: 0.91187 |  0:00:32s\n",
            "epoch 45 | loss: 0.35342 | train_auc: 0.93516 | valid_auc: 0.91221 |  0:00:33s\n",
            "epoch 46 | loss: 0.35748 | train_auc: 0.93246 | valid_auc: 0.91178 |  0:00:34s\n",
            "epoch 47 | loss: 0.35147 | train_auc: 0.9373  | valid_auc: 0.91136 |  0:00:35s\n",
            "epoch 48 | loss: 0.34969 | train_auc: 0.93658 | valid_auc: 0.91255 |  0:00:36s\n",
            "epoch 49 | loss: 0.34487 | train_auc: 0.93293 | valid_auc: 0.91091 |  0:00:36s\n",
            "Stop training because you reached max_epochs = 50 with best_epoch = 42 and best_valid_auc = 0.91505\n"
          ]
        },
        {
          "output_type": "stream",
          "name": "stderr",
          "text": [
            "/usr/local/lib/python3.10/dist-packages/pytorch_tabnet/callbacks.py:172: UserWarning: Best weights from best epoch are automatically used!\n",
            "  warnings.warn(wrn_msg)\n"
          ]
        },
        {
          "output_type": "stream",
          "name": "stdout",
          "text": [
            "epoch 0  | loss: 0.67249 | train_auc: 0.76631 | valid_auc: 0.77001 |  0:00:00s\n",
            "epoch 1  | loss: 0.53053 | train_auc: 0.80172 | valid_auc: 0.79223 |  0:00:01s\n",
            "epoch 2  | loss: 0.49628 | train_auc: 0.83011 | valid_auc: 0.81507 |  0:00:02s\n",
            "epoch 3  | loss: 0.47997 | train_auc: 0.84359 | valid_auc: 0.83525 |  0:00:03s\n",
            "epoch 4  | loss: 0.47192 | train_auc: 0.85659 | valid_auc: 0.84704 |  0:00:04s\n",
            "epoch 5  | loss: 0.46464 | train_auc: 0.86443 | valid_auc: 0.85187 |  0:00:05s\n",
            "epoch 6  | loss: 0.45684 | train_auc: 0.87229 | valid_auc: 0.8521  |  0:00:05s\n",
            "epoch 7  | loss: 0.44497 | train_auc: 0.87875 | valid_auc: 0.85887 |  0:00:06s\n",
            "epoch 8  | loss: 0.44215 | train_auc: 0.87812 | valid_auc: 0.86028 |  0:00:07s\n",
            "epoch 9  | loss: 0.43109 | train_auc: 0.88872 | valid_auc: 0.87032 |  0:00:07s\n",
            "epoch 10 | loss: 0.43965 | train_auc: 0.89032 | valid_auc: 0.87192 |  0:00:08s\n",
            "epoch 11 | loss: 0.42825 | train_auc: 0.89616 | valid_auc: 0.87467 |  0:00:09s\n",
            "epoch 12 | loss: 0.42205 | train_auc: 0.9009  | valid_auc: 0.87955 |  0:00:09s\n",
            "epoch 13 | loss: 0.41258 | train_auc: 0.90292 | valid_auc: 0.8832  |  0:00:10s\n",
            "epoch 14 | loss: 0.41616 | train_auc: 0.90738 | valid_auc: 0.88783 |  0:00:10s\n",
            "epoch 15 | loss: 0.406   | train_auc: 0.90803 | valid_auc: 0.88881 |  0:00:11s\n",
            "epoch 16 | loss: 0.40841 | train_auc: 0.91263 | valid_auc: 0.89602 |  0:00:12s\n",
            "epoch 17 | loss: 0.39553 | train_auc: 0.91417 | valid_auc: 0.89492 |  0:00:12s\n",
            "epoch 18 | loss: 0.40318 | train_auc: 0.91658 | valid_auc: 0.89979 |  0:00:13s\n",
            "epoch 19 | loss: 0.39294 | train_auc: 0.91729 | valid_auc: 0.89839 |  0:00:14s\n",
            "epoch 20 | loss: 0.39385 | train_auc: 0.91955 | valid_auc: 0.89727 |  0:00:15s\n",
            "epoch 21 | loss: 0.38014 | train_auc: 0.92051 | valid_auc: 0.89982 |  0:00:16s\n",
            "epoch 22 | loss: 0.37439 | train_auc: 0.92238 | valid_auc: 0.89847 |  0:00:17s\n",
            "epoch 23 | loss: 0.38033 | train_auc: 0.92349 | valid_auc: 0.89957 |  0:00:18s\n",
            "epoch 24 | loss: 0.38288 | train_auc: 0.92409 | valid_auc: 0.89932 |  0:00:18s\n",
            "epoch 25 | loss: 0.38513 | train_auc: 0.92499 | valid_auc: 0.90253 |  0:00:19s\n",
            "epoch 26 | loss: 0.37466 | train_auc: 0.92665 | valid_auc: 0.90401 |  0:00:20s\n",
            "epoch 27 | loss: 0.37414 | train_auc: 0.92597 | valid_auc: 0.90842 |  0:00:20s\n",
            "epoch 28 | loss: 0.37581 | train_auc: 0.9153  | valid_auc: 0.89426 |  0:00:21s\n",
            "epoch 29 | loss: 0.37448 | train_auc: 0.92338 | valid_auc: 0.90363 |  0:00:22s\n",
            "epoch 30 | loss: 0.37439 | train_auc: 0.92332 | valid_auc: 0.90349 |  0:00:23s\n",
            "epoch 31 | loss: 0.37139 | train_auc: 0.92683 | valid_auc: 0.9088  |  0:00:24s\n",
            "epoch 32 | loss: 0.36423 | train_auc: 0.93073 | valid_auc: 0.90955 |  0:00:25s\n",
            "epoch 33 | loss: 0.36273 | train_auc: 0.92886 | valid_auc: 0.90944 |  0:00:25s\n",
            "epoch 34 | loss: 0.36915 | train_auc: 0.93057 | valid_auc: 0.9116  |  0:00:26s\n",
            "epoch 35 | loss: 0.36782 | train_auc: 0.93199 | valid_auc: 0.90849 |  0:00:27s\n",
            "epoch 36 | loss: 0.36118 | train_auc: 0.9308  | valid_auc: 0.90982 |  0:00:28s\n",
            "epoch 37 | loss: 0.36747 | train_auc: 0.92885 | valid_auc: 0.90938 |  0:00:29s\n",
            "epoch 38 | loss: 0.36207 | train_auc: 0.92316 | valid_auc: 0.90558 |  0:00:30s\n",
            "epoch 39 | loss: 0.35811 | train_auc: 0.92715 | valid_auc: 0.91061 |  0:00:31s\n",
            "epoch 40 | loss: 0.36035 | train_auc: 0.93298 | valid_auc: 0.90991 |  0:00:32s\n",
            "epoch 41 | loss: 0.36085 | train_auc: 0.93357 | valid_auc: 0.91107 |  0:00:33s\n",
            "epoch 42 | loss: 0.35635 | train_auc: 0.9358  | valid_auc: 0.91505 |  0:00:35s\n",
            "epoch 43 | loss: 0.35375 | train_auc: 0.93586 | valid_auc: 0.9125  |  0:00:36s\n",
            "epoch 44 | loss: 0.35258 | train_auc: 0.93479 | valid_auc: 0.91187 |  0:00:36s\n",
            "epoch 45 | loss: 0.35342 | train_auc: 0.93516 | valid_auc: 0.91221 |  0:00:37s\n",
            "epoch 46 | loss: 0.35748 | train_auc: 0.93246 | valid_auc: 0.91178 |  0:00:38s\n",
            "epoch 47 | loss: 0.35147 | train_auc: 0.9373  | valid_auc: 0.91136 |  0:00:38s\n",
            "epoch 48 | loss: 0.34969 | train_auc: 0.93658 | valid_auc: 0.91255 |  0:00:39s\n",
            "epoch 49 | loss: 0.34487 | train_auc: 0.93293 | valid_auc: 0.91091 |  0:00:39s\n",
            "Stop training because you reached max_epochs = 50 with best_epoch = 42 and best_valid_auc = 0.91505\n"
          ]
        },
        {
          "output_type": "stream",
          "name": "stderr",
          "text": [
            "/usr/local/lib/python3.10/dist-packages/pytorch_tabnet/callbacks.py:172: UserWarning: Best weights from best epoch are automatically used!\n",
            "  warnings.warn(wrn_msg)\n"
          ]
        }
      ],
      "source": [
        "# This illustrates the warm_start=False behaviour\n",
        "save_history = []\n",
        "\n",
        "# Fitting the model without starting from a warm start nor computing the feature importance\n",
        "for _ in range(2):\n",
        "    clf.fit(\n",
        "        X_train=X_train, y_train=y_train,\n",
        "        eval_set=[(X_train, y_train), (X_valid, y_valid)],\n",
        "        eval_name=['train', 'valid'],\n",
        "        eval_metric=['auc'],\n",
        "        max_epochs=max_epochs , patience=20,\n",
        "        batch_size=1024, virtual_batch_size=128,\n",
        "        num_workers=0,\n",
        "        weights=1,\n",
        "        drop_last=False,\n",
        "        augmentations=aug, #aug, None\n",
        "        compute_importance=False\n",
        "    )\n",
        "    save_history.append(clf.history[\"valid_auc\"])\n",
        "\n",
        "assert(np.all(np.array(save_history[0]==np.array(save_history[1]))))\n",
        "\n",
        "save_history = []  # Resetting the list to show that it also works when computing feature importance\n",
        "\n",
        "# Fitting the model without starting from a warm start but with the computing of the feature importance activated\n",
        "for _ in range(2):\n",
        "    clf.fit(\n",
        "        X_train=X_train, y_train=y_train,\n",
        "        eval_set=[(X_train, y_train), (X_valid, y_valid)],\n",
        "        eval_name=['train', 'valid'],\n",
        "        eval_metric=['auc'],\n",
        "        max_epochs=max_epochs , patience=20,\n",
        "        batch_size=1024, virtual_batch_size=128,\n",
        "        num_workers=0,\n",
        "        weights=1,\n",
        "        drop_last=False,\n",
        "        augmentations=aug, #aug, None\n",
        "        compute_importance=True # True by default so not needed\n",
        "    )\n",
        "    save_history.append(clf.history[\"valid_auc\"])\n",
        "\n",
        "assert(np.all(np.array(save_history[0]==np.array(save_history[1]))))"
      ]
    },
    {
      "cell_type": "markdown",
      "metadata": {
        "id": "XkQWl5OTcFbh"
      },
      "source": [
        "## Predictions"
      ]
    },
    {
      "cell_type": "code",
      "source": [
        "# mapping = {'wealthy': 1, 'not_wealthy': 0}\n",
        "# y_valid_ = np.vectorize(mapping.get)(y_valid)\n",
        "# y_test_ = np.vectorize(mapping.get)(y_test)\n"
      ],
      "metadata": {
        "id": "I0gCPzwpQYPS"
      },
      "execution_count": null,
      "outputs": []
    },
    {
      "cell_type": "code",
      "source": [
        "from sklearn.metrics import roc_auc_score, roc_curve\n",
        "import matplotlib.pyplot as plt\n",
        "\n",
        "# Assuming clf.predict_proba(X_test) returns predicted probabilities for the positive class\n",
        "preds_test = clf.predict_proba(X_test)\n",
        "fpr_test, tpr_test, _ = roc_curve(y_true=y_test, y_score=preds_test[:, 1])\n",
        "roc_auc_test = roc_auc_score(y_score=preds_test[:, 1], y_true=y_test)\n",
        "\n",
        "# # Assuming clf.predict_proba(X_valid) returns predicted probabilities for the positive class\n",
        "# preds_valid = clf.predict_proba(X_valid)\n",
        "# fpr_valid, tpr_valid, _ = roc_curve(y_true=y_valid_, y_score=preds_valid[:, 1])\n",
        "# roc_auc_valid = roc_auc_score(y_score=preds_valid[:, 1], y_true=y_valid)\n",
        "\n",
        "# Plot ROC curves\n",
        "plt.figure(figsize=(5.7, 4.7))\n",
        "plt.plot(fpr_test, tpr_test,marker='x', color = \"#FA7F6F\", lw=2, label=f'Test ROC Curve (AUC = {roc_auc_test:.4f})')\n",
        "# plt.plot(fpr_valid, tpr_valid, color='darkblue', lw=2, label=f'Validation ROC Curve (AUC = {roc_auc_valid:.2f})')\n",
        "plt.plot([0, 1], [0, 1], color='#BEB8DC', lw=2, linestyle='--',marker='p')\n",
        "plt.xlim([0.0, 1.0])\n",
        "plt.ylim([0.0, 1.05])\n",
        "plt.xlabel('False Positive Rate')\n",
        "plt.ylabel('True Positive Rate')\n",
        "plt.title('TabNet - Receiver Operating Characteristic (ROC) Curve')\n",
        "plt.legend(loc='lower right')\n",
        "\n",
        "# Save the plot as a PDF file with a specific DPI (e.g., 300 DPI)\n",
        "plt.tight_layout()\n",
        "plt.savefig(\"TabNet_roc_auc_plot.pdf\", format=\"pdf\", dpi=1000)  # Specify the desired file name, format, and DPI\n",
        "plt.show()\n"
      ],
      "metadata": {
        "colab": {
          "base_uri": "https://localhost:8080/",
          "height": 476
        },
        "id": "pOQ2hIXyQHm3",
        "outputId": "c69ab4a5-69bc-4a7a-9d98-d10c4aeb51c1"
      },
      "execution_count": 413,
      "outputs": [
        {
          "output_type": "display_data",
          "data": {
            "text/plain": [
              "<Figure size 570x470 with 1 Axes>"
            ],
            "image/png": "[encoded data removed]"
          },
          "metadata": {}
        }
      ]
    },
    {
      "cell_type": "markdown",
      "metadata": {
        "id": "qfHSSNS0cFbi"
      },
      "source": [
        "# Save and load Model"
      ]
    },
    {
      "cell_type": "code",
      "execution_count": 414,
      "metadata": {
        "id": "b0uN_EvFcFbi",
        "outputId": "4be06289-2d1a-48e2-ac85-46bf7bbbe150",
        "colab": {
          "base_uri": "https://localhost:8080/"
        }
      },
      "outputs": [
        {
          "output_type": "stream",
          "name": "stdout",
          "text": [
            "Successfully saved model at ./tabnet_model_test_1.zip\n"
          ]
        }
      ],
      "source": [
        "# save tabnet model\n",
        "saving_path_name = \"./tabnet_model_test_1\"\n",
        "saved_filepath = clf.save_model(saving_path_name)"
      ]
    },
    {
      "cell_type": "code",
      "execution_count": 415,
      "metadata": {
        "id": "yyG2X6TEcFbi",
        "outputId": "64a6610b-c05f-4351-e7f3-b82d910a59f1",
        "colab": {
          "base_uri": "https://localhost:8080/"
        }
      },
      "outputs": [
        {
          "output_type": "stream",
          "name": "stderr",
          "text": [
            "/usr/local/lib/python3.10/dist-packages/pytorch_tabnet/abstract_model.py:82: UserWarning: Device used : cpu\n",
            "  warnings.warn(f\"Device used : {self.device}\")\n"
          ]
        }
      ],
      "source": [
        "\n",
        "# define new model with basic parameters and load state dict weights\n",
        "loaded_clf = TabNetClassifier()\n",
        "loaded_clf.load_model(saved_filepath)"
      ]
    },
    {
      "cell_type": "code",
      "execution_count": 416,
      "metadata": {
        "id": "cATtn-GzcFbi",
        "outputId": "503423fe-6c21-4c1f-ef98-6245491c6e4c",
        "colab": {
          "base_uri": "https://localhost:8080/"
        }
      },
      "outputs": [
        {
          "output_type": "stream",
          "name": "stdout",
          "text": [
            "FINAL TEST SCORE FOR census-income : 0.9089527277765133\n"
          ]
        }
      ],
      "source": [
        "loaded_preds = loaded_clf.predict_proba(X_test)\n",
        "loaded_test_auc = roc_auc_score(y_score=loaded_preds[:,1], y_true=y_test)\n",
        "\n",
        "print(f\"FINAL TEST SCORE FOR {dataset_name} : {loaded_test_auc}\")"
      ]
    },
    {
      "cell_type": "code",
      "source": [
        "from sklearn.metrics import confusion_matrix, accuracy_score\n",
        "import numpy as np\n",
        "from matplotlib.colors import LinearSegmentedColormap\n",
        "import seaborn as sns\n",
        "\n",
        "# Assuming loaded_clf.predict(X_test) returns the predicted labels\n",
        "# You may need to adjust the threshold for binary classification depending on your problem\n",
        "\n",
        "# 定义自定义颜色渐变，从绿色到紫色\n",
        "colors = ['#BEB8DC', '#FA7F6F']  # 绿色到紫色的渐变\n",
        "cmap_custom = LinearSegmentedColormap.from_list(\"GreenToPurple\", colors)\n",
        "# For test set\n",
        "loaded_preds = loaded_clf.predict(X_test)\n",
        "cm_test = confusion_matrix(y_test, loaded_preds)\n",
        "# Calculate the confusion matrix in percentage terms\n",
        "cm_test_percentage = cm_test.astype('float') / cm_test.sum(axis=1)[:, np.newaxis]\n",
        "\n",
        "# Calculate accuracy for the test set\n",
        "accuracy = accuracy_score(y_test, loaded_preds)\n",
        "accuracy_percentage = accuracy * 100\n",
        "\n",
        "# Plot confusion matrix for validation set with percentages\n",
        "plt.figure(figsize=(6, 5))\n",
        "sns.heatmap(cm_test_percentage, annot=True, fmt=\".2%\", cmap=cmap_custom, xticklabels=[\"0\", \"1\"], yticklabels=[\"0\", \"1\"])\n",
        "plt.xlabel(\"Predicted\")\n",
        "plt.ylabel(\"True\")\n",
        "plt.title(f\"Confusion Matrix for Test Set (%) - TabNet\\nAccuracy: {accuracy_percentage:.2f}%\")\n",
        "\n",
        "plt.tight_layout()\n",
        "plt.savefig(\"TabNet_confusion_matrix.pdf\", format=\"pdf\", dpi=1000)  # Specify the desired file name, format, and DPI\n",
        "plt.show()"
      ],
      "metadata": {
        "colab": {
          "base_uri": "https://localhost:8080/",
          "height": 506
        },
        "id": "82BOidRk66it",
        "outputId": "5741e854-32bd-496b-e8e8-6f935e43728b"
      },
      "execution_count": 417,
      "outputs": [
        {
          "output_type": "display_data",
          "data": {
            "text/plain": [
              "<Figure size 600x500 with 2 Axes>"
            ],
            "image/png": "[encoded data removed]"
          },
          "metadata": {}
        }
      ]
    },
    {
      "cell_type": "markdown",
      "metadata": {
        "id": "EXXJb6H-cFbn"
      },
      "source": [
        "# XGB"
      ]
    },
    {
      "cell_type": "code",
      "source": [
        "# # Assuming you have a DataFrame 'df' with a column 'diagnosis' containing 'M' and 'B' values\n",
        "# # y_train\n",
        "# # Create a mapping from 'wealthy' to 1 and 'not_wealthy' to 0\n",
        "# # mapping = {'wealthy': 1, 'not_wealthy': 0}\n",
        "\n",
        "# # Use numpy.vectorize to apply the mapping to each element\n",
        "# y_train_ = np.vectorize(mapping.get)(y_train)\n",
        "# y_valid_ = np.vectorize(mapping.get)(y_valid)\n",
        "# y_test_ = np.vectorize(mapping.get)(y_test)"
      ],
      "metadata": {
        "id": "0N9xMVpNgMPl"
      },
      "execution_count": 418,
      "outputs": []
    },
    {
      "cell_type": "code",
      "source": [
        "from xgboost import XGBClassifier\n",
        "from sklearn.metrics import roc_auc_score, roc_curve, auc\n",
        "import matplotlib.pyplot as plt\n",
        "\n",
        "# Create and train the XGBoost classifier (assuming you've already done this)\n",
        "clf_xgb = XGBClassifier(max_depth=8, learning_rate=0.1, n_estimators=1000, verbosity=0, silent=None, objective='binary:logistic', booster='gbtree', n_jobs=-1, nthread=None, gamma=0, min_child_weight=1, max_delta_step=0, subsample=0.7, colsample_bytree=1, colsample_bylevel=1, colsample_bynode=1, reg_alpha=0, reg_lambda=1, scale_pos_weight=1, base_score=0.5, random_state=0, seed=None)\n",
        "clf_xgb.fit(X_train, y_train, eval_set=[(X_valid, y_valid)], early_stopping_rounds=40, verbose=10)\n",
        "\n",
        "# Get the predicted probabilities for the positive class (class 1)\n",
        "y_pred_prob = clf_xgb.predict_proba(X_valid)[:, 1]\n",
        "\n",
        "# Calculate the ROC curve\n",
        "fpr, tpr, _ = roc_curve(y_valid, y_pred_prob)\n",
        "\n",
        "# Calculate the ROC AUC score\n",
        "roc_auc = auc(fpr, tpr)\n",
        "\n",
        "# # Plot the ROC curve\n",
        "# plt.figure(figsize=(8, 6))\n",
        "# plt.plot(fpr, tpr, color='darkorange', lw=2, label=f'ROC Curve (AUC = {roc_auc:.2f})')\n",
        "# plt.plot([0, 1], [0, 1], color='navy', lw=2, linestyle='--')\n",
        "# plt.xlim([0.0, 1.0])\n",
        "# plt.ylim([0.0, 1.05])\n",
        "# plt.xlabel('False Positive Rate')\n",
        "# plt.ylabel('True Positive Rate')\n",
        "# plt.title('Receiver Operating Characteristic (ROC) Curve')\n",
        "# plt.legend(loc='lower right')\n",
        "# plt.show()\n"
      ],
      "metadata": {
        "colab": {
          "base_uri": "https://localhost:8080/"
        },
        "id": "rWEUaRcyubYh",
        "outputId": "26246398-d672-4712-fb58-fe53bdf6e2ce"
      },
      "execution_count": 420,
      "outputs": [
        {
          "output_type": "stream",
          "name": "stdout",
          "text": [
            "[0]\tvalidation_0-logloss:0.64738\n",
            "[10]\tvalidation_0-logloss:0.44641\n",
            "[20]\tvalidation_0-logloss:0.39398\n",
            "[30]\tvalidation_0-logloss:0.37502\n",
            "[40]\tvalidation_0-logloss:0.36505\n",
            "[50]\tvalidation_0-logloss:0.35867\n",
            "[60]\tvalidation_0-logloss:0.35595\n"
          ]
        },
        {
          "output_type": "stream",
          "name": "stderr",
          "text": [
            "/usr/local/lib/python3.10/dist-packages/xgboost/sklearn.py:885: UserWarning: `early_stopping_rounds` in `fit` method is deprecated for better compatibility with scikit-learn, use `early_stopping_rounds` in constructor or`set_params` instead.\n",
            "  warnings.warn(\n"
          ]
        },
        {
          "output_type": "stream",
          "name": "stdout",
          "text": [
            "[70]\tvalidation_0-logloss:0.35492\n",
            "[80]\tvalidation_0-logloss:0.35535\n",
            "[90]\tvalidation_0-logloss:0.35596\n",
            "[100]\tvalidation_0-logloss:0.35751\n",
            "[110]\tvalidation_0-logloss:0.36024\n",
            "[114]\tvalidation_0-logloss:0.36059\n"
          ]
        }
      ]
    },
    {
      "cell_type": "code",
      "source": [
        "# Get the predicted probabilities for the positive class (class 1)\n",
        "y_pred_prob = clf_xgb.predict_proba(X_test)[:, 1]\n",
        "\n",
        "# Calculate the ROC curve\n",
        "fpr, tpr, _ = roc_curve(y_test, y_pred_prob)\n",
        "\n",
        "# Calculate the ROC AUC score\n",
        "roc_auc = auc(fpr, tpr)\n",
        "\n",
        "# Plot the ROC curve\n",
        "plt.figure(figsize=(5.7, 4.7))\n",
        "plt.plot(fpr, tpr, marker='x', color = \"#FA7F6F\", lw=2, label=f'ROC Curve (AUC = {roc_auc:.4f})')\n",
        "plt.plot([0, 1], [0, 1], color='#BEB8DC', lw=2, linestyle='--', marker = 'p')\n",
        "plt.xlim([0.0, 1.0])\n",
        "plt.ylim([0.0, 1.05])\n",
        "plt.xlabel('False Positive Rate')\n",
        "plt.ylabel('True Positive Rate')\n",
        "plt.title('XGB - Receiver Operating Characteristic (ROC) Curve')\n",
        "plt.legend(loc='lower right')\n",
        "\n",
        "# Save the plot as a PDF file with a specific DPI (e.g., 300 DPI)\n",
        "plt.tight_layout()\n",
        "plt.savefig(\"XGB_roc_auc_plot.pdf\", format=\"pdf\", dpi=1000)  # Specify the desired file name, format, and DPI\n",
        "plt.show()"
      ],
      "metadata": {
        "colab": {
          "base_uri": "https://localhost:8080/",
          "height": 476
        },
        "id": "EsU-5u57UQaa",
        "outputId": "22667a4f-5e80-4bef-fbce-1d819fcb4655"
      },
      "execution_count": 421,
      "outputs": [
        {
          "output_type": "display_data",
          "data": {
            "text/plain": [
              "<Figure size 570x470 with 1 Axes>"
            ],
            "image/png": "[encoded data removed]"
          },
          "metadata": {}
        }
      ]
    },
    {
      "cell_type": "code",
      "source": [
        "import numpy as np\n",
        "import matplotlib.pyplot as plt\n",
        "from sklearn.metrics import confusion_matrix\n",
        "import seaborn as sns\n",
        "\n",
        "\n",
        "# For test set\n",
        "preds_test = clf_xgb.predict(X_test)\n",
        "y_test_ = np.vectorize(mapping.get)(y_test)\n",
        "cm_test = confusion_matrix(y_test, preds_test)\n",
        "\n",
        "# Calculate the confusion matrix in percentage terms\n",
        "# cm_valid_percentage = cm_valid.astype('float') / cm_valid.sum(axis=1)[:, np.newaxis]\n",
        "cm_test_percentage = cm_test.astype('float') / cm_test.sum(axis=1)[:, np.newaxis]\n",
        "\n",
        "# Calculate accuracy for the test set\n",
        "accuracy = accuracy_score(y_test, preds_test)\n",
        "accuracy_percentage = accuracy * 100\n",
        "\n",
        "# color\n",
        "colors = ['#BEB8DC', '#FA7F6F']  # green to purple\n",
        "cmap_custom = LinearSegmentedColormap.from_list(\"GreenToPurple\", colors)\n",
        "\n",
        "# Plot confusion matrix for test set with percentages\n",
        "plt.figure(figsize=(6, 5))\n",
        "sns.heatmap(cm_test_percentage, annot=True, fmt=\".2%\", cmap=cmap_custom, xticklabels=[\"0\", \"1\"], yticklabels=[\"0\", \"1\"])\n",
        "plt.xlabel(\"Predicted\")\n",
        "plt.ylabel(\"True\")\n",
        "# plt.title(\"Confusion Matrix for Test Set (Percentage)\")\n",
        "plt.title(f\"Confusion Matrix for Test Set (%) - XGB\\nAccuracy: {accuracy_percentage:.2f}%\")\n",
        "\n",
        "plt.tight_layout()\n",
        "plt.savefig(\"XGB_confusion_matrix.pdf\", format=\"pdf\", dpi=1000)  # Specify the desired file name, format, and DPI\n",
        "plt.show()"
      ],
      "metadata": {
        "colab": {
          "base_uri": "https://localhost:8080/",
          "height": 506
        },
        "id": "whtkNmfqQTqP",
        "outputId": "9de59b51-70f8-4e69-a401-2ed437159dfe"
      },
      "execution_count": 422,
      "outputs": [
        {
          "output_type": "display_data",
          "data": {
            "text/plain": [
              "<Figure size 600x500 with 2 Axes>"
            ],
            "image/png": "[encoded data removed]"
          },
          "metadata": {}
        }
      ]
    },
    {
      "cell_type": "markdown",
      "source": [
        "# Random forest"
      ],
      "metadata": {
        "id": "FErdikTbhoDk"
      }
    },
    {
      "cell_type": "code",
      "source": [
        "from sklearn.ensemble import RandomForestClassifier\n",
        "from sklearn.metrics import roc_auc_score, log_loss\n",
        "\n",
        "#model\n",
        "rf_classifier = RandomForestClassifier(\n",
        "    n_estimators=10,  # Increase the number of estimators\n",
        "    max_depth=10,      # Tune max depth\n",
        "    min_samples_split=5,\n",
        "    min_samples_leaf=2,\n",
        "    random_state=42\n",
        ")\n",
        "\n",
        "# Train the updated model\n",
        "rf_classifier.fit(X_train, y_train)\n",
        "\n",
        "# Initialize lists to store AUC and log loss values for each estimator\n",
        "auc_values = []\n",
        "logloss_values = []\n",
        "\n",
        "# Make predictions on the test set for each estimator\n",
        "for estimator in rf_classifier.estimators_:\n",
        "    y_pred = estimator.predict(X_test)\n",
        "\n",
        "    auc = roc_auc_score(y_test, y_pred)\n",
        "    auc_values.append(auc)\n",
        "\n",
        "    y_prob = estimator.predict_proba(X_test)\n",
        "    logloss = log_loss(y_test, y_prob)\n",
        "    logloss_values.append(logloss)\n",
        "\n",
        "# Print AUC and log loss values for each estimator\n",
        "for i, (auc, logloss) in enumerate(zip(auc_values, logloss_values)):\n",
        "    print(f'Estimator {i + 1} - AUC: {auc:.2f}, Log Loss: {logloss:.2f}')\n"
      ],
      "metadata": {
        "id": "kBF1I14sh8pT",
        "colab": {
          "base_uri": "https://localhost:8080/"
        },
        "outputId": "3ce806ad-1710-4562-846f-aaa9e7eba7ed"
      },
      "execution_count": 423,
      "outputs": [
        {
          "output_type": "stream",
          "name": "stdout",
          "text": [
            "Estimator 1 - AUC: 0.78, Log Loss: 1.34\n",
            "Estimator 2 - AUC: 0.77, Log Loss: 1.06\n",
            "Estimator 3 - AUC: 0.77, Log Loss: 1.02\n",
            "Estimator 4 - AUC: 0.80, Log Loss: 0.96\n",
            "Estimator 5 - AUC: 0.78, Log Loss: 0.89\n",
            "Estimator 6 - AUC: 0.76, Log Loss: 1.27\n",
            "Estimator 7 - AUC: 0.79, Log Loss: 1.10\n",
            "Estimator 8 - AUC: 0.78, Log Loss: 1.00\n",
            "Estimator 9 - AUC: 0.79, Log Loss: 0.82\n",
            "Estimator 10 - AUC: 0.81, Log Loss: 1.04\n"
          ]
        }
      ]
    },
    {
      "cell_type": "code",
      "source": [
        "from sklearn.metrics import roc_curve, auc\n",
        "# Make predictions on the test set using the updated model\n",
        "y_prob = rf_classifier.predict_proba(X_test)[:, 1]\n",
        "\n",
        "# Calculate the ROC curve\n",
        "fpr, tpr, _ = roc_curve(y_test, y_prob)\n",
        "\n",
        "# Calculate the ROC AUC score using a different variable name\n",
        "roc_auc_score = auc(fpr, tpr)\n",
        "\n",
        "# Plot the ROC curve\n",
        "plt.figure(figsize=(5.7, 4.7))\n",
        "plt.plot(fpr, tpr, marker='x', color = \"#FA7F6F\", lw=2, label=f'ROC Curve (AUC = {roc_auc_score:.4f})')\n",
        "plt.plot([0, 1], [0, 1], color='#BEB8DC', lw=2, linestyle='--', marker = 'p')\n",
        "plt.xlim([0.0, 1.0])\n",
        "plt.ylim([0.0, 1.05])\n",
        "plt.xlabel('False Positive Rate')\n",
        "plt.ylabel('True Positive Rate')\n",
        "plt.title('RF - Receiver Operating Characteristic (ROC) Curve')\n",
        "plt.legend(loc='lower right')\n",
        "\n",
        "# Save the plot as a PDF file with a specific DPI (e.g., 300 DPI)\n",
        "plt.tight_layout()\n",
        "plt.savefig(\"RF_roc_auc_plot.pdf\", format=\"pdf\", dpi=1000)  # Specify the desired file name, format, and DPI\n",
        "plt.show()\n"
      ],
      "metadata": {
        "colab": {
          "base_uri": "https://localhost:8080/",
          "height": 476
        },
        "id": "wMfK_2aeisLV",
        "outputId": "77e85573-0a64-47fe-a7bf-ac849f47c0d9"
      },
      "execution_count": 424,
      "outputs": [
        {
          "output_type": "display_data",
          "data": {
            "text/plain": [
              "<Figure size 570x470 with 1 Axes>"
            ],
            "image/png": "[encoded data removed]"
          },
          "metadata": {}
        }
      ]
    },
    {
      "cell_type": "code",
      "source": [
        "# from sklearn.ensemble import RandomForestClassifier\n",
        "from sklearn.metrics import confusion_matrix, ConfusionMatrixDisplay\n",
        "import matplotlib.pyplot as plt\n",
        "\n",
        "# Calculate the confusion matrix\n",
        "confusion_matrix = confusion_matrix(y_test, y_pred)\n",
        "\n",
        "# Calculate the confusion matrix with percentages (normalized)\n",
        "confusion_matrix_percentage = confusion_matrix.astype('float') / confusion_matrix.sum(axis=1)[:, np.newaxis]\n",
        "\n",
        "# Calculate accuracy for the test set\n",
        "accuracy = accuracy_score(y_test, y_pred)\n",
        "accuracy_percentage = accuracy * 100\n",
        "\n",
        "# color\n",
        "colors = ['#BEB8DC', '#FA7F6F']  # green to purple\n",
        "cmap_custom = LinearSegmentedColormap.from_list(\"GreenToPurple\", colors)\n",
        "# Plot confusion matrix for test set with percentages\n",
        "plt.figure(figsize=(6, 5))\n",
        "sns.heatmap(confusion_matrix_percentage, annot=True, fmt=\".2%\", cmap=cmap_custom, xticklabels=[\"0\", \"1\"], yticklabels=[\"0\", \"1\"])\n",
        "plt.xlabel(\"Predicted\")\n",
        "plt.ylabel(\"True\")\n",
        "# plt.title(\"Confusion Matrix for Test Set (Percentage)\")\n",
        "plt.title(f\"Confusion Matrix for Test Set (%) - RF\\nAccuracy: {accuracy_percentage:.2f}%\")\n",
        "\n",
        "plt.tight_layout()\n",
        "plt.savefig(\"RF_confusion_matrix.pdf\", format=\"pdf\", dpi=1000)  # Specify the desired file name, format, and DPI\n",
        "plt.show()"
      ],
      "metadata": {
        "colab": {
          "base_uri": "https://localhost:8080/",
          "height": 506
        },
        "id": "fcHJrGOubezw",
        "outputId": "ac05ab7e-ad94-4d8c-e8d3-b39c970cb9f6"
      },
      "execution_count": 425,
      "outputs": [
        {
          "output_type": "display_data",
          "data": {
            "text/plain": [
              "<Figure size 600x500 with 2 Axes>"
            ],
            "image/png": "[encoded data removed]"
          },
          "metadata": {}
        }
      ]
    },
    {
      "cell_type": "markdown",
      "source": [
        "# CNNs -2.0"
      ],
      "metadata": {
        "id": "WQ2Sj2KTZPrV"
      }
    },
    {
      "cell_type": "code",
      "source": [
        "import pandas as pd\n",
        "import numpy as np\n",
        "import torch\n",
        "import torch.nn as nn\n",
        "from torch.utils.data import DataLoader, TensorDataset\n",
        "from sklearn.preprocessing import LabelEncoder, StandardScaler\n",
        "from sklearn.model_selection import train_test_split\n"
      ],
      "metadata": {
        "id": "by6A6FwbZSwl"
      },
      "execution_count": 731,
      "outputs": []
    },
    {
      "cell_type": "code",
      "source": [
        "column_names = [\n",
        "    \"age\", \"workclass\", \"fnlwgt\", \"education\", \"education-num\", \"marital-status\",\n",
        "    \"occupation\", \"relationship\", \"race\", \"sex\", \"capital-gain\", \"capital-loss\",\n",
        "    \"hours-per-week\", \"native-country\", \"income\"\n",
        "]\n",
        "data = pd.read_csv(\"/content/combined_data.txt\", names=column_names, na_values=\" ?\", skipinitialspace=True)"
      ],
      "metadata": {
        "id": "tzBIi5lJZWKb"
      },
      "execution_count": 732,
      "outputs": []
    },
    {
      "cell_type": "code",
      "source": [
        "# Remove the first row\n",
        "data = data.drop(index=0)\n",
        "\n",
        "# Reset the index if needed\n",
        "data = data.reset_index(drop=True)"
      ],
      "metadata": {
        "id": "u06x0r5TZsOT"
      },
      "execution_count": 733,
      "outputs": []
    },
    {
      "cell_type": "code",
      "source": [
        "# Preprocess the data\n",
        "data.dropna(inplace=True)\n",
        "data = data.drop(columns=[\"fnlwgt\"])  # Dropping non-informative feature\n",
        "target = data[\"income\"]\n",
        "data = data.drop(columns=[\"income\"])\n",
        "categorical_cols = data.select_dtypes(include=[\"object\"]).columns.tolist()\n",
        "data = pd.get_dummies(data, columns=categorical_cols)\n",
        "scaler = StandardScaler()\n",
        "data = scaler.fit_transform(data)\n",
        "\n",
        "# Encode the target variable\n",
        "le = LabelEncoder()\n",
        "target = le.fit_transform(target)\n",
        "target = (target == le.transform(['>50K'])[0]).astype(int)\n",
        "\n",
        "# Split the data into training and testing sets\n",
        "X_train, X_temp, y_train, y_temp = train_test_split(data, target, test_size=0.2, random_state=42)\n",
        "# Split the data into train, validation, and test sets\n",
        "X_valid, X_test, y_valid, y_test = train_test_split(X_temp, y_temp, test_size=0.5, random_state=42)\n",
        "\n",
        "# Convert data to PyTorch tensors\n",
        "X_train = torch.FloatTensor(X_train)\n",
        "X_valid = torch.FloatTensor(X_valid)\n",
        "X_test = torch.FloatTensor(X_test)\n",
        "y_train = torch.LongTensor(y_train)\n",
        "y_valid = torch.LongTensor(y_valid)\n",
        "y_test = torch.LongTensor(y_test)\n",
        "\n",
        "# Create DataLoader for training and testing\n",
        "train_dataset = TensorDataset(X_train, y_train)\n",
        "train_loader = DataLoader(train_dataset, batch_size=128, shuffle=True)\n",
        "\n",
        "valid_dataset = TensorDataset(X_valid, y_valid)\n",
        "valid_loader = DataLoader(valid_dataset, batch_size=128, shuffle=False)\n",
        "\n",
        "test_dataset = TensorDataset(X_test, y_test)\n",
        "test_loader = DataLoader(test_dataset, batch_size=128, shuffle=False)"
      ],
      "metadata": {
        "id": "U0N1i9eaZvys"
      },
      "execution_count": 734,
      "outputs": []
    },
    {
      "cell_type": "code",
      "source": [
        "# # Define a simple one-dimensional CNN model\n",
        "# class CNNModel(nn.Module):\n",
        "#     def __init__(self, input_dim):\n",
        "#         super(CNNModel, self).__init__()\n",
        "#         self.conv1 = nn.Conv1d(1, 16, kernel_size=3)\n",
        "#         self.fc1 = nn.Linear(16 * (X_train.shape[1] - 2), 128)\n",
        "#         self.fc2 = nn.Linear(128, 2)  # 2 output classes (<=50K or >50K)\n",
        "\n",
        "#     def forward(self, x):\n",
        "#         x = self.conv1(x.unsqueeze(1))  # Add a channel dimension\n",
        "#         # x = nn.functional.relu(x)\n",
        "#         x = nn.functional.gelu(x)\n",
        "#         x = x.view(x.size(0), -1)\n",
        "#         x = self.fc1(x)\n",
        "#         x = nn.functional.relu(x)\n",
        "#         # x = nn.functional.gelu(x)\n",
        "#         x = self.fc2(x)\n",
        "#         return x\n",
        "\n",
        "# # Create an instance of the CNN model\n",
        "# input_dim = X_train.shape[1]\n",
        "# model = CNNModel(input_dim)\n",
        "\n",
        "# # Define loss and optimizer\n",
        "# criterion = nn.CrossEntropyLoss()\n",
        "# optimizer = torch.optim.Adam(model.parameters(), lr=0.001)\n",
        "\n",
        "# # Create DataLoader for training and testing\n",
        "# train_dataset = TensorDataset(X_train, y_train)\n",
        "# train_loader = DataLoader(train_dataset, batch_size=256, shuffle=True)\n",
        "\n",
        "# valid_dataset = TensorDataset(X_valid, y_valid)\n",
        "# valid_loader = DataLoader(valid_dataset, batch_size=256, shuffle=False)\n",
        "\n",
        "# test_dataset = TensorDataset(X_test, y_test)\n",
        "# test_loader = DataLoader(test_dataset, batch_size=256, shuffle=False)"
      ],
      "metadata": {
        "id": "SNsYc-ViZx-A"
      },
      "execution_count": 735,
      "outputs": []
    },
    {
      "cell_type": "code",
      "source": [
        "import torch\n",
        "import torch.nn as nn\n",
        "import torch.nn.functional as F\n",
        "\n",
        "class CNNModel(nn.Module):\n",
        "    def __init__(self, input_dim):\n",
        "        super(CNNModel, self).__init__()\n",
        "        self.conv1 = nn.Conv1d(1, 16, kernel_size=3)\n",
        "        self.fc1 = nn.Linear(16 * (input_dim - 2), 128)\n",
        "        self.fc2 = nn.Linear(128, 2)  # 2 output classes (<=50K or >50K)\n",
        "        self.fc3 = nn.Linear(128, 128)  # Additional dense layer with the same size\n",
        "\n",
        "    def forward(self, x):\n",
        "        # Initial convolution\n",
        "        x_conv = self.conv1(x.unsqueeze(1))\n",
        "        x_conv = F.gelu(x_conv)\n",
        "        x_conv = x_conv.view(x_conv.size(0), -1)\n",
        "\n",
        "        # Fully connected layers\n",
        "        x_fc1 = self.fc1(x_conv)\n",
        "        x_fc1 = F.relu(x_fc1)\n",
        "\n",
        "        # Additional dense layer\n",
        "        x_dense = self.fc3(x_fc1)\n",
        "        x_dense = F.relu(x_dense)\n",
        "\n",
        "        # Residual connection\n",
        "        x_resnet = x_fc1 + x_dense  # Residual connection\n",
        "\n",
        "        # Final fully connected layer\n",
        "        x_output = self.fc2(x_resnet)\n",
        "\n",
        "        return x_output"
      ],
      "metadata": {
        "id": "zAxN9P5lAUlY"
      },
      "execution_count": 736,
      "outputs": []
    },
    {
      "cell_type": "code",
      "source": [
        "# Create an instance of the CNN model\n",
        "input_dim = X_train.shape[1]\n",
        "model = CNNModel(input_dim)\n",
        "\n",
        "# Define loss and optimizer\n",
        "criterion = nn.CrossEntropyLoss()\n",
        "optimizer = torch.optim.Adam(model.parameters(), lr=0.001)\n"
      ],
      "metadata": {
        "id": "MGaZaCQqZ1di"
      },
      "execution_count": 737,
      "outputs": []
    },
    {
      "cell_type": "code",
      "source": [
        "# Training loop\n",
        "num_epochs = 10\n",
        "\n",
        "for epoch in range(num_epochs):\n",
        "    model.train()\n",
        "    for inputs, labels in train_loader:\n",
        "        optimizer.zero_grad()\n",
        "        outputs = model(inputs)\n",
        "        loss = criterion(outputs, labels)\n",
        "        loss.backward()\n",
        "        optimizer.step()\n",
        "\n",
        "    # Calculate and print the validation loss\n",
        "    model.eval()\n",
        "    valid_loss = 0.0\n",
        "    total_valid_samples = 0\n",
        "    correct_valid_samples = 0\n",
        "    with torch.no_grad():\n",
        "        for valid_inputs, valid_labels in valid_loader:\n",
        "            valid_outputs = model(valid_inputs)\n",
        "            valid_batch_loss = criterion(valid_outputs, valid_labels)\n",
        "            valid_loss += valid_batch_loss.item() * valid_inputs.size(0)\n",
        "            _, valid_predicted = torch.max(valid_outputs, 1)\n",
        "            total_valid_samples += valid_inputs.size(0)\n",
        "            correct_valid_samples += (valid_predicted == valid_labels).sum().item()\n",
        "\n",
        "    average_valid_loss = valid_loss / total_valid_samples\n",
        "    validation_accuracy = correct_valid_samples / total_valid_samples\n",
        "\n",
        "    # print(f\"Epoch {epoch+1}/{num_epochs}, Training Loss: {loss.item():.4f}, Validation Loss: {average_valid_loss:.4f}, Validation Accuracy: {validation_accuracy*100:.2f}%\")\n",
        "    print(f\"Epoch {epoch+1}/{num_epochs}, Training Loss: {loss.item():.4f}, Validation Loss: {average_valid_loss:.4f}\")\n"
      ],
      "metadata": {
        "colab": {
          "base_uri": "https://localhost:8080/"
        },
        "id": "2mSEJRUXZ4xG",
        "outputId": "8fe6fd53-0a55-44a6-c326-baf53a173d6f"
      },
      "execution_count": 738,
      "outputs": [
        {
          "output_type": "stream",
          "name": "stdout",
          "text": [
            "Epoch 1/10, Training Loss: 0.3464, Validation Loss: 0.4025\n",
            "Epoch 2/10, Training Loss: 0.3663, Validation Loss: 0.4018\n",
            "Epoch 3/10, Training Loss: 0.3004, Validation Loss: 0.3879\n",
            "Epoch 4/10, Training Loss: 0.3210, Validation Loss: 0.3944\n",
            "Epoch 5/10, Training Loss: 0.3783, Validation Loss: 0.3918\n",
            "Epoch 6/10, Training Loss: 0.4383, Validation Loss: 0.3903\n",
            "Epoch 7/10, Training Loss: 0.4077, Validation Loss: 0.3963\n",
            "Epoch 8/10, Training Loss: 0.3681, Validation Loss: 0.3972\n",
            "Epoch 9/10, Training Loss: 0.3033, Validation Loss: 0.4006\n",
            "Epoch 10/10, Training Loss: 0.4272, Validation Loss: 0.3940\n"
          ]
        }
      ]
    },
    {
      "cell_type": "code",
      "source": [
        "# Evaluate the model on the test set\n",
        "model.eval()\n",
        "correct = 0\n",
        "total = 0\n",
        "\n",
        "with torch.no_grad():\n",
        "    for inputs, labels in test_loader:\n",
        "        outputs = model(inputs)\n",
        "        _, predicted = torch.max(outputs, 1)\n",
        "        total += labels.size(0)\n",
        "        correct += (predicted == labels).sum().item()\n",
        "\n",
        "accuracy = 100 * correct / total\n",
        "print(f\"Test Accuracy: {accuracy:.2f}%\")\n"
      ],
      "metadata": {
        "colab": {
          "base_uri": "https://localhost:8080/"
        },
        "id": "fZn8Eg-MZ7_R",
        "outputId": "e49c7d03-ef35-4214-8400-8fe49457f45a"
      },
      "execution_count": 739,
      "outputs": [
        {
          "output_type": "stream",
          "name": "stdout",
          "text": [
            "Test Accuracy: 84.53%\n"
          ]
        }
      ]
    },
    {
      "cell_type": "code",
      "source": [
        "from sklearn.metrics import confusion_matrix\n",
        "import matplotlib.pyplot as plt\n",
        "import seaborn as sns\n",
        "from sklearn.metrics import confusion_matrix, accuracy_score\n",
        "from matplotlib.colors import LinearSegmentedColormap\n",
        "\n",
        "# Initialize lists to store true and predicted labels\n",
        "true_labels = []\n",
        "predicted_labels = []\n",
        "\n",
        "# Evaluate the model on the test set and collect true and predicted labels\n",
        "model.eval()\n",
        "with torch.no_grad():\n",
        "    for inputs, labels in test_loader:\n",
        "        outputs = model(inputs)\n",
        "        _, predicted = torch.max(outputs, 1)\n",
        "        true_labels.extend(labels.tolist())\n",
        "        predicted_labels.extend(predicted.tolist())\n",
        "\n",
        "# Create the confusion matrix\n",
        "cm = confusion_matrix(true_labels, predicted_labels)\n",
        "\n",
        "# Calculate the confusion matrix in percentage terms\n",
        "cm_percentage = cm.astype('float') / cm.sum(axis=1)[:, np.newaxis]\n",
        "\n",
        "# Calculate accuracy for the test set\n",
        "accuracy = accuracy_score(true_labels, predicted_labels)\n",
        "accuracy_percentage = accuracy * 100\n",
        "\n",
        "#color\n",
        "colors = ['#BEB8DC', '#FA7F6F']  # 绿色到紫色的渐变\n",
        "cmap_custom = LinearSegmentedColormap.from_list(\"GreenToPurple\", colors)\n",
        "\n",
        "# Plot the confusion matrix as a heatmap with percentages\n",
        "plt.figure(figsize=(6, 5))\n",
        "sns.heatmap(cm_percentage, annot=True, cmap=cmap_custom, fmt=\".2%\",xticklabels=[\"0\", \"1\"], yticklabels=[\"0\", \"1\"])  # Use \".2%\" to format percentages with two decimal places\n",
        "plt.xlabel(\"Predicted\")\n",
        "plt.ylabel(\"True\")\n",
        "plt.title(f\"Confusion Matrix for Test Set (%) - CNNs\\nAccuracy: {accuracy_percentage:.2f}%\")\n",
        "\n",
        "plt.tight_layout()\n",
        "plt.savefig(\"CNNs_confusion_matrix.pdf\", format=\"pdf\", dpi=1000)  # Specify the desired file name, format, and DPI\n",
        "plt.show()"
      ],
      "metadata": {
        "colab": {
          "base_uri": "https://localhost:8080/",
          "height": 506
        },
        "id": "EUvfPSFvZ-Xu",
        "outputId": "9fba8e2e-b0b4-4349-edf5-500ce9e2d384"
      },
      "execution_count": 740,
      "outputs": [
        {
          "output_type": "display_data",
          "data": {
            "text/plain": [
              "<Figure size 600x500 with 2 Axes>"
            ],
            "image/png": "[encoded data removed]"
          },
          "metadata": {}
        }
      ]
    },
    {
      "cell_type": "code",
      "source": [
        "from sklearn.metrics import roc_curve, auc\n",
        "# Evaluate the model on the test set and get predicted probabilities\n",
        "model.eval()\n",
        "y_true = []\n",
        "y_scores = []\n",
        "\n",
        "with torch.no_grad():\n",
        "    for inputs, labels in test_loader:\n",
        "        outputs = model(inputs)\n",
        "        predicted_probs = torch.softmax(outputs, dim=1)[:, 1].cpu().numpy()  # Get probabilities for class 1\n",
        "        y_true.extend(labels.cpu().numpy())\n",
        "        y_scores.extend(predicted_probs)\n",
        "\n",
        "# Calculate ROC curve and AUC\n",
        "fpr, tpr, _ = roc_curve(y_true, y_scores)\n",
        "roc_auc = auc(fpr, tpr)\n",
        "\n",
        "\n",
        "# Plot ROC curve\n",
        "plt.figure(figsize=(5.7, 4.7))\n",
        "plt.plot(fpr, tpr,  marker='x', color = \"#FA7F6F\", lw=2, label=f'ROC Curve (AUC = {roc_auc:.4f})')\n",
        "plt.plot([0, 1], [0, 1], color='#BEB8DC', lw=2, linestyle='--',marker = 'p')\n",
        "plt.xlim([0.0, 1.0])\n",
        "plt.ylim([0.0, 1.05])\n",
        "plt.xlabel('False Positive Rate')\n",
        "plt.ylabel('True Positive Rate')\n",
        "plt.title('CNNs - Receiver Operating Characteristic (ROC) Curve')\n",
        "plt.legend(loc='lower right')\n",
        "\n",
        "# Save the plot as a PDF file with a specific DPI (e.g., 300 DPI)\n",
        "plt.tight_layout()\n",
        "plt.savefig(\"CNNs_roc_auc_plot.pdf\", format=\"pdf\", dpi=1000)  # Specify the desired file name, format, and DPI\n",
        "plt.show()"
      ],
      "metadata": {
        "colab": {
          "base_uri": "https://localhost:8080/",
          "height": 476
        },
        "id": "H8dQ-xQOaApx",
        "outputId": "f8a39669-a788-4c24-c5f8-10f63058d05e"
      },
      "execution_count": 741,
      "outputs": [
        {
          "output_type": "display_data",
          "data": {
            "text/plain": [
              "<Figure size 570x470 with 1 Axes>"
            ],
            "image/png": "[encoded data removed]"
          },
          "metadata": {}
        }
      ]
    },
    {
      "cell_type": "code",
      "source": [
        "#shuffle the test and run it again\n",
        "import random\n",
        "\n",
        "# Shuffle the test set\n",
        "random.seed(42)  # Seed for reproducibility, change as needed\n",
        "shuffled_test_set = list(test_loader)\n",
        "random.shuffle(shuffled_test_set)\n",
        "\n",
        "# Evaluate the model on the shuffled test set\n",
        "model.eval()\n",
        "correct = 0\n",
        "total = 0\n",
        "\n",
        "with torch.no_grad():\n",
        "    for inputs, labels in shuffled_test_set:\n",
        "        outputs = model(inputs)\n",
        "        _, predicted = torch.max(outputs, 1)\n",
        "        total += labels.size(0)\n",
        "        correct += (predicted == labels).sum().item()\n",
        "\n",
        "accuracy = 100 * correct / total\n",
        "print(f\"Test Accuracy (Shuffled): {accuracy:.2f}%\")\n"
      ],
      "metadata": {
        "colab": {
          "base_uri": "https://localhost:8080/"
        },
        "id": "lbC8tuZqfsEP",
        "outputId": "2d048edf-0975-4f27-93ea-59ca9aa50131"
      },
      "execution_count": 669,
      "outputs": [
        {
          "output_type": "stream",
          "name": "stdout",
          "text": [
            "Test Accuracy (Shuffled): 83.41%\n"
          ]
        }
      ]
    },
    {
      "cell_type": "markdown",
      "source": [
        "# The end"
      ],
      "metadata": {
        "id": "In09Ayidf7Dh"
      }
    }
  ],
  "metadata": {
    "kernelspec": {
      "display_name": "Python 3",
      "name": "python3"
    },
    "language_info": {
      "codemirror_mode": {
        "name": "ipython",
        "version": 3
      },
      "file_extension": ".py",
      "mimetype": "text/x-python",
      "name": "python",
      "nbconvert_exporter": "python",
      "pygments_lexer": "ipython3",
      "version": "3.7.13"
    },
    "toc": {
      "base_numbering": 1,
      "nav_menu": {},
      "number_sections": true,
      "sideBar": true,
      "skip_h1_title": false,
      "title_cell": "Table of Contents",
      "title_sidebar": "Contents",
      "toc_cell": false,
      "toc_position": {},
      "toc_section_display": true,
      "toc_window_display": false
    },
    "colab": {
      "provenance": [],
      "gpuType": "T4",
      "include_colab_link": true
    },
    "accelerator": "GPU"
  },
  "nbformat": 4,
  "nbformat_minor": 0
}