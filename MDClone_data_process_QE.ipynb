{
  "nbformat": 4,
  "nbformat_minor": 0,
  "metadata": {
    "colab": {
      "provenance": [],
      "collapsed_sections": [
        "pHkjCnOLJx-T"
      ],
      "authorship_tag": "ABX9TyOCvvWgzoMMRKOBruIu+3yk",
      "include_colab_link": true
    },
    "kernelspec": {
      "name": "ir",
      "display_name": "R"
    },
    "language_info": {
      "name": "R"
    }
  },
  "cells": [
    {
      "cell_type": "markdown",
      "metadata": {
        "id": "view-in-github",
        "colab_type": "text"
      },
      "source": [
        "<a href=\"https://colab.research.google.com/github/lingliao/Machine-learning-model/blob/main/MDClone_data_process_QE.ipynb\" target=\"_parent\"><img src=\"https://colab.research.google.com/assets/colab-badge.svg\" alt=\"Open In Colab\"/></a>"
      ]
    },
    {
      "cell_type": "markdown",
      "source": [
        "# install libraries"
      ],
      "metadata": {
        "id": "cEcE4Q2UJCtn"
      }
    },
    {
      "cell_type": "code",
      "source": [
        "#install and download the library\n",
        "install.packages(\"tidyverse\")\n",
        "install.packages(\"plotly\")\n",
        "install.packages(\"extrafont\")\n",
        "library(\"tidyverse\")\n",
        "library(\"extrafont\")\n",
        "library(\"scales\")"
      ],
      "metadata": {
        "colab": {
          "base_uri": "https://localhost:8080/"
        },
        "id": "8desJirGHZtW",
        "outputId": "d8ca8ebf-6ef7-4734-ce28-04cf6551ee26"
      },
      "execution_count": 153,
      "outputs": [
        {
          "output_type": "stream",
          "name": "stderr",
          "text": [
            "Installing package into ‘/usr/local/lib/R/site-library’\n",
            "(as ‘lib’ is unspecified)\n",
            "\n",
            "Installing package into ‘/usr/local/lib/R/site-library’\n",
            "(as ‘lib’ is unspecified)\n",
            "\n",
            "Installing package into ‘/usr/local/lib/R/site-library’\n",
            "(as ‘lib’ is unspecified)\n",
            "\n"
          ]
        }
      ]
    },
    {
      "cell_type": "markdown",
      "source": [
        "# IHD"
      ],
      "metadata": {
        "id": "VbAD1hVSJGpJ"
      }
    },
    {
      "cell_type": "code",
      "source": [
        "#load the data\n",
        "data <- read.csv(\"/content/IHD.csv\")"
      ],
      "metadata": {
        "id": "NlSKH_ju4Ieb"
      },
      "execution_count": 154,
      "outputs": []
    },
    {
      "cell_type": "code",
      "source": [
        "#check the data\n",
        "head(data)"
      ],
      "metadata": {
        "colab": {
          "base_uri": "https://localhost:8080/",
          "height": 306
        },
        "id": "Mz1U0HKF8FrK",
        "outputId": "fde67714-bb57-40fe-bf85-1468a2591620"
      },
      "execution_count": 155,
      "outputs": [
        {
          "output_type": "display_data",
          "data": {
            "text/html": [
              "<table class=\"dataframe\">\n",
              "<caption>A data.frame: 6 × 9</caption>\n",
              "<thead>\n",
              "\t<tr><th></th><th scope=col>date.of.birth</th><th scope=col>gender.at.birth</th><th scope=col>ethnicity</th><th scope=col>race...primary</th><th scope=col>cohort.reference.event.age.at.event</th><th scope=col>cohort.reference.event.condition</th><th scope=col>copy.of.cohort.reference.event.condition</th><th scope=col>cohort.reference.event.problem.onset.date.time</th><th scope=col>cohort.reference.event.condition.type</th></tr>\n",
              "\t<tr><th></th><th scope=col>&lt;int&gt;</th><th scope=col>&lt;chr&gt;</th><th scope=col>&lt;chr&gt;</th><th scope=col>&lt;chr&gt;</th><th scope=col>&lt;dbl&gt;</th><th scope=col>&lt;chr&gt;</th><th scope=col>&lt;chr&gt;</th><th scope=col>&lt;chr&gt;</th><th scope=col>&lt;chr&gt;</th></tr>\n",
              "</thead>\n",
              "<tbody>\n",
              "\t<tr><th scope=row>1</th><td>1947</td><td>FEMALE</td><td>censored</td><td>censored</td><td>66.47070</td><td>censored</td><td>censored</td><td>2015-11-01 13:56:16</td><td>Diagnosis</td></tr>\n",
              "\t<tr><th scope=row>2</th><td>1940</td><td>FEMALE</td><td>censored</td><td>censored</td><td>84.38799</td><td>censored</td><td>censored</td><td>2023-03-08 14:38:48</td><td>Diagnosis</td></tr>\n",
              "\t<tr><th scope=row>3</th><td>1953</td><td>FEMALE</td><td>censored</td><td>censored</td><td>68.48428</td><td>censored</td><td>censored</td><td>2021-05-09 23:59:59</td><td>Diagnosis</td></tr>\n",
              "\t<tr><th scope=row>4</th><td>1955</td><td>FEMALE</td><td>censored</td><td>censored</td><td>62.51305</td><td>censored</td><td>censored</td><td>2018-04-08 11:49:50</td><td>Diagnosis</td></tr>\n",
              "\t<tr><th scope=row>5</th><td>1941</td><td>FEMALE</td><td>censored</td><td>censored</td><td>77.00137</td><td>censored</td><td>censored</td><td>2018-11-18 23:59:59</td><td>Diagnosis</td></tr>\n",
              "\t<tr><th scope=row>6</th><td>1967</td><td>FEMALE</td><td>censored</td><td>censored</td><td>53.75365</td><td>censored</td><td>censored</td><td>2021-06-22 23:59:59</td><td>Diagnosis</td></tr>\n",
              "</tbody>\n",
              "</table>\n"
            ],
            "text/markdown": "\nA data.frame: 6 × 9\n\n| <!--/--> | date.of.birth &lt;int&gt; | gender.at.birth &lt;chr&gt; | ethnicity &lt;chr&gt; | race...primary &lt;chr&gt; | cohort.reference.event.age.at.event &lt;dbl&gt; | cohort.reference.event.condition &lt;chr&gt; | copy.of.cohort.reference.event.condition &lt;chr&gt; | cohort.reference.event.problem.onset.date.time &lt;chr&gt; | cohort.reference.event.condition.type &lt;chr&gt; |\n|---|---|---|---|---|---|---|---|---|---|\n| 1 | 1947 | FEMALE | censored | censored | 66.47070 | censored | censored | 2015-11-01 13:56:16 | Diagnosis |\n| 2 | 1940 | FEMALE | censored | censored | 84.38799 | censored | censored | 2023-03-08 14:38:48 | Diagnosis |\n| 3 | 1953 | FEMALE | censored | censored | 68.48428 | censored | censored | 2021-05-09 23:59:59 | Diagnosis |\n| 4 | 1955 | FEMALE | censored | censored | 62.51305 | censored | censored | 2018-04-08 11:49:50 | Diagnosis |\n| 5 | 1941 | FEMALE | censored | censored | 77.00137 | censored | censored | 2018-11-18 23:59:59 | Diagnosis |\n| 6 | 1967 | FEMALE | censored | censored | 53.75365 | censored | censored | 2021-06-22 23:59:59 | Diagnosis |\n\n",
            "text/latex": "A data.frame: 6 × 9\n\\begin{tabular}{r|lllllllll}\n  & date.of.birth & gender.at.birth & ethnicity & race...primary & cohort.reference.event.age.at.event & cohort.reference.event.condition & copy.of.cohort.reference.event.condition & cohort.reference.event.problem.onset.date.time & cohort.reference.event.condition.type\\\\\n  & <int> & <chr> & <chr> & <chr> & <dbl> & <chr> & <chr> & <chr> & <chr>\\\\\n\\hline\n\t1 & 1947 & FEMALE & censored & censored & 66.47070 & censored & censored & 2015-11-01 13:56:16 & Diagnosis\\\\\n\t2 & 1940 & FEMALE & censored & censored & 84.38799 & censored & censored & 2023-03-08 14:38:48 & Diagnosis\\\\\n\t3 & 1953 & FEMALE & censored & censored & 68.48428 & censored & censored & 2021-05-09 23:59:59 & Diagnosis\\\\\n\t4 & 1955 & FEMALE & censored & censored & 62.51305 & censored & censored & 2018-04-08 11:49:50 & Diagnosis\\\\\n\t5 & 1941 & FEMALE & censored & censored & 77.00137 & censored & censored & 2018-11-18 23:59:59 & Diagnosis\\\\\n\t6 & 1967 & FEMALE & censored & censored & 53.75365 & censored & censored & 2021-06-22 23:59:59 & Diagnosis\\\\\n\\end{tabular}\n",
            "text/plain": [
              "  date.of.birth gender.at.birth ethnicity race...primary\n",
              "1 1947          FEMALE          censored  censored      \n",
              "2 1940          FEMALE          censored  censored      \n",
              "3 1953          FEMALE          censored  censored      \n",
              "4 1955          FEMALE          censored  censored      \n",
              "5 1941          FEMALE          censored  censored      \n",
              "6 1967          FEMALE          censored  censored      \n",
              "  cohort.reference.event.age.at.event cohort.reference.event.condition\n",
              "1 66.47070                            censored                        \n",
              "2 84.38799                            censored                        \n",
              "3 68.48428                            censored                        \n",
              "4 62.51305                            censored                        \n",
              "5 77.00137                            censored                        \n",
              "6 53.75365                            censored                        \n",
              "  copy.of.cohort.reference.event.condition\n",
              "1 censored                                \n",
              "2 censored                                \n",
              "3 censored                                \n",
              "4 censored                                \n",
              "5 censored                                \n",
              "6 censored                                \n",
              "  cohort.reference.event.problem.onset.date.time\n",
              "1 2015-11-01 13:56:16                           \n",
              "2 2023-03-08 14:38:48                           \n",
              "3 2021-05-09 23:59:59                           \n",
              "4 2018-04-08 11:49:50                           \n",
              "5 2018-11-18 23:59:59                           \n",
              "6 2021-06-22 23:59:59                           \n",
              "  cohort.reference.event.condition.type\n",
              "1 Diagnosis                            \n",
              "2 Diagnosis                            \n",
              "3 Diagnosis                            \n",
              "4 Diagnosis                            \n",
              "5 Diagnosis                            \n",
              "6 Diagnosis                            "
            ]
          },
          "metadata": {}
        }
      ]
    },
    {
      "cell_type": "code",
      "source": [
        "#check the dimention of the data\n",
        "dim(data)"
      ],
      "metadata": {
        "colab": {
          "base_uri": "https://localhost:8080/",
          "height": 34
        },
        "id": "2Na0Q8_L8m0G",
        "outputId": "15647775-8159-4907-9d56-391032d89dd6"
      },
      "execution_count": 156,
      "outputs": [
        {
          "output_type": "display_data",
          "data": {
            "text/html": [
              "<style>\n",
              ".list-inline {list-style: none; margin:0; padding: 0}\n",
              ".list-inline>li {display: inline-block}\n",
              ".list-inline>li:not(:last-child)::after {content: \"\\00b7\"; padding: 0 .5ex}\n",
              "</style>\n",
              "<ol class=list-inline><li>352860</li><li>9</li></ol>\n"
            ],
            "text/markdown": "1. 352860\n2. 9\n\n\n",
            "text/latex": "\\begin{enumerate*}\n\\item 352860\n\\item 9\n\\end{enumerate*}\n",
            "text/plain": [
              "[1] 352860      9"
            ]
          },
          "metadata": {}
        }
      ]
    },
    {
      "cell_type": "code",
      "source": [
        "unique(data$cohort.reference.event.condition.type)"
      ],
      "metadata": {
        "colab": {
          "base_uri": "https://localhost:8080/",
          "height": 34
        },
        "id": "kmhxC2c_cRLu",
        "outputId": "1dffc7c7-ba3c-41ec-9f8a-f24d013fcc62"
      },
      "execution_count": 157,
      "outputs": [
        {
          "output_type": "display_data",
          "data": {
            "text/html": [
              "'Diagnosis'"
            ],
            "text/markdown": "'Diagnosis'",
            "text/latex": "'Diagnosis'",
            "text/plain": [
              "[1] \"Diagnosis\""
            ]
          },
          "metadata": {}
        }
      ]
    },
    {
      "cell_type": "code",
      "source": [
        "#check the unique type in icd 10 code column\n",
        "unique(data$copy.of.cohort.reference.event.condition)"
      ],
      "metadata": {
        "colab": {
          "base_uri": "https://localhost:8080/",
          "height": 52
        },
        "id": "6zp4hgKHGT1R",
        "outputId": "d513cb9a-84a2-4e52-8eb4-afc266f1f1ce"
      },
      "execution_count": 158,
      "outputs": [
        {
          "output_type": "display_data",
          "data": {
            "text/html": [
              "<style>\n",
              ".list-inline {list-style: none; margin:0; padding: 0}\n",
              ".list-inline>li {display: inline-block}\n",
              ".list-inline>li:not(:last-child)::after {content: \"\\00b7\"; padding: 0 .5ex}\n",
              "</style>\n",
              "<ol class=list-inline><li>'censored'</li><li>'I25.10'</li><li>'I25.1'</li><li>'I24.8'</li><li>'I20.9 ; I25.118'</li><li>'I25.9'</li><li>'I24.9'</li><li>'I25.3'</li><li>'I25.119'</li><li>'I25.110'</li><li>'I25.41'</li><li>'I25.42'</li><li>'I25.5'</li><li>'I25.1 ; I25.9'</li><li>'I25.810 ; I70.90'</li><li>'I25.811 ; Z94.1'</li><li>'I20.1 ; I25.111'</li><li>'I25.82'</li><li>'I25.84'</li><li>'I25.83'</li><li>'I25.1 ; Z94.1'</li><li>'I24.9 ; I25.9'</li><li>'I25.89'</li></ol>\n"
            ],
            "text/markdown": "1. 'censored'\n2. 'I25.10'\n3. 'I25.1'\n4. 'I24.8'\n5. 'I20.9 ; I25.118'\n6. 'I25.9'\n7. 'I24.9'\n8. 'I25.3'\n9. 'I25.119'\n10. 'I25.110'\n11. 'I25.41'\n12. 'I25.42'\n13. 'I25.5'\n14. 'I25.1 ; I25.9'\n15. 'I25.810 ; I70.90'\n16. 'I25.811 ; Z94.1'\n17. 'I20.1 ; I25.111'\n18. 'I25.82'\n19. 'I25.84'\n20. 'I25.83'\n21. 'I25.1 ; Z94.1'\n22. 'I24.9 ; I25.9'\n23. 'I25.89'\n\n\n",
            "text/latex": "\\begin{enumerate*}\n\\item 'censored'\n\\item 'I25.10'\n\\item 'I25.1'\n\\item 'I24.8'\n\\item 'I20.9 ; I25.118'\n\\item 'I25.9'\n\\item 'I24.9'\n\\item 'I25.3'\n\\item 'I25.119'\n\\item 'I25.110'\n\\item 'I25.41'\n\\item 'I25.42'\n\\item 'I25.5'\n\\item 'I25.1 ; I25.9'\n\\item 'I25.810 ; I70.90'\n\\item 'I25.811 ; Z94.1'\n\\item 'I20.1 ; I25.111'\n\\item 'I25.82'\n\\item 'I25.84'\n\\item 'I25.83'\n\\item 'I25.1 ; Z94.1'\n\\item 'I24.9 ; I25.9'\n\\item 'I25.89'\n\\end{enumerate*}\n",
            "text/plain": [
              " [1] \"censored\"         \"I25.10\"           \"I25.1\"            \"I24.8\"           \n",
              " [5] \"I20.9 ; I25.118\"  \"I25.9\"            \"I24.9\"            \"I25.3\"           \n",
              " [9] \"I25.119\"          \"I25.110\"          \"I25.41\"           \"I25.42\"          \n",
              "[13] \"I25.5\"            \"I25.1 ; I25.9\"    \"I25.810 ; I70.90\" \"I25.811 ; Z94.1\" \n",
              "[17] \"I20.1 ; I25.111\"  \"I25.82\"           \"I25.84\"           \"I25.83\"          \n",
              "[21] \"I25.1 ; Z94.1\"    \"I24.9 ; I25.9\"    \"I25.89\"          "
            ]
          },
          "metadata": {}
        }
      ]
    },
    {
      "cell_type": "code",
      "source": [
        "# aggragate the data based on icd 10 code\n",
        "data$coded <- ifelse(grepl(\"I20.9 ; I25.118|I20.1 ; I25.111\", data$copy.of.cohort.reference.event.condition), \"Angina pectoris & Chronic ischaemic heart disease\",\n",
        "                         ifelse(grepl(\"I21\", data$copy.of.cohort.reference.event.condition), \"Acute myocardial infarction\",\n",
        "                                ifelse(grepl(\"I22\", data$copy.of.cohort.reference.event.condition), \"Subsequent myocardial infarction\",\n",
        "                                       ifelse(grepl(\"I23\", data$copy.of.cohort.reference.event.condition), \"Certain current complications following acute myocardial infarction\",\n",
        "                                              ifelse(grepl(\"I24\", data$copy.of.cohort.reference.event.condition), \"Other acute ischaemic heart diseases\",\n",
        "                                                     ifelse(grepl(\"I25\", data$copy.of.cohort.reference.event.condition), \"Chronic ischaemic heart disease\",\n",
        "                                                      ifelse(grepl(\"censored\", data$copy.of.cohort.reference.event.condition), \"censored\",\n",
        "                                                            NA)))))))"
      ],
      "metadata": {
        "id": "iQ-Gukq6DWrK"
      },
      "execution_count": 159,
      "outputs": []
    },
    {
      "cell_type": "code",
      "source": [
        "#check the aggregated column\n",
        "unique(data$coded)"
      ],
      "metadata": {
        "colab": {
          "base_uri": "https://localhost:8080/",
          "height": 52
        },
        "id": "UKPpGeXpIH2H",
        "outputId": "2d967b06-d689-4df5-e700-46dd3e5d475e"
      },
      "execution_count": 160,
      "outputs": [
        {
          "output_type": "display_data",
          "data": {
            "text/html": [
              "<style>\n",
              ".list-inline {list-style: none; margin:0; padding: 0}\n",
              ".list-inline>li {display: inline-block}\n",
              ".list-inline>li:not(:last-child)::after {content: \"\\00b7\"; padding: 0 .5ex}\n",
              "</style>\n",
              "<ol class=list-inline><li>'censored'</li><li>'Chronic ischaemic heart disease'</li><li>'Other acute ischaemic heart diseases'</li><li>'Angina pectoris &amp; Chronic ischaemic heart disease'</li></ol>\n"
            ],
            "text/markdown": "1. 'censored'\n2. 'Chronic ischaemic heart disease'\n3. 'Other acute ischaemic heart diseases'\n4. 'Angina pectoris &amp; Chronic ischaemic heart disease'\n\n\n",
            "text/latex": "\\begin{enumerate*}\n\\item 'censored'\n\\item 'Chronic ischaemic heart disease'\n\\item 'Other acute ischaemic heart diseases'\n\\item 'Angina pectoris \\& Chronic ischaemic heart disease'\n\\end{enumerate*}\n",
            "text/plain": [
              "[1] \"censored\"                                         \n",
              "[2] \"Chronic ischaemic heart disease\"                  \n",
              "[3] \"Other acute ischaemic heart diseases\"             \n",
              "[4] \"Angina pectoris & Chronic ischaemic heart disease\""
            ]
          },
          "metadata": {}
        }
      ]
    },
    {
      "cell_type": "code",
      "source": [],
      "metadata": {
        "id": "5-PH8dEqEbsp"
      },
      "execution_count": 161,
      "outputs": []
    },
    {
      "cell_type": "code",
      "source": [
        "Type_data <- data"
      ],
      "metadata": {
        "id": "pw-XCZliYms2"
      },
      "execution_count": 162,
      "outputs": []
    },
    {
      "cell_type": "code",
      "source": [
        "table(Type_data$coded)"
      ],
      "metadata": {
        "colab": {
          "base_uri": "https://localhost:8080/",
          "height": 178
        },
        "id": "81TugDXevDiB",
        "outputId": "f82fe03d-63a2-41c9-9802-ab2ccb8c79cc"
      },
      "execution_count": 163,
      "outputs": [
        {
          "output_type": "display_data",
          "data": {
            "text/plain": [
              "\n",
              "Angina pectoris & Chronic ischaemic heart disease \n",
              "                                             3282 \n",
              "                                         censored \n",
              "                                              473 \n",
              "                  Chronic ischaemic heart disease \n",
              "                                           338561 \n",
              "             Other acute ischaemic heart diseases \n",
              "                                            10544 "
            ]
          },
          "metadata": {}
        }
      ]
    },
    {
      "cell_type": "code",
      "source": [
        "##save the counts\n",
        "# Assuming 'type_counts' is a table\n",
        "type_counts <- table(Type_data$coded)\n",
        "\n",
        "# Add a sum row\n",
        "type_counts_with_sum <- addmargins(type_counts, FUN = list(Total = sum))\n",
        "\n",
        "# Convert the table to a data frame\n",
        "type_counts_df <- as.data.frame(type_counts_with_sum)\n",
        "\n",
        "# Save the table as a CSV file\n",
        "write.csv(type_counts_df, \"IDH_.csv\", row.names = FALSE)\n"
      ],
      "metadata": {
        "id": "2FMHEkKFTwrI"
      },
      "execution_count": 164,
      "outputs": []
    },
    {
      "cell_type": "code",
      "source": [
        "#visual the counts\n",
        "type_counts_df"
      ],
      "metadata": {
        "colab": {
          "base_uri": "https://localhost:8080/",
          "height": 255
        },
        "id": "27DlIbJzJVTz",
        "outputId": "33fb16fd-64d1-450b-af1a-fd9458334817"
      },
      "execution_count": 165,
      "outputs": [
        {
          "output_type": "display_data",
          "data": {
            "text/html": [
              "<table class=\"dataframe\">\n",
              "<caption>A data.frame: 5 × 2</caption>\n",
              "<thead>\n",
              "\t<tr><th scope=col>Var1</th><th scope=col>Freq</th></tr>\n",
              "\t<tr><th scope=col>&lt;fct&gt;</th><th scope=col>&lt;dbl&gt;</th></tr>\n",
              "</thead>\n",
              "<tbody>\n",
              "\t<tr><td>Angina pectoris &amp; Chronic ischaemic heart disease</td><td><span style=white-space:pre-wrap>  3282</span></td></tr>\n",
              "\t<tr><td>censored                                         </td><td>   473</td></tr>\n",
              "\t<tr><td>Chronic ischaemic heart disease                  </td><td>338561</td></tr>\n",
              "\t<tr><td>Other acute ischaemic heart diseases             </td><td> 10544</td></tr>\n",
              "\t<tr><td>Total                                            </td><td>352860</td></tr>\n",
              "</tbody>\n",
              "</table>\n"
            ],
            "text/markdown": "\nA data.frame: 5 × 2\n\n| Var1 &lt;fct&gt; | Freq &lt;dbl&gt; |\n|---|---|\n| Angina pectoris &amp; Chronic ischaemic heart disease |   3282 |\n| censored                                          |    473 |\n| Chronic ischaemic heart disease                   | 338561 |\n| Other acute ischaemic heart diseases              |  10544 |\n| Total                                             | 352860 |\n\n",
            "text/latex": "A data.frame: 5 × 2\n\\begin{tabular}{ll}\n Var1 & Freq\\\\\n <fct> & <dbl>\\\\\n\\hline\n\t Angina pectoris \\& Chronic ischaemic heart disease &   3282\\\\\n\t censored                                          &    473\\\\\n\t Chronic ischaemic heart disease                   & 338561\\\\\n\t Other acute ischaemic heart diseases              &  10544\\\\\n\t Total                                             & 352860\\\\\n\\end{tabular}\n",
            "text/plain": [
              "  Var1                                              Freq  \n",
              "1 Angina pectoris & Chronic ischaemic heart disease   3282\n",
              "2 censored                                             473\n",
              "3 Chronic ischaemic heart disease                   338561\n",
              "4 Other acute ischaemic heart diseases               10544\n",
              "5 Total                                             352860"
            ]
          },
          "metadata": {}
        }
      ]
    },
    {
      "cell_type": "markdown",
      "source": [
        "# DM"
      ],
      "metadata": {
        "id": "Gcbm-5ShJft8"
      }
    },
    {
      "cell_type": "code",
      "source": [
        "#load the data\n",
        "data <- read.csv(\"/content/DM.csv\")"
      ],
      "metadata": {
        "id": "VMYxXToGJfuL"
      },
      "execution_count": 166,
      "outputs": []
    },
    {
      "cell_type": "code",
      "source": [
        "#check the data\n",
        "head(data)"
      ],
      "metadata": {
        "colab": {
          "base_uri": "https://localhost:8080/",
          "height": 723
        },
        "outputId": "aada99a2-0c5d-464d-fae2-443343ec19b1",
        "id": "Yb4lj8NHJfuL"
      },
      "execution_count": 167,
      "outputs": [
        {
          "output_type": "display_data",
          "data": {
            "text/html": [
              "<table class=\"dataframe\">\n",
              "<caption>A data.frame: 6 × 9</caption>\n",
              "<thead>\n",
              "\t<tr><th></th><th scope=col>date.of.birth</th><th scope=col>gender.at.birth</th><th scope=col>ethnicity</th><th scope=col>race...primary</th><th scope=col>cohort.reference.event.age.at.event</th><th scope=col>cohort.reference.event.condition</th><th scope=col>copy.of.cohort.reference.event.condition</th><th scope=col>cohort.reference.event.problem.onset.date.time</th><th scope=col>cohort.reference.event.condition.type</th></tr>\n",
              "\t<tr><th></th><th scope=col>&lt;int&gt;</th><th scope=col>&lt;chr&gt;</th><th scope=col>&lt;chr&gt;</th><th scope=col>&lt;chr&gt;</th><th scope=col>&lt;dbl&gt;</th><th scope=col>&lt;chr&gt;</th><th scope=col>&lt;chr&gt;</th><th scope=col>&lt;chr&gt;</th><th scope=col>&lt;chr&gt;</th></tr>\n",
              "</thead>\n",
              "<tbody>\n",
              "\t<tr><th scope=row>1</th><td>1964</td><td>FEMALE</td><td>Ethnic group not given - patient refused</td><td>American Indian or Alaska Native</td><td>52.18816</td><td>censored</td><td>censored</td><td>2016-08-26 02:49:55</td><td>Diagnosis</td></tr>\n",
              "\t<tr><th scope=row>2</th><td>1987</td><td>FEMALE</td><td>Ethnic group not given - patient refused</td><td>American Indian or Alaska Native</td><td>29.54861</td><td>censored</td><td>censored</td><td>2017-11-06 14:35:03</td><td>Diagnosis</td></tr>\n",
              "\t<tr><th scope=row>3</th><td>1960</td><td>FEMALE</td><td>Ethnic group not given - patient refused</td><td>American Indian or Alaska Native</td><td>60.90834</td><td>censored</td><td>censored</td><td>2020-11-08 23:59:59</td><td>Diagnosis</td></tr>\n",
              "\t<tr><th scope=row>4</th><td>1950</td><td>FEMALE</td><td>Ethnic group not given - patient refused</td><td>American Indian or Alaska Native</td><td>69.79480</td><td>censored</td><td>censored</td><td>2019-09-04 23:59:59</td><td>Diagnosis</td></tr>\n",
              "\t<tr><th scope=row>5</th><td>1977</td><td>FEMALE</td><td>Ethnic group not given - patient refused</td><td>American Indian or Alaska Native</td><td>44.79891</td><td>censored</td><td>censored</td><td>2021-09-09 23:59:59</td><td>Diagnosis</td></tr>\n",
              "\t<tr><th scope=row>6</th><td>1943</td><td>FEMALE</td><td>Ethnic group not given - patient refused</td><td>American Indian or Alaska Native</td><td>76.93570</td><td>censored</td><td>censored</td><td>2020-07-05 23:59:59</td><td>Diagnosis</td></tr>\n",
              "</tbody>\n",
              "</table>\n"
            ],
            "text/markdown": "\nA data.frame: 6 × 9\n\n| <!--/--> | date.of.birth &lt;int&gt; | gender.at.birth &lt;chr&gt; | ethnicity &lt;chr&gt; | race...primary &lt;chr&gt; | cohort.reference.event.age.at.event &lt;dbl&gt; | cohort.reference.event.condition &lt;chr&gt; | copy.of.cohort.reference.event.condition &lt;chr&gt; | cohort.reference.event.problem.onset.date.time &lt;chr&gt; | cohort.reference.event.condition.type &lt;chr&gt; |\n|---|---|---|---|---|---|---|---|---|---|\n| 1 | 1964 | FEMALE | Ethnic group not given - patient refused | American Indian or Alaska Native | 52.18816 | censored | censored | 2016-08-26 02:49:55 | Diagnosis |\n| 2 | 1987 | FEMALE | Ethnic group not given - patient refused | American Indian or Alaska Native | 29.54861 | censored | censored | 2017-11-06 14:35:03 | Diagnosis |\n| 3 | 1960 | FEMALE | Ethnic group not given - patient refused | American Indian or Alaska Native | 60.90834 | censored | censored | 2020-11-08 23:59:59 | Diagnosis |\n| 4 | 1950 | FEMALE | Ethnic group not given - patient refused | American Indian or Alaska Native | 69.79480 | censored | censored | 2019-09-04 23:59:59 | Diagnosis |\n| 5 | 1977 | FEMALE | Ethnic group not given - patient refused | American Indian or Alaska Native | 44.79891 | censored | censored | 2021-09-09 23:59:59 | Diagnosis |\n| 6 | 1943 | FEMALE | Ethnic group not given - patient refused | American Indian or Alaska Native | 76.93570 | censored | censored | 2020-07-05 23:59:59 | Diagnosis |\n\n",
            "text/latex": "A data.frame: 6 × 9\n\\begin{tabular}{r|lllllllll}\n  & date.of.birth & gender.at.birth & ethnicity & race...primary & cohort.reference.event.age.at.event & cohort.reference.event.condition & copy.of.cohort.reference.event.condition & cohort.reference.event.problem.onset.date.time & cohort.reference.event.condition.type\\\\\n  & <int> & <chr> & <chr> & <chr> & <dbl> & <chr> & <chr> & <chr> & <chr>\\\\\n\\hline\n\t1 & 1964 & FEMALE & Ethnic group not given - patient refused & American Indian or Alaska Native & 52.18816 & censored & censored & 2016-08-26 02:49:55 & Diagnosis\\\\\n\t2 & 1987 & FEMALE & Ethnic group not given - patient refused & American Indian or Alaska Native & 29.54861 & censored & censored & 2017-11-06 14:35:03 & Diagnosis\\\\\n\t3 & 1960 & FEMALE & Ethnic group not given - patient refused & American Indian or Alaska Native & 60.90834 & censored & censored & 2020-11-08 23:59:59 & Diagnosis\\\\\n\t4 & 1950 & FEMALE & Ethnic group not given - patient refused & American Indian or Alaska Native & 69.79480 & censored & censored & 2019-09-04 23:59:59 & Diagnosis\\\\\n\t5 & 1977 & FEMALE & Ethnic group not given - patient refused & American Indian or Alaska Native & 44.79891 & censored & censored & 2021-09-09 23:59:59 & Diagnosis\\\\\n\t6 & 1943 & FEMALE & Ethnic group not given - patient refused & American Indian or Alaska Native & 76.93570 & censored & censored & 2020-07-05 23:59:59 & Diagnosis\\\\\n\\end{tabular}\n",
            "text/plain": [
              "  date.of.birth gender.at.birth ethnicity                               \n",
              "1 1964          FEMALE          Ethnic group not given - patient refused\n",
              "2 1987          FEMALE          Ethnic group not given - patient refused\n",
              "3 1960          FEMALE          Ethnic group not given - patient refused\n",
              "4 1950          FEMALE          Ethnic group not given - patient refused\n",
              "5 1977          FEMALE          Ethnic group not given - patient refused\n",
              "6 1943          FEMALE          Ethnic group not given - patient refused\n",
              "  race...primary                   cohort.reference.event.age.at.event\n",
              "1 American Indian or Alaska Native 52.18816                           \n",
              "2 American Indian or Alaska Native 29.54861                           \n",
              "3 American Indian or Alaska Native 60.90834                           \n",
              "4 American Indian or Alaska Native 69.79480                           \n",
              "5 American Indian or Alaska Native 44.79891                           \n",
              "6 American Indian or Alaska Native 76.93570                           \n",
              "  cohort.reference.event.condition copy.of.cohort.reference.event.condition\n",
              "1 censored                         censored                                \n",
              "2 censored                         censored                                \n",
              "3 censored                         censored                                \n",
              "4 censored                         censored                                \n",
              "5 censored                         censored                                \n",
              "6 censored                         censored                                \n",
              "  cohort.reference.event.problem.onset.date.time\n",
              "1 2016-08-26 02:49:55                           \n",
              "2 2017-11-06 14:35:03                           \n",
              "3 2020-11-08 23:59:59                           \n",
              "4 2019-09-04 23:59:59                           \n",
              "5 2021-09-09 23:59:59                           \n",
              "6 2020-07-05 23:59:59                           \n",
              "  cohort.reference.event.condition.type\n",
              "1 Diagnosis                            \n",
              "2 Diagnosis                            \n",
              "3 Diagnosis                            \n",
              "4 Diagnosis                            \n",
              "5 Diagnosis                            \n",
              "6 Diagnosis                            "
            ]
          },
          "metadata": {}
        }
      ]
    },
    {
      "cell_type": "code",
      "source": [
        "#check the dimention of the data\n",
        "dim(data)"
      ],
      "metadata": {
        "colab": {
          "base_uri": "https://localhost:8080/",
          "height": 34
        },
        "outputId": "2606b059-f1eb-44c9-f62e-3693c9670557",
        "id": "9G-EvS6qJfuL"
      },
      "execution_count": 168,
      "outputs": [
        {
          "output_type": "display_data",
          "data": {
            "text/html": [
              "<style>\n",
              ".list-inline {list-style: none; margin:0; padding: 0}\n",
              ".list-inline>li {display: inline-block}\n",
              ".list-inline>li:not(:last-child)::after {content: \"\\00b7\"; padding: 0 .5ex}\n",
              "</style>\n",
              "<ol class=list-inline><li>427900</li><li>9</li></ol>\n"
            ],
            "text/markdown": "1. 427900\n2. 9\n\n\n",
            "text/latex": "\\begin{enumerate*}\n\\item 427900\n\\item 9\n\\end{enumerate*}\n",
            "text/plain": [
              "[1] 427900      9"
            ]
          },
          "metadata": {}
        }
      ]
    },
    {
      "cell_type": "code",
      "source": [
        "unique(data$cohort.reference.event.condition.type)"
      ],
      "metadata": {
        "colab": {
          "base_uri": "https://localhost:8080/",
          "height": 34
        },
        "id": "fg23boiecV1y",
        "outputId": "5b917b21-54a0-4118-f109-43ba5ca012bd"
      },
      "execution_count": 169,
      "outputs": [
        {
          "output_type": "display_data",
          "data": {
            "text/html": [
              "'Diagnosis'"
            ],
            "text/markdown": "'Diagnosis'",
            "text/latex": "'Diagnosis'",
            "text/plain": [
              "[1] \"Diagnosis\""
            ]
          },
          "metadata": {}
        }
      ]
    },
    {
      "cell_type": "code",
      "source": [
        "#check the unique type in icd 10 code column\n",
        "unique(data$copy.of.cohort.reference.event.condition)"
      ],
      "metadata": {
        "colab": {
          "base_uri": "https://localhost:8080/",
          "height": 295
        },
        "outputId": "8a1c25a8-200f-4fe7-ff97-92fd768df1b4",
        "id": "tCaSu0FHJfuM"
      },
      "execution_count": 170,
      "outputs": [
        {
          "output_type": "display_data",
          "data": {
            "text/html": [
              "<style>\n",
              ".list-inline {list-style: none; margin:0; padding: 0}\n",
              ".list-inline>li {display: inline-block}\n",
              ".list-inline>li:not(:last-child)::after {content: \"\\00b7\"; padding: 0 .5ex}\n",
              "</style>\n",
              "<ol class=list-inline><li>'censored'</li><li>'E11.9'</li><li>'E11.69'</li><li>'E11.22 ; N18.9'</li><li>'E11.65'</li><li>'E10.9 ; T63.001'</li><li>'E11.40'</li><li>'E11.42'</li><li>'E11.621'</li><li>'E11.21'</li><li>'E11.8 ; O24.92 ; O26.90 ; O90.9 ; P70.1'</li><li>'E10.65'</li><li>'E11.649'</li><li>'E11.8'</li><li>'E11.39'</li><li>'E11'</li><li>'E11.65 ; E11.8'</li><li>'E11.9 ; E13.9'</li><li>'E11 ; O24.12'</li><li>'E10.22 ; N18.9'</li><li>'E10.10 ; E87.2'</li><li>'E11.36'</li><li>'E11.51'</li><li>'E11.10'</li><li>'E11.59'</li><li>'E11.628'</li><li>'E11.622 ; L98.499'</li><li>'E11 ; O24.912 ; Z34.92'</li><li>'E11 ; O24.913 ; Z33.1'</li><li>'E11 ; O24.919 ; Z33'</li><li>'E11.32'</li><li>'E11.8 ; O24.92 ; O24.93 ; O26.90 ; O90.9 ; P70.1'</li><li>'E11.8 ; O24.92 ; O90.9'</li><li>'E10.1 ; E87.2'</li><li>'E11.1'</li><li>'E10.40'</li><li>'E10.39'</li><li>'E10'</li><li>'E11.5'</li><li>'E10.21'</li><li>'E10 ; E11.8'</li><li>'E10.65 ; E11.8'</li><li>'E11 ; E13.22 ; N18.9 ; N19'</li><li>'E11.65 ; E13.65'</li><li>'E11.8 ; E13.69'</li><li>'E11.8 ; E13.8'</li><li>'E11 ; O24.13 ; Z39.2'</li><li>'E10.43'</li><li>'E10.40 ; E11.40'</li><li>'E10.42'</li><li>'E10.649'</li><li>'E10.11'</li><li>'E10.69'</li><li>'E10.8'</li><li>'E11.43'</li><li>'E11.620'</li><li>'E11.41'</li><li>'E11.52'</li><li>'E11.01'</li><li>'E11.00'</li><li>'E11.11'</li><li>'E11.3213 ; H35.81'</li><li>'E11.3212 ; H35.81'</li><li>'E11.3293'</li><li>'E11.3291'</li><li>'E11.3299'</li><li>'E11.3313 ; H35.81'</li><li>'E11.3393'</li><li>'E11.29'</li><li>'E11.49'</li><li>'E11.3513 ; H35.81'</li><li>'E11.3523 ; H33.40 ; H35.00'</li><li>'E11.3593'</li><li>'E11.3599'</li><li>'E11.3413 ; H35.81'</li><li>'E11.3553 ; H35.00'</li><li>'E11.311'</li><li>'E11.319'</li><li>'E11 ; O24.911 ; Z33.1'</li><li>'E10.5'</li><li>'E11.40 ; E13.40'</li><li>'E13.00'</li><li>'E11.64 ; E13.649'</li><li>'E11.40 ; E13.49'</li><li>'E10 ; O24.02'</li><li>'E10.36'</li><li>'E10.21 ; E11.21'</li><li>'E10.51 ; E11.5'</li><li>'E10.621 ; L97.509'</li><li>'E10.3293 ; E11.32'</li><li>'E10.59'</li><li>'E10.29 ; E11.8'</li><li>'E10.39 ; E11.8'</li><li>'E10.622 ; L98.499'</li><li>'E10.3513 ; H35.81'</li><li>'E10.3593'</li><li>'E10.319 ; E11.31'</li><li>'E11.44'</li><li>'E11.610'</li><li>'E11.641'</li><li>'E11.3292'</li><li>'E11.3311 ; H35.81'</li><li>'E11.618'</li><li>'E11.3512 ; H35.81'</li><li>'E11.359'</li><li>'E11.3592'</li><li>'E11.3591'</li><li>'E11 ; O24.93 ; Z39.2'</li><li>'E10 ; E11.49'</li><li>'E10.65 ; E11.49'</li><li>'E11.49 ; E11.65'</li><li>'E11.21 ; E13'</li><li>'E11.8 ; E13.29'</li><li>'E10.52 ; E11.5'</li><li>'E10.641'</li><li>'E10.49 ; E11.40'</li><li>'E10.3592'</li><li>'E10.3553'</li><li>'E11.638'</li><li>'E11.3511 ; H35.81'</li><li>'E11.3521 ; H33.40'</li><li>'E11.3532 ; H33.40'</li><li>'E11.3411 ; H35.81'</li><li>'E11.3493'</li></ol>\n"
            ],
            "text/markdown": "1. 'censored'\n2. 'E11.9'\n3. 'E11.69'\n4. 'E11.22 ; N18.9'\n5. 'E11.65'\n6. 'E10.9 ; T63.001'\n7. 'E11.40'\n8. 'E11.42'\n9. 'E11.621'\n10. 'E11.21'\n11. 'E11.8 ; O24.92 ; O26.90 ; O90.9 ; P70.1'\n12. 'E10.65'\n13. 'E11.649'\n14. 'E11.8'\n15. 'E11.39'\n16. 'E11'\n17. 'E11.65 ; E11.8'\n18. 'E11.9 ; E13.9'\n19. 'E11 ; O24.12'\n20. 'E10.22 ; N18.9'\n21. 'E10.10 ; E87.2'\n22. 'E11.36'\n23. 'E11.51'\n24. 'E11.10'\n25. 'E11.59'\n26. 'E11.628'\n27. 'E11.622 ; L98.499'\n28. 'E11 ; O24.912 ; Z34.92'\n29. 'E11 ; O24.913 ; Z33.1'\n30. 'E11 ; O24.919 ; Z33'\n31. 'E11.32'\n32. 'E11.8 ; O24.92 ; O24.93 ; O26.90 ; O90.9 ; P70.1'\n33. 'E11.8 ; O24.92 ; O90.9'\n34. 'E10.1 ; E87.2'\n35. 'E11.1'\n36. 'E10.40'\n37. 'E10.39'\n38. 'E10'\n39. 'E11.5'\n40. 'E10.21'\n41. 'E10 ; E11.8'\n42. 'E10.65 ; E11.8'\n43. 'E11 ; E13.22 ; N18.9 ; N19'\n44. 'E11.65 ; E13.65'\n45. 'E11.8 ; E13.69'\n46. 'E11.8 ; E13.8'\n47. 'E11 ; O24.13 ; Z39.2'\n48. 'E10.43'\n49. 'E10.40 ; E11.40'\n50. 'E10.42'\n51. 'E10.649'\n52. 'E10.11'\n53. 'E10.69'\n54. 'E10.8'\n55. 'E11.43'\n56. 'E11.620'\n57. 'E11.41'\n58. 'E11.52'\n59. 'E11.01'\n60. 'E11.00'\n61. 'E11.11'\n62. 'E11.3213 ; H35.81'\n63. 'E11.3212 ; H35.81'\n64. 'E11.3293'\n65. 'E11.3291'\n66. 'E11.3299'\n67. 'E11.3313 ; H35.81'\n68. 'E11.3393'\n69. 'E11.29'\n70. 'E11.49'\n71. 'E11.3513 ; H35.81'\n72. 'E11.3523 ; H33.40 ; H35.00'\n73. 'E11.3593'\n74. 'E11.3599'\n75. 'E11.3413 ; H35.81'\n76. 'E11.3553 ; H35.00'\n77. 'E11.311'\n78. 'E11.319'\n79. 'E11 ; O24.911 ; Z33.1'\n80. 'E10.5'\n81. 'E11.40 ; E13.40'\n82. 'E13.00'\n83. 'E11.64 ; E13.649'\n84. 'E11.40 ; E13.49'\n85. 'E10 ; O24.02'\n86. 'E10.36'\n87. 'E10.21 ; E11.21'\n88. 'E10.51 ; E11.5'\n89. 'E10.621 ; L97.509'\n90. 'E10.3293 ; E11.32'\n91. 'E10.59'\n92. 'E10.29 ; E11.8'\n93. 'E10.39 ; E11.8'\n94. 'E10.622 ; L98.499'\n95. 'E10.3513 ; H35.81'\n96. 'E10.3593'\n97. 'E10.319 ; E11.31'\n98. 'E11.44'\n99. 'E11.610'\n100. 'E11.641'\n101. 'E11.3292'\n102. 'E11.3311 ; H35.81'\n103. 'E11.618'\n104. 'E11.3512 ; H35.81'\n105. 'E11.359'\n106. 'E11.3592'\n107. 'E11.3591'\n108. 'E11 ; O24.93 ; Z39.2'\n109. 'E10 ; E11.49'\n110. 'E10.65 ; E11.49'\n111. 'E11.49 ; E11.65'\n112. 'E11.21 ; E13'\n113. 'E11.8 ; E13.29'\n114. 'E10.52 ; E11.5'\n115. 'E10.641'\n116. 'E10.49 ; E11.40'\n117. 'E10.3592'\n118. 'E10.3553'\n119. 'E11.638'\n120. 'E11.3511 ; H35.81'\n121. 'E11.3521 ; H33.40'\n122. 'E11.3532 ; H33.40'\n123. 'E11.3411 ; H35.81'\n124. 'E11.3493'\n\n\n",
            "text/latex": "\\begin{enumerate*}\n\\item 'censored'\n\\item 'E11.9'\n\\item 'E11.69'\n\\item 'E11.22 ; N18.9'\n\\item 'E11.65'\n\\item 'E10.9 ; T63.001'\n\\item 'E11.40'\n\\item 'E11.42'\n\\item 'E11.621'\n\\item 'E11.21'\n\\item 'E11.8 ; O24.92 ; O26.90 ; O90.9 ; P70.1'\n\\item 'E10.65'\n\\item 'E11.649'\n\\item 'E11.8'\n\\item 'E11.39'\n\\item 'E11'\n\\item 'E11.65 ; E11.8'\n\\item 'E11.9 ; E13.9'\n\\item 'E11 ; O24.12'\n\\item 'E10.22 ; N18.9'\n\\item 'E10.10 ; E87.2'\n\\item 'E11.36'\n\\item 'E11.51'\n\\item 'E11.10'\n\\item 'E11.59'\n\\item 'E11.628'\n\\item 'E11.622 ; L98.499'\n\\item 'E11 ; O24.912 ; Z34.92'\n\\item 'E11 ; O24.913 ; Z33.1'\n\\item 'E11 ; O24.919 ; Z33'\n\\item 'E11.32'\n\\item 'E11.8 ; O24.92 ; O24.93 ; O26.90 ; O90.9 ; P70.1'\n\\item 'E11.8 ; O24.92 ; O90.9'\n\\item 'E10.1 ; E87.2'\n\\item 'E11.1'\n\\item 'E10.40'\n\\item 'E10.39'\n\\item 'E10'\n\\item 'E11.5'\n\\item 'E10.21'\n\\item 'E10 ; E11.8'\n\\item 'E10.65 ; E11.8'\n\\item 'E11 ; E13.22 ; N18.9 ; N19'\n\\item 'E11.65 ; E13.65'\n\\item 'E11.8 ; E13.69'\n\\item 'E11.8 ; E13.8'\n\\item 'E11 ; O24.13 ; Z39.2'\n\\item 'E10.43'\n\\item 'E10.40 ; E11.40'\n\\item 'E10.42'\n\\item 'E10.649'\n\\item 'E10.11'\n\\item 'E10.69'\n\\item 'E10.8'\n\\item 'E11.43'\n\\item 'E11.620'\n\\item 'E11.41'\n\\item 'E11.52'\n\\item 'E11.01'\n\\item 'E11.00'\n\\item 'E11.11'\n\\item 'E11.3213 ; H35.81'\n\\item 'E11.3212 ; H35.81'\n\\item 'E11.3293'\n\\item 'E11.3291'\n\\item 'E11.3299'\n\\item 'E11.3313 ; H35.81'\n\\item 'E11.3393'\n\\item 'E11.29'\n\\item 'E11.49'\n\\item 'E11.3513 ; H35.81'\n\\item 'E11.3523 ; H33.40 ; H35.00'\n\\item 'E11.3593'\n\\item 'E11.3599'\n\\item 'E11.3413 ; H35.81'\n\\item 'E11.3553 ; H35.00'\n\\item 'E11.311'\n\\item 'E11.319'\n\\item 'E11 ; O24.911 ; Z33.1'\n\\item 'E10.5'\n\\item 'E11.40 ; E13.40'\n\\item 'E13.00'\n\\item 'E11.64 ; E13.649'\n\\item 'E11.40 ; E13.49'\n\\item 'E10 ; O24.02'\n\\item 'E10.36'\n\\item 'E10.21 ; E11.21'\n\\item 'E10.51 ; E11.5'\n\\item 'E10.621 ; L97.509'\n\\item 'E10.3293 ; E11.32'\n\\item 'E10.59'\n\\item 'E10.29 ; E11.8'\n\\item 'E10.39 ; E11.8'\n\\item 'E10.622 ; L98.499'\n\\item 'E10.3513 ; H35.81'\n\\item 'E10.3593'\n\\item 'E10.319 ; E11.31'\n\\item 'E11.44'\n\\item 'E11.610'\n\\item 'E11.641'\n\\item 'E11.3292'\n\\item 'E11.3311 ; H35.81'\n\\item 'E11.618'\n\\item 'E11.3512 ; H35.81'\n\\item 'E11.359'\n\\item 'E11.3592'\n\\item 'E11.3591'\n\\item 'E11 ; O24.93 ; Z39.2'\n\\item 'E10 ; E11.49'\n\\item 'E10.65 ; E11.49'\n\\item 'E11.49 ; E11.65'\n\\item 'E11.21 ; E13'\n\\item 'E11.8 ; E13.29'\n\\item 'E10.52 ; E11.5'\n\\item 'E10.641'\n\\item 'E10.49 ; E11.40'\n\\item 'E10.3592'\n\\item 'E10.3553'\n\\item 'E11.638'\n\\item 'E11.3511 ; H35.81'\n\\item 'E11.3521 ; H33.40'\n\\item 'E11.3532 ; H33.40'\n\\item 'E11.3411 ; H35.81'\n\\item 'E11.3493'\n\\end{enumerate*}\n",
            "text/plain": [
              "  [1] \"censored\"                                        \n",
              "  [2] \"E11.9\"                                           \n",
              "  [3] \"E11.69\"                                          \n",
              "  [4] \"E11.22 ; N18.9\"                                  \n",
              "  [5] \"E11.65\"                                          \n",
              "  [6] \"E10.9 ; T63.001\"                                 \n",
              "  [7] \"E11.40\"                                          \n",
              "  [8] \"E11.42\"                                          \n",
              "  [9] \"E11.621\"                                         \n",
              " [10] \"E11.21\"                                          \n",
              " [11] \"E11.8 ; O24.92 ; O26.90 ; O90.9 ; P70.1\"         \n",
              " [12] \"E10.65\"                                          \n",
              " [13] \"E11.649\"                                         \n",
              " [14] \"E11.8\"                                           \n",
              " [15] \"E11.39\"                                          \n",
              " [16] \"E11\"                                             \n",
              " [17] \"E11.65 ; E11.8\"                                  \n",
              " [18] \"E11.9 ; E13.9\"                                   \n",
              " [19] \"E11 ; O24.12\"                                    \n",
              " [20] \"E10.22 ; N18.9\"                                  \n",
              " [21] \"E10.10 ; E87.2\"                                  \n",
              " [22] \"E11.36\"                                          \n",
              " [23] \"E11.51\"                                          \n",
              " [24] \"E11.10\"                                          \n",
              " [25] \"E11.59\"                                          \n",
              " [26] \"E11.628\"                                         \n",
              " [27] \"E11.622 ; L98.499\"                               \n",
              " [28] \"E11 ; O24.912 ; Z34.92\"                          \n",
              " [29] \"E11 ; O24.913 ; Z33.1\"                           \n",
              " [30] \"E11 ; O24.919 ; Z33\"                             \n",
              " [31] \"E11.32\"                                          \n",
              " [32] \"E11.8 ; O24.92 ; O24.93 ; O26.90 ; O90.9 ; P70.1\"\n",
              " [33] \"E11.8 ; O24.92 ; O90.9\"                          \n",
              " [34] \"E10.1 ; E87.2\"                                   \n",
              " [35] \"E11.1\"                                           \n",
              " [36] \"E10.40\"                                          \n",
              " [37] \"E10.39\"                                          \n",
              " [38] \"E10\"                                             \n",
              " [39] \"E11.5\"                                           \n",
              " [40] \"E10.21\"                                          \n",
              " [41] \"E10 ; E11.8\"                                     \n",
              " [42] \"E10.65 ; E11.8\"                                  \n",
              " [43] \"E11 ; E13.22 ; N18.9 ; N19\"                      \n",
              " [44] \"E11.65 ; E13.65\"                                 \n",
              " [45] \"E11.8 ; E13.69\"                                  \n",
              " [46] \"E11.8 ; E13.8\"                                   \n",
              " [47] \"E11 ; O24.13 ; Z39.2\"                            \n",
              " [48] \"E10.43\"                                          \n",
              " [49] \"E10.40 ; E11.40\"                                 \n",
              " [50] \"E10.42\"                                          \n",
              " [51] \"E10.649\"                                         \n",
              " [52] \"E10.11\"                                          \n",
              " [53] \"E10.69\"                                          \n",
              " [54] \"E10.8\"                                           \n",
              " [55] \"E11.43\"                                          \n",
              " [56] \"E11.620\"                                         \n",
              " [57] \"E11.41\"                                          \n",
              " [58] \"E11.52\"                                          \n",
              " [59] \"E11.01\"                                          \n",
              " [60] \"E11.00\"                                          \n",
              " [61] \"E11.11\"                                          \n",
              " [62] \"E11.3213 ; H35.81\"                               \n",
              " [63] \"E11.3212 ; H35.81\"                               \n",
              " [64] \"E11.3293\"                                        \n",
              " [65] \"E11.3291\"                                        \n",
              " [66] \"E11.3299\"                                        \n",
              " [67] \"E11.3313 ; H35.81\"                               \n",
              " [68] \"E11.3393\"                                        \n",
              " [69] \"E11.29\"                                          \n",
              " [70] \"E11.49\"                                          \n",
              " [71] \"E11.3513 ; H35.81\"                               \n",
              " [72] \"E11.3523 ; H33.40 ; H35.00\"                      \n",
              " [73] \"E11.3593\"                                        \n",
              " [74] \"E11.3599\"                                        \n",
              " [75] \"E11.3413 ; H35.81\"                               \n",
              " [76] \"E11.3553 ; H35.00\"                               \n",
              " [77] \"E11.311\"                                         \n",
              " [78] \"E11.319\"                                         \n",
              " [79] \"E11 ; O24.911 ; Z33.1\"                           \n",
              " [80] \"E10.5\"                                           \n",
              " [81] \"E11.40 ; E13.40\"                                 \n",
              " [82] \"E13.00\"                                          \n",
              " [83] \"E11.64 ; E13.649\"                                \n",
              " [84] \"E11.40 ; E13.49\"                                 \n",
              " [85] \"E10 ; O24.02\"                                    \n",
              " [86] \"E10.36\"                                          \n",
              " [87] \"E10.21 ; E11.21\"                                 \n",
              " [88] \"E10.51 ; E11.5\"                                  \n",
              " [89] \"E10.621 ; L97.509\"                               \n",
              " [90] \"E10.3293 ; E11.32\"                               \n",
              " [91] \"E10.59\"                                          \n",
              " [92] \"E10.29 ; E11.8\"                                  \n",
              " [93] \"E10.39 ; E11.8\"                                  \n",
              " [94] \"E10.622 ; L98.499\"                               \n",
              " [95] \"E10.3513 ; H35.81\"                               \n",
              " [96] \"E10.3593\"                                        \n",
              " [97] \"E10.319 ; E11.31\"                                \n",
              " [98] \"E11.44\"                                          \n",
              " [99] \"E11.610\"                                         \n",
              "[100] \"E11.641\"                                         \n",
              "[101] \"E11.3292\"                                        \n",
              "[102] \"E11.3311 ; H35.81\"                               \n",
              "[103] \"E11.618\"                                         \n",
              "[104] \"E11.3512 ; H35.81\"                               \n",
              "[105] \"E11.359\"                                         \n",
              "[106] \"E11.3592\"                                        \n",
              "[107] \"E11.3591\"                                        \n",
              "[108] \"E11 ; O24.93 ; Z39.2\"                            \n",
              "[109] \"E10 ; E11.49\"                                    \n",
              "[110] \"E10.65 ; E11.49\"                                 \n",
              "[111] \"E11.49 ; E11.65\"                                 \n",
              "[112] \"E11.21 ; E13\"                                    \n",
              "[113] \"E11.8 ; E13.29\"                                  \n",
              "[114] \"E10.52 ; E11.5\"                                  \n",
              "[115] \"E10.641\"                                         \n",
              "[116] \"E10.49 ; E11.40\"                                 \n",
              "[117] \"E10.3592\"                                        \n",
              "[118] \"E10.3553\"                                        \n",
              "[119] \"E11.638\"                                         \n",
              "[120] \"E11.3511 ; H35.81\"                               \n",
              "[121] \"E11.3521 ; H33.40\"                               \n",
              "[122] \"E11.3532 ; H33.40\"                               \n",
              "[123] \"E11.3411 ; H35.81\"                               \n",
              "[124] \"E11.3493\"                                        "
            ]
          },
          "metadata": {}
        }
      ]
    },
    {
      "cell_type": "code",
      "source": [
        "# aggragate the data based on icd 10 code\n",
        "data$coded <- ifelse(grepl(\"E10.40 ; E11.40|E10.21 ; E11.21|E10.51 ; E11.5|E10.29 ; E11.8|E10.39 ; E11.8|E10.3293 ; E11.32|E10.319 ; E11.31|E10 ; E11.49|E10.65 ; E11.49|E10.49 ; E11.40|E10.52 ; E11.5|E10 ; E11.8|E10.65 ; E11.8\", data$copy.of.cohort.reference.event.condition), \"Type 1 and Type 2 diabetes mellitus\",\n",
        "                                ifelse(grepl(\"E11.9|E11.69|E11.649|E11.8|E11.39|E11|E11.40|E11.42|E11.621|E11.21|E11.36|E11.51|E11.10|E11.59|E11.628|E11.32|E11.43|E11.620|E11.41|E11.52|E11.01|E11.00|E11.11|E11.3291|E11.3299|E11.65\", data$copy.of.cohort.reference.event.condition), \"Type 2 diabetes mellitus\",\n",
        "                                              ifelse(grepl(\"E10.40|E10.39|E10|E10.43|E10.42|E10.649|E10.11|E10.69|E10.8|E10.5|E10.21|E10.36|E10.59|E10.3593|E10.3592|E10.3553|E10.641|E10.65\", data$copy.of.cohort.reference.event.condition), \"Type 1 diabetes mellitus\",\n",
        "                                                      ifelse(grepl(\"censored\", data$copy.of.cohort.reference.event.condition), \"censored\",\n",
        "                                                            NA))))"
      ],
      "metadata": {
        "id": "0eDAbRD0VkIg"
      },
      "execution_count": 171,
      "outputs": []
    },
    {
      "cell_type": "code",
      "source": [
        "#check the aggregated column\n",
        "unique(data$coded)"
      ],
      "metadata": {
        "colab": {
          "base_uri": "https://localhost:8080/",
          "height": 34
        },
        "outputId": "167f184a-a4fa-47c0-f582-2b3e489c1b17",
        "id": "1hvRB9W-JfuM"
      },
      "execution_count": 172,
      "outputs": [
        {
          "output_type": "display_data",
          "data": {
            "text/html": [
              "<style>\n",
              ".list-inline {list-style: none; margin:0; padding: 0}\n",
              ".list-inline>li {display: inline-block}\n",
              ".list-inline>li:not(:last-child)::after {content: \"\\00b7\"; padding: 0 .5ex}\n",
              "</style>\n",
              "<ol class=list-inline><li>'censored'</li><li>'Type 2 diabetes mellitus'</li><li>'Type 1 diabetes mellitus'</li><li>'Type 1 and Type 2 diabetes mellitus'</li><li>NA</li></ol>\n"
            ],
            "text/markdown": "1. 'censored'\n2. 'Type 2 diabetes mellitus'\n3. 'Type 1 diabetes mellitus'\n4. 'Type 1 and Type 2 diabetes mellitus'\n5. NA\n\n\n",
            "text/latex": "\\begin{enumerate*}\n\\item 'censored'\n\\item 'Type 2 diabetes mellitus'\n\\item 'Type 1 diabetes mellitus'\n\\item 'Type 1 and Type 2 diabetes mellitus'\n\\item NA\n\\end{enumerate*}\n",
            "text/plain": [
              "[1] \"censored\"                            \"Type 2 diabetes mellitus\"           \n",
              "[3] \"Type 1 diabetes mellitus\"            \"Type 1 and Type 2 diabetes mellitus\"\n",
              "[5] NA                                   "
            ]
          },
          "metadata": {}
        }
      ]
    },
    {
      "cell_type": "code",
      "source": [
        "data[is.na(data$coded), ]"
      ],
      "metadata": {
        "colab": {
          "base_uri": "https://localhost:8080/",
          "height": 619
        },
        "id": "OejT0nbtJfuM",
        "outputId": "bb17addc-8ce6-47fc-da6a-47dc2e80f815"
      },
      "execution_count": 173,
      "outputs": [
        {
          "output_type": "display_data",
          "data": {
            "text/html": [
              "<table class=\"dataframe\">\n",
              "<caption>A data.frame: 6 × 10</caption>\n",
              "<thead>\n",
              "\t<tr><th></th><th scope=col>date.of.birth</th><th scope=col>gender.at.birth</th><th scope=col>ethnicity</th><th scope=col>race...primary</th><th scope=col>cohort.reference.event.age.at.event</th><th scope=col>cohort.reference.event.condition</th><th scope=col>copy.of.cohort.reference.event.condition</th><th scope=col>cohort.reference.event.problem.onset.date.time</th><th scope=col>cohort.reference.event.condition.type</th><th scope=col>coded</th></tr>\n",
              "\t<tr><th></th><th scope=col>&lt;int&gt;</th><th scope=col>&lt;chr&gt;</th><th scope=col>&lt;chr&gt;</th><th scope=col>&lt;chr&gt;</th><th scope=col>&lt;dbl&gt;</th><th scope=col>&lt;chr&gt;</th><th scope=col>&lt;chr&gt;</th><th scope=col>&lt;chr&gt;</th><th scope=col>&lt;chr&gt;</th><th scope=col>&lt;chr&gt;</th></tr>\n",
              "</thead>\n",
              "<tbody>\n",
              "\t<tr><th scope=row>35915</th><td>1971</td><td>FEMALE</td><td>Not Hispanic or Latino</td><td>White</td><td>50.71197</td><td>Other specified diabetes mellitus with hyperosmolarity without nonketotic hyperglycemic-hyperosmolar coma (NKHHC)</td><td>E13.00</td><td>2020-10-29 23:59:59</td><td>Diagnosis</td><td>NA</td></tr>\n",
              "\t<tr><th scope=row>35916</th><td>1922</td><td>FEMALE</td><td>Not Hispanic or Latino</td><td>White</td><td>94.04917</td><td>Other specified diabetes mellitus with hyperosmolarity without nonketotic hyperglycemic-hyperosmolar coma (NKHHC)</td><td>E13.00</td><td>2020-09-30 23:59:59</td><td>Diagnosis</td><td>NA</td></tr>\n",
              "\t<tr><th scope=row>35917</th><td>1982</td><td>FEMALE</td><td>Not Hispanic or Latino</td><td>White</td><td>38.06840</td><td>Other specified diabetes mellitus with hyperosmolarity without nonketotic hyperglycemic-hyperosmolar coma (NKHHC)</td><td>E13.00</td><td>2021-05-23 23:59:59</td><td>Diagnosis</td><td>NA</td></tr>\n",
              "\t<tr><th scope=row>35918</th><td>1978</td><td>FEMALE</td><td>Not Hispanic or Latino</td><td>White</td><td>43.16453</td><td>Other specified diabetes mellitus with hyperosmolarity without nonketotic hyperglycemic-hyperosmolar coma (NKHHC)</td><td>E13.00</td><td>2021-03-27 23:59:59</td><td>Diagnosis</td><td>NA</td></tr>\n",
              "\t<tr><th scope=row>35919</th><td>1950</td><td>FEMALE</td><td>Not Hispanic or Latino</td><td>White</td><td>70.80624</td><td>Other specified diabetes mellitus with hyperosmolarity without nonketotic hyperglycemic-hyperosmolar coma (NKHHC)</td><td>E13.00</td><td>2021-04-11 23:59:59</td><td>Diagnosis</td><td>NA</td></tr>\n",
              "\t<tr><th scope=row>35920</th><td>1951</td><td>FEMALE</td><td>Not Hispanic or Latino</td><td>White</td><td>68.39945</td><td>Other specified diabetes mellitus with hyperosmolarity without nonketotic hyperglycemic-hyperosmolar coma (NKHHC)</td><td>E13.00</td><td>2020-10-17 23:59:59</td><td>Diagnosis</td><td>NA</td></tr>\n",
              "</tbody>\n",
              "</table>\n"
            ],
            "text/markdown": "\nA data.frame: 6 × 10\n\n| <!--/--> | date.of.birth &lt;int&gt; | gender.at.birth &lt;chr&gt; | ethnicity &lt;chr&gt; | race...primary &lt;chr&gt; | cohort.reference.event.age.at.event &lt;dbl&gt; | cohort.reference.event.condition &lt;chr&gt; | copy.of.cohort.reference.event.condition &lt;chr&gt; | cohort.reference.event.problem.onset.date.time &lt;chr&gt; | cohort.reference.event.condition.type &lt;chr&gt; | coded &lt;chr&gt; |\n|---|---|---|---|---|---|---|---|---|---|---|\n| 35915 | 1971 | FEMALE | Not Hispanic or Latino | White | 50.71197 | Other specified diabetes mellitus with hyperosmolarity without nonketotic hyperglycemic-hyperosmolar coma (NKHHC) | E13.00 | 2020-10-29 23:59:59 | Diagnosis | NA |\n| 35916 | 1922 | FEMALE | Not Hispanic or Latino | White | 94.04917 | Other specified diabetes mellitus with hyperosmolarity without nonketotic hyperglycemic-hyperosmolar coma (NKHHC) | E13.00 | 2020-09-30 23:59:59 | Diagnosis | NA |\n| 35917 | 1982 | FEMALE | Not Hispanic or Latino | White | 38.06840 | Other specified diabetes mellitus with hyperosmolarity without nonketotic hyperglycemic-hyperosmolar coma (NKHHC) | E13.00 | 2021-05-23 23:59:59 | Diagnosis | NA |\n| 35918 | 1978 | FEMALE | Not Hispanic or Latino | White | 43.16453 | Other specified diabetes mellitus with hyperosmolarity without nonketotic hyperglycemic-hyperosmolar coma (NKHHC) | E13.00 | 2021-03-27 23:59:59 | Diagnosis | NA |\n| 35919 | 1950 | FEMALE | Not Hispanic or Latino | White | 70.80624 | Other specified diabetes mellitus with hyperosmolarity without nonketotic hyperglycemic-hyperosmolar coma (NKHHC) | E13.00 | 2021-04-11 23:59:59 | Diagnosis | NA |\n| 35920 | 1951 | FEMALE | Not Hispanic or Latino | White | 68.39945 | Other specified diabetes mellitus with hyperosmolarity without nonketotic hyperglycemic-hyperosmolar coma (NKHHC) | E13.00 | 2020-10-17 23:59:59 | Diagnosis | NA |\n\n",
            "text/latex": "A data.frame: 6 × 10\n\\begin{tabular}{r|llllllllll}\n  & date.of.birth & gender.at.birth & ethnicity & race...primary & cohort.reference.event.age.at.event & cohort.reference.event.condition & copy.of.cohort.reference.event.condition & cohort.reference.event.problem.onset.date.time & cohort.reference.event.condition.type & coded\\\\\n  & <int> & <chr> & <chr> & <chr> & <dbl> & <chr> & <chr> & <chr> & <chr> & <chr>\\\\\n\\hline\n\t35915 & 1971 & FEMALE & Not Hispanic or Latino & White & 50.71197 & Other specified diabetes mellitus with hyperosmolarity without nonketotic hyperglycemic-hyperosmolar coma (NKHHC) & E13.00 & 2020-10-29 23:59:59 & Diagnosis & NA\\\\\n\t35916 & 1922 & FEMALE & Not Hispanic or Latino & White & 94.04917 & Other specified diabetes mellitus with hyperosmolarity without nonketotic hyperglycemic-hyperosmolar coma (NKHHC) & E13.00 & 2020-09-30 23:59:59 & Diagnosis & NA\\\\\n\t35917 & 1982 & FEMALE & Not Hispanic or Latino & White & 38.06840 & Other specified diabetes mellitus with hyperosmolarity without nonketotic hyperglycemic-hyperosmolar coma (NKHHC) & E13.00 & 2021-05-23 23:59:59 & Diagnosis & NA\\\\\n\t35918 & 1978 & FEMALE & Not Hispanic or Latino & White & 43.16453 & Other specified diabetes mellitus with hyperosmolarity without nonketotic hyperglycemic-hyperosmolar coma (NKHHC) & E13.00 & 2021-03-27 23:59:59 & Diagnosis & NA\\\\\n\t35919 & 1950 & FEMALE & Not Hispanic or Latino & White & 70.80624 & Other specified diabetes mellitus with hyperosmolarity without nonketotic hyperglycemic-hyperosmolar coma (NKHHC) & E13.00 & 2021-04-11 23:59:59 & Diagnosis & NA\\\\\n\t35920 & 1951 & FEMALE & Not Hispanic or Latino & White & 68.39945 & Other specified diabetes mellitus with hyperosmolarity without nonketotic hyperglycemic-hyperosmolar coma (NKHHC) & E13.00 & 2020-10-17 23:59:59 & Diagnosis & NA\\\\\n\\end{tabular}\n",
            "text/plain": [
              "      date.of.birth gender.at.birth ethnicity              race...primary\n",
              "35915 1971          FEMALE          Not Hispanic or Latino White         \n",
              "35916 1922          FEMALE          Not Hispanic or Latino White         \n",
              "35917 1982          FEMALE          Not Hispanic or Latino White         \n",
              "35918 1978          FEMALE          Not Hispanic or Latino White         \n",
              "35919 1950          FEMALE          Not Hispanic or Latino White         \n",
              "35920 1951          FEMALE          Not Hispanic or Latino White         \n",
              "      cohort.reference.event.age.at.event\n",
              "35915 50.71197                           \n",
              "35916 94.04917                           \n",
              "35917 38.06840                           \n",
              "35918 43.16453                           \n",
              "35919 70.80624                           \n",
              "35920 68.39945                           \n",
              "      cohort.reference.event.condition                                                                                 \n",
              "35915 Other specified diabetes mellitus with hyperosmolarity without nonketotic hyperglycemic-hyperosmolar coma (NKHHC)\n",
              "35916 Other specified diabetes mellitus with hyperosmolarity without nonketotic hyperglycemic-hyperosmolar coma (NKHHC)\n",
              "35917 Other specified diabetes mellitus with hyperosmolarity without nonketotic hyperglycemic-hyperosmolar coma (NKHHC)\n",
              "35918 Other specified diabetes mellitus with hyperosmolarity without nonketotic hyperglycemic-hyperosmolar coma (NKHHC)\n",
              "35919 Other specified diabetes mellitus with hyperosmolarity without nonketotic hyperglycemic-hyperosmolar coma (NKHHC)\n",
              "35920 Other specified diabetes mellitus with hyperosmolarity without nonketotic hyperglycemic-hyperosmolar coma (NKHHC)\n",
              "      copy.of.cohort.reference.event.condition\n",
              "35915 E13.00                                  \n",
              "35916 E13.00                                  \n",
              "35917 E13.00                                  \n",
              "35918 E13.00                                  \n",
              "35919 E13.00                                  \n",
              "35920 E13.00                                  \n",
              "      cohort.reference.event.problem.onset.date.time\n",
              "35915 2020-10-29 23:59:59                           \n",
              "35916 2020-09-30 23:59:59                           \n",
              "35917 2021-05-23 23:59:59                           \n",
              "35918 2021-03-27 23:59:59                           \n",
              "35919 2021-04-11 23:59:59                           \n",
              "35920 2020-10-17 23:59:59                           \n",
              "      cohort.reference.event.condition.type coded\n",
              "35915 Diagnosis                             NA   \n",
              "35916 Diagnosis                             NA   \n",
              "35917 Diagnosis                             NA   \n",
              "35918 Diagnosis                             NA   \n",
              "35919 Diagnosis                             NA   \n",
              "35920 Diagnosis                             NA   "
            ]
          },
          "metadata": {}
        }
      ]
    },
    {
      "cell_type": "code",
      "source": [
        "Type_data <- data"
      ],
      "metadata": {
        "id": "vDof-iBEJfuM"
      },
      "execution_count": 174,
      "outputs": []
    },
    {
      "cell_type": "code",
      "source": [
        "table(Type_data$coded)"
      ],
      "metadata": {
        "colab": {
          "base_uri": "https://localhost:8080/",
          "height": 106
        },
        "outputId": "1113972c-47a9-4575-f997-24dfa4465c31",
        "id": "hzJQojWqJfuM"
      },
      "execution_count": 175,
      "outputs": [
        {
          "output_type": "display_data",
          "data": {
            "text/plain": [
              "\n",
              "                           censored Type 1 and Type 2 diabetes mellitus \n",
              "                               1861                                 558 \n",
              "           Type 1 diabetes mellitus            Type 2 diabetes mellitus \n",
              "                              11729                              413746 "
            ]
          },
          "metadata": {}
        }
      ]
    },
    {
      "cell_type": "code",
      "source": [
        "##save the counts\n",
        "# Assuming 'type_counts' is a table\n",
        "type_counts <- table(Type_data$coded)\n",
        "\n",
        "# Add a sum row\n",
        "type_counts_with_sum <- addmargins(type_counts, FUN = list(Total = sum))\n",
        "\n",
        "# Convert the table to a data frame\n",
        "type_counts_df <- as.data.frame(type_counts_with_sum)\n",
        "\n",
        "# Save the table as a CSV file\n",
        "write.csv(type_counts_df, \"DM_.csv\", row.names = FALSE)\n"
      ],
      "metadata": {
        "id": "PFaOq8QeJfuM"
      },
      "execution_count": 176,
      "outputs": []
    },
    {
      "cell_type": "code",
      "source": [
        "#visual the counts\n",
        "type_counts_df"
      ],
      "metadata": {
        "colab": {
          "base_uri": "https://localhost:8080/",
          "height": 255
        },
        "outputId": "94c11b66-cd8d-449b-be9f-7071b861e0be",
        "id": "RTL9o6WWJfuN"
      },
      "execution_count": 177,
      "outputs": [
        {
          "output_type": "display_data",
          "data": {
            "text/html": [
              "<table class=\"dataframe\">\n",
              "<caption>A data.frame: 5 × 2</caption>\n",
              "<thead>\n",
              "\t<tr><th scope=col>Var1</th><th scope=col>Freq</th></tr>\n",
              "\t<tr><th scope=col>&lt;fct&gt;</th><th scope=col>&lt;dbl&gt;</th></tr>\n",
              "</thead>\n",
              "<tbody>\n",
              "\t<tr><td>censored                           </td><td>  1861</td></tr>\n",
              "\t<tr><td>Type 1 and Type 2 diabetes mellitus</td><td>   558</td></tr>\n",
              "\t<tr><td>Type 1 diabetes mellitus           </td><td> 11729</td></tr>\n",
              "\t<tr><td>Type 2 diabetes mellitus           </td><td>413746</td></tr>\n",
              "\t<tr><td>Total                              </td><td>427894</td></tr>\n",
              "</tbody>\n",
              "</table>\n"
            ],
            "text/markdown": "\nA data.frame: 5 × 2\n\n| Var1 &lt;fct&gt; | Freq &lt;dbl&gt; |\n|---|---|\n| censored                            |   1861 |\n| Type 1 and Type 2 diabetes mellitus |    558 |\n| Type 1 diabetes mellitus            |  11729 |\n| Type 2 diabetes mellitus            | 413746 |\n| Total                               | 427894 |\n\n",
            "text/latex": "A data.frame: 5 × 2\n\\begin{tabular}{ll}\n Var1 & Freq\\\\\n <fct> & <dbl>\\\\\n\\hline\n\t censored                            &   1861\\\\\n\t Type 1 and Type 2 diabetes mellitus &    558\\\\\n\t Type 1 diabetes mellitus            &  11729\\\\\n\t Type 2 diabetes mellitus            & 413746\\\\\n\t Total                               & 427894\\\\\n\\end{tabular}\n",
            "text/plain": [
              "  Var1                                Freq  \n",
              "1 censored                              1861\n",
              "2 Type 1 and Type 2 diabetes mellitus    558\n",
              "3 Type 1 diabetes mellitus             11729\n",
              "4 Type 2 diabetes mellitus            413746\n",
              "5 Total                               427894"
            ]
          },
          "metadata": {}
        }
      ]
    },
    {
      "cell_type": "code",
      "source": [
        "# #extra\n",
        "#type 2 only\n",
        "# E11.9|E11.69|E11.649|E11.8|E11.39|E11|E11.40|E11.42|E11.621|E11.21|E11.36|E11.51|E11.10|E11.59|E11.628|E11.32|E11.43|E11.620|E11.41|E11.52|E11.01|E11.00|E11.11|E11.3291|E11.3299|E11.65\n",
        "#type 2 and complicatons without type 1\n",
        "# E11.22 ; N18.9|E11.8 ; O24.92 ; O26.90 ; O90.9 ; P70.1|E11.65 ; E11.8|E11.9 ; E13.9|E11 ; O24.12|E11.622 ; L98.499|E11 ; O24.912 ; Z34.92|E11 ; O24.913 ; Z33.1|E11 ; O24.919 ; Z33|E11.8 ; O24.92 ; O24.93 ; O26.90 ; O90.9 ; P70.1|E11.8 ; O24.92 ; O90.9|E11.1|E11.5||E11 ; E13.22 ; N18.9 ; N19|E11.65 ; E13.65|E11.8 ; E13.69|E11.8 ; E13.8|E11 ; O24.13 ; Z39.2|E11.3213 ; H35.81|E11.3212 ; H35.81|E11.3293|E11.3313 ; H35.81|E11.3393|E11.29|E11.49|E11.3513 ; H35.81|E11.3523 ; H33.40 ; H35.00|E11.3593|E11.3599|E11.3413 ; H35.81|E11.3553 ; H35.00|E11.311|E11.319|E11 ; O24.911 ; Z33.1|E11.40 ; E13.40|E13.00|E11.64 ; E13.649|E11.40 ; E13.49|E11.44|E11.610|E11.641|E11.3292|E11.3311 ; H35.81|E11.618|E11.3512 ; H35.81|E11.359|E11.3592|E11.3591|E11 ; O24.93 ; Z39.2|E11.49 ; E11.65|E11.21 ; E13|E11.8 ; E13.29|E11.638|E11.3511 ; H35.81|E11.3521 ; H33.40|E11.3532 ; H33.40|E11.3411 ; H35.81|E11.3493\n",
        "\n",
        "#tpye 1 with complications without type 2\n",
        "# E10.10 ; E87.2|E10.9 ; T63.001|E10.22 ; N18.9|E10.1 ; E87.2|E10 ; O24.02|E10.621 ; L97.509|E10.622 ; L98.499|E10.3513 ; H35.81|\n",
        "#type 1 and 2\n",
        "# E10.40 ; E11.40|E10.21 ; E11.21|E10.51 ; E11.5|E10.29 ; E11.8|E10.39 ; E11.8|E10.3293 ; E11.32|E10.319 ; E11.31|E10 ; E11.49|E10.65 ; E11.49|E10.49 ; E11.40|E10.52 ; E11.5|E10 ; E11.8|E10.65 ; E11.8|\n",
        "#type 1\n",
        "# E10.40|E10.39|E10|E10.43|E10.42|E10.649|E10.11|E10.69|E10.8|E10.5|E10.21|E10.36|E10.59|E10.3593|E10.3592|E10.3553|E10.641|E10.65|"
      ],
      "metadata": {
        "id": "9xZ5R0-TWxlU"
      },
      "execution_count": 178,
      "outputs": []
    },
    {
      "cell_type": "markdown",
      "source": [
        "# COPD"
      ],
      "metadata": {
        "id": "_mPwMqKHJqL4"
      }
    },
    {
      "cell_type": "code",
      "source": [
        "#load the data\n",
        "data <- read.csv(\"/content/COPD.csv\")"
      ],
      "metadata": {
        "id": "1doLhXbcJqMJ"
      },
      "execution_count": 179,
      "outputs": []
    },
    {
      "cell_type": "code",
      "source": [
        "#check the data\n",
        "head(data)"
      ],
      "metadata": {
        "colab": {
          "base_uri": "https://localhost:8080/",
          "height": 306
        },
        "outputId": "e153e2b1-d75c-4d70-ac1a-54f37821c879",
        "id": "lTMztBLmJqMJ"
      },
      "execution_count": 180,
      "outputs": [
        {
          "output_type": "display_data",
          "data": {
            "text/html": [
              "<table class=\"dataframe\">\n",
              "<caption>A data.frame: 6 × 9</caption>\n",
              "<thead>\n",
              "\t<tr><th></th><th scope=col>date.of.birth</th><th scope=col>gender.at.birth</th><th scope=col>ethnicity</th><th scope=col>race...primary</th><th scope=col>cohort.reference.event.age.at.event</th><th scope=col>cohort.reference.event.condition</th><th scope=col>copy.of.cohort.reference.event.condition</th><th scope=col>cohort.reference.event.problem.onset.date.time</th><th scope=col>cohort.reference.event.condition.type</th></tr>\n",
              "\t<tr><th></th><th scope=col>&lt;int&gt;</th><th scope=col>&lt;chr&gt;</th><th scope=col>&lt;chr&gt;</th><th scope=col>&lt;chr&gt;</th><th scope=col>&lt;dbl&gt;</th><th scope=col>&lt;chr&gt;</th><th scope=col>&lt;chr&gt;</th><th scope=col>&lt;chr&gt;</th><th scope=col>&lt;chr&gt;</th></tr>\n",
              "</thead>\n",
              "<tbody>\n",
              "\t<tr><th scope=row>1</th><td>1967</td><td>censored</td><td>censored</td><td>censored</td><td>41.33677</td><td>censored</td><td>J44.9</td><td>2005-07-02 04:09:38</td><td>Diagnosis</td></tr>\n",
              "\t<tr><th scope=row>2</th><td>1961</td><td>censored</td><td>censored</td><td>censored</td><td>55.69893</td><td>censored</td><td>J44.9</td><td>2018-07-23 23:59:59</td><td>Diagnosis</td></tr>\n",
              "\t<tr><th scope=row>3</th><td>1978</td><td>censored</td><td>censored</td><td>censored</td><td>41.31332</td><td>censored</td><td>J44.9</td><td>2020-02-24 23:59:59</td><td>Diagnosis</td></tr>\n",
              "\t<tr><th scope=row>4</th><td>1961</td><td>censored</td><td>censored</td><td>censored</td><td>59.12175</td><td>censored</td><td>J44.9</td><td>2022-04-04 13:02:51</td><td>Diagnosis</td></tr>\n",
              "\t<tr><th scope=row>5</th><td>1963</td><td>FEMALE  </td><td>censored</td><td>censored</td><td>59.05778</td><td>censored</td><td>J44.0</td><td>2020-04-21 23:59:59</td><td>Diagnosis</td></tr>\n",
              "\t<tr><th scope=row>6</th><td>1943</td><td>FEMALE  </td><td>censored</td><td>censored</td><td>73.65337</td><td>censored</td><td>J44.0</td><td>2016-02-09 05:05:04</td><td>Diagnosis</td></tr>\n",
              "</tbody>\n",
              "</table>\n"
            ],
            "text/markdown": "\nA data.frame: 6 × 9\n\n| <!--/--> | date.of.birth &lt;int&gt; | gender.at.birth &lt;chr&gt; | ethnicity &lt;chr&gt; | race...primary &lt;chr&gt; | cohort.reference.event.age.at.event &lt;dbl&gt; | cohort.reference.event.condition &lt;chr&gt; | copy.of.cohort.reference.event.condition &lt;chr&gt; | cohort.reference.event.problem.onset.date.time &lt;chr&gt; | cohort.reference.event.condition.type &lt;chr&gt; |\n|---|---|---|---|---|---|---|---|---|---|\n| 1 | 1967 | censored | censored | censored | 41.33677 | censored | J44.9 | 2005-07-02 04:09:38 | Diagnosis |\n| 2 | 1961 | censored | censored | censored | 55.69893 | censored | J44.9 | 2018-07-23 23:59:59 | Diagnosis |\n| 3 | 1978 | censored | censored | censored | 41.31332 | censored | J44.9 | 2020-02-24 23:59:59 | Diagnosis |\n| 4 | 1961 | censored | censored | censored | 59.12175 | censored | J44.9 | 2022-04-04 13:02:51 | Diagnosis |\n| 5 | 1963 | FEMALE   | censored | censored | 59.05778 | censored | J44.0 | 2020-04-21 23:59:59 | Diagnosis |\n| 6 | 1943 | FEMALE   | censored | censored | 73.65337 | censored | J44.0 | 2016-02-09 05:05:04 | Diagnosis |\n\n",
            "text/latex": "A data.frame: 6 × 9\n\\begin{tabular}{r|lllllllll}\n  & date.of.birth & gender.at.birth & ethnicity & race...primary & cohort.reference.event.age.at.event & cohort.reference.event.condition & copy.of.cohort.reference.event.condition & cohort.reference.event.problem.onset.date.time & cohort.reference.event.condition.type\\\\\n  & <int> & <chr> & <chr> & <chr> & <dbl> & <chr> & <chr> & <chr> & <chr>\\\\\n\\hline\n\t1 & 1967 & censored & censored & censored & 41.33677 & censored & J44.9 & 2005-07-02 04:09:38 & Diagnosis\\\\\n\t2 & 1961 & censored & censored & censored & 55.69893 & censored & J44.9 & 2018-07-23 23:59:59 & Diagnosis\\\\\n\t3 & 1978 & censored & censored & censored & 41.31332 & censored & J44.9 & 2020-02-24 23:59:59 & Diagnosis\\\\\n\t4 & 1961 & censored & censored & censored & 59.12175 & censored & J44.9 & 2022-04-04 13:02:51 & Diagnosis\\\\\n\t5 & 1963 & FEMALE   & censored & censored & 59.05778 & censored & J44.0 & 2020-04-21 23:59:59 & Diagnosis\\\\\n\t6 & 1943 & FEMALE   & censored & censored & 73.65337 & censored & J44.0 & 2016-02-09 05:05:04 & Diagnosis\\\\\n\\end{tabular}\n",
            "text/plain": [
              "  date.of.birth gender.at.birth ethnicity race...primary\n",
              "1 1967          censored        censored  censored      \n",
              "2 1961          censored        censored  censored      \n",
              "3 1978          censored        censored  censored      \n",
              "4 1961          censored        censored  censored      \n",
              "5 1963          FEMALE          censored  censored      \n",
              "6 1943          FEMALE          censored  censored      \n",
              "  cohort.reference.event.age.at.event cohort.reference.event.condition\n",
              "1 41.33677                            censored                        \n",
              "2 55.69893                            censored                        \n",
              "3 41.31332                            censored                        \n",
              "4 59.12175                            censored                        \n",
              "5 59.05778                            censored                        \n",
              "6 73.65337                            censored                        \n",
              "  copy.of.cohort.reference.event.condition\n",
              "1 J44.9                                   \n",
              "2 J44.9                                   \n",
              "3 J44.9                                   \n",
              "4 J44.9                                   \n",
              "5 J44.0                                   \n",
              "6 J44.0                                   \n",
              "  cohort.reference.event.problem.onset.date.time\n",
              "1 2005-07-02 04:09:38                           \n",
              "2 2018-07-23 23:59:59                           \n",
              "3 2020-02-24 23:59:59                           \n",
              "4 2022-04-04 13:02:51                           \n",
              "5 2020-04-21 23:59:59                           \n",
              "6 2016-02-09 05:05:04                           \n",
              "  cohort.reference.event.condition.type\n",
              "1 Diagnosis                            \n",
              "2 Diagnosis                            \n",
              "3 Diagnosis                            \n",
              "4 Diagnosis                            \n",
              "5 Diagnosis                            \n",
              "6 Diagnosis                            "
            ]
          },
          "metadata": {}
        }
      ]
    },
    {
      "cell_type": "code",
      "source": [
        "#check the dimention of the data\n",
        "dim(data)"
      ],
      "metadata": {
        "colab": {
          "base_uri": "https://localhost:8080/",
          "height": 34
        },
        "outputId": "661c9846-521c-4051-acb6-476c95fb74d8",
        "id": "ZJYBkTnaJqMJ"
      },
      "execution_count": 181,
      "outputs": [
        {
          "output_type": "display_data",
          "data": {
            "text/html": [
              "<style>\n",
              ".list-inline {list-style: none; margin:0; padding: 0}\n",
              ".list-inline>li {display: inline-block}\n",
              ".list-inline>li:not(:last-child)::after {content: \"\\00b7\"; padding: 0 .5ex}\n",
              "</style>\n",
              "<ol class=list-inline><li>229720</li><li>9</li></ol>\n"
            ],
            "text/markdown": "1. 229720\n2. 9\n\n\n",
            "text/latex": "\\begin{enumerate*}\n\\item 229720\n\\item 9\n\\end{enumerate*}\n",
            "text/plain": [
              "[1] 229720      9"
            ]
          },
          "metadata": {}
        }
      ]
    },
    {
      "cell_type": "code",
      "source": [
        "unique(data$cohort.reference.event.condition.type)"
      ],
      "metadata": {
        "colab": {
          "base_uri": "https://localhost:8080/",
          "height": 34
        },
        "id": "FyUoWCD9cYOh",
        "outputId": "11045c6c-fb93-4bee-a875-b24ad111eccc"
      },
      "execution_count": 182,
      "outputs": [
        {
          "output_type": "display_data",
          "data": {
            "text/html": [
              "'Diagnosis'"
            ],
            "text/markdown": "'Diagnosis'",
            "text/latex": "'Diagnosis'",
            "text/plain": [
              "[1] \"Diagnosis\""
            ]
          },
          "metadata": {}
        }
      ]
    },
    {
      "cell_type": "code",
      "source": [
        "#check the unique type in icd 10 code column\n",
        "unique(data$copy.of.cohort.reference.event.condition)"
      ],
      "metadata": {
        "colab": {
          "base_uri": "https://localhost:8080/",
          "height": 34
        },
        "outputId": "65e459e9-e7e3-4fc5-b17e-03b76a40ae7f",
        "id": "Bf7qiYujJqMJ"
      },
      "execution_count": 183,
      "outputs": [
        {
          "output_type": "display_data",
          "data": {
            "text/html": [
              "<style>\n",
              ".list-inline {list-style: none; margin:0; padding: 0}\n",
              ".list-inline>li {display: inline-block}\n",
              ".list-inline>li:not(:last-child)::after {content: \"\\00b7\"; padding: 0 .5ex}\n",
              "</style>\n",
              "<ol class=list-inline><li>'J44.9'</li><li>'J44.0'</li><li>'J44.1'</li></ol>\n"
            ],
            "text/markdown": "1. 'J44.9'\n2. 'J44.0'\n3. 'J44.1'\n\n\n",
            "text/latex": "\\begin{enumerate*}\n\\item 'J44.9'\n\\item 'J44.0'\n\\item 'J44.1'\n\\end{enumerate*}\n",
            "text/plain": [
              "[1] \"J44.9\" \"J44.0\" \"J44.1\""
            ]
          },
          "metadata": {}
        }
      ]
    },
    {
      "cell_type": "code",
      "source": [
        "# aggragate the data based on icd 10 code\n",
        "data$coded <- ifelse(grepl(\"J44.9\", data$copy.of.cohort.reference.event.condition), \"COPD, unspecified\",\n",
        "                         ifelse(grepl(\"J44.0\", data$copy.of.cohort.reference.event.condition), \"COPD with acute lower respiratory infection\",\n",
        "                                ifelse(grepl(\"J44.1\", data$copy.of.cohort.reference.event.condition), \"COPD with acute exacerbation, unspecified\",\n",
        "                                                      ifelse(grepl(\"censored\", data$copy.of.cohort.reference.event.condition), \"censored\",\n",
        "                                                            NA))))"
      ],
      "metadata": {
        "id": "kb8ZGPrLJqMJ"
      },
      "execution_count": 184,
      "outputs": []
    },
    {
      "cell_type": "code",
      "source": [
        "#check the aggregated column\n",
        "unique(data$coded)"
      ],
      "metadata": {
        "colab": {
          "base_uri": "https://localhost:8080/",
          "height": 34
        },
        "outputId": "9b3ea3e7-3a14-4e18-fdb6-551a5548f9d1",
        "id": "XK8N7NB8JqMJ"
      },
      "execution_count": 185,
      "outputs": [
        {
          "output_type": "display_data",
          "data": {
            "text/html": [
              "<style>\n",
              ".list-inline {list-style: none; margin:0; padding: 0}\n",
              ".list-inline>li {display: inline-block}\n",
              ".list-inline>li:not(:last-child)::after {content: \"\\00b7\"; padding: 0 .5ex}\n",
              "</style>\n",
              "<ol class=list-inline><li>'COPD, unspecified'</li><li>'COPD with acute lower respiratory infection'</li><li>'COPD with acute exacerbation, unspecified'</li></ol>\n"
            ],
            "text/markdown": "1. 'COPD, unspecified'\n2. 'COPD with acute lower respiratory infection'\n3. 'COPD with acute exacerbation, unspecified'\n\n\n",
            "text/latex": "\\begin{enumerate*}\n\\item 'COPD, unspecified'\n\\item 'COPD with acute lower respiratory infection'\n\\item 'COPD with acute exacerbation, unspecified'\n\\end{enumerate*}\n",
            "text/plain": [
              "[1] \"COPD, unspecified\"                          \n",
              "[2] \"COPD with acute lower respiratory infection\"\n",
              "[3] \"COPD with acute exacerbation, unspecified\"  "
            ]
          },
          "metadata": {}
        }
      ]
    },
    {
      "cell_type": "code",
      "source": [
        "Type_data <- data"
      ],
      "metadata": {
        "id": "XRSK-wVtJqMK"
      },
      "execution_count": 186,
      "outputs": []
    },
    {
      "cell_type": "code",
      "source": [
        "table(Type_data$coded)"
      ],
      "metadata": {
        "colab": {
          "base_uri": "https://localhost:8080/",
          "height": 142
        },
        "outputId": "330dfbac-8b28-48ca-fcda-cbd5703b5fec",
        "id": "A6Rwrk3oJqMK"
      },
      "execution_count": 187,
      "outputs": [
        {
          "output_type": "display_data",
          "data": {
            "text/plain": [
              "\n",
              "  COPD with acute exacerbation, unspecified \n",
              "                                      26371 \n",
              "COPD with acute lower respiratory infection \n",
              "                                       6132 \n",
              "                          COPD, unspecified \n",
              "                                     197217 "
            ]
          },
          "metadata": {}
        }
      ]
    },
    {
      "cell_type": "code",
      "source": [
        "##save the counts\n",
        "# Assuming 'type_counts' is a table\n",
        "type_counts <- table(Type_data$coded)\n",
        "\n",
        "# Add a sum row\n",
        "type_counts_with_sum <- addmargins(type_counts, FUN = list(Total = sum))\n",
        "\n",
        "# Convert the table to a data frame\n",
        "type_counts_df <- as.data.frame(type_counts_with_sum)\n",
        "\n",
        "# Save the table as a CSV file\n",
        "write.csv(type_counts_df, \"COPD_.csv\", row.names = FALSE)\n"
      ],
      "metadata": {
        "id": "6wC2a9GsJqMK"
      },
      "execution_count": 188,
      "outputs": []
    },
    {
      "cell_type": "code",
      "source": [
        "#visual the counts\n",
        "type_counts_df"
      ],
      "metadata": {
        "colab": {
          "base_uri": "https://localhost:8080/",
          "height": 224
        },
        "outputId": "a0dfb9f7-c9fa-4c4e-c632-5f0f42275400",
        "id": "SmsEWbUTJqMK"
      },
      "execution_count": 189,
      "outputs": [
        {
          "output_type": "display_data",
          "data": {
            "text/html": [
              "<table class=\"dataframe\">\n",
              "<caption>A data.frame: 4 × 2</caption>\n",
              "<thead>\n",
              "\t<tr><th scope=col>Var1</th><th scope=col>Freq</th></tr>\n",
              "\t<tr><th scope=col>&lt;fct&gt;</th><th scope=col>&lt;dbl&gt;</th></tr>\n",
              "</thead>\n",
              "<tbody>\n",
              "\t<tr><td>COPD with acute exacerbation, unspecified  </td><td> 26371</td></tr>\n",
              "\t<tr><td>COPD with acute lower respiratory infection</td><td>  6132</td></tr>\n",
              "\t<tr><td>COPD, unspecified                          </td><td>197217</td></tr>\n",
              "\t<tr><td>Total                                      </td><td>229720</td></tr>\n",
              "</tbody>\n",
              "</table>\n"
            ],
            "text/markdown": "\nA data.frame: 4 × 2\n\n| Var1 &lt;fct&gt; | Freq &lt;dbl&gt; |\n|---|---|\n| COPD with acute exacerbation, unspecified   |  26371 |\n| COPD with acute lower respiratory infection |   6132 |\n| COPD, unspecified                           | 197217 |\n| Total                                       | 229720 |\n\n",
            "text/latex": "A data.frame: 4 × 2\n\\begin{tabular}{ll}\n Var1 & Freq\\\\\n <fct> & <dbl>\\\\\n\\hline\n\t COPD with acute exacerbation, unspecified   &  26371\\\\\n\t COPD with acute lower respiratory infection &   6132\\\\\n\t COPD, unspecified                           & 197217\\\\\n\t Total                                       & 229720\\\\\n\\end{tabular}\n",
            "text/plain": [
              "  Var1                                        Freq  \n",
              "1 COPD with acute exacerbation, unspecified    26371\n",
              "2 COPD with acute lower respiratory infection   6132\n",
              "3 COPD, unspecified                           197217\n",
              "4 Total                                       229720"
            ]
          },
          "metadata": {}
        }
      ]
    },
    {
      "cell_type": "markdown",
      "source": [
        "#LC"
      ],
      "metadata": {
        "id": "pC1JZJ7rJssK"
      }
    },
    {
      "cell_type": "code",
      "source": [
        "#load the data\n",
        "data <- read.csv(\"/content/LC.csv\")"
      ],
      "metadata": {
        "id": "IQ4gB7HOJssa"
      },
      "execution_count": 190,
      "outputs": []
    },
    {
      "cell_type": "code",
      "source": [
        "#check the data\n",
        "head(data)"
      ],
      "metadata": {
        "colab": {
          "base_uri": "https://localhost:8080/",
          "height": 376
        },
        "outputId": "5847f847-cfbf-4b61-99c9-4711e436c5be",
        "id": "34Wq_ZtgJssa"
      },
      "execution_count": 191,
      "outputs": [
        {
          "output_type": "display_data",
          "data": {
            "text/html": [
              "<table class=\"dataframe\">\n",
              "<caption>A data.frame: 6 × 9</caption>\n",
              "<thead>\n",
              "\t<tr><th></th><th scope=col>date.of.birth</th><th scope=col>gender.at.birth</th><th scope=col>ethnicity</th><th scope=col>race...primary</th><th scope=col>cohort.reference.event.age.at.event</th><th scope=col>cohort.reference.event.condition</th><th scope=col>copy.of.cohort.reference.event.condition</th><th scope=col>cohort.reference.event.problem.onset.date.time</th><th scope=col>cohort.reference.event.condition.type</th></tr>\n",
              "\t<tr><th></th><th scope=col>&lt;int&gt;</th><th scope=col>&lt;chr&gt;</th><th scope=col>&lt;chr&gt;</th><th scope=col>&lt;chr&gt;</th><th scope=col>&lt;dbl&gt;</th><th scope=col>&lt;chr&gt;</th><th scope=col>&lt;chr&gt;</th><th scope=col>&lt;chr&gt;</th><th scope=col>&lt;chr&gt;</th></tr>\n",
              "</thead>\n",
              "<tbody>\n",
              "\t<tr><th scope=row>1</th><td>1967</td><td>FEMALE</td><td>censored                                </td><td>censored</td><td>54.30683</td><td>censored</td><td>censored</td><td>2021-11-11 23:59:59</td><td>Diagnosis</td></tr>\n",
              "\t<tr><th scope=row>2</th><td>1966</td><td>FEMALE</td><td>censored                                </td><td>censored</td><td>50.60295</td><td>censored</td><td>censored</td><td>2019-12-15 23:59:59</td><td>Diagnosis</td></tr>\n",
              "\t<tr><th scope=row>3</th><td>1952</td><td>FEMALE</td><td>censored                                </td><td>censored</td><td>67.90424</td><td>censored</td><td>censored</td><td>2020-01-28 23:59:59</td><td>Diagnosis</td></tr>\n",
              "\t<tr><th scope=row>4</th><td>1962</td><td>FEMALE</td><td>censored                                </td><td>censored</td><td>60.82743</td><td>censored</td><td>censored</td><td>2023-10-12 00:18:39</td><td>Diagnosis</td></tr>\n",
              "\t<tr><th scope=row>5</th><td>1933</td><td>FEMALE</td><td>censored                                </td><td>censored</td><td>86.47784</td><td>censored</td><td>censored</td><td>2023-04-05 23:59:59</td><td>Diagnosis</td></tr>\n",
              "\t<tr><th scope=row>6</th><td>1949</td><td>FEMALE</td><td>Ethnic group not given - patient refused</td><td>White   </td><td>73.44928</td><td>censored</td><td>censored</td><td>2023-04-11 22:24:23</td><td>Diagnosis</td></tr>\n",
              "</tbody>\n",
              "</table>\n"
            ],
            "text/markdown": "\nA data.frame: 6 × 9\n\n| <!--/--> | date.of.birth &lt;int&gt; | gender.at.birth &lt;chr&gt; | ethnicity &lt;chr&gt; | race...primary &lt;chr&gt; | cohort.reference.event.age.at.event &lt;dbl&gt; | cohort.reference.event.condition &lt;chr&gt; | copy.of.cohort.reference.event.condition &lt;chr&gt; | cohort.reference.event.problem.onset.date.time &lt;chr&gt; | cohort.reference.event.condition.type &lt;chr&gt; |\n|---|---|---|---|---|---|---|---|---|---|\n| 1 | 1967 | FEMALE | censored                                 | censored | 54.30683 | censored | censored | 2021-11-11 23:59:59 | Diagnosis |\n| 2 | 1966 | FEMALE | censored                                 | censored | 50.60295 | censored | censored | 2019-12-15 23:59:59 | Diagnosis |\n| 3 | 1952 | FEMALE | censored                                 | censored | 67.90424 | censored | censored | 2020-01-28 23:59:59 | Diagnosis |\n| 4 | 1962 | FEMALE | censored                                 | censored | 60.82743 | censored | censored | 2023-10-12 00:18:39 | Diagnosis |\n| 5 | 1933 | FEMALE | censored                                 | censored | 86.47784 | censored | censored | 2023-04-05 23:59:59 | Diagnosis |\n| 6 | 1949 | FEMALE | Ethnic group not given - patient refused | White    | 73.44928 | censored | censored | 2023-04-11 22:24:23 | Diagnosis |\n\n",
            "text/latex": "A data.frame: 6 × 9\n\\begin{tabular}{r|lllllllll}\n  & date.of.birth & gender.at.birth & ethnicity & race...primary & cohort.reference.event.age.at.event & cohort.reference.event.condition & copy.of.cohort.reference.event.condition & cohort.reference.event.problem.onset.date.time & cohort.reference.event.condition.type\\\\\n  & <int> & <chr> & <chr> & <chr> & <dbl> & <chr> & <chr> & <chr> & <chr>\\\\\n\\hline\n\t1 & 1967 & FEMALE & censored                                 & censored & 54.30683 & censored & censored & 2021-11-11 23:59:59 & Diagnosis\\\\\n\t2 & 1966 & FEMALE & censored                                 & censored & 50.60295 & censored & censored & 2019-12-15 23:59:59 & Diagnosis\\\\\n\t3 & 1952 & FEMALE & censored                                 & censored & 67.90424 & censored & censored & 2020-01-28 23:59:59 & Diagnosis\\\\\n\t4 & 1962 & FEMALE & censored                                 & censored & 60.82743 & censored & censored & 2023-10-12 00:18:39 & Diagnosis\\\\\n\t5 & 1933 & FEMALE & censored                                 & censored & 86.47784 & censored & censored & 2023-04-05 23:59:59 & Diagnosis\\\\\n\t6 & 1949 & FEMALE & Ethnic group not given - patient refused & White    & 73.44928 & censored & censored & 2023-04-11 22:24:23 & Diagnosis\\\\\n\\end{tabular}\n",
            "text/plain": [
              "  date.of.birth gender.at.birth ethnicity                               \n",
              "1 1967          FEMALE          censored                                \n",
              "2 1966          FEMALE          censored                                \n",
              "3 1952          FEMALE          censored                                \n",
              "4 1962          FEMALE          censored                                \n",
              "5 1933          FEMALE          censored                                \n",
              "6 1949          FEMALE          Ethnic group not given - patient refused\n",
              "  race...primary cohort.reference.event.age.at.event\n",
              "1 censored       54.30683                           \n",
              "2 censored       50.60295                           \n",
              "3 censored       67.90424                           \n",
              "4 censored       60.82743                           \n",
              "5 censored       86.47784                           \n",
              "6 White          73.44928                           \n",
              "  cohort.reference.event.condition copy.of.cohort.reference.event.condition\n",
              "1 censored                         censored                                \n",
              "2 censored                         censored                                \n",
              "3 censored                         censored                                \n",
              "4 censored                         censored                                \n",
              "5 censored                         censored                                \n",
              "6 censored                         censored                                \n",
              "  cohort.reference.event.problem.onset.date.time\n",
              "1 2021-11-11 23:59:59                           \n",
              "2 2019-12-15 23:59:59                           \n",
              "3 2020-01-28 23:59:59                           \n",
              "4 2023-10-12 00:18:39                           \n",
              "5 2023-04-05 23:59:59                           \n",
              "6 2023-04-11 22:24:23                           \n",
              "  cohort.reference.event.condition.type\n",
              "1 Diagnosis                            \n",
              "2 Diagnosis                            \n",
              "3 Diagnosis                            \n",
              "4 Diagnosis                            \n",
              "5 Diagnosis                            \n",
              "6 Diagnosis                            "
            ]
          },
          "metadata": {}
        }
      ]
    },
    {
      "cell_type": "code",
      "source": [
        "#check the dimention of the data\n",
        "dim(data)"
      ],
      "metadata": {
        "colab": {
          "base_uri": "https://localhost:8080/",
          "height": 34
        },
        "outputId": "210cfe59-26b2-42a6-df73-90903d17af2d",
        "id": "qi_aC9DuJssa"
      },
      "execution_count": 192,
      "outputs": [
        {
          "output_type": "display_data",
          "data": {
            "text/html": [
              "<style>\n",
              ".list-inline {list-style: none; margin:0; padding: 0}\n",
              ".list-inline>li {display: inline-block}\n",
              ".list-inline>li:not(:last-child)::after {content: \"\\00b7\"; padding: 0 .5ex}\n",
              "</style>\n",
              "<ol class=list-inline><li>35660</li><li>9</li></ol>\n"
            ],
            "text/markdown": "1. 35660\n2. 9\n\n\n",
            "text/latex": "\\begin{enumerate*}\n\\item 35660\n\\item 9\n\\end{enumerate*}\n",
            "text/plain": [
              "[1] 35660     9"
            ]
          },
          "metadata": {}
        }
      ]
    },
    {
      "cell_type": "code",
      "source": [
        "unique(data$cohort.reference.event.condition.type)"
      ],
      "metadata": {
        "colab": {
          "base_uri": "https://localhost:8080/",
          "height": 34
        },
        "id": "q7mNgdvHcbr2",
        "outputId": "9f9fe3fa-3d79-458e-a56a-d79005bedd65"
      },
      "execution_count": 193,
      "outputs": [
        {
          "output_type": "display_data",
          "data": {
            "text/html": [
              "'Diagnosis'"
            ],
            "text/markdown": "'Diagnosis'",
            "text/latex": "'Diagnosis'",
            "text/plain": [
              "[1] \"Diagnosis\""
            ]
          },
          "metadata": {}
        }
      ]
    },
    {
      "cell_type": "code",
      "source": [
        "#check the unique type in icd 10 code column\n",
        "unique(data$copy.of.cohort.reference.event.condition)"
      ],
      "metadata": {
        "colab": {
          "base_uri": "https://localhost:8080/",
          "height": 52
        },
        "outputId": "b28a2467-2f72-47f0-fb63-868a7d616015",
        "id": "7LUJbadRJssa"
      },
      "execution_count": 194,
      "outputs": [
        {
          "output_type": "display_data",
          "data": {
            "text/html": [
              "<style>\n",
              ".list-inline {list-style: none; margin:0; padding: 0}\n",
              ".list-inline>li {display: inline-block}\n",
              ".list-inline>li:not(:last-child)::after {content: \"\\00b7\"; padding: 0 .5ex}\n",
              "</style>\n",
              "<ol class=list-inline><li>'censored'</li><li>'C34.12 ; D49.1'</li><li>'C34.3'</li><li>'C34.32 ; D49.1'</li><li>'C34.31 ; D49.1'</li><li>'C34.92'</li><li>'C34.91'</li><li>'C34.90'</li><li>'C34.1'</li><li>'C34.11 ; D49.1'</li><li>'C34.2'</li><li>'C34.82 ; C80.1'</li><li>'C34.81 ; C80.1'</li><li>'C34.80'</li><li>'C34.10'</li><li>'C34.30'</li></ol>\n"
            ],
            "text/markdown": "1. 'censored'\n2. 'C34.12 ; D49.1'\n3. 'C34.3'\n4. 'C34.32 ; D49.1'\n5. 'C34.31 ; D49.1'\n6. 'C34.92'\n7. 'C34.91'\n8. 'C34.90'\n9. 'C34.1'\n10. 'C34.11 ; D49.1'\n11. 'C34.2'\n12. 'C34.82 ; C80.1'\n13. 'C34.81 ; C80.1'\n14. 'C34.80'\n15. 'C34.10'\n16. 'C34.30'\n\n\n",
            "text/latex": "\\begin{enumerate*}\n\\item 'censored'\n\\item 'C34.12 ; D49.1'\n\\item 'C34.3'\n\\item 'C34.32 ; D49.1'\n\\item 'C34.31 ; D49.1'\n\\item 'C34.92'\n\\item 'C34.91'\n\\item 'C34.90'\n\\item 'C34.1'\n\\item 'C34.11 ; D49.1'\n\\item 'C34.2'\n\\item 'C34.82 ; C80.1'\n\\item 'C34.81 ; C80.1'\n\\item 'C34.80'\n\\item 'C34.10'\n\\item 'C34.30'\n\\end{enumerate*}\n",
            "text/plain": [
              " [1] \"censored\"       \"C34.12 ; D49.1\" \"C34.3\"          \"C34.32 ; D49.1\"\n",
              " [5] \"C34.31 ; D49.1\" \"C34.92\"         \"C34.91\"         \"C34.90\"        \n",
              " [9] \"C34.1\"          \"C34.11 ; D49.1\" \"C34.2\"          \"C34.82 ; C80.1\"\n",
              "[13] \"C34.81 ; C80.1\" \"C34.80\"         \"C34.10\"         \"C34.30\"        "
            ]
          },
          "metadata": {}
        }
      ]
    },
    {
      "cell_type": "code",
      "source": [
        "# aggragate the data based on icd 10 code\n",
        "data$coded <- ifelse(grepl(\"C34\", data$copy.of.cohort.reference.event.condition), \"Lung cancer\",\n",
        "                         ifelse(grepl(\"censored\", data$copy.of.cohort.reference.event.condition), \"censored\",\n",
        "                                                            NA))"
      ],
      "metadata": {
        "id": "pJckVGwvJssa"
      },
      "execution_count": 195,
      "outputs": []
    },
    {
      "cell_type": "code",
      "source": [
        "#check the aggregated column\n",
        "unique(data$coded)"
      ],
      "metadata": {
        "colab": {
          "base_uri": "https://localhost:8080/",
          "height": 34
        },
        "outputId": "9ab24052-031a-4fc0-b002-4b8154a54152",
        "id": "n3K9MJQhJssb"
      },
      "execution_count": 196,
      "outputs": [
        {
          "output_type": "display_data",
          "data": {
            "text/html": [
              "<style>\n",
              ".list-inline {list-style: none; margin:0; padding: 0}\n",
              ".list-inline>li {display: inline-block}\n",
              ".list-inline>li:not(:last-child)::after {content: \"\\00b7\"; padding: 0 .5ex}\n",
              "</style>\n",
              "<ol class=list-inline><li>'censored'</li><li>'Lung cancer'</li></ol>\n"
            ],
            "text/markdown": "1. 'censored'\n2. 'Lung cancer'\n\n\n",
            "text/latex": "\\begin{enumerate*}\n\\item 'censored'\n\\item 'Lung cancer'\n\\end{enumerate*}\n",
            "text/plain": [
              "[1] \"censored\"    \"Lung cancer\""
            ]
          },
          "metadata": {}
        }
      ]
    },
    {
      "cell_type": "code",
      "source": [
        "Type_data <- data"
      ],
      "metadata": {
        "id": "B1W1iGDbJssb"
      },
      "execution_count": 197,
      "outputs": []
    },
    {
      "cell_type": "code",
      "source": [
        "table(Type_data$coded)"
      ],
      "metadata": {
        "colab": {
          "base_uri": "https://localhost:8080/",
          "height": 71
        },
        "outputId": "b581ccc5-0948-4e89-d4c2-8aefdae20621",
        "id": "38veqadtJssb"
      },
      "execution_count": 198,
      "outputs": [
        {
          "output_type": "display_data",
          "data": {
            "text/plain": [
              "\n",
              "   censored Lung cancer \n",
              "        230       35430 "
            ]
          },
          "metadata": {}
        }
      ]
    },
    {
      "cell_type": "code",
      "source": [
        "##save the counts\n",
        "# Assuming 'type_counts' is a table\n",
        "type_counts <- table(Type_data$coded)\n",
        "\n",
        "# Add a sum row\n",
        "type_counts_with_sum <- addmargins(type_counts, FUN = list(Total = sum))\n",
        "\n",
        "# Convert the table to a data frame\n",
        "type_counts_df <- as.data.frame(type_counts_with_sum)\n",
        "\n",
        "# Save the table as a CSV file\n",
        "write.csv(type_counts_df, \"LC_.csv\", row.names = FALSE)\n"
      ],
      "metadata": {
        "id": "AK7LUr90Jssb"
      },
      "execution_count": 199,
      "outputs": []
    },
    {
      "cell_type": "code",
      "source": [
        "#visual the counts\n",
        "type_counts_df"
      ],
      "metadata": {
        "colab": {
          "base_uri": "https://localhost:8080/",
          "height": 192
        },
        "outputId": "482e631c-662c-4b2f-d6ec-ab9c2e50d4b2",
        "id": "uY_b_3-fJssb"
      },
      "execution_count": 200,
      "outputs": [
        {
          "output_type": "display_data",
          "data": {
            "text/html": [
              "<table class=\"dataframe\">\n",
              "<caption>A data.frame: 3 × 2</caption>\n",
              "<thead>\n",
              "\t<tr><th scope=col>Var1</th><th scope=col>Freq</th></tr>\n",
              "\t<tr><th scope=col>&lt;fct&gt;</th><th scope=col>&lt;dbl&gt;</th></tr>\n",
              "</thead>\n",
              "<tbody>\n",
              "\t<tr><td>censored   </td><td>  230</td></tr>\n",
              "\t<tr><td>Lung cancer</td><td>35430</td></tr>\n",
              "\t<tr><td>Total      </td><td>35660</td></tr>\n",
              "</tbody>\n",
              "</table>\n"
            ],
            "text/markdown": "\nA data.frame: 3 × 2\n\n| Var1 &lt;fct&gt; | Freq &lt;dbl&gt; |\n|---|---|\n| censored    |   230 |\n| Lung cancer | 35430 |\n| Total       | 35660 |\n\n",
            "text/latex": "A data.frame: 3 × 2\n\\begin{tabular}{ll}\n Var1 & Freq\\\\\n <fct> & <dbl>\\\\\n\\hline\n\t censored    &   230\\\\\n\t Lung cancer & 35430\\\\\n\t Total       & 35660\\\\\n\\end{tabular}\n",
            "text/plain": [
              "  Var1        Freq \n",
              "1 censored      230\n",
              "2 Lung cancer 35430\n",
              "3 Total       35660"
            ]
          },
          "metadata": {}
        }
      ]
    },
    {
      "cell_type": "markdown",
      "source": [
        "# Stroke"
      ],
      "metadata": {
        "id": "ZCGkCwYDJt3V"
      }
    },
    {
      "cell_type": "code",
      "source": [
        "#load the data\n",
        "data <- read.csv(\"/content/Stroke.csv\")"
      ],
      "metadata": {
        "id": "0KhBQPwCJt3k"
      },
      "execution_count": 201,
      "outputs": []
    },
    {
      "cell_type": "code",
      "source": [
        "#check the data\n",
        "head(data)"
      ],
      "metadata": {
        "colab": {
          "base_uri": "https://localhost:8080/",
          "height": 306
        },
        "outputId": "609b2e01-6fba-45a4-98e0-179003888a25",
        "id": "Y44lBneoJt3k"
      },
      "execution_count": 202,
      "outputs": [
        {
          "output_type": "display_data",
          "data": {
            "text/html": [
              "<table class=\"dataframe\">\n",
              "<caption>A data.frame: 6 × 9</caption>\n",
              "<thead>\n",
              "\t<tr><th></th><th scope=col>date.of.birth</th><th scope=col>gender.at.birth</th><th scope=col>ethnicity</th><th scope=col>race...primary</th><th scope=col>cohort.reference.event.age.at.event</th><th scope=col>cohort.reference.event.condition</th><th scope=col>copy.of.copy.of.cohort.reference.event.condition</th><th scope=col>cohort.reference.event.problem.onset.date.time</th><th scope=col>cohort.reference.event.condition.type</th></tr>\n",
              "\t<tr><th></th><th scope=col>&lt;int&gt;</th><th scope=col>&lt;chr&gt;</th><th scope=col>&lt;chr&gt;</th><th scope=col>&lt;chr&gt;</th><th scope=col>&lt;dbl&gt;</th><th scope=col>&lt;chr&gt;</th><th scope=col>&lt;chr&gt;</th><th scope=col>&lt;chr&gt;</th><th scope=col>&lt;chr&gt;</th></tr>\n",
              "</thead>\n",
              "<tbody>\n",
              "\t<tr><th scope=row>1</th><td>1964</td><td>FEMALE</td><td>censored</td><td>censored</td><td>55.10145</td><td>censored</td><td>censored</td><td>2021-05-27 23:59:59</td><td>Diagnosis</td></tr>\n",
              "\t<tr><th scope=row>2</th><td>1962</td><td>FEMALE</td><td>censored</td><td>censored</td><td>54.40571</td><td>censored</td><td>censored</td><td>2018-02-08 00:48:30</td><td>Diagnosis</td></tr>\n",
              "\t<tr><th scope=row>3</th><td>1958</td><td>FEMALE</td><td>censored</td><td>censored</td><td>64.81883</td><td>censored</td><td>censored</td><td>2023-04-18 13:19:53</td><td>Diagnosis</td></tr>\n",
              "\t<tr><th scope=row>4</th><td>1938</td><td>FEMALE</td><td>censored</td><td>censored</td><td>78.96031</td><td>censored</td><td>censored</td><td>2017-11-01 19:35:08</td><td>Diagnosis</td></tr>\n",
              "\t<tr><th scope=row>5</th><td>1958</td><td>FEMALE</td><td>censored</td><td>censored</td><td>65.45336</td><td>censored</td><td>censored</td><td>2023-04-14 23:59:59</td><td>Diagnosis</td></tr>\n",
              "\t<tr><th scope=row>6</th><td>1943</td><td>FEMALE</td><td>censored</td><td>censored</td><td>74.05702</td><td>censored</td><td>censored</td><td>2016-06-01 05:29:50</td><td>Diagnosis</td></tr>\n",
              "</tbody>\n",
              "</table>\n"
            ],
            "text/markdown": "\nA data.frame: 6 × 9\n\n| <!--/--> | date.of.birth &lt;int&gt; | gender.at.birth &lt;chr&gt; | ethnicity &lt;chr&gt; | race...primary &lt;chr&gt; | cohort.reference.event.age.at.event &lt;dbl&gt; | cohort.reference.event.condition &lt;chr&gt; | copy.of.copy.of.cohort.reference.event.condition &lt;chr&gt; | cohort.reference.event.problem.onset.date.time &lt;chr&gt; | cohort.reference.event.condition.type &lt;chr&gt; |\n|---|---|---|---|---|---|---|---|---|---|\n| 1 | 1964 | FEMALE | censored | censored | 55.10145 | censored | censored | 2021-05-27 23:59:59 | Diagnosis |\n| 2 | 1962 | FEMALE | censored | censored | 54.40571 | censored | censored | 2018-02-08 00:48:30 | Diagnosis |\n| 3 | 1958 | FEMALE | censored | censored | 64.81883 | censored | censored | 2023-04-18 13:19:53 | Diagnosis |\n| 4 | 1938 | FEMALE | censored | censored | 78.96031 | censored | censored | 2017-11-01 19:35:08 | Diagnosis |\n| 5 | 1958 | FEMALE | censored | censored | 65.45336 | censored | censored | 2023-04-14 23:59:59 | Diagnosis |\n| 6 | 1943 | FEMALE | censored | censored | 74.05702 | censored | censored | 2016-06-01 05:29:50 | Diagnosis |\n\n",
            "text/latex": "A data.frame: 6 × 9\n\\begin{tabular}{r|lllllllll}\n  & date.of.birth & gender.at.birth & ethnicity & race...primary & cohort.reference.event.age.at.event & cohort.reference.event.condition & copy.of.copy.of.cohort.reference.event.condition & cohort.reference.event.problem.onset.date.time & cohort.reference.event.condition.type\\\\\n  & <int> & <chr> & <chr> & <chr> & <dbl> & <chr> & <chr> & <chr> & <chr>\\\\\n\\hline\n\t1 & 1964 & FEMALE & censored & censored & 55.10145 & censored & censored & 2021-05-27 23:59:59 & Diagnosis\\\\\n\t2 & 1962 & FEMALE & censored & censored & 54.40571 & censored & censored & 2018-02-08 00:48:30 & Diagnosis\\\\\n\t3 & 1958 & FEMALE & censored & censored & 64.81883 & censored & censored & 2023-04-18 13:19:53 & Diagnosis\\\\\n\t4 & 1938 & FEMALE & censored & censored & 78.96031 & censored & censored & 2017-11-01 19:35:08 & Diagnosis\\\\\n\t5 & 1958 & FEMALE & censored & censored & 65.45336 & censored & censored & 2023-04-14 23:59:59 & Diagnosis\\\\\n\t6 & 1943 & FEMALE & censored & censored & 74.05702 & censored & censored & 2016-06-01 05:29:50 & Diagnosis\\\\\n\\end{tabular}\n",
            "text/plain": [
              "  date.of.birth gender.at.birth ethnicity race...primary\n",
              "1 1964          FEMALE          censored  censored      \n",
              "2 1962          FEMALE          censored  censored      \n",
              "3 1958          FEMALE          censored  censored      \n",
              "4 1938          FEMALE          censored  censored      \n",
              "5 1958          FEMALE          censored  censored      \n",
              "6 1943          FEMALE          censored  censored      \n",
              "  cohort.reference.event.age.at.event cohort.reference.event.condition\n",
              "1 55.10145                            censored                        \n",
              "2 54.40571                            censored                        \n",
              "3 64.81883                            censored                        \n",
              "4 78.96031                            censored                        \n",
              "5 65.45336                            censored                        \n",
              "6 74.05702                            censored                        \n",
              "  copy.of.copy.of.cohort.reference.event.condition\n",
              "1 censored                                        \n",
              "2 censored                                        \n",
              "3 censored                                        \n",
              "4 censored                                        \n",
              "5 censored                                        \n",
              "6 censored                                        \n",
              "  cohort.reference.event.problem.onset.date.time\n",
              "1 2021-05-27 23:59:59                           \n",
              "2 2018-02-08 00:48:30                           \n",
              "3 2023-04-18 13:19:53                           \n",
              "4 2017-11-01 19:35:08                           \n",
              "5 2023-04-14 23:59:59                           \n",
              "6 2016-06-01 05:29:50                           \n",
              "  cohort.reference.event.condition.type\n",
              "1 Diagnosis                            \n",
              "2 Diagnosis                            \n",
              "3 Diagnosis                            \n",
              "4 Diagnosis                            \n",
              "5 Diagnosis                            \n",
              "6 Diagnosis                            "
            ]
          },
          "metadata": {}
        }
      ]
    },
    {
      "cell_type": "code",
      "source": [
        "#check the dimention of the data\n",
        "dim(data)"
      ],
      "metadata": {
        "colab": {
          "base_uri": "https://localhost:8080/",
          "height": 34
        },
        "outputId": "f43cc87b-e6c7-4968-9c33-644d77c96dcb",
        "id": "jVcHgW-ZJt3k"
      },
      "execution_count": 203,
      "outputs": [
        {
          "output_type": "display_data",
          "data": {
            "text/html": [
              "<style>\n",
              ".list-inline {list-style: none; margin:0; padding: 0}\n",
              ".list-inline>li {display: inline-block}\n",
              ".list-inline>li:not(:last-child)::after {content: \"\\00b7\"; padding: 0 .5ex}\n",
              "</style>\n",
              "<ol class=list-inline><li>29320</li><li>9</li></ol>\n"
            ],
            "text/markdown": "1. 29320\n2. 9\n\n\n",
            "text/latex": "\\begin{enumerate*}\n\\item 29320\n\\item 9\n\\end{enumerate*}\n",
            "text/plain": [
              "[1] 29320     9"
            ]
          },
          "metadata": {}
        }
      ]
    },
    {
      "cell_type": "code",
      "source": [
        "unique(data$cohort.reference.event.condition.type)"
      ],
      "metadata": {
        "colab": {
          "base_uri": "https://localhost:8080/",
          "height": 34
        },
        "id": "6PKNR_b6cicc",
        "outputId": "d800d0ba-9a04-4848-9c1d-bcb539f6a0d2"
      },
      "execution_count": 204,
      "outputs": [
        {
          "output_type": "display_data",
          "data": {
            "text/html": [
              "'Diagnosis'"
            ],
            "text/markdown": "'Diagnosis'",
            "text/latex": "'Diagnosis'",
            "text/plain": [
              "[1] \"Diagnosis\""
            ]
          },
          "metadata": {}
        }
      ]
    },
    {
      "cell_type": "code",
      "source": [
        "#check the unique type in icd 10 code column\n",
        "unique(data$copy.of.copy.of.cohort.reference.event.condition)"
      ],
      "metadata": {
        "colab": {
          "base_uri": "https://localhost:8080/",
          "height": 139
        },
        "outputId": "f98b2550-c702-4900-e6b3-89d814088dbc",
        "id": "3SsRX3CPJt3k"
      },
      "execution_count": 205,
      "outputs": [
        {
          "output_type": "display_data",
          "data": {
            "text/html": [
              "<style>\n",
              ".list-inline {list-style: none; margin:0; padding: 0}\n",
              ".list-inline>li {display: inline-block}\n",
              ".list-inline>li:not(:last-child)::after {content: \"\\00b7\"; padding: 0 .5ex}\n",
              "</style>\n",
              "<ol class=list-inline><li>'censored'</li><li>'G81.90 ; G81.91 ; I63.89 ; I69.351'</li><li>'I63.411'</li><li>'I63.511'</li><li>'G81.90 ; G81.94 ; I63.89 ; I69.354'</li><li>'I63.512'</li><li>'G46.4 ; I63.9'</li><li>'I63.12'</li><li>'I63.422'</li><li>'I63.132'</li><li>'I63.442'</li><li>'I63.412'</li><li>'I63.432'</li><li>'I63.421'</li><li>'I63.131'</li><li>'I63.441'</li><li>'I63.431'</li><li>'I63.02'</li><li>'I63.032'</li><li>'I63.342'</li><li>'I63.312'</li><li>'I63.031'</li><li>'I63.341'</li><li>'I63.311'</li><li>'I63.331'</li><li>'I63.233 ; I65.23'</li><li>'I63.213 ; I65.03'</li><li>'I63.522 ; I66.19'</li><li>'I63.542 ; I66.3'</li><li>'I63.532'</li><li>'I63.521'</li><li>'I63.541 ; I66.3'</li><li>'I63.531'</li><li>'I63.239 ; I65.29'</li><li>'I63.9 ; I69.392 ; R29.810'</li><li>'G81.90 ; G81.92 ; I63.89 ; I69.352'</li><li>'G81.90 ; G81.93 ; I63.89 ; I69.353'</li><li>'G83.9 ; I63.9 ; I69.369'</li><li>'G83.0 ; I63.9 ; I69.365'</li><li>'F01.5 ; I63.9'</li><li>'F01.51 ; I63.9 ; R41.0'</li><li>'I63.112'</li><li>'I63.111'</li><li>'I63.332'</li><li>'I63.012'</li><li>'I63.011'</li><li>'I61.9 ; I69.192 ; R29.810'</li><li>'I62.9 ; I69.292 ; R29.810'</li><li>'G81.90 ; I61.9 ; I69.159'</li><li>'G81.90 ; I60.9 ; I69.059'</li><li>'G83.9 ; I63.89 ; I69.361'</li><li>'G83.0 ; I61.9 ; I69.165'</li><li>'F01.5 ; F22 ; I63.9'</li><li>'G83.9 ; I63.89 ; I69.364'</li></ol>\n"
            ],
            "text/markdown": "1. 'censored'\n2. 'G81.90 ; G81.91 ; I63.89 ; I69.351'\n3. 'I63.411'\n4. 'I63.511'\n5. 'G81.90 ; G81.94 ; I63.89 ; I69.354'\n6. 'I63.512'\n7. 'G46.4 ; I63.9'\n8. 'I63.12'\n9. 'I63.422'\n10. 'I63.132'\n11. 'I63.442'\n12. 'I63.412'\n13. 'I63.432'\n14. 'I63.421'\n15. 'I63.131'\n16. 'I63.441'\n17. 'I63.431'\n18. 'I63.02'\n19. 'I63.032'\n20. 'I63.342'\n21. 'I63.312'\n22. 'I63.031'\n23. 'I63.341'\n24. 'I63.311'\n25. 'I63.331'\n26. 'I63.233 ; I65.23'\n27. 'I63.213 ; I65.03'\n28. 'I63.522 ; I66.19'\n29. 'I63.542 ; I66.3'\n30. 'I63.532'\n31. 'I63.521'\n32. 'I63.541 ; I66.3'\n33. 'I63.531'\n34. 'I63.239 ; I65.29'\n35. 'I63.9 ; I69.392 ; R29.810'\n36. 'G81.90 ; G81.92 ; I63.89 ; I69.352'\n37. 'G81.90 ; G81.93 ; I63.89 ; I69.353'\n38. 'G83.9 ; I63.9 ; I69.369'\n39. 'G83.0 ; I63.9 ; I69.365'\n40. 'F01.5 ; I63.9'\n41. 'F01.51 ; I63.9 ; R41.0'\n42. 'I63.112'\n43. 'I63.111'\n44. 'I63.332'\n45. 'I63.012'\n46. 'I63.011'\n47. 'I61.9 ; I69.192 ; R29.810'\n48. 'I62.9 ; I69.292 ; R29.810'\n49. 'G81.90 ; I61.9 ; I69.159'\n50. 'G81.90 ; I60.9 ; I69.059'\n51. 'G83.9 ; I63.89 ; I69.361'\n52. 'G83.0 ; I61.9 ; I69.165'\n53. 'F01.5 ; F22 ; I63.9'\n54. 'G83.9 ; I63.89 ; I69.364'\n\n\n",
            "text/latex": "\\begin{enumerate*}\n\\item 'censored'\n\\item 'G81.90 ; G81.91 ; I63.89 ; I69.351'\n\\item 'I63.411'\n\\item 'I63.511'\n\\item 'G81.90 ; G81.94 ; I63.89 ; I69.354'\n\\item 'I63.512'\n\\item 'G46.4 ; I63.9'\n\\item 'I63.12'\n\\item 'I63.422'\n\\item 'I63.132'\n\\item 'I63.442'\n\\item 'I63.412'\n\\item 'I63.432'\n\\item 'I63.421'\n\\item 'I63.131'\n\\item 'I63.441'\n\\item 'I63.431'\n\\item 'I63.02'\n\\item 'I63.032'\n\\item 'I63.342'\n\\item 'I63.312'\n\\item 'I63.031'\n\\item 'I63.341'\n\\item 'I63.311'\n\\item 'I63.331'\n\\item 'I63.233 ; I65.23'\n\\item 'I63.213 ; I65.03'\n\\item 'I63.522 ; I66.19'\n\\item 'I63.542 ; I66.3'\n\\item 'I63.532'\n\\item 'I63.521'\n\\item 'I63.541 ; I66.3'\n\\item 'I63.531'\n\\item 'I63.239 ; I65.29'\n\\item 'I63.9 ; I69.392 ; R29.810'\n\\item 'G81.90 ; G81.92 ; I63.89 ; I69.352'\n\\item 'G81.90 ; G81.93 ; I63.89 ; I69.353'\n\\item 'G83.9 ; I63.9 ; I69.369'\n\\item 'G83.0 ; I63.9 ; I69.365'\n\\item 'F01.5 ; I63.9'\n\\item 'F01.51 ; I63.9 ; R41.0'\n\\item 'I63.112'\n\\item 'I63.111'\n\\item 'I63.332'\n\\item 'I63.012'\n\\item 'I63.011'\n\\item 'I61.9 ; I69.192 ; R29.810'\n\\item 'I62.9 ; I69.292 ; R29.810'\n\\item 'G81.90 ; I61.9 ; I69.159'\n\\item 'G81.90 ; I60.9 ; I69.059'\n\\item 'G83.9 ; I63.89 ; I69.361'\n\\item 'G83.0 ; I61.9 ; I69.165'\n\\item 'F01.5 ; F22 ; I63.9'\n\\item 'G83.9 ; I63.89 ; I69.364'\n\\end{enumerate*}\n",
            "text/plain": [
              " [1] \"censored\"                           \"G81.90 ; G81.91 ; I63.89 ; I69.351\"\n",
              " [3] \"I63.411\"                            \"I63.511\"                           \n",
              " [5] \"G81.90 ; G81.94 ; I63.89 ; I69.354\" \"I63.512\"                           \n",
              " [7] \"G46.4 ; I63.9\"                      \"I63.12\"                            \n",
              " [9] \"I63.422\"                            \"I63.132\"                           \n",
              "[11] \"I63.442\"                            \"I63.412\"                           \n",
              "[13] \"I63.432\"                            \"I63.421\"                           \n",
              "[15] \"I63.131\"                            \"I63.441\"                           \n",
              "[17] \"I63.431\"                            \"I63.02\"                            \n",
              "[19] \"I63.032\"                            \"I63.342\"                           \n",
              "[21] \"I63.312\"                            \"I63.031\"                           \n",
              "[23] \"I63.341\"                            \"I63.311\"                           \n",
              "[25] \"I63.331\"                            \"I63.233 ; I65.23\"                  \n",
              "[27] \"I63.213 ; I65.03\"                   \"I63.522 ; I66.19\"                  \n",
              "[29] \"I63.542 ; I66.3\"                    \"I63.532\"                           \n",
              "[31] \"I63.521\"                            \"I63.541 ; I66.3\"                   \n",
              "[33] \"I63.531\"                            \"I63.239 ; I65.29\"                  \n",
              "[35] \"I63.9 ; I69.392 ; R29.810\"          \"G81.90 ; G81.92 ; I63.89 ; I69.352\"\n",
              "[37] \"G81.90 ; G81.93 ; I63.89 ; I69.353\" \"G83.9 ; I63.9 ; I69.369\"           \n",
              "[39] \"G83.0 ; I63.9 ; I69.365\"            \"F01.5 ; I63.9\"                     \n",
              "[41] \"F01.51 ; I63.9 ; R41.0\"             \"I63.112\"                           \n",
              "[43] \"I63.111\"                            \"I63.332\"                           \n",
              "[45] \"I63.012\"                            \"I63.011\"                           \n",
              "[47] \"I61.9 ; I69.192 ; R29.810\"          \"I62.9 ; I69.292 ; R29.810\"         \n",
              "[49] \"G81.90 ; I61.9 ; I69.159\"           \"G81.90 ; I60.9 ; I69.059\"          \n",
              "[51] \"G83.9 ; I63.89 ; I69.361\"           \"G83.0 ; I61.9 ; I69.165\"           \n",
              "[53] \"F01.5 ; F22 ; I63.9\"                \"G83.9 ; I63.89 ; I69.364\"          "
            ]
          },
          "metadata": {}
        }
      ]
    },
    {
      "cell_type": "code",
      "source": [
        "# aggragate the data based on icd 10 code\n",
        "data$coded <- ifelse(grepl(\"I60\", data$copy.of.copy.of.cohort.reference.event.condition), \"Subarachnoid haemorrhage, unspecified\",\n",
        "                         ifelse(grepl(\"I61\", data$copy.of.copy.of.cohort.reference.event.condition), \"Intracerebral hemorrhage\",\n",
        "                                ifelse(grepl(\"I62\", data$copy.of.copy.of.cohort.reference.event.condition), \"Intracranial haemorrhage (nontraumatic), unspecified\",\n",
        "                                       ifelse(grepl(\"I63\", data$copy.of.copy.of.cohort.reference.event.condition), \"Cerebral infarction\",\n",
        "                                                      ifelse(grepl(\"censored\", data$copy.of.copy.of.cohort.reference.event.condition), \"censored\",\n",
        "                                                            NA)))))"
      ],
      "metadata": {
        "id": "9tB5RlSAJt3k"
      },
      "execution_count": 206,
      "outputs": []
    },
    {
      "cell_type": "code",
      "source": [
        "#check the aggregated column\n",
        "unique(data$coded)"
      ],
      "metadata": {
        "colab": {
          "base_uri": "https://localhost:8080/",
          "height": 52
        },
        "outputId": "1985846c-5c44-4004-9664-290e4c3bca47",
        "id": "_ct0Y56QJt3k"
      },
      "execution_count": 207,
      "outputs": [
        {
          "output_type": "display_data",
          "data": {
            "text/html": [
              "<style>\n",
              ".list-inline {list-style: none; margin:0; padding: 0}\n",
              ".list-inline>li {display: inline-block}\n",
              ".list-inline>li:not(:last-child)::after {content: \"\\00b7\"; padding: 0 .5ex}\n",
              "</style>\n",
              "<ol class=list-inline><li>'censored'</li><li>'Cerebral infarction'</li><li>'Intracerebral hemorrhage'</li><li>'Intracranial haemorrhage (nontraumatic), unspecified'</li><li>'Subarachnoid haemorrhage, unspecified'</li></ol>\n"
            ],
            "text/markdown": "1. 'censored'\n2. 'Cerebral infarction'\n3. 'Intracerebral hemorrhage'\n4. 'Intracranial haemorrhage (nontraumatic), unspecified'\n5. 'Subarachnoid haemorrhage, unspecified'\n\n\n",
            "text/latex": "\\begin{enumerate*}\n\\item 'censored'\n\\item 'Cerebral infarction'\n\\item 'Intracerebral hemorrhage'\n\\item 'Intracranial haemorrhage (nontraumatic), unspecified'\n\\item 'Subarachnoid haemorrhage, unspecified'\n\\end{enumerate*}\n",
            "text/plain": [
              "[1] \"censored\"                                            \n",
              "[2] \"Cerebral infarction\"                                 \n",
              "[3] \"Intracerebral hemorrhage\"                            \n",
              "[4] \"Intracranial haemorrhage (nontraumatic), unspecified\"\n",
              "[5] \"Subarachnoid haemorrhage, unspecified\"               "
            ]
          },
          "metadata": {}
        }
      ]
    },
    {
      "cell_type": "code",
      "source": [
        "Type_data <- data"
      ],
      "metadata": {
        "id": "-l86QCfSJt3l"
      },
      "execution_count": 208,
      "outputs": []
    },
    {
      "cell_type": "code",
      "source": [
        "table(Type_data$coded)"
      ],
      "metadata": {
        "colab": {
          "base_uri": "https://localhost:8080/",
          "height": 213
        },
        "outputId": "910e869a-8ab8-4022-d2cc-48e7f7d1eb8b",
        "id": "VpcOYW3eJt3l"
      },
      "execution_count": 209,
      "outputs": [
        {
          "output_type": "display_data",
          "data": {
            "text/plain": [
              "\n",
              "                                            censored \n",
              "                                                 595 \n",
              "                                 Cerebral infarction \n",
              "                                               28658 \n",
              "                            Intracerebral hemorrhage \n",
              "                                                  54 \n",
              "Intracranial haemorrhage (nontraumatic), unspecified \n",
              "                                                   9 \n",
              "               Subarachnoid haemorrhage, unspecified \n",
              "                                                   4 "
            ]
          },
          "metadata": {}
        }
      ]
    },
    {
      "cell_type": "code",
      "source": [
        "##save the counts\n",
        "# Assuming 'type_counts' is a table\n",
        "type_counts <- table(Type_data$coded)\n",
        "\n",
        "# Add a sum row\n",
        "type_counts_with_sum <- addmargins(type_counts, FUN = list(Total = sum))\n",
        "\n",
        "# Convert the table to a data frame\n",
        "type_counts_df <- as.data.frame(type_counts_with_sum)\n",
        "\n",
        "# Save the table as a CSV file\n",
        "write.csv(type_counts_df, \"Stroke_.csv\", row.names = FALSE)\n"
      ],
      "metadata": {
        "id": "N0bnw9s2Jt3l"
      },
      "execution_count": 210,
      "outputs": []
    },
    {
      "cell_type": "code",
      "source": [
        "#visual the counts\n",
        "type_counts_df"
      ],
      "metadata": {
        "colab": {
          "base_uri": "https://localhost:8080/",
          "height": 286
        },
        "outputId": "d623fc73-081c-4fd4-e796-0f971db55bcf",
        "id": "lhrXUdwGJt3l"
      },
      "execution_count": 211,
      "outputs": [
        {
          "output_type": "display_data",
          "data": {
            "text/html": [
              "<table class=\"dataframe\">\n",
              "<caption>A data.frame: 6 × 2</caption>\n",
              "<thead>\n",
              "\t<tr><th scope=col>Var1</th><th scope=col>Freq</th></tr>\n",
              "\t<tr><th scope=col>&lt;fct&gt;</th><th scope=col>&lt;dbl&gt;</th></tr>\n",
              "</thead>\n",
              "<tbody>\n",
              "\t<tr><td>censored                                            </td><td>  595</td></tr>\n",
              "\t<tr><td>Cerebral infarction                                 </td><td>28658</td></tr>\n",
              "\t<tr><td>Intracerebral hemorrhage                            </td><td>   54</td></tr>\n",
              "\t<tr><td>Intracranial haemorrhage (nontraumatic), unspecified</td><td>    9</td></tr>\n",
              "\t<tr><td>Subarachnoid haemorrhage, unspecified               </td><td>    4</td></tr>\n",
              "\t<tr><td>Total                                               </td><td>29320</td></tr>\n",
              "</tbody>\n",
              "</table>\n"
            ],
            "text/markdown": "\nA data.frame: 6 × 2\n\n| Var1 &lt;fct&gt; | Freq &lt;dbl&gt; |\n|---|---|\n| censored                                             |   595 |\n| Cerebral infarction                                  | 28658 |\n| Intracerebral hemorrhage                             |    54 |\n| Intracranial haemorrhage (nontraumatic), unspecified |     9 |\n| Subarachnoid haemorrhage, unspecified                |     4 |\n| Total                                                | 29320 |\n\n",
            "text/latex": "A data.frame: 6 × 2\n\\begin{tabular}{ll}\n Var1 & Freq\\\\\n <fct> & <dbl>\\\\\n\\hline\n\t censored                                             &   595\\\\\n\t Cerebral infarction                                  & 28658\\\\\n\t Intracerebral hemorrhage                             &    54\\\\\n\t Intracranial haemorrhage (nontraumatic), unspecified &     9\\\\\n\t Subarachnoid haemorrhage, unspecified                &     4\\\\\n\t Total                                                & 29320\\\\\n\\end{tabular}\n",
            "text/plain": [
              "  Var1                                                 Freq \n",
              "1 censored                                               595\n",
              "2 Cerebral infarction                                  28658\n",
              "3 Intracerebral hemorrhage                                54\n",
              "4 Intracranial haemorrhage (nontraumatic), unspecified     9\n",
              "5 Subarachnoid haemorrhage, unspecified                    4\n",
              "6 Total                                                29320"
            ]
          },
          "metadata": {}
        }
      ]
    },
    {
      "cell_type": "markdown",
      "source": [
        "# AD"
      ],
      "metadata": {
        "id": "vYooLRwiJu5U"
      }
    },
    {
      "cell_type": "code",
      "source": [
        "#load the data\n",
        "data <- read.csv(\"/content/AD.csv\")"
      ],
      "metadata": {
        "id": "2RXu1Y8fJu5i"
      },
      "execution_count": 212,
      "outputs": []
    },
    {
      "cell_type": "code",
      "source": [
        "#check the data\n",
        "head(data)"
      ],
      "metadata": {
        "colab": {
          "base_uri": "https://localhost:8080/",
          "height": 306
        },
        "outputId": "f0fab30f-6ec7-44fe-d3f8-6214377b515c",
        "id": "QgPASPP6Ju5i"
      },
      "execution_count": 213,
      "outputs": [
        {
          "output_type": "display_data",
          "data": {
            "text/html": [
              "<table class=\"dataframe\">\n",
              "<caption>A data.frame: 6 × 9</caption>\n",
              "<thead>\n",
              "\t<tr><th></th><th scope=col>date.of.birth</th><th scope=col>gender.at.birth</th><th scope=col>ethnicity</th><th scope=col>race...primary</th><th scope=col>cohort.reference.event.age.at.event</th><th scope=col>cohort.reference.event.condition</th><th scope=col>copy.of.cohort.reference.event.condition</th><th scope=col>cohort.reference.event.problem.onset.date.time</th><th scope=col>cohort.reference.event.condition.type</th></tr>\n",
              "\t<tr><th></th><th scope=col>&lt;int&gt;</th><th scope=col>&lt;chr&gt;</th><th scope=col>&lt;chr&gt;</th><th scope=col>&lt;chr&gt;</th><th scope=col>&lt;dbl&gt;</th><th scope=col>&lt;chr&gt;</th><th scope=col>&lt;chr&gt;</th><th scope=col>&lt;chr&gt;</th><th scope=col>&lt;chr&gt;</th></tr>\n",
              "</thead>\n",
              "<tbody>\n",
              "\t<tr><th scope=row>1</th><td>1936</td><td>FEMALE</td><td>censored</td><td>censored</td><td>79.86042</td><td>censored</td><td>censored</td><td>2016-01-29 06:35:11</td><td>Diagnosis</td></tr>\n",
              "\t<tr><th scope=row>2</th><td>1937</td><td>FEMALE</td><td>censored</td><td>censored</td><td>70.90827</td><td>censored</td><td>censored</td><td>2009-01-23 12:02:26</td><td>Diagnosis</td></tr>\n",
              "\t<tr><th scope=row>3</th><td>1937</td><td>FEMALE</td><td>censored</td><td>censored</td><td>74.64066</td><td>censored</td><td>censored</td><td>2011-09-29 03:02:57</td><td>Diagnosis</td></tr>\n",
              "\t<tr><th scope=row>4</th><td>1937</td><td>FEMALE</td><td>censored</td><td>censored</td><td>85.11081</td><td>censored</td><td>censored</td><td>2021-05-23 23:59:59</td><td>Diagnosis</td></tr>\n",
              "\t<tr><th scope=row>5</th><td>1936</td><td>FEMALE</td><td>censored</td><td>censored</td><td>75.16006</td><td>censored</td><td>censored</td><td>2011-07-27 00:19:10</td><td>Diagnosis</td></tr>\n",
              "\t<tr><th scope=row>6</th><td>1946</td><td>FEMALE</td><td>censored</td><td>censored</td><td>72.90121</td><td>censored</td><td>censored</td><td>2018-09-10 23:59:59</td><td>Diagnosis</td></tr>\n",
              "</tbody>\n",
              "</table>\n"
            ],
            "text/markdown": "\nA data.frame: 6 × 9\n\n| <!--/--> | date.of.birth &lt;int&gt; | gender.at.birth &lt;chr&gt; | ethnicity &lt;chr&gt; | race...primary &lt;chr&gt; | cohort.reference.event.age.at.event &lt;dbl&gt; | cohort.reference.event.condition &lt;chr&gt; | copy.of.cohort.reference.event.condition &lt;chr&gt; | cohort.reference.event.problem.onset.date.time &lt;chr&gt; | cohort.reference.event.condition.type &lt;chr&gt; |\n|---|---|---|---|---|---|---|---|---|---|\n| 1 | 1936 | FEMALE | censored | censored | 79.86042 | censored | censored | 2016-01-29 06:35:11 | Diagnosis |\n| 2 | 1937 | FEMALE | censored | censored | 70.90827 | censored | censored | 2009-01-23 12:02:26 | Diagnosis |\n| 3 | 1937 | FEMALE | censored | censored | 74.64066 | censored | censored | 2011-09-29 03:02:57 | Diagnosis |\n| 4 | 1937 | FEMALE | censored | censored | 85.11081 | censored | censored | 2021-05-23 23:59:59 | Diagnosis |\n| 5 | 1936 | FEMALE | censored | censored | 75.16006 | censored | censored | 2011-07-27 00:19:10 | Diagnosis |\n| 6 | 1946 | FEMALE | censored | censored | 72.90121 | censored | censored | 2018-09-10 23:59:59 | Diagnosis |\n\n",
            "text/latex": "A data.frame: 6 × 9\n\\begin{tabular}{r|lllllllll}\n  & date.of.birth & gender.at.birth & ethnicity & race...primary & cohort.reference.event.age.at.event & cohort.reference.event.condition & copy.of.cohort.reference.event.condition & cohort.reference.event.problem.onset.date.time & cohort.reference.event.condition.type\\\\\n  & <int> & <chr> & <chr> & <chr> & <dbl> & <chr> & <chr> & <chr> & <chr>\\\\\n\\hline\n\t1 & 1936 & FEMALE & censored & censored & 79.86042 & censored & censored & 2016-01-29 06:35:11 & Diagnosis\\\\\n\t2 & 1937 & FEMALE & censored & censored & 70.90827 & censored & censored & 2009-01-23 12:02:26 & Diagnosis\\\\\n\t3 & 1937 & FEMALE & censored & censored & 74.64066 & censored & censored & 2011-09-29 03:02:57 & Diagnosis\\\\\n\t4 & 1937 & FEMALE & censored & censored & 85.11081 & censored & censored & 2021-05-23 23:59:59 & Diagnosis\\\\\n\t5 & 1936 & FEMALE & censored & censored & 75.16006 & censored & censored & 2011-07-27 00:19:10 & Diagnosis\\\\\n\t6 & 1946 & FEMALE & censored & censored & 72.90121 & censored & censored & 2018-09-10 23:59:59 & Diagnosis\\\\\n\\end{tabular}\n",
            "text/plain": [
              "  date.of.birth gender.at.birth ethnicity race...primary\n",
              "1 1936          FEMALE          censored  censored      \n",
              "2 1937          FEMALE          censored  censored      \n",
              "3 1937          FEMALE          censored  censored      \n",
              "4 1937          FEMALE          censored  censored      \n",
              "5 1936          FEMALE          censored  censored      \n",
              "6 1946          FEMALE          censored  censored      \n",
              "  cohort.reference.event.age.at.event cohort.reference.event.condition\n",
              "1 79.86042                            censored                        \n",
              "2 70.90827                            censored                        \n",
              "3 74.64066                            censored                        \n",
              "4 85.11081                            censored                        \n",
              "5 75.16006                            censored                        \n",
              "6 72.90121                            censored                        \n",
              "  copy.of.cohort.reference.event.condition\n",
              "1 censored                                \n",
              "2 censored                                \n",
              "3 censored                                \n",
              "4 censored                                \n",
              "5 censored                                \n",
              "6 censored                                \n",
              "  cohort.reference.event.problem.onset.date.time\n",
              "1 2016-01-29 06:35:11                           \n",
              "2 2009-01-23 12:02:26                           \n",
              "3 2011-09-29 03:02:57                           \n",
              "4 2021-05-23 23:59:59                           \n",
              "5 2011-07-27 00:19:10                           \n",
              "6 2018-09-10 23:59:59                           \n",
              "  cohort.reference.event.condition.type\n",
              "1 Diagnosis                            \n",
              "2 Diagnosis                            \n",
              "3 Diagnosis                            \n",
              "4 Diagnosis                            \n",
              "5 Diagnosis                            \n",
              "6 Diagnosis                            "
            ]
          },
          "metadata": {}
        }
      ]
    },
    {
      "cell_type": "code",
      "source": [
        "#check the dimention of the data\n",
        "dim(data)"
      ],
      "metadata": {
        "colab": {
          "base_uri": "https://localhost:8080/",
          "height": 34
        },
        "outputId": "43aacaaa-3f33-4e52-a8b7-e0437262ad18",
        "id": "J7MhwfIGJu5j"
      },
      "execution_count": 214,
      "outputs": [
        {
          "output_type": "display_data",
          "data": {
            "text/html": [
              "<style>\n",
              ".list-inline {list-style: none; margin:0; padding: 0}\n",
              ".list-inline>li {display: inline-block}\n",
              ".list-inline>li:not(:last-child)::after {content: \"\\00b7\"; padding: 0 .5ex}\n",
              "</style>\n",
              "<ol class=list-inline><li>40140</li><li>9</li></ol>\n"
            ],
            "text/markdown": "1. 40140\n2. 9\n\n\n",
            "text/latex": "\\begin{enumerate*}\n\\item 40140\n\\item 9\n\\end{enumerate*}\n",
            "text/plain": [
              "[1] 40140     9"
            ]
          },
          "metadata": {}
        }
      ]
    },
    {
      "cell_type": "code",
      "source": [
        "unique(data$cohort.reference.event.condition.type)"
      ],
      "metadata": {
        "colab": {
          "base_uri": "https://localhost:8080/",
          "height": 34
        },
        "id": "wSDmGux2cIY7",
        "outputId": "51981d1a-9973-44ac-efd8-29fceef9d899"
      },
      "execution_count": 215,
      "outputs": [
        {
          "output_type": "display_data",
          "data": {
            "text/html": [
              "'Diagnosis'"
            ],
            "text/markdown": "'Diagnosis'",
            "text/latex": "'Diagnosis'",
            "text/plain": [
              "[1] \"Diagnosis\""
            ]
          },
          "metadata": {}
        }
      ]
    },
    {
      "cell_type": "code",
      "source": [
        "#check the unique type in icd 10 code column\n",
        "unique(data$copy.of.cohort.reference.event.condition)"
      ],
      "metadata": {
        "colab": {
          "base_uri": "https://localhost:8080/",
          "height": 34
        },
        "outputId": "27f1d371-7d99-423c-f46b-06c11ee17139",
        "id": "2RBbk0W_Ju5j"
      },
      "execution_count": 216,
      "outputs": [
        {
          "output_type": "display_data",
          "data": {
            "text/html": [
              "<style>\n",
              ".list-inline {list-style: none; margin:0; padding: 0}\n",
              ".list-inline>li {display: inline-block}\n",
              ".list-inline>li:not(:last-child)::after {content: \"\\00b7\"; padding: 0 .5ex}\n",
              "</style>\n",
              "<ol class=list-inline><li>'censored'</li><li>'F02.8 ; G30.0'</li><li>'F02.8 ; G30.8'</li><li>'F02.8 ; G30.9'</li><li>'F02.8 ; G30.1'</li></ol>\n"
            ],
            "text/markdown": "1. 'censored'\n2. 'F02.8 ; G30.0'\n3. 'F02.8 ; G30.8'\n4. 'F02.8 ; G30.9'\n5. 'F02.8 ; G30.1'\n\n\n",
            "text/latex": "\\begin{enumerate*}\n\\item 'censored'\n\\item 'F02.8 ; G30.0'\n\\item 'F02.8 ; G30.8'\n\\item 'F02.8 ; G30.9'\n\\item 'F02.8 ; G30.1'\n\\end{enumerate*}\n",
            "text/plain": [
              "[1] \"censored\"      \"F02.8 ; G30.0\" \"F02.8 ; G30.8\" \"F02.8 ; G30.9\"\n",
              "[5] \"F02.8 ; G30.1\""
            ]
          },
          "metadata": {}
        }
      ]
    },
    {
      "cell_type": "code",
      "source": [
        "# aggragate the data based on icd 10 code\n",
        "data$coded <- ifelse(grepl(\"G30\", data$copy.of.cohort.reference.event.condition), \"Alzheimer disease\",\n",
        "                        ifelse(grepl(\"censored\", data$copy.of.cohort.reference.event.condition), \"censored\",\n",
        "                                                            NA))"
      ],
      "metadata": {
        "id": "DYJN0I6ZJu5j"
      },
      "execution_count": 217,
      "outputs": []
    },
    {
      "cell_type": "code",
      "source": [
        "#check the aggregated column\n",
        "unique(data$coded)"
      ],
      "metadata": {
        "colab": {
          "base_uri": "https://localhost:8080/",
          "height": 34
        },
        "outputId": "0881d4f3-a5e2-40dd-fa7e-61e4eedcaf01",
        "id": "js8W1N7pJu5j"
      },
      "execution_count": 218,
      "outputs": [
        {
          "output_type": "display_data",
          "data": {
            "text/html": [
              "<style>\n",
              ".list-inline {list-style: none; margin:0; padding: 0}\n",
              ".list-inline>li {display: inline-block}\n",
              ".list-inline>li:not(:last-child)::after {content: \"\\00b7\"; padding: 0 .5ex}\n",
              "</style>\n",
              "<ol class=list-inline><li>'censored'</li><li>'Alzheimer disease'</li></ol>\n"
            ],
            "text/markdown": "1. 'censored'\n2. 'Alzheimer disease'\n\n\n",
            "text/latex": "\\begin{enumerate*}\n\\item 'censored'\n\\item 'Alzheimer disease'\n\\end{enumerate*}\n",
            "text/plain": [
              "[1] \"censored\"          \"Alzheimer disease\""
            ]
          },
          "metadata": {}
        }
      ]
    },
    {
      "cell_type": "code",
      "source": [
        "Type_data <- data"
      ],
      "metadata": {
        "id": "Bo_6VPX-Ju5j"
      },
      "execution_count": 219,
      "outputs": []
    },
    {
      "cell_type": "code",
      "source": [
        "table(Type_data$coded)"
      ],
      "metadata": {
        "colab": {
          "base_uri": "https://localhost:8080/",
          "height": 71
        },
        "outputId": "e915d710-a505-4fca-fb76-c346a94df97e",
        "id": "PLAtgPOyJu5j"
      },
      "execution_count": 220,
      "outputs": [
        {
          "output_type": "display_data",
          "data": {
            "text/plain": [
              "\n",
              "Alzheimer disease          censored \n",
              "            40134                 6 "
            ]
          },
          "metadata": {}
        }
      ]
    },
    {
      "cell_type": "code",
      "source": [
        "##save the counts\n",
        "# Assuming 'type_counts' is a table\n",
        "type_counts <- table(Type_data$coded)\n",
        "\n",
        "# Add a sum row\n",
        "type_counts_with_sum <- addmargins(type_counts, FUN = list(Total = sum))\n",
        "\n",
        "# Convert the table to a data frame\n",
        "type_counts_df <- as.data.frame(type_counts_with_sum)\n",
        "\n",
        "# Save the table as a CSV file\n",
        "write.csv(type_counts_df, \"AD_.csv\", row.names = FALSE)\n"
      ],
      "metadata": {
        "id": "kchdhaMOJu5k"
      },
      "execution_count": 221,
      "outputs": []
    },
    {
      "cell_type": "code",
      "source": [
        "#visual the counts\n",
        "type_counts_df"
      ],
      "metadata": {
        "colab": {
          "base_uri": "https://localhost:8080/",
          "height": 192
        },
        "outputId": "cba69892-7a94-49aa-8252-522850027b6e",
        "id": "k_-dx3vBJu5k"
      },
      "execution_count": 222,
      "outputs": [
        {
          "output_type": "display_data",
          "data": {
            "text/html": [
              "<table class=\"dataframe\">\n",
              "<caption>A data.frame: 3 × 2</caption>\n",
              "<thead>\n",
              "\t<tr><th scope=col>Var1</th><th scope=col>Freq</th></tr>\n",
              "\t<tr><th scope=col>&lt;fct&gt;</th><th scope=col>&lt;dbl&gt;</th></tr>\n",
              "</thead>\n",
              "<tbody>\n",
              "\t<tr><td>Alzheimer disease</td><td>40134</td></tr>\n",
              "\t<tr><td>censored         </td><td>    6</td></tr>\n",
              "\t<tr><td>Total            </td><td>40140</td></tr>\n",
              "</tbody>\n",
              "</table>\n"
            ],
            "text/markdown": "\nA data.frame: 3 × 2\n\n| Var1 &lt;fct&gt; | Freq &lt;dbl&gt; |\n|---|---|\n| Alzheimer disease | 40134 |\n| censored          |     6 |\n| Total             | 40140 |\n\n",
            "text/latex": "A data.frame: 3 × 2\n\\begin{tabular}{ll}\n Var1 & Freq\\\\\n <fct> & <dbl>\\\\\n\\hline\n\t Alzheimer disease & 40134\\\\\n\t censored          &     6\\\\\n\t Total             & 40140\\\\\n\\end{tabular}\n",
            "text/plain": [
              "  Var1              Freq \n",
              "1 Alzheimer disease 40134\n",
              "2 censored              6\n",
              "3 Total             40140"
            ]
          },
          "metadata": {}
        }
      ]
    },
    {
      "cell_type": "markdown",
      "source": [
        "# CKD"
      ],
      "metadata": {
        "id": "hw9aqgeOJv2n"
      }
    },
    {
      "cell_type": "code",
      "source": [
        "#load the data\n",
        "data <- read.csv(\"/content/CKD.csv\")"
      ],
      "metadata": {
        "id": "fuxGR-ZrJv21"
      },
      "execution_count": 223,
      "outputs": []
    },
    {
      "cell_type": "code",
      "source": [
        "#check the data\n",
        "head(data)"
      ],
      "metadata": {
        "colab": {
          "base_uri": "https://localhost:8080/",
          "height": 723
        },
        "outputId": "921bb86b-2dfe-4673-c82a-87c8ac79743f",
        "id": "kopoCTaeJv22"
      },
      "execution_count": 224,
      "outputs": [
        {
          "output_type": "display_data",
          "data": {
            "text/html": [
              "<table class=\"dataframe\">\n",
              "<caption>A data.frame: 6 × 9</caption>\n",
              "<thead>\n",
              "\t<tr><th></th><th scope=col>date.of.birth</th><th scope=col>gender.at.birth</th><th scope=col>ethnicity</th><th scope=col>race...primary</th><th scope=col>cohort.reference.event.age.at.event</th><th scope=col>cohort.reference.event.condition</th><th scope=col>copy.of.cohort.reference.event.condition</th><th scope=col>cohort.reference.event.problem.onset.date.time</th><th scope=col>cohort.reference.event.condition.type</th></tr>\n",
              "\t<tr><th></th><th scope=col>&lt;int&gt;</th><th scope=col>&lt;chr&gt;</th><th scope=col>&lt;chr&gt;</th><th scope=col>&lt;chr&gt;</th><th scope=col>&lt;dbl&gt;</th><th scope=col>&lt;chr&gt;</th><th scope=col>&lt;chr&gt;</th><th scope=col>&lt;chr&gt;</th><th scope=col>&lt;chr&gt;</th></tr>\n",
              "</thead>\n",
              "<tbody>\n",
              "\t<tr><th scope=row>1</th><td>1965</td><td>FEMALE</td><td>Ethnic group not given - patient refused</td><td>Asian                    </td><td>53.76881</td><td>censored</td><td>censored</td><td>2019-02-12 23:59:59</td><td>Diagnosis</td></tr>\n",
              "\t<tr><th scope=row>2</th><td>1940</td><td>FEMALE</td><td>Ethnic group not given - patient refused</td><td>Asian                    </td><td>84.83995</td><td>censored</td><td>censored</td><td>2023-11-08 15:11:16</td><td>Diagnosis</td></tr>\n",
              "\t<tr><th scope=row>3</th><td>1945</td><td>FEMALE</td><td>Ethnic group not given - patient refused</td><td>Asian                    </td><td>79.52836</td><td>censored</td><td>censored</td><td>2023-09-18 11:32:16</td><td>Diagnosis</td></tr>\n",
              "\t<tr><th scope=row>4</th><td>1930</td><td>FEMALE</td><td>Ethnic group not given - patient refused</td><td>Asian                    </td><td>90.13395</td><td>censored</td><td>censored</td><td>2022-09-12 10:16:17</td><td>Diagnosis</td></tr>\n",
              "\t<tr><th scope=row>5</th><td>1951</td><td>FEMALE</td><td>Ethnic group not given - patient refused</td><td>Black or African American</td><td>64.79057</td><td>censored</td><td>censored</td><td>2017-08-29 17:28:31</td><td>Diagnosis</td></tr>\n",
              "\t<tr><th scope=row>6</th><td>1930</td><td>FEMALE</td><td>Ethnic group not given - patient refused</td><td>Black or African American</td><td>86.80637</td><td>censored</td><td>censored</td><td>2016-09-14 18:20:59</td><td>Diagnosis</td></tr>\n",
              "</tbody>\n",
              "</table>\n"
            ],
            "text/markdown": "\nA data.frame: 6 × 9\n\n| <!--/--> | date.of.birth &lt;int&gt; | gender.at.birth &lt;chr&gt; | ethnicity &lt;chr&gt; | race...primary &lt;chr&gt; | cohort.reference.event.age.at.event &lt;dbl&gt; | cohort.reference.event.condition &lt;chr&gt; | copy.of.cohort.reference.event.condition &lt;chr&gt; | cohort.reference.event.problem.onset.date.time &lt;chr&gt; | cohort.reference.event.condition.type &lt;chr&gt; |\n|---|---|---|---|---|---|---|---|---|---|\n| 1 | 1965 | FEMALE | Ethnic group not given - patient refused | Asian                     | 53.76881 | censored | censored | 2019-02-12 23:59:59 | Diagnosis |\n| 2 | 1940 | FEMALE | Ethnic group not given - patient refused | Asian                     | 84.83995 | censored | censored | 2023-11-08 15:11:16 | Diagnosis |\n| 3 | 1945 | FEMALE | Ethnic group not given - patient refused | Asian                     | 79.52836 | censored | censored | 2023-09-18 11:32:16 | Diagnosis |\n| 4 | 1930 | FEMALE | Ethnic group not given - patient refused | Asian                     | 90.13395 | censored | censored | 2022-09-12 10:16:17 | Diagnosis |\n| 5 | 1951 | FEMALE | Ethnic group not given - patient refused | Black or African American | 64.79057 | censored | censored | 2017-08-29 17:28:31 | Diagnosis |\n| 6 | 1930 | FEMALE | Ethnic group not given - patient refused | Black or African American | 86.80637 | censored | censored | 2016-09-14 18:20:59 | Diagnosis |\n\n",
            "text/latex": "A data.frame: 6 × 9\n\\begin{tabular}{r|lllllllll}\n  & date.of.birth & gender.at.birth & ethnicity & race...primary & cohort.reference.event.age.at.event & cohort.reference.event.condition & copy.of.cohort.reference.event.condition & cohort.reference.event.problem.onset.date.time & cohort.reference.event.condition.type\\\\\n  & <int> & <chr> & <chr> & <chr> & <dbl> & <chr> & <chr> & <chr> & <chr>\\\\\n\\hline\n\t1 & 1965 & FEMALE & Ethnic group not given - patient refused & Asian                     & 53.76881 & censored & censored & 2019-02-12 23:59:59 & Diagnosis\\\\\n\t2 & 1940 & FEMALE & Ethnic group not given - patient refused & Asian                     & 84.83995 & censored & censored & 2023-11-08 15:11:16 & Diagnosis\\\\\n\t3 & 1945 & FEMALE & Ethnic group not given - patient refused & Asian                     & 79.52836 & censored & censored & 2023-09-18 11:32:16 & Diagnosis\\\\\n\t4 & 1930 & FEMALE & Ethnic group not given - patient refused & Asian                     & 90.13395 & censored & censored & 2022-09-12 10:16:17 & Diagnosis\\\\\n\t5 & 1951 & FEMALE & Ethnic group not given - patient refused & Black or African American & 64.79057 & censored & censored & 2017-08-29 17:28:31 & Diagnosis\\\\\n\t6 & 1930 & FEMALE & Ethnic group not given - patient refused & Black or African American & 86.80637 & censored & censored & 2016-09-14 18:20:59 & Diagnosis\\\\\n\\end{tabular}\n",
            "text/plain": [
              "  date.of.birth gender.at.birth ethnicity                               \n",
              "1 1965          FEMALE          Ethnic group not given - patient refused\n",
              "2 1940          FEMALE          Ethnic group not given - patient refused\n",
              "3 1945          FEMALE          Ethnic group not given - patient refused\n",
              "4 1930          FEMALE          Ethnic group not given - patient refused\n",
              "5 1951          FEMALE          Ethnic group not given - patient refused\n",
              "6 1930          FEMALE          Ethnic group not given - patient refused\n",
              "  race...primary            cohort.reference.event.age.at.event\n",
              "1 Asian                     53.76881                           \n",
              "2 Asian                     84.83995                           \n",
              "3 Asian                     79.52836                           \n",
              "4 Asian                     90.13395                           \n",
              "5 Black or African American 64.79057                           \n",
              "6 Black or African American 86.80637                           \n",
              "  cohort.reference.event.condition copy.of.cohort.reference.event.condition\n",
              "1 censored                         censored                                \n",
              "2 censored                         censored                                \n",
              "3 censored                         censored                                \n",
              "4 censored                         censored                                \n",
              "5 censored                         censored                                \n",
              "6 censored                         censored                                \n",
              "  cohort.reference.event.problem.onset.date.time\n",
              "1 2019-02-12 23:59:59                           \n",
              "2 2023-11-08 15:11:16                           \n",
              "3 2023-09-18 11:32:16                           \n",
              "4 2022-09-12 10:16:17                           \n",
              "5 2017-08-29 17:28:31                           \n",
              "6 2016-09-14 18:20:59                           \n",
              "  cohort.reference.event.condition.type\n",
              "1 Diagnosis                            \n",
              "2 Diagnosis                            \n",
              "3 Diagnosis                            \n",
              "4 Diagnosis                            \n",
              "5 Diagnosis                            \n",
              "6 Diagnosis                            "
            ]
          },
          "metadata": {}
        }
      ]
    },
    {
      "cell_type": "code",
      "source": [
        "#check the dimention of the data\n",
        "dim(data)"
      ],
      "metadata": {
        "colab": {
          "base_uri": "https://localhost:8080/",
          "height": 34
        },
        "outputId": "c18299f4-1102-432b-dabf-91d82c1596b2",
        "id": "9odKWm3uJv22"
      },
      "execution_count": 225,
      "outputs": [
        {
          "output_type": "display_data",
          "data": {
            "text/html": [
              "<style>\n",
              ".list-inline {list-style: none; margin:0; padding: 0}\n",
              ".list-inline>li {display: inline-block}\n",
              ".list-inline>li:not(:last-child)::after {content: \"\\00b7\"; padding: 0 .5ex}\n",
              "</style>\n",
              "<ol class=list-inline><li>205300</li><li>9</li></ol>\n"
            ],
            "text/markdown": "1. 205300\n2. 9\n\n\n",
            "text/latex": "\\begin{enumerate*}\n\\item 205300\n\\item 9\n\\end{enumerate*}\n",
            "text/plain": [
              "[1] 205300      9"
            ]
          },
          "metadata": {}
        }
      ]
    },
    {
      "cell_type": "code",
      "source": [
        "#check the unique type in icd 10 code column\n",
        "unique(data$copy.of.cohort.reference.event.condition)"
      ],
      "metadata": {
        "colab": {
          "base_uri": "https://localhost:8080/",
          "height": 139
        },
        "outputId": "acda44c6-01ab-406a-ffe4-180747ba18ef",
        "id": "Ndm6fatSJv22"
      },
      "execution_count": 226,
      "outputs": [
        {
          "output_type": "display_data",
          "data": {
            "text/html": [
              "<style>\n",
              ".list-inline {list-style: none; margin:0; padding: 0}\n",
              ".list-inline>li {display: inline-block}\n",
              ".list-inline>li:not(:last-child)::after {content: \"\\00b7\"; padding: 0 .5ex}\n",
              "</style>\n",
              "<ol class=list-inline><li>'censored'</li><li>'N18.2'</li><li>'N18.9 ; N19'</li><li>'I12.9 ; I13.0 ; I50.9 ; N18.6 ; N18.9'</li><li>'N18.3'</li><li>'N18.30'</li><li>'N18.31'</li><li>'N18.32'</li><li>'N18.4'</li><li>'I12.0 ; I13.2 ; I50.9 ; N18.5 ; N18.6'</li><li>'N18.1'</li><li>'N18.5'</li><li>'I12.9 ; I13.10 ; N18.9'</li><li>'I12.9 ; N18.9 ; N26.9'</li><li>'I12.9 ; I15.1 ; N18.9'</li><li>'I12.0 ; I12.9 ; N18.5 ; N18.6 ; N18.9'</li><li>'C64.9 ; I10 ; I12.9 ; N18.9'</li><li>'C64.9 ; I10 ; I12.0 ; N18.5 ; N18.6'</li><li>'C38.0 ; C64.9 ; I10 ; I12.9 ; I13 ; I50.9 ; N18.6 ; N18.9'</li><li>'C38.0 ; C64.9 ; I10 ; I12.0 ; I12.9 ; I13 ; I50.9 ; N18.5 ; N18.6 ; N18.9'</li><li>'C38.0 ; C64.9 ; I10 ; I12.9 ; I13 ; N18.9'</li><li>'C38.0 ; C64.9 ; I10 ; I12.0 ; I13 ; N18.5 ; N18.6 ; N18.9'</li><li>'I12.9 ; I13 ; I50.9 ; N18.6 ; N18.9'</li><li>'I12.9 ; N18.9 ; O10.211 ; Z33.1'</li><li>'I12.9 ; N18.9 ; O10.212 ; Z34.92'</li><li>'I12.9 ; N18.9 ; O10.213 ; Z33.1'</li><li>'I12.9 ; I13 ; I50.9 ; N18.6 ; N18.9 ; N19'</li></ol>\n"
            ],
            "text/markdown": "1. 'censored'\n2. 'N18.2'\n3. 'N18.9 ; N19'\n4. 'I12.9 ; I13.0 ; I50.9 ; N18.6 ; N18.9'\n5. 'N18.3'\n6. 'N18.30'\n7. 'N18.31'\n8. 'N18.32'\n9. 'N18.4'\n10. 'I12.0 ; I13.2 ; I50.9 ; N18.5 ; N18.6'\n11. 'N18.1'\n12. 'N18.5'\n13. 'I12.9 ; I13.10 ; N18.9'\n14. 'I12.9 ; N18.9 ; N26.9'\n15. 'I12.9 ; I15.1 ; N18.9'\n16. 'I12.0 ; I12.9 ; N18.5 ; N18.6 ; N18.9'\n17. 'C64.9 ; I10 ; I12.9 ; N18.9'\n18. 'C64.9 ; I10 ; I12.0 ; N18.5 ; N18.6'\n19. 'C38.0 ; C64.9 ; I10 ; I12.9 ; I13 ; I50.9 ; N18.6 ; N18.9'\n20. 'C38.0 ; C64.9 ; I10 ; I12.0 ; I12.9 ; I13 ; I50.9 ; N18.5 ; N18.6 ; N18.9'\n21. 'C38.0 ; C64.9 ; I10 ; I12.9 ; I13 ; N18.9'\n22. 'C38.0 ; C64.9 ; I10 ; I12.0 ; I13 ; N18.5 ; N18.6 ; N18.9'\n23. 'I12.9 ; I13 ; I50.9 ; N18.6 ; N18.9'\n24. 'I12.9 ; N18.9 ; O10.211 ; Z33.1'\n25. 'I12.9 ; N18.9 ; O10.212 ; Z34.92'\n26. 'I12.9 ; N18.9 ; O10.213 ; Z33.1'\n27. 'I12.9 ; I13 ; I50.9 ; N18.6 ; N18.9 ; N19'\n\n\n",
            "text/latex": "\\begin{enumerate*}\n\\item 'censored'\n\\item 'N18.2'\n\\item 'N18.9 ; N19'\n\\item 'I12.9 ; I13.0 ; I50.9 ; N18.6 ; N18.9'\n\\item 'N18.3'\n\\item 'N18.30'\n\\item 'N18.31'\n\\item 'N18.32'\n\\item 'N18.4'\n\\item 'I12.0 ; I13.2 ; I50.9 ; N18.5 ; N18.6'\n\\item 'N18.1'\n\\item 'N18.5'\n\\item 'I12.9 ; I13.10 ; N18.9'\n\\item 'I12.9 ; N18.9 ; N26.9'\n\\item 'I12.9 ; I15.1 ; N18.9'\n\\item 'I12.0 ; I12.9 ; N18.5 ; N18.6 ; N18.9'\n\\item 'C64.9 ; I10 ; I12.9 ; N18.9'\n\\item 'C64.9 ; I10 ; I12.0 ; N18.5 ; N18.6'\n\\item 'C38.0 ; C64.9 ; I10 ; I12.9 ; I13 ; I50.9 ; N18.6 ; N18.9'\n\\item 'C38.0 ; C64.9 ; I10 ; I12.0 ; I12.9 ; I13 ; I50.9 ; N18.5 ; N18.6 ; N18.9'\n\\item 'C38.0 ; C64.9 ; I10 ; I12.9 ; I13 ; N18.9'\n\\item 'C38.0 ; C64.9 ; I10 ; I12.0 ; I13 ; N18.5 ; N18.6 ; N18.9'\n\\item 'I12.9 ; I13 ; I50.9 ; N18.6 ; N18.9'\n\\item 'I12.9 ; N18.9 ; O10.211 ; Z33.1'\n\\item 'I12.9 ; N18.9 ; O10.212 ; Z34.92'\n\\item 'I12.9 ; N18.9 ; O10.213 ; Z33.1'\n\\item 'I12.9 ; I13 ; I50.9 ; N18.6 ; N18.9 ; N19'\n\\end{enumerate*}\n",
            "text/plain": [
              " [1] \"censored\"                                                                 \n",
              " [2] \"N18.2\"                                                                    \n",
              " [3] \"N18.9 ; N19\"                                                              \n",
              " [4] \"I12.9 ; I13.0 ; I50.9 ; N18.6 ; N18.9\"                                    \n",
              " [5] \"N18.3\"                                                                    \n",
              " [6] \"N18.30\"                                                                   \n",
              " [7] \"N18.31\"                                                                   \n",
              " [8] \"N18.32\"                                                                   \n",
              " [9] \"N18.4\"                                                                    \n",
              "[10] \"I12.0 ; I13.2 ; I50.9 ; N18.5 ; N18.6\"                                    \n",
              "[11] \"N18.1\"                                                                    \n",
              "[12] \"N18.5\"                                                                    \n",
              "[13] \"I12.9 ; I13.10 ; N18.9\"                                                   \n",
              "[14] \"I12.9 ; N18.9 ; N26.9\"                                                    \n",
              "[15] \"I12.9 ; I15.1 ; N18.9\"                                                    \n",
              "[16] \"I12.0 ; I12.9 ; N18.5 ; N18.6 ; N18.9\"                                    \n",
              "[17] \"C64.9 ; I10 ; I12.9 ; N18.9\"                                              \n",
              "[18] \"C64.9 ; I10 ; I12.0 ; N18.5 ; N18.6\"                                      \n",
              "[19] \"C38.0 ; C64.9 ; I10 ; I12.9 ; I13 ; I50.9 ; N18.6 ; N18.9\"                \n",
              "[20] \"C38.0 ; C64.9 ; I10 ; I12.0 ; I12.9 ; I13 ; I50.9 ; N18.5 ; N18.6 ; N18.9\"\n",
              "[21] \"C38.0 ; C64.9 ; I10 ; I12.9 ; I13 ; N18.9\"                                \n",
              "[22] \"C38.0 ; C64.9 ; I10 ; I12.0 ; I13 ; N18.5 ; N18.6 ; N18.9\"                \n",
              "[23] \"I12.9 ; I13 ; I50.9 ; N18.6 ; N18.9\"                                      \n",
              "[24] \"I12.9 ; N18.9 ; O10.211 ; Z33.1\"                                          \n",
              "[25] \"I12.9 ; N18.9 ; O10.212 ; Z34.92\"                                         \n",
              "[26] \"I12.9 ; N18.9 ; O10.213 ; Z33.1\"                                          \n",
              "[27] \"I12.9 ; I13 ; I50.9 ; N18.6 ; N18.9 ; N19\"                                "
            ]
          },
          "metadata": {}
        }
      ]
    },
    {
      "cell_type": "code",
      "source": [
        "# aggragate the data based on icd 10 code\n",
        "data$coded <- ifelse(grepl(\"N18.3\", data$copy.of.cohort.reference.event.condition), \"Chronic kidney disease, stage 3\",\n",
        "                         ifelse(grepl(\"N18.4\", data$copy.of.cohort.reference.event.condition), \"Chronic kidney disease, stage 4\",\n",
        "                                ifelse(grepl(\"N18.5\", data$copy.of.cohort.reference.event.condition), \"Chronic kidney disease, stage 5 \",\n",
        "                                       ifelse(grepl(\"N18.1\", data$copy.of.cohort.reference.event.condition), \"Chronic kidney disease, stage 1\",\n",
        "                                              ifelse(grepl(\"N18.2\", data$copy.of.cohort.reference.event.condition), \"Chronic kidney disease, stage 2\",\n",
        "                                                     ifelse(grepl(\"N18.9\", data$copy.of.cohort.reference.event.condition), \"Chronic kidney disease, unspecified\",\n",
        "                                                      ifelse(grepl(\"censored\", data$copy.of.cohort.reference.event.condition), \"censored\",\n",
        "                                                            NA)))))))"
      ],
      "metadata": {
        "id": "F3ayJVPmJv22"
      },
      "execution_count": 227,
      "outputs": []
    },
    {
      "cell_type": "code",
      "source": [
        "#check the aggregated column\n",
        "unique(data$coded)"
      ],
      "metadata": {
        "colab": {
          "base_uri": "https://localhost:8080/",
          "height": 52
        },
        "outputId": "78eeb490-ca91-4081-fa31-e6ca6d53b63c",
        "id": "J5avQVpjJv22"
      },
      "execution_count": 228,
      "outputs": [
        {
          "output_type": "display_data",
          "data": {
            "text/html": [
              "<style>\n",
              ".list-inline {list-style: none; margin:0; padding: 0}\n",
              ".list-inline>li {display: inline-block}\n",
              ".list-inline>li:not(:last-child)::after {content: \"\\00b7\"; padding: 0 .5ex}\n",
              "</style>\n",
              "<ol class=list-inline><li>'censored'</li><li>'Chronic kidney disease, stage 2'</li><li>'Chronic kidney disease, unspecified'</li><li>'Chronic kidney disease, stage 3'</li><li>'Chronic kidney disease, stage 4'</li><li>'Chronic kidney disease, stage 5 '</li><li>'Chronic kidney disease, stage 1'</li></ol>\n"
            ],
            "text/markdown": "1. 'censored'\n2. 'Chronic kidney disease, stage 2'\n3. 'Chronic kidney disease, unspecified'\n4. 'Chronic kidney disease, stage 3'\n5. 'Chronic kidney disease, stage 4'\n6. 'Chronic kidney disease, stage 5 '\n7. 'Chronic kidney disease, stage 1'\n\n\n",
            "text/latex": "\\begin{enumerate*}\n\\item 'censored'\n\\item 'Chronic kidney disease, stage 2'\n\\item 'Chronic kidney disease, unspecified'\n\\item 'Chronic kidney disease, stage 3'\n\\item 'Chronic kidney disease, stage 4'\n\\item 'Chronic kidney disease, stage 5 '\n\\item 'Chronic kidney disease, stage 1'\n\\end{enumerate*}\n",
            "text/plain": [
              "[1] \"censored\"                            \"Chronic kidney disease, stage 2\"    \n",
              "[3] \"Chronic kidney disease, unspecified\" \"Chronic kidney disease, stage 3\"    \n",
              "[5] \"Chronic kidney disease, stage 4\"     \"Chronic kidney disease, stage 5 \"   \n",
              "[7] \"Chronic kidney disease, stage 1\"    "
            ]
          },
          "metadata": {}
        }
      ]
    },
    {
      "cell_type": "code",
      "source": [
        "Type_data <- data"
      ],
      "metadata": {
        "id": "Ks3GdwgIJv22"
      },
      "execution_count": 229,
      "outputs": []
    },
    {
      "cell_type": "code",
      "source": [
        "table(Type_data$coded)"
      ],
      "metadata": {
        "colab": {
          "base_uri": "https://localhost:8080/",
          "height": 178
        },
        "outputId": "6ec2885a-4a94-414a-a7fa-6273dd4fc71e",
        "id": "D25ZOPVqJv23"
      },
      "execution_count": 230,
      "outputs": [
        {
          "output_type": "display_data",
          "data": {
            "text/plain": [
              "\n",
              "                           censored     Chronic kidney disease, stage 1 \n",
              "                                483                                3019 \n",
              "    Chronic kidney disease, stage 2     Chronic kidney disease, stage 3 \n",
              "                              16395                               56313 \n",
              "    Chronic kidney disease, stage 4    Chronic kidney disease, stage 5  \n",
              "                               9317                                4958 \n",
              "Chronic kidney disease, unspecified \n",
              "                             114815 "
            ]
          },
          "metadata": {}
        }
      ]
    },
    {
      "cell_type": "code",
      "source": [
        "##save the counts\n",
        "# Assuming 'type_counts' is a table\n",
        "type_counts <- table(Type_data$coded)\n",
        "\n",
        "# Add a sum row\n",
        "type_counts_with_sum <- addmargins(type_counts, FUN = list(Total = sum))\n",
        "\n",
        "# Convert the table to a data frame\n",
        "type_counts_df <- as.data.frame(type_counts_with_sum)\n",
        "\n",
        "# Save the table as a CSV file\n",
        "write.csv(type_counts_df, \"CKD_.csv\", row.names = FALSE)\n"
      ],
      "metadata": {
        "id": "Bt1eMHZVJv23"
      },
      "execution_count": 231,
      "outputs": []
    },
    {
      "cell_type": "code",
      "source": [
        "#visual the counts\n",
        "type_counts_df"
      ],
      "metadata": {
        "colab": {
          "base_uri": "https://localhost:8080/",
          "height": 349
        },
        "outputId": "56ea87a0-009d-4376-b72c-07d716f6effe",
        "id": "JZ0FyzwQJv23"
      },
      "execution_count": 232,
      "outputs": [
        {
          "output_type": "display_data",
          "data": {
            "text/html": [
              "<table class=\"dataframe\">\n",
              "<caption>A data.frame: 8 × 2</caption>\n",
              "<thead>\n",
              "\t<tr><th scope=col>Var1</th><th scope=col>Freq</th></tr>\n",
              "\t<tr><th scope=col>&lt;fct&gt;</th><th scope=col>&lt;dbl&gt;</th></tr>\n",
              "</thead>\n",
              "<tbody>\n",
              "\t<tr><td>censored                           </td><td>   483</td></tr>\n",
              "\t<tr><td>Chronic kidney disease, stage 1    </td><td>  3019</td></tr>\n",
              "\t<tr><td>Chronic kidney disease, stage 2    </td><td> 16395</td></tr>\n",
              "\t<tr><td>Chronic kidney disease, stage 3    </td><td> 56313</td></tr>\n",
              "\t<tr><td>Chronic kidney disease, stage 4    </td><td>  9317</td></tr>\n",
              "\t<tr><td>Chronic kidney disease, stage 5    </td><td>  4958</td></tr>\n",
              "\t<tr><td>Chronic kidney disease, unspecified</td><td>114815</td></tr>\n",
              "\t<tr><td>Total                              </td><td>205300</td></tr>\n",
              "</tbody>\n",
              "</table>\n"
            ],
            "text/markdown": "\nA data.frame: 8 × 2\n\n| Var1 &lt;fct&gt; | Freq &lt;dbl&gt; |\n|---|---|\n| censored                            |    483 |\n| Chronic kidney disease, stage 1     |   3019 |\n| Chronic kidney disease, stage 2     |  16395 |\n| Chronic kidney disease, stage 3     |  56313 |\n| Chronic kidney disease, stage 4     |   9317 |\n| Chronic kidney disease, stage 5     |   4958 |\n| Chronic kidney disease, unspecified | 114815 |\n| Total                               | 205300 |\n\n",
            "text/latex": "A data.frame: 8 × 2\n\\begin{tabular}{ll}\n Var1 & Freq\\\\\n <fct> & <dbl>\\\\\n\\hline\n\t censored                            &    483\\\\\n\t Chronic kidney disease, stage 1     &   3019\\\\\n\t Chronic kidney disease, stage 2     &  16395\\\\\n\t Chronic kidney disease, stage 3     &  56313\\\\\n\t Chronic kidney disease, stage 4     &   9317\\\\\n\t Chronic kidney disease, stage 5     &   4958\\\\\n\t Chronic kidney disease, unspecified & 114815\\\\\n\t Total                               & 205300\\\\\n\\end{tabular}\n",
            "text/plain": [
              "  Var1                                Freq  \n",
              "1 censored                               483\n",
              "2 Chronic kidney disease, stage 1       3019\n",
              "3 Chronic kidney disease, stage 2      16395\n",
              "4 Chronic kidney disease, stage 3      56313\n",
              "5 Chronic kidney disease, stage 4       9317\n",
              "6 Chronic kidney disease, stage 5       4958\n",
              "7 Chronic kidney disease, unspecified 114815\n",
              "8 Total                               205300"
            ]
          },
          "metadata": {}
        }
      ]
    },
    {
      "cell_type": "markdown",
      "source": [
        "# CLD"
      ],
      "metadata": {
        "id": "h-E_fUUOJw3d"
      }
    },
    {
      "cell_type": "code",
      "source": [
        "#load the data\n",
        "data <- read.csv(\"/content/CLD.csv\")"
      ],
      "metadata": {
        "id": "GXSmjhcJJw3e"
      },
      "execution_count": 233,
      "outputs": []
    },
    {
      "cell_type": "code",
      "source": [
        "#check the data\n",
        "head(data)"
      ],
      "metadata": {
        "colab": {
          "base_uri": "https://localhost:8080/",
          "height": 445
        },
        "outputId": "3f1661e6-cff7-480b-b749-d69a4e61bdb7",
        "id": "ZzHilStDJw3e"
      },
      "execution_count": 234,
      "outputs": [
        {
          "output_type": "display_data",
          "data": {
            "text/html": [
              "<table class=\"dataframe\">\n",
              "<caption>A data.frame: 6 × 9</caption>\n",
              "<thead>\n",
              "\t<tr><th></th><th scope=col>date.of.birth</th><th scope=col>gender.at.birth</th><th scope=col>ethnicity</th><th scope=col>race...primary</th><th scope=col>cohort.reference.event.age.at.event</th><th scope=col>cohort.reference.event.condition</th><th scope=col>copy.of.cohort.reference.event.condition</th><th scope=col>cohort.reference.event.problem.onset.date.time</th><th scope=col>cohort.reference.event.condition.type</th></tr>\n",
              "\t<tr><th></th><th scope=col>&lt;int&gt;</th><th scope=col>&lt;chr&gt;</th><th scope=col>&lt;chr&gt;</th><th scope=col>&lt;chr&gt;</th><th scope=col>&lt;dbl&gt;</th><th scope=col>&lt;chr&gt;</th><th scope=col>&lt;chr&gt;</th><th scope=col>&lt;chr&gt;</th><th scope=col>&lt;chr&gt;</th></tr>\n",
              "</thead>\n",
              "<tbody>\n",
              "\t<tr><th scope=row>1</th><td>2004</td><td>censored</td><td>Hispanic or Latino       </td><td>censored</td><td>14.450367</td><td>censored</td><td>censored</td><td>2017-03-28 13:02:50</td><td>Diagnosis</td></tr>\n",
              "\t<tr><th scope=row>2</th><td>2001</td><td>censored</td><td>Hispanic or Latino       </td><td>censored</td><td>16.062927</td><td>censored</td><td>censored</td><td>2018-09-06 23:59:59</td><td>Diagnosis</td></tr>\n",
              "\t<tr><th scope=row>3</th><td>2017</td><td>censored</td><td>Hispanic or Latino       </td><td>censored</td><td> 2.487568</td><td>censored</td><td>censored</td><td>2023-02-01 23:59:59</td><td>Diagnosis</td></tr>\n",
              "\t<tr><th scope=row>4</th><td>1978</td><td>censored</td><td>Hispanic or Latino       </td><td>censored</td><td>45.206892</td><td>censored</td><td>censored</td><td>2023-06-22 10:15:54</td><td>Diagnosis</td></tr>\n",
              "\t<tr><th scope=row>5</th><td>1987</td><td>censored</td><td>Patient ethnicity unknown</td><td>censored</td><td>32.583955</td><td>censored</td><td>censored</td><td>2019-04-30 23:59:59</td><td>Diagnosis</td></tr>\n",
              "\t<tr><th scope=row>6</th><td>1986</td><td>censored</td><td>Patient ethnicity unknown</td><td>censored</td><td>28.234129</td><td>censored</td><td>censored</td><td>2015-03-16 09:03:18</td><td>Diagnosis</td></tr>\n",
              "</tbody>\n",
              "</table>\n"
            ],
            "text/markdown": "\nA data.frame: 6 × 9\n\n| <!--/--> | date.of.birth &lt;int&gt; | gender.at.birth &lt;chr&gt; | ethnicity &lt;chr&gt; | race...primary &lt;chr&gt; | cohort.reference.event.age.at.event &lt;dbl&gt; | cohort.reference.event.condition &lt;chr&gt; | copy.of.cohort.reference.event.condition &lt;chr&gt; | cohort.reference.event.problem.onset.date.time &lt;chr&gt; | cohort.reference.event.condition.type &lt;chr&gt; |\n|---|---|---|---|---|---|---|---|---|---|\n| 1 | 2004 | censored | Hispanic or Latino        | censored | 14.450367 | censored | censored | 2017-03-28 13:02:50 | Diagnosis |\n| 2 | 2001 | censored | Hispanic or Latino        | censored | 16.062927 | censored | censored | 2018-09-06 23:59:59 | Diagnosis |\n| 3 | 2017 | censored | Hispanic or Latino        | censored |  2.487568 | censored | censored | 2023-02-01 23:59:59 | Diagnosis |\n| 4 | 1978 | censored | Hispanic or Latino        | censored | 45.206892 | censored | censored | 2023-06-22 10:15:54 | Diagnosis |\n| 5 | 1987 | censored | Patient ethnicity unknown | censored | 32.583955 | censored | censored | 2019-04-30 23:59:59 | Diagnosis |\n| 6 | 1986 | censored | Patient ethnicity unknown | censored | 28.234129 | censored | censored | 2015-03-16 09:03:18 | Diagnosis |\n\n",
            "text/latex": "A data.frame: 6 × 9\n\\begin{tabular}{r|lllllllll}\n  & date.of.birth & gender.at.birth & ethnicity & race...primary & cohort.reference.event.age.at.event & cohort.reference.event.condition & copy.of.cohort.reference.event.condition & cohort.reference.event.problem.onset.date.time & cohort.reference.event.condition.type\\\\\n  & <int> & <chr> & <chr> & <chr> & <dbl> & <chr> & <chr> & <chr> & <chr>\\\\\n\\hline\n\t1 & 2004 & censored & Hispanic or Latino        & censored & 14.450367 & censored & censored & 2017-03-28 13:02:50 & Diagnosis\\\\\n\t2 & 2001 & censored & Hispanic or Latino        & censored & 16.062927 & censored & censored & 2018-09-06 23:59:59 & Diagnosis\\\\\n\t3 & 2017 & censored & Hispanic or Latino        & censored &  2.487568 & censored & censored & 2023-02-01 23:59:59 & Diagnosis\\\\\n\t4 & 1978 & censored & Hispanic or Latino        & censored & 45.206892 & censored & censored & 2023-06-22 10:15:54 & Diagnosis\\\\\n\t5 & 1987 & censored & Patient ethnicity unknown & censored & 32.583955 & censored & censored & 2019-04-30 23:59:59 & Diagnosis\\\\\n\t6 & 1986 & censored & Patient ethnicity unknown & censored & 28.234129 & censored & censored & 2015-03-16 09:03:18 & Diagnosis\\\\\n\\end{tabular}\n",
            "text/plain": [
              "  date.of.birth gender.at.birth ethnicity                 race...primary\n",
              "1 2004          censored        Hispanic or Latino        censored      \n",
              "2 2001          censored        Hispanic or Latino        censored      \n",
              "3 2017          censored        Hispanic or Latino        censored      \n",
              "4 1978          censored        Hispanic or Latino        censored      \n",
              "5 1987          censored        Patient ethnicity unknown censored      \n",
              "6 1986          censored        Patient ethnicity unknown censored      \n",
              "  cohort.reference.event.age.at.event cohort.reference.event.condition\n",
              "1 14.450367                           censored                        \n",
              "2 16.062927                           censored                        \n",
              "3  2.487568                           censored                        \n",
              "4 45.206892                           censored                        \n",
              "5 32.583955                           censored                        \n",
              "6 28.234129                           censored                        \n",
              "  copy.of.cohort.reference.event.condition\n",
              "1 censored                                \n",
              "2 censored                                \n",
              "3 censored                                \n",
              "4 censored                                \n",
              "5 censored                                \n",
              "6 censored                                \n",
              "  cohort.reference.event.problem.onset.date.time\n",
              "1 2017-03-28 13:02:50                           \n",
              "2 2018-09-06 23:59:59                           \n",
              "3 2023-02-01 23:59:59                           \n",
              "4 2023-06-22 10:15:54                           \n",
              "5 2019-04-30 23:59:59                           \n",
              "6 2015-03-16 09:03:18                           \n",
              "  cohort.reference.event.condition.type\n",
              "1 Diagnosis                            \n",
              "2 Diagnosis                            \n",
              "3 Diagnosis                            \n",
              "4 Diagnosis                            \n",
              "5 Diagnosis                            \n",
              "6 Diagnosis                            "
            ]
          },
          "metadata": {}
        }
      ]
    },
    {
      "cell_type": "code",
      "source": [
        "#check the dimention of the data\n",
        "dim(data)"
      ],
      "metadata": {
        "colab": {
          "base_uri": "https://localhost:8080/",
          "height": 34
        },
        "outputId": "4c954ed2-4a99-443e-e7ff-f51444dbe824",
        "id": "JoUSIA3zJw3e"
      },
      "execution_count": 235,
      "outputs": [
        {
          "output_type": "display_data",
          "data": {
            "text/html": [
              "<style>\n",
              ".list-inline {list-style: none; margin:0; padding: 0}\n",
              ".list-inline>li {display: inline-block}\n",
              ".list-inline>li:not(:last-child)::after {content: \"\\00b7\"; padding: 0 .5ex}\n",
              "</style>\n",
              "<ol class=list-inline><li>123200</li><li>9</li></ol>\n"
            ],
            "text/markdown": "1. 123200\n2. 9\n\n\n",
            "text/latex": "\\begin{enumerate*}\n\\item 123200\n\\item 9\n\\end{enumerate*}\n",
            "text/plain": [
              "[1] 123200      9"
            ]
          },
          "metadata": {}
        }
      ]
    },
    {
      "cell_type": "code",
      "source": [
        "#check the unique type in icd 10 code column\n",
        "unique(data$copy.of.cohort.reference.event.condition)"
      ],
      "metadata": {
        "colab": {
          "base_uri": "https://localhost:8080/",
          "height": 69
        },
        "outputId": "08f4a0fc-6213-48e6-da18-655d09c7b091",
        "id": "xj9l1Y1tJw3e"
      },
      "execution_count": 236,
      "outputs": [
        {
          "output_type": "display_data",
          "data": {
            "text/html": [
              "<style>\n",
              ".list-inline {list-style: none; margin:0; padding: 0}\n",
              ".list-inline>li {display: inline-block}\n",
              ".list-inline>li:not(:last-child)::after {content: \"\\00b7\"; padding: 0 .5ex}\n",
              "</style>\n",
              "<ol class=list-inline><li>'censored'</li><li>'K76.0'</li><li>'B18.2'</li><li>'K74.60'</li><li>'K70.31'</li><li>'I85.10 ; K70.30'</li><li>'E83.110'</li><li>'K74.69'</li><li>'K74.3'</li><li>'B18.1'</li><li>'B18'</li><li>'F10.988 ; K70.1'</li><li>'K70.3'</li><li>'K70.9'</li><li>'K74.5'</li><li>'B18.9'</li><li>'E83.111'</li><li>'E83.119'</li><li>'E83.118'</li><li>'B18 ; Z22.51'</li><li>'B18.2 ; Z22.52'</li><li>'B18.2 ; K72.91'</li><li>'K74.60 ; P78.81'</li><li>'K74.4'</li></ol>\n"
            ],
            "text/markdown": "1. 'censored'\n2. 'K76.0'\n3. 'B18.2'\n4. 'K74.60'\n5. 'K70.31'\n6. 'I85.10 ; K70.30'\n7. 'E83.110'\n8. 'K74.69'\n9. 'K74.3'\n10. 'B18.1'\n11. 'B18'\n12. 'F10.988 ; K70.1'\n13. 'K70.3'\n14. 'K70.9'\n15. 'K74.5'\n16. 'B18.9'\n17. 'E83.111'\n18. 'E83.119'\n19. 'E83.118'\n20. 'B18 ; Z22.51'\n21. 'B18.2 ; Z22.52'\n22. 'B18.2 ; K72.91'\n23. 'K74.60 ; P78.81'\n24. 'K74.4'\n\n\n",
            "text/latex": "\\begin{enumerate*}\n\\item 'censored'\n\\item 'K76.0'\n\\item 'B18.2'\n\\item 'K74.60'\n\\item 'K70.31'\n\\item 'I85.10 ; K70.30'\n\\item 'E83.110'\n\\item 'K74.69'\n\\item 'K74.3'\n\\item 'B18.1'\n\\item 'B18'\n\\item 'F10.988 ; K70.1'\n\\item 'K70.3'\n\\item 'K70.9'\n\\item 'K74.5'\n\\item 'B18.9'\n\\item 'E83.111'\n\\item 'E83.119'\n\\item 'E83.118'\n\\item 'B18 ; Z22.51'\n\\item 'B18.2 ; Z22.52'\n\\item 'B18.2 ; K72.91'\n\\item 'K74.60 ; P78.81'\n\\item 'K74.4'\n\\end{enumerate*}\n",
            "text/plain": [
              " [1] \"censored\"        \"K76.0\"           \"B18.2\"           \"K74.60\"         \n",
              " [5] \"K70.31\"          \"I85.10 ; K70.30\" \"E83.110\"         \"K74.69\"         \n",
              " [9] \"K74.3\"           \"B18.1\"           \"B18\"             \"F10.988 ; K70.1\"\n",
              "[13] \"K70.3\"           \"K70.9\"           \"K74.5\"           \"B18.9\"          \n",
              "[17] \"E83.111\"         \"E83.119\"         \"E83.118\"         \"B18 ; Z22.51\"   \n",
              "[21] \"B18.2 ; Z22.52\"  \"B18.2 ; K72.91\"  \"K74.60 ; P78.81\" \"K74.4\"          "
            ]
          },
          "metadata": {}
        }
      ]
    },
    {
      "cell_type": "code",
      "source": [
        "# aggragate the data based on icd 10 code\n",
        "data$coded <- ifelse(grepl(\"B18\", data$copy.of.cohort.reference.event.condition), \"Chronic Viral Hepatitis\",\n",
        "                         ifelse(grepl(\"K70\", data$copy.of.cohort.reference.event.condition), \"Alcoholic Liver Disease\",\n",
        "                                ifelse(grepl(\"K74\", data$copy.of.cohort.reference.event.condition), \"Fibrosis and Cirrhosis of Liver\",\n",
        "                                       ifelse(grepl(\"K76.0\", data$copy.of.cohort.reference.event.condition), \"Non-Alcoholic Fatty Liver Disease (NAFLD)\",\n",
        "                                             ifelse(grepl(\"censored\", data$copy.of.cohort.reference.event.condition), \"censored\",\n",
        "                                                            NA)))))"
      ],
      "metadata": {
        "id": "Ipc9Ybl_Jw3e"
      },
      "execution_count": 237,
      "outputs": []
    },
    {
      "cell_type": "code",
      "source": [
        "#check the aggregated column\n",
        "unique(data$coded)"
      ],
      "metadata": {
        "colab": {
          "base_uri": "https://localhost:8080/",
          "height": 52
        },
        "outputId": "5495bd88-cb3e-42d2-ca3f-4baf8e2ce0ce",
        "id": "V4jFX9NuJw3f"
      },
      "execution_count": 238,
      "outputs": [
        {
          "output_type": "display_data",
          "data": {
            "text/html": [
              "<style>\n",
              ".list-inline {list-style: none; margin:0; padding: 0}\n",
              ".list-inline>li {display: inline-block}\n",
              ".list-inline>li:not(:last-child)::after {content: \"\\00b7\"; padding: 0 .5ex}\n",
              "</style>\n",
              "<ol class=list-inline><li>'censored'</li><li>'Non-Alcoholic Fatty Liver Disease (NAFLD)'</li><li>'Chronic Viral Hepatitis'</li><li>'Fibrosis and Cirrhosis of Liver'</li><li>'Alcoholic Liver Disease'</li><li>NA</li></ol>\n"
            ],
            "text/markdown": "1. 'censored'\n2. 'Non-Alcoholic Fatty Liver Disease (NAFLD)'\n3. 'Chronic Viral Hepatitis'\n4. 'Fibrosis and Cirrhosis of Liver'\n5. 'Alcoholic Liver Disease'\n6. NA\n\n\n",
            "text/latex": "\\begin{enumerate*}\n\\item 'censored'\n\\item 'Non-Alcoholic Fatty Liver Disease (NAFLD)'\n\\item 'Chronic Viral Hepatitis'\n\\item 'Fibrosis and Cirrhosis of Liver'\n\\item 'Alcoholic Liver Disease'\n\\item NA\n\\end{enumerate*}\n",
            "text/plain": [
              "[1] \"censored\"                                 \n",
              "[2] \"Non-Alcoholic Fatty Liver Disease (NAFLD)\"\n",
              "[3] \"Chronic Viral Hepatitis\"                  \n",
              "[4] \"Fibrosis and Cirrhosis of Liver\"          \n",
              "[5] \"Alcoholic Liver Disease\"                  \n",
              "[6] NA                                         "
            ]
          },
          "metadata": {}
        }
      ]
    },
    {
      "cell_type": "code",
      "source": [
        "Type_data <- data"
      ],
      "metadata": {
        "id": "Ud__k-1BJw3f"
      },
      "execution_count": 239,
      "outputs": []
    },
    {
      "cell_type": "code",
      "source": [
        "table(Type_data$coded)"
      ],
      "metadata": {
        "colab": {
          "base_uri": "https://localhost:8080/",
          "height": 213
        },
        "outputId": "9600af66-7505-41b5-cfe6-34f75075cca7",
        "id": "wxVMgrLQJw3f"
      },
      "execution_count": 240,
      "outputs": [
        {
          "output_type": "display_data",
          "data": {
            "text/plain": [
              "\n",
              "                  Alcoholic Liver Disease \n",
              "                                     9688 \n",
              "                                 censored \n",
              "                                      465 \n",
              "                  Chronic Viral Hepatitis \n",
              "                                    18202 \n",
              "          Fibrosis and Cirrhosis of Liver \n",
              "                                    24031 \n",
              "Non-Alcoholic Fatty Liver Disease (NAFLD) \n",
              "                                    68097 "
            ]
          },
          "metadata": {}
        }
      ]
    },
    {
      "cell_type": "code",
      "source": [
        "##save the counts\n",
        "# Assuming 'type_counts' is a table\n",
        "type_counts <- table(Type_data$coded)\n",
        "\n",
        "# Add a sum row\n",
        "type_counts_with_sum <- addmargins(type_counts, FUN = list(Total = sum))\n",
        "\n",
        "# Convert the table to a data frame\n",
        "type_counts_df <- as.data.frame(type_counts_with_sum)\n",
        "\n",
        "# Save the table as a CSV file\n",
        "write.csv(type_counts_df, \"CLD_.csv\", row.names = FALSE)\n"
      ],
      "metadata": {
        "id": "kwwNs8deJw3f"
      },
      "execution_count": 241,
      "outputs": []
    },
    {
      "cell_type": "code",
      "source": [
        "#visual the counts\n",
        "type_counts_df"
      ],
      "metadata": {
        "colab": {
          "base_uri": "https://localhost:8080/",
          "height": 286
        },
        "outputId": "399171dd-575a-4ece-ce90-fcd6ffb1778f",
        "id": "qeWMtIZpJw3f"
      },
      "execution_count": 242,
      "outputs": [
        {
          "output_type": "display_data",
          "data": {
            "text/html": [
              "<table class=\"dataframe\">\n",
              "<caption>A data.frame: 6 × 2</caption>\n",
              "<thead>\n",
              "\t<tr><th scope=col>Var1</th><th scope=col>Freq</th></tr>\n",
              "\t<tr><th scope=col>&lt;fct&gt;</th><th scope=col>&lt;dbl&gt;</th></tr>\n",
              "</thead>\n",
              "<tbody>\n",
              "\t<tr><td>Alcoholic Liver Disease                  </td><td>  9688</td></tr>\n",
              "\t<tr><td>censored                                 </td><td>   465</td></tr>\n",
              "\t<tr><td>Chronic Viral Hepatitis                  </td><td> 18202</td></tr>\n",
              "\t<tr><td>Fibrosis and Cirrhosis of Liver          </td><td> 24031</td></tr>\n",
              "\t<tr><td>Non-Alcoholic Fatty Liver Disease (NAFLD)</td><td> 68097</td></tr>\n",
              "\t<tr><td>Total                                    </td><td>120483</td></tr>\n",
              "</tbody>\n",
              "</table>\n"
            ],
            "text/markdown": "\nA data.frame: 6 × 2\n\n| Var1 &lt;fct&gt; | Freq &lt;dbl&gt; |\n|---|---|\n| Alcoholic Liver Disease                   |   9688 |\n| censored                                  |    465 |\n| Chronic Viral Hepatitis                   |  18202 |\n| Fibrosis and Cirrhosis of Liver           |  24031 |\n| Non-Alcoholic Fatty Liver Disease (NAFLD) |  68097 |\n| Total                                     | 120483 |\n\n",
            "text/latex": "A data.frame: 6 × 2\n\\begin{tabular}{ll}\n Var1 & Freq\\\\\n <fct> & <dbl>\\\\\n\\hline\n\t Alcoholic Liver Disease                   &   9688\\\\\n\t censored                                  &    465\\\\\n\t Chronic Viral Hepatitis                   &  18202\\\\\n\t Fibrosis and Cirrhosis of Liver           &  24031\\\\\n\t Non-Alcoholic Fatty Liver Disease (NAFLD) &  68097\\\\\n\t Total                                     & 120483\\\\\n\\end{tabular}\n",
            "text/plain": [
              "  Var1                                      Freq  \n",
              "1 Alcoholic Liver Disease                     9688\n",
              "2 censored                                     465\n",
              "3 Chronic Viral Hepatitis                    18202\n",
              "4 Fibrosis and Cirrhosis of Liver            24031\n",
              "5 Non-Alcoholic Fatty Liver Disease (NAFLD)  68097\n",
              "6 Total                                     120483"
            ]
          },
          "metadata": {}
        }
      ]
    },
    {
      "cell_type": "markdown",
      "source": [
        "#"
      ],
      "metadata": {
        "id": "pHkjCnOLJx-T"
      }
    },
    {
      "cell_type": "code",
      "source": [
        "#load the data\n",
        "data <- read.csv(\"/content/IHD.csv\")"
      ],
      "metadata": {
        "id": "JZ9n4xZeJx-T"
      },
      "execution_count": 243,
      "outputs": []
    },
    {
      "cell_type": "code",
      "source": [
        "#check the data\n",
        "head(data)"
      ],
      "metadata": {
        "colab": {
          "base_uri": "https://localhost:8080/",
          "height": 306
        },
        "outputId": "ff86fda4-b5cf-49f5-9265-570ca7df9571",
        "id": "QWah-mFhJx-U"
      },
      "execution_count": 244,
      "outputs": [
        {
          "output_type": "display_data",
          "data": {
            "text/html": [
              "<table class=\"dataframe\">\n",
              "<caption>A data.frame: 6 × 9</caption>\n",
              "<thead>\n",
              "\t<tr><th></th><th scope=col>date.of.birth</th><th scope=col>gender.at.birth</th><th scope=col>ethnicity</th><th scope=col>race...primary</th><th scope=col>cohort.reference.event.age.at.event</th><th scope=col>cohort.reference.event.condition</th><th scope=col>copy.of.cohort.reference.event.condition</th><th scope=col>cohort.reference.event.problem.onset.date.time</th><th scope=col>cohort.reference.event.condition.type</th></tr>\n",
              "\t<tr><th></th><th scope=col>&lt;int&gt;</th><th scope=col>&lt;chr&gt;</th><th scope=col>&lt;chr&gt;</th><th scope=col>&lt;chr&gt;</th><th scope=col>&lt;dbl&gt;</th><th scope=col>&lt;chr&gt;</th><th scope=col>&lt;chr&gt;</th><th scope=col>&lt;chr&gt;</th><th scope=col>&lt;chr&gt;</th></tr>\n",
              "</thead>\n",
              "<tbody>\n",
              "\t<tr><th scope=row>1</th><td>1947</td><td>FEMALE</td><td>censored</td><td>censored</td><td>66.47070</td><td>censored</td><td>censored</td><td>2015-11-01 13:56:16</td><td>Diagnosis</td></tr>\n",
              "\t<tr><th scope=row>2</th><td>1940</td><td>FEMALE</td><td>censored</td><td>censored</td><td>84.38799</td><td>censored</td><td>censored</td><td>2023-03-08 14:38:48</td><td>Diagnosis</td></tr>\n",
              "\t<tr><th scope=row>3</th><td>1953</td><td>FEMALE</td><td>censored</td><td>censored</td><td>68.48428</td><td>censored</td><td>censored</td><td>2021-05-09 23:59:59</td><td>Diagnosis</td></tr>\n",
              "\t<tr><th scope=row>4</th><td>1955</td><td>FEMALE</td><td>censored</td><td>censored</td><td>62.51305</td><td>censored</td><td>censored</td><td>2018-04-08 11:49:50</td><td>Diagnosis</td></tr>\n",
              "\t<tr><th scope=row>5</th><td>1941</td><td>FEMALE</td><td>censored</td><td>censored</td><td>77.00137</td><td>censored</td><td>censored</td><td>2018-11-18 23:59:59</td><td>Diagnosis</td></tr>\n",
              "\t<tr><th scope=row>6</th><td>1967</td><td>FEMALE</td><td>censored</td><td>censored</td><td>53.75365</td><td>censored</td><td>censored</td><td>2021-06-22 23:59:59</td><td>Diagnosis</td></tr>\n",
              "</tbody>\n",
              "</table>\n"
            ],
            "text/markdown": "\nA data.frame: 6 × 9\n\n| <!--/--> | date.of.birth &lt;int&gt; | gender.at.birth &lt;chr&gt; | ethnicity &lt;chr&gt; | race...primary &lt;chr&gt; | cohort.reference.event.age.at.event &lt;dbl&gt; | cohort.reference.event.condition &lt;chr&gt; | copy.of.cohort.reference.event.condition &lt;chr&gt; | cohort.reference.event.problem.onset.date.time &lt;chr&gt; | cohort.reference.event.condition.type &lt;chr&gt; |\n|---|---|---|---|---|---|---|---|---|---|\n| 1 | 1947 | FEMALE | censored | censored | 66.47070 | censored | censored | 2015-11-01 13:56:16 | Diagnosis |\n| 2 | 1940 | FEMALE | censored | censored | 84.38799 | censored | censored | 2023-03-08 14:38:48 | Diagnosis |\n| 3 | 1953 | FEMALE | censored | censored | 68.48428 | censored | censored | 2021-05-09 23:59:59 | Diagnosis |\n| 4 | 1955 | FEMALE | censored | censored | 62.51305 | censored | censored | 2018-04-08 11:49:50 | Diagnosis |\n| 5 | 1941 | FEMALE | censored | censored | 77.00137 | censored | censored | 2018-11-18 23:59:59 | Diagnosis |\n| 6 | 1967 | FEMALE | censored | censored | 53.75365 | censored | censored | 2021-06-22 23:59:59 | Diagnosis |\n\n",
            "text/latex": "A data.frame: 6 × 9\n\\begin{tabular}{r|lllllllll}\n  & date.of.birth & gender.at.birth & ethnicity & race...primary & cohort.reference.event.age.at.event & cohort.reference.event.condition & copy.of.cohort.reference.event.condition & cohort.reference.event.problem.onset.date.time & cohort.reference.event.condition.type\\\\\n  & <int> & <chr> & <chr> & <chr> & <dbl> & <chr> & <chr> & <chr> & <chr>\\\\\n\\hline\n\t1 & 1947 & FEMALE & censored & censored & 66.47070 & censored & censored & 2015-11-01 13:56:16 & Diagnosis\\\\\n\t2 & 1940 & FEMALE & censored & censored & 84.38799 & censored & censored & 2023-03-08 14:38:48 & Diagnosis\\\\\n\t3 & 1953 & FEMALE & censored & censored & 68.48428 & censored & censored & 2021-05-09 23:59:59 & Diagnosis\\\\\n\t4 & 1955 & FEMALE & censored & censored & 62.51305 & censored & censored & 2018-04-08 11:49:50 & Diagnosis\\\\\n\t5 & 1941 & FEMALE & censored & censored & 77.00137 & censored & censored & 2018-11-18 23:59:59 & Diagnosis\\\\\n\t6 & 1967 & FEMALE & censored & censored & 53.75365 & censored & censored & 2021-06-22 23:59:59 & Diagnosis\\\\\n\\end{tabular}\n",
            "text/plain": [
              "  date.of.birth gender.at.birth ethnicity race...primary\n",
              "1 1947          FEMALE          censored  censored      \n",
              "2 1940          FEMALE          censored  censored      \n",
              "3 1953          FEMALE          censored  censored      \n",
              "4 1955          FEMALE          censored  censored      \n",
              "5 1941          FEMALE          censored  censored      \n",
              "6 1967          FEMALE          censored  censored      \n",
              "  cohort.reference.event.age.at.event cohort.reference.event.condition\n",
              "1 66.47070                            censored                        \n",
              "2 84.38799                            censored                        \n",
              "3 68.48428                            censored                        \n",
              "4 62.51305                            censored                        \n",
              "5 77.00137                            censored                        \n",
              "6 53.75365                            censored                        \n",
              "  copy.of.cohort.reference.event.condition\n",
              "1 censored                                \n",
              "2 censored                                \n",
              "3 censored                                \n",
              "4 censored                                \n",
              "5 censored                                \n",
              "6 censored                                \n",
              "  cohort.reference.event.problem.onset.date.time\n",
              "1 2015-11-01 13:56:16                           \n",
              "2 2023-03-08 14:38:48                           \n",
              "3 2021-05-09 23:59:59                           \n",
              "4 2018-04-08 11:49:50                           \n",
              "5 2018-11-18 23:59:59                           \n",
              "6 2021-06-22 23:59:59                           \n",
              "  cohort.reference.event.condition.type\n",
              "1 Diagnosis                            \n",
              "2 Diagnosis                            \n",
              "3 Diagnosis                            \n",
              "4 Diagnosis                            \n",
              "5 Diagnosis                            \n",
              "6 Diagnosis                            "
            ]
          },
          "metadata": {}
        }
      ]
    },
    {
      "cell_type": "code",
      "source": [
        "#check the dimention of the data\n",
        "dim(data)"
      ],
      "metadata": {
        "colab": {
          "base_uri": "https://localhost:8080/",
          "height": 34
        },
        "outputId": "2c0d2a84-4e82-4a49-a369-29b8b650fbe5",
        "id": "tU6AgHwzJx-U"
      },
      "execution_count": 245,
      "outputs": [
        {
          "output_type": "display_data",
          "data": {
            "text/html": [
              "<style>\n",
              ".list-inline {list-style: none; margin:0; padding: 0}\n",
              ".list-inline>li {display: inline-block}\n",
              ".list-inline>li:not(:last-child)::after {content: \"\\00b7\"; padding: 0 .5ex}\n",
              "</style>\n",
              "<ol class=list-inline><li>352860</li><li>9</li></ol>\n"
            ],
            "text/markdown": "1. 352860\n2. 9\n\n\n",
            "text/latex": "\\begin{enumerate*}\n\\item 352860\n\\item 9\n\\end{enumerate*}\n",
            "text/plain": [
              "[1] 352860      9"
            ]
          },
          "metadata": {}
        }
      ]
    },
    {
      "cell_type": "code",
      "source": [
        "#check the unique type in icd 10 code column\n",
        "unique(data$copy.of.cohort.reference.event.condition)"
      ],
      "metadata": {
        "colab": {
          "base_uri": "https://localhost:8080/",
          "height": 52
        },
        "outputId": "132067ee-c94d-4a56-89b4-fefb5b1de53e",
        "id": "h-LynL88Jx-U"
      },
      "execution_count": 246,
      "outputs": [
        {
          "output_type": "display_data",
          "data": {
            "text/html": [
              "<style>\n",
              ".list-inline {list-style: none; margin:0; padding: 0}\n",
              ".list-inline>li {display: inline-block}\n",
              ".list-inline>li:not(:last-child)::after {content: \"\\00b7\"; padding: 0 .5ex}\n",
              "</style>\n",
              "<ol class=list-inline><li>'censored'</li><li>'I25.10'</li><li>'I25.1'</li><li>'I24.8'</li><li>'I20.9 ; I25.118'</li><li>'I25.9'</li><li>'I24.9'</li><li>'I25.3'</li><li>'I25.119'</li><li>'I25.110'</li><li>'I25.41'</li><li>'I25.42'</li><li>'I25.5'</li><li>'I25.1 ; I25.9'</li><li>'I25.810 ; I70.90'</li><li>'I25.811 ; Z94.1'</li><li>'I20.1 ; I25.111'</li><li>'I25.82'</li><li>'I25.84'</li><li>'I25.83'</li><li>'I25.1 ; Z94.1'</li><li>'I24.9 ; I25.9'</li><li>'I25.89'</li></ol>\n"
            ],
            "text/markdown": "1. 'censored'\n2. 'I25.10'\n3. 'I25.1'\n4. 'I24.8'\n5. 'I20.9 ; I25.118'\n6. 'I25.9'\n7. 'I24.9'\n8. 'I25.3'\n9. 'I25.119'\n10. 'I25.110'\n11. 'I25.41'\n12. 'I25.42'\n13. 'I25.5'\n14. 'I25.1 ; I25.9'\n15. 'I25.810 ; I70.90'\n16. 'I25.811 ; Z94.1'\n17. 'I20.1 ; I25.111'\n18. 'I25.82'\n19. 'I25.84'\n20. 'I25.83'\n21. 'I25.1 ; Z94.1'\n22. 'I24.9 ; I25.9'\n23. 'I25.89'\n\n\n",
            "text/latex": "\\begin{enumerate*}\n\\item 'censored'\n\\item 'I25.10'\n\\item 'I25.1'\n\\item 'I24.8'\n\\item 'I20.9 ; I25.118'\n\\item 'I25.9'\n\\item 'I24.9'\n\\item 'I25.3'\n\\item 'I25.119'\n\\item 'I25.110'\n\\item 'I25.41'\n\\item 'I25.42'\n\\item 'I25.5'\n\\item 'I25.1 ; I25.9'\n\\item 'I25.810 ; I70.90'\n\\item 'I25.811 ; Z94.1'\n\\item 'I20.1 ; I25.111'\n\\item 'I25.82'\n\\item 'I25.84'\n\\item 'I25.83'\n\\item 'I25.1 ; Z94.1'\n\\item 'I24.9 ; I25.9'\n\\item 'I25.89'\n\\end{enumerate*}\n",
            "text/plain": [
              " [1] \"censored\"         \"I25.10\"           \"I25.1\"            \"I24.8\"           \n",
              " [5] \"I20.9 ; I25.118\"  \"I25.9\"            \"I24.9\"            \"I25.3\"           \n",
              " [9] \"I25.119\"          \"I25.110\"          \"I25.41\"           \"I25.42\"          \n",
              "[13] \"I25.5\"            \"I25.1 ; I25.9\"    \"I25.810 ; I70.90\" \"I25.811 ; Z94.1\" \n",
              "[17] \"I20.1 ; I25.111\"  \"I25.82\"           \"I25.84\"           \"I25.83\"          \n",
              "[21] \"I25.1 ; Z94.1\"    \"I24.9 ; I25.9\"    \"I25.89\"          "
            ]
          },
          "metadata": {}
        }
      ]
    },
    {
      "cell_type": "code",
      "source": [
        "# aggragate the data based on icd 10 code\n",
        "data$coded <- ifelse(grepl(\"I20.9 ; I25.118|I20.1 ; I25.111\", data$copy.of.cohort.reference.event.condition), \"Angina pectoris & Chronic ischaemic heart disease\",\n",
        "                         ifelse(grepl(\"I21\", data$copy.of.cohort.reference.event.condition), \"Acute myocardial infarction\",\n",
        "                                ifelse(grepl(\"I22\", data$copy.of.cohort.reference.event.condition), \"Subsequent myocardial infarction\",\n",
        "                                       ifelse(grepl(\"I23\", data$copy.of.cohort.reference.event.condition), \"Certain current complications following acute myocardial infarction\",\n",
        "                                              ifelse(grepl(\"I24\", data$copy.of.cohort.reference.event.condition), \"Other acute ischaemic heart diseases\",\n",
        "                                                     ifelse(grepl(\"I25\", data$copy.of.cohort.reference.event.condition), \"Chronic ischaemic heart disease\",\n",
        "                                                      ifelse(grepl(\"censored\", data$copy.of.cohort.reference.event.condition), \"censored\",\n",
        "                                                            NA)))))))"
      ],
      "metadata": {
        "id": "r3_FZO2FJx-U"
      },
      "execution_count": 247,
      "outputs": []
    },
    {
      "cell_type": "code",
      "source": [
        "#check the aggregated column\n",
        "unique(data$coded)"
      ],
      "metadata": {
        "colab": {
          "base_uri": "https://localhost:8080/",
          "height": 52
        },
        "outputId": "83f73913-f2d5-4b39-83fb-5d89bdfddcfb",
        "id": "z46Hlu2IJx-U"
      },
      "execution_count": 248,
      "outputs": [
        {
          "output_type": "display_data",
          "data": {
            "text/html": [
              "<style>\n",
              ".list-inline {list-style: none; margin:0; padding: 0}\n",
              ".list-inline>li {display: inline-block}\n",
              ".list-inline>li:not(:last-child)::after {content: \"\\00b7\"; padding: 0 .5ex}\n",
              "</style>\n",
              "<ol class=list-inline><li>'censored'</li><li>'Chronic ischaemic heart disease'</li><li>'Other acute ischaemic heart diseases'</li><li>'Angina pectoris &amp; Chronic ischaemic heart disease'</li></ol>\n"
            ],
            "text/markdown": "1. 'censored'\n2. 'Chronic ischaemic heart disease'\n3. 'Other acute ischaemic heart diseases'\n4. 'Angina pectoris &amp; Chronic ischaemic heart disease'\n\n\n",
            "text/latex": "\\begin{enumerate*}\n\\item 'censored'\n\\item 'Chronic ischaemic heart disease'\n\\item 'Other acute ischaemic heart diseases'\n\\item 'Angina pectoris \\& Chronic ischaemic heart disease'\n\\end{enumerate*}\n",
            "text/plain": [
              "[1] \"censored\"                                         \n",
              "[2] \"Chronic ischaemic heart disease\"                  \n",
              "[3] \"Other acute ischaemic heart diseases\"             \n",
              "[4] \"Angina pectoris & Chronic ischaemic heart disease\""
            ]
          },
          "metadata": {}
        }
      ]
    },
    {
      "cell_type": "code",
      "source": [],
      "metadata": {
        "id": "PMKijCUEJx-U"
      },
      "execution_count": 249,
      "outputs": []
    },
    {
      "cell_type": "code",
      "source": [
        "Type_data <- data"
      ],
      "metadata": {
        "id": "HuD00-VnJx-V"
      },
      "execution_count": 250,
      "outputs": []
    },
    {
      "cell_type": "code",
      "source": [
        "table(Type_data$coded)"
      ],
      "metadata": {
        "colab": {
          "base_uri": "https://localhost:8080/",
          "height": 178
        },
        "outputId": "fbffb831-57be-48a2-dd8a-fe9b20c31d5d",
        "id": "Si4VJFUBJx-V"
      },
      "execution_count": 251,
      "outputs": [
        {
          "output_type": "display_data",
          "data": {
            "text/plain": [
              "\n",
              "Angina pectoris & Chronic ischaemic heart disease \n",
              "                                             3282 \n",
              "                                         censored \n",
              "                                              473 \n",
              "                  Chronic ischaemic heart disease \n",
              "                                           338561 \n",
              "             Other acute ischaemic heart diseases \n",
              "                                            10544 "
            ]
          },
          "metadata": {}
        }
      ]
    },
    {
      "cell_type": "code",
      "source": [
        "##save the counts\n",
        "# Assuming 'type_counts' is a table\n",
        "type_counts <- table(Type_data$coded)\n",
        "\n",
        "# Add a sum row\n",
        "type_counts_with_sum <- addmargins(type_counts, FUN = list(Total = sum))\n",
        "\n",
        "# Convert the table to a data frame\n",
        "type_counts_df <- as.data.frame(type_counts_with_sum)\n",
        "\n",
        "# Save the table as a CSV file\n",
        "write.csv(type_counts_df, \"IDH_.csv\", row.names = FALSE)\n"
      ],
      "metadata": {
        "id": "1lmmw1i0Jx-V"
      },
      "execution_count": 252,
      "outputs": []
    },
    {
      "cell_type": "code",
      "source": [
        "#visual the counts\n",
        "type_counts_df"
      ],
      "metadata": {
        "colab": {
          "base_uri": "https://localhost:8080/",
          "height": 255
        },
        "outputId": "d76ec7a2-bd78-402b-c6c9-f3d3c64bc2b2",
        "id": "R5xGtPybJx-V"
      },
      "execution_count": 253,
      "outputs": [
        {
          "output_type": "display_data",
          "data": {
            "text/html": [
              "<table class=\"dataframe\">\n",
              "<caption>A data.frame: 5 × 2</caption>\n",
              "<thead>\n",
              "\t<tr><th scope=col>Var1</th><th scope=col>Freq</th></tr>\n",
              "\t<tr><th scope=col>&lt;fct&gt;</th><th scope=col>&lt;dbl&gt;</th></tr>\n",
              "</thead>\n",
              "<tbody>\n",
              "\t<tr><td>Angina pectoris &amp; Chronic ischaemic heart disease</td><td><span style=white-space:pre-wrap>  3282</span></td></tr>\n",
              "\t<tr><td>censored                                         </td><td>   473</td></tr>\n",
              "\t<tr><td>Chronic ischaemic heart disease                  </td><td>338561</td></tr>\n",
              "\t<tr><td>Other acute ischaemic heart diseases             </td><td> 10544</td></tr>\n",
              "\t<tr><td>Total                                            </td><td>352860</td></tr>\n",
              "</tbody>\n",
              "</table>\n"
            ],
            "text/markdown": "\nA data.frame: 5 × 2\n\n| Var1 &lt;fct&gt; | Freq &lt;dbl&gt; |\n|---|---|\n| Angina pectoris &amp; Chronic ischaemic heart disease |   3282 |\n| censored                                          |    473 |\n| Chronic ischaemic heart disease                   | 338561 |\n| Other acute ischaemic heart diseases              |  10544 |\n| Total                                             | 352860 |\n\n",
            "text/latex": "A data.frame: 5 × 2\n\\begin{tabular}{ll}\n Var1 & Freq\\\\\n <fct> & <dbl>\\\\\n\\hline\n\t Angina pectoris \\& Chronic ischaemic heart disease &   3282\\\\\n\t censored                                          &    473\\\\\n\t Chronic ischaemic heart disease                   & 338561\\\\\n\t Other acute ischaemic heart diseases              &  10544\\\\\n\t Total                                             & 352860\\\\\n\\end{tabular}\n",
            "text/plain": [
              "  Var1                                              Freq  \n",
              "1 Angina pectoris & Chronic ischaemic heart disease   3282\n",
              "2 censored                                             473\n",
              "3 Chronic ischaemic heart disease                   338561\n",
              "4 Other acute ischaemic heart diseases               10544\n",
              "5 Total                                             352860"
            ]
          },
          "metadata": {}
        }
      ]
    },
    {
      "cell_type": "markdown",
      "source": [
        "# Wrap up outputs to a table"
      ],
      "metadata": {
        "id": "PmJAnp38hqtp"
      }
    },
    {
      "cell_type": "code",
      "source": [
        "# Set the directory path where all CSV files are located\n",
        "directory_path <- \"/content\"\n",
        "\n",
        "# Get a list of all CSV files in the directory\n",
        "csv_files <- list.files(directory_path, pattern = \"\\\\.csv$\", full.names = TRUE)\n",
        "\n",
        "# Filter files with names containing an \"_\"\n",
        "csv_files_with_underscore <- csv_files[grep(\"_\", csv_files)]\n",
        "\n",
        "# Initialize an empty data frame to store the combined data\n",
        "combined_data <- data.frame()\n",
        "\n",
        "# Read and combine the data from each CSV file\n",
        "for (csv_file in csv_files_with_underscore) {\n",
        "  # Extract the name for the subtitle\n",
        "  subtitle <- sub(\".*/(.*).csv\", \"\\\\1\", csv_file)\n",
        "\n",
        "  # Read the CSV file\n",
        "  current_data <- read.csv(csv_file)\n",
        "\n",
        "  # Add a subtitle column with the name of the original CSV file\n",
        "  current_data$subtitle <- subtitle\n",
        "\n",
        "  # Combine the data\n",
        "  combined_data <- rbind(combined_data, current_data)\n",
        "}\n",
        "\n",
        "# Write the combined data to a new CSV file\n",
        "write.csv(combined_data, file = \"/content/count_data.csv\", row.names = FALSE)\n"
      ],
      "metadata": {
        "id": "aw36a8nYhvO9"
      },
      "execution_count": 254,
      "outputs": []
    }
  ]
}